{
 "cells": [
  {
   "cell_type": "code",
   "execution_count": 37,
   "metadata": {
    "scrolled": true
   },
   "outputs": [],
   "source": [
    "import os\n",
    "from time import localtime\n",
    "import pandas as pd\n",
    "from operator import itemgetter\n",
    "def readfile(directory):\n",
    "    # A list of stored files and when they were modified\n",
    "    files_with_mtime = []\n",
    "    # Iterate through all the files in the directory\n",
    "    for filename in os.listdir(directory):\n",
    "        # Construct the complete file path\n",
    "        file_path = os.path.join(directory, filename)\n",
    "        # Make sure it's a file and not a directory\n",
    "        if os.path.isfile(file_path):\n",
    "            # Gets the modification time of the file\n",
    "            modification_time = os.path.getmtime(file_path)\n",
    "            # 将时间戳转换为本地时间\n",
    "            local_time = localtime(modification_time)\n",
    "            # Add the file name and converted local time to the list\n",
    "            files_with_mtime.append((filename, local_time))\n",
    "    # Filter out the CSV file and sort it by modification time\n",
    "    csv_files_sorted = sorted(files_with_mtime, key=itemgetter(1))\n",
    "    # Store a list of read DataFrames\n",
    "    dataframes = []\n",
    "    # Traverse the sorted CSV file\n",
    "    for filename, mtime in csv_files_sorted:\n",
    "        # Construct the complete file path\n",
    "        file_path = os.path.join(directory, filename)\n",
    "        # Read the CSV file\n",
    "        df = pd.read_csv(file_path)\n",
    "        # Add the read DataFrame to the list\n",
    "        dataframes.append((df, mtime))\n",
    "        # Prints the read file name and the time when it was modified\n",
    "        print(f\"The file has been read：{filename}, Modify time：{mtime}\")\n",
    "        # If required, the read data can be further processed\n",
    "        # For example, merge all DataFrames\n",
    "        combined_df = pd.concat([df for df, _ in dataframes], ignore_index=True)\n",
    "    return combined_df"
   ]
  },
  {
   "cell_type": "code",
   "execution_count": 38,
   "metadata": {},
   "outputs": [],
   "source": [
    "def process(combined_df):\n",
    "    df_cleaned = combined_df.applymap(lambda x: x.replace(\"tensor(\", \"\").replace(\")\", \"\") if isinstance(x, str) else x)\n",
    "    return df_cleaned\n",
    "def str_to_float(x):\n",
    "    # Check if x is a string, and if so, try to convert to floating-point\n",
    "    if isinstance(x, str):\n",
    "        try:\n",
    "            return float(x)\n",
    "        except ValueError:\n",
    "            return x  # If the conversion fails, the original value is returned\n",
    "    return x\n"
   ]
  },
  {
   "cell_type": "code",
   "execution_count": 39,
   "metadata": {
    "scrolled": true
   },
   "outputs": [
    {
     "name": "stdout",
     "output_type": "stream",
     "text": [
      "已读取文件：15_20_57.csv, 修改时间：time.struct_time(tm_year=2024, tm_mon=6, tm_mday=30, tm_hour=15, tm_min=20, tm_sec=57, tm_wday=6, tm_yday=182, tm_isdst=0)\n",
      "已读取文件：15_20_58.csv, 修改时间：time.struct_time(tm_year=2024, tm_mon=6, tm_mday=30, tm_hour=15, tm_min=20, tm_sec=58, tm_wday=6, tm_yday=182, tm_isdst=0)\n",
      "已读取文件：15_20_59.csv, 修改时间：time.struct_time(tm_year=2024, tm_mon=6, tm_mday=30, tm_hour=15, tm_min=21, tm_sec=0, tm_wday=6, tm_yday=182, tm_isdst=0)\n",
      "已读取文件：15_21_1.csv, 修改时间：time.struct_time(tm_year=2024, tm_mon=6, tm_mday=30, tm_hour=15, tm_min=21, tm_sec=1, tm_wday=6, tm_yday=182, tm_isdst=0)\n",
      "已读取文件：15_21_2.csv, 修改时间：time.struct_time(tm_year=2024, tm_mon=6, tm_mday=30, tm_hour=15, tm_min=21, tm_sec=2, tm_wday=6, tm_yday=182, tm_isdst=0)\n",
      "已读取文件：15_21_4.csv, 修改时间：time.struct_time(tm_year=2024, tm_mon=6, tm_mday=30, tm_hour=15, tm_min=21, tm_sec=4, tm_wday=6, tm_yday=182, tm_isdst=0)\n",
      "已读取文件：15_21_5.csv, 修改时间：time.struct_time(tm_year=2024, tm_mon=6, tm_mday=30, tm_hour=15, tm_min=21, tm_sec=5, tm_wday=6, tm_yday=182, tm_isdst=0)\n",
      "已读取文件：15_21_6.csv, 修改时间：time.struct_time(tm_year=2024, tm_mon=6, tm_mday=30, tm_hour=15, tm_min=21, tm_sec=7, tm_wday=6, tm_yday=182, tm_isdst=0)\n",
      "已读取文件：15_21_8.csv, 修改时间：time.struct_time(tm_year=2024, tm_mon=6, tm_mday=30, tm_hour=15, tm_min=21, tm_sec=8, tm_wday=6, tm_yday=182, tm_isdst=0)\n",
      "已读取文件：15_21_9.csv, 修改时间：time.struct_time(tm_year=2024, tm_mon=6, tm_mday=30, tm_hour=15, tm_min=21, tm_sec=9, tm_wday=6, tm_yday=182, tm_isdst=0)\n",
      "已读取文件：15_21_11.csv, 修改时间：time.struct_time(tm_year=2024, tm_mon=6, tm_mday=30, tm_hour=15, tm_min=21, tm_sec=11, tm_wday=6, tm_yday=182, tm_isdst=0)\n",
      "已读取文件：15_21_12.csv, 修改时间：time.struct_time(tm_year=2024, tm_mon=6, tm_mday=30, tm_hour=15, tm_min=21, tm_sec=12, tm_wday=6, tm_yday=182, tm_isdst=0)\n",
      "已读取文件：15_21_13.csv, 修改时间：time.struct_time(tm_year=2024, tm_mon=6, tm_mday=30, tm_hour=15, tm_min=21, tm_sec=14, tm_wday=6, tm_yday=182, tm_isdst=0)\n",
      "已读取文件：15_21_15.csv, 修改时间：time.struct_time(tm_year=2024, tm_mon=6, tm_mday=30, tm_hour=15, tm_min=21, tm_sec=15, tm_wday=6, tm_yday=182, tm_isdst=0)\n",
      "已读取文件：15_21_16.csv, 修改时间：time.struct_time(tm_year=2024, tm_mon=6, tm_mday=30, tm_hour=15, tm_min=21, tm_sec=16, tm_wday=6, tm_yday=182, tm_isdst=0)\n",
      "已读取文件：15_21_18.csv, 修改时间：time.struct_time(tm_year=2024, tm_mon=6, tm_mday=30, tm_hour=15, tm_min=21, tm_sec=18, tm_wday=6, tm_yday=182, tm_isdst=0)\n",
      "已读取文件：15_21_19.csv, 修改时间：time.struct_time(tm_year=2024, tm_mon=6, tm_mday=30, tm_hour=15, tm_min=21, tm_sec=19, tm_wday=6, tm_yday=182, tm_isdst=0)\n",
      "已读取文件：15_21_21.csv, 修改时间：time.struct_time(tm_year=2024, tm_mon=6, tm_mday=30, tm_hour=15, tm_min=21, tm_sec=21, tm_wday=6, tm_yday=182, tm_isdst=0)\n",
      "已读取文件：15_21_22.csv, 修改时间：time.struct_time(tm_year=2024, tm_mon=6, tm_mday=30, tm_hour=15, tm_min=21, tm_sec=22, tm_wday=6, tm_yday=182, tm_isdst=0)\n",
      "已读取文件：15_21_23.csv, 修改时间：time.struct_time(tm_year=2024, tm_mon=6, tm_mday=30, tm_hour=15, tm_min=21, tm_sec=23, tm_wday=6, tm_yday=182, tm_isdst=0)\n",
      "已读取文件：15_21_25.csv, 修改时间：time.struct_time(tm_year=2024, tm_mon=6, tm_mday=30, tm_hour=15, tm_min=21, tm_sec=25, tm_wday=6, tm_yday=182, tm_isdst=0)\n",
      "已读取文件：15_21_26.csv, 修改时间：time.struct_time(tm_year=2024, tm_mon=6, tm_mday=30, tm_hour=15, tm_min=21, tm_sec=26, tm_wday=6, tm_yday=182, tm_isdst=0)\n",
      "已读取文件：15_21_27.csv, 修改时间：time.struct_time(tm_year=2024, tm_mon=6, tm_mday=30, tm_hour=15, tm_min=21, tm_sec=28, tm_wday=6, tm_yday=182, tm_isdst=0)\n",
      "已读取文件：15_21_29.csv, 修改时间：time.struct_time(tm_year=2024, tm_mon=6, tm_mday=30, tm_hour=15, tm_min=21, tm_sec=29, tm_wday=6, tm_yday=182, tm_isdst=0)\n",
      "已读取文件：15_21_30.csv, 修改时间：time.struct_time(tm_year=2024, tm_mon=6, tm_mday=30, tm_hour=15, tm_min=21, tm_sec=31, tm_wday=6, tm_yday=182, tm_isdst=0)\n",
      "已读取文件：15_21_32.csv, 修改时间：time.struct_time(tm_year=2024, tm_mon=6, tm_mday=30, tm_hour=15, tm_min=21, tm_sec=32, tm_wday=6, tm_yday=182, tm_isdst=0)\n",
      "已读取文件：15_21_33.csv, 修改时间：time.struct_time(tm_year=2024, tm_mon=6, tm_mday=30, tm_hour=15, tm_min=21, tm_sec=33, tm_wday=6, tm_yday=182, tm_isdst=0)\n",
      "已读取文件：15_21_34.csv, 修改时间：time.struct_time(tm_year=2024, tm_mon=6, tm_mday=30, tm_hour=15, tm_min=21, tm_sec=35, tm_wday=6, tm_yday=182, tm_isdst=0)\n",
      "已读取文件：15_21_36.csv, 修改时间：time.struct_time(tm_year=2024, tm_mon=6, tm_mday=30, tm_hour=15, tm_min=21, tm_sec=36, tm_wday=6, tm_yday=182, tm_isdst=0)\n",
      "已读取文件：15_21_37.csv, 修改时间：time.struct_time(tm_year=2024, tm_mon=6, tm_mday=30, tm_hour=15, tm_min=21, tm_sec=37, tm_wday=6, tm_yday=182, tm_isdst=0)\n",
      "已读取文件：15_21_39.csv, 修改时间：time.struct_time(tm_year=2024, tm_mon=6, tm_mday=30, tm_hour=15, tm_min=21, tm_sec=39, tm_wday=6, tm_yday=182, tm_isdst=0)\n",
      "已读取文件：15_21_40.csv, 修改时间：time.struct_time(tm_year=2024, tm_mon=6, tm_mday=30, tm_hour=15, tm_min=21, tm_sec=40, tm_wday=6, tm_yday=182, tm_isdst=0)\n",
      "已读取文件：15_21_41.csv, 修改时间：time.struct_time(tm_year=2024, tm_mon=6, tm_mday=30, tm_hour=15, tm_min=21, tm_sec=42, tm_wday=6, tm_yday=182, tm_isdst=0)\n",
      "已读取文件：15_21_43.csv, 修改时间：time.struct_time(tm_year=2024, tm_mon=6, tm_mday=30, tm_hour=15, tm_min=21, tm_sec=43, tm_wday=6, tm_yday=182, tm_isdst=0)\n",
      "已读取文件：15_21_44.csv, 修改时间：time.struct_time(tm_year=2024, tm_mon=6, tm_mday=30, tm_hour=15, tm_min=21, tm_sec=44, tm_wday=6, tm_yday=182, tm_isdst=0)\n",
      "已读取文件：15_21_46.csv, 修改时间：time.struct_time(tm_year=2024, tm_mon=6, tm_mday=30, tm_hour=15, tm_min=21, tm_sec=46, tm_wday=6, tm_yday=182, tm_isdst=0)\n",
      "已读取文件：15_21_47.csv, 修改时间：time.struct_time(tm_year=2024, tm_mon=6, tm_mday=30, tm_hour=15, tm_min=21, tm_sec=47, tm_wday=6, tm_yday=182, tm_isdst=0)\n",
      "已读取文件：15_21_48.csv, 修改时间：time.struct_time(tm_year=2024, tm_mon=6, tm_mday=30, tm_hour=15, tm_min=21, tm_sec=49, tm_wday=6, tm_yday=182, tm_isdst=0)\n",
      "已读取文件：15_21_50.csv, 修改时间：time.struct_time(tm_year=2024, tm_mon=6, tm_mday=30, tm_hour=15, tm_min=21, tm_sec=50, tm_wday=6, tm_yday=182, tm_isdst=0)\n",
      "已读取文件：15_21_51.csv, 修改时间：time.struct_time(tm_year=2024, tm_mon=6, tm_mday=30, tm_hour=15, tm_min=21, tm_sec=51, tm_wday=6, tm_yday=182, tm_isdst=0)\n",
      "已读取文件：15_21_53.csv, 修改时间：time.struct_time(tm_year=2024, tm_mon=6, tm_mday=30, tm_hour=15, tm_min=21, tm_sec=53, tm_wday=6, tm_yday=182, tm_isdst=0)\n",
      "已读取文件：15_21_54.csv, 修改时间：time.struct_time(tm_year=2024, tm_mon=6, tm_mday=30, tm_hour=15, tm_min=21, tm_sec=54, tm_wday=6, tm_yday=182, tm_isdst=0)\n",
      "已读取文件：15_21_55.csv, 修改时间：time.struct_time(tm_year=2024, tm_mon=6, tm_mday=30, tm_hour=15, tm_min=21, tm_sec=56, tm_wday=6, tm_yday=182, tm_isdst=0)\n",
      "已读取文件：15_21_57.csv, 修改时间：time.struct_time(tm_year=2024, tm_mon=6, tm_mday=30, tm_hour=15, tm_min=21, tm_sec=57, tm_wday=6, tm_yday=182, tm_isdst=0)\n",
      "已读取文件：15_21_58.csv, 修改时间：time.struct_time(tm_year=2024, tm_mon=6, tm_mday=30, tm_hour=15, tm_min=21, tm_sec=58, tm_wday=6, tm_yday=182, tm_isdst=0)\n",
      "已读取文件：15_22_0.csv, 修改时间：time.struct_time(tm_year=2024, tm_mon=6, tm_mday=30, tm_hour=15, tm_min=22, tm_sec=0, tm_wday=6, tm_yday=182, tm_isdst=0)\n",
      "已读取文件：15_22_1.csv, 修改时间：time.struct_time(tm_year=2024, tm_mon=6, tm_mday=30, tm_hour=15, tm_min=22, tm_sec=1, tm_wday=6, tm_yday=182, tm_isdst=0)\n",
      "已读取文件：15_22_3.csv, 修改时间：time.struct_time(tm_year=2024, tm_mon=6, tm_mday=30, tm_hour=15, tm_min=22, tm_sec=3, tm_wday=6, tm_yday=182, tm_isdst=0)\n",
      "已读取文件：15_22_4.csv, 修改时间：time.struct_time(tm_year=2024, tm_mon=6, tm_mday=30, tm_hour=15, tm_min=22, tm_sec=4, tm_wday=6, tm_yday=182, tm_isdst=0)\n",
      "已读取文件：15_22_5.csv, 修改时间：time.struct_time(tm_year=2024, tm_mon=6, tm_mday=30, tm_hour=15, tm_min=22, tm_sec=5, tm_wday=6, tm_yday=182, tm_isdst=0)\n",
      "已读取文件：15_22_7.csv, 修改时间：time.struct_time(tm_year=2024, tm_mon=6, tm_mday=30, tm_hour=15, tm_min=22, tm_sec=7, tm_wday=6, tm_yday=182, tm_isdst=0)\n",
      "已读取文件：15_22_8.csv, 修改时间：time.struct_time(tm_year=2024, tm_mon=6, tm_mday=30, tm_hour=15, tm_min=22, tm_sec=8, tm_wday=6, tm_yday=182, tm_isdst=0)\n",
      "已读取文件：15_22_10.csv, 修改时间：time.struct_time(tm_year=2024, tm_mon=6, tm_mday=30, tm_hour=15, tm_min=22, tm_sec=10, tm_wday=6, tm_yday=182, tm_isdst=0)\n",
      "已读取文件：15_22_11.csv, 修改时间：time.struct_time(tm_year=2024, tm_mon=6, tm_mday=30, tm_hour=15, tm_min=22, tm_sec=11, tm_wday=6, tm_yday=182, tm_isdst=0)\n",
      "已读取文件：15_22_12.csv, 修改时间：time.struct_time(tm_year=2024, tm_mon=6, tm_mday=30, tm_hour=15, tm_min=22, tm_sec=13, tm_wday=6, tm_yday=182, tm_isdst=0)\n",
      "已读取文件：15_22_14.csv, 修改时间：time.struct_time(tm_year=2024, tm_mon=6, tm_mday=30, tm_hour=15, tm_min=22, tm_sec=14, tm_wday=6, tm_yday=182, tm_isdst=0)\n",
      "已读取文件：15_22_15.csv, 修改时间：time.struct_time(tm_year=2024, tm_mon=6, tm_mday=30, tm_hour=15, tm_min=22, tm_sec=15, tm_wday=6, tm_yday=182, tm_isdst=0)\n"
     ]
    },
    {
     "name": "stdout",
     "output_type": "stream",
     "text": [
      "已读取文件：15_22_16.csv, 修改时间：time.struct_time(tm_year=2024, tm_mon=6, tm_mday=30, tm_hour=15, tm_min=22, tm_sec=17, tm_wday=6, tm_yday=182, tm_isdst=0)\n",
      "已读取文件：15_22_18.csv, 修改时间：time.struct_time(tm_year=2024, tm_mon=6, tm_mday=30, tm_hour=15, tm_min=22, tm_sec=18, tm_wday=6, tm_yday=182, tm_isdst=0)\n",
      "已读取文件：15_22_19.csv, 修改时间：time.struct_time(tm_year=2024, tm_mon=6, tm_mday=30, tm_hour=15, tm_min=22, tm_sec=20, tm_wday=6, tm_yday=182, tm_isdst=0)\n",
      "已读取文件：15_22_21.csv, 修改时间：time.struct_time(tm_year=2024, tm_mon=6, tm_mday=30, tm_hour=15, tm_min=22, tm_sec=21, tm_wday=6, tm_yday=182, tm_isdst=0)\n",
      "已读取文件：15_22_22.csv, 修改时间：time.struct_time(tm_year=2024, tm_mon=6, tm_mday=30, tm_hour=15, tm_min=22, tm_sec=22, tm_wday=6, tm_yday=182, tm_isdst=0)\n",
      "已读取文件：15_22_23.csv, 修改时间：time.struct_time(tm_year=2024, tm_mon=6, tm_mday=30, tm_hour=15, tm_min=22, tm_sec=24, tm_wday=6, tm_yday=182, tm_isdst=0)\n",
      "已读取文件：15_22_25.csv, 修改时间：time.struct_time(tm_year=2024, tm_mon=6, tm_mday=30, tm_hour=15, tm_min=22, tm_sec=25, tm_wday=6, tm_yday=182, tm_isdst=0)\n",
      "已读取文件：15_22_26.csv, 修改时间：time.struct_time(tm_year=2024, tm_mon=6, tm_mday=30, tm_hour=15, tm_min=22, tm_sec=26, tm_wday=6, tm_yday=182, tm_isdst=0)\n",
      "已读取文件：15_22_28.csv, 修改时间：time.struct_time(tm_year=2024, tm_mon=6, tm_mday=30, tm_hour=15, tm_min=22, tm_sec=28, tm_wday=6, tm_yday=182, tm_isdst=0)\n",
      "已读取文件：15_22_29.csv, 修改时间：time.struct_time(tm_year=2024, tm_mon=6, tm_mday=30, tm_hour=15, tm_min=22, tm_sec=29, tm_wday=6, tm_yday=182, tm_isdst=0)\n",
      "已读取文件：15_22_30.csv, 修改时间：time.struct_time(tm_year=2024, tm_mon=6, tm_mday=30, tm_hour=15, tm_min=22, tm_sec=31, tm_wday=6, tm_yday=182, tm_isdst=0)\n",
      "已读取文件：15_22_32.csv, 修改时间：time.struct_time(tm_year=2024, tm_mon=6, tm_mday=30, tm_hour=15, tm_min=22, tm_sec=32, tm_wday=6, tm_yday=182, tm_isdst=0)\n",
      "已读取文件：15_22_33.csv, 修改时间：time.struct_time(tm_year=2024, tm_mon=6, tm_mday=30, tm_hour=15, tm_min=22, tm_sec=34, tm_wday=6, tm_yday=182, tm_isdst=0)\n",
      "已读取文件：15_22_35.csv, 修改时间：time.struct_time(tm_year=2024, tm_mon=6, tm_mday=30, tm_hour=15, tm_min=22, tm_sec=35, tm_wday=6, tm_yday=182, tm_isdst=0)\n",
      "已读取文件：15_22_36.csv, 修改时间：time.struct_time(tm_year=2024, tm_mon=6, tm_mday=30, tm_hour=15, tm_min=22, tm_sec=36, tm_wday=6, tm_yday=182, tm_isdst=0)\n",
      "已读取文件：15_22_37.csv, 修改时间：time.struct_time(tm_year=2024, tm_mon=6, tm_mday=30, tm_hour=15, tm_min=22, tm_sec=38, tm_wday=6, tm_yday=182, tm_isdst=0)\n",
      "已读取文件：15_22_39.csv, 修改时间：time.struct_time(tm_year=2024, tm_mon=6, tm_mday=30, tm_hour=15, tm_min=22, tm_sec=39, tm_wday=6, tm_yday=182, tm_isdst=0)\n",
      "已读取文件：15_22_40.csv, 修改时间：time.struct_time(tm_year=2024, tm_mon=6, tm_mday=30, tm_hour=15, tm_min=22, tm_sec=41, tm_wday=6, tm_yday=182, tm_isdst=0)\n",
      "已读取文件：15_22_42.csv, 修改时间：time.struct_time(tm_year=2024, tm_mon=6, tm_mday=30, tm_hour=15, tm_min=22, tm_sec=42, tm_wday=6, tm_yday=182, tm_isdst=0)\n",
      "已读取文件：15_22_43.csv, 修改时间：time.struct_time(tm_year=2024, tm_mon=6, tm_mday=30, tm_hour=15, tm_min=22, tm_sec=43, tm_wday=6, tm_yday=182, tm_isdst=0)\n",
      "已读取文件：15_22_44.csv, 修改时间：time.struct_time(tm_year=2024, tm_mon=6, tm_mday=30, tm_hour=15, tm_min=22, tm_sec=45, tm_wday=6, tm_yday=182, tm_isdst=0)\n",
      "已读取文件：15_22_46.csv, 修改时间：time.struct_time(tm_year=2024, tm_mon=6, tm_mday=30, tm_hour=15, tm_min=22, tm_sec=46, tm_wday=6, tm_yday=182, tm_isdst=0)\n",
      "已读取文件：15_22_47.csv, 修改时间：time.struct_time(tm_year=2024, tm_mon=6, tm_mday=30, tm_hour=15, tm_min=22, tm_sec=47, tm_wday=6, tm_yday=182, tm_isdst=0)\n",
      "已读取文件：15_22_49.csv, 修改时间：time.struct_time(tm_year=2024, tm_mon=6, tm_mday=30, tm_hour=15, tm_min=22, tm_sec=49, tm_wday=6, tm_yday=182, tm_isdst=0)\n",
      "已读取文件：15_22_50.csv, 修改时间：time.struct_time(tm_year=2024, tm_mon=6, tm_mday=30, tm_hour=15, tm_min=22, tm_sec=50, tm_wday=6, tm_yday=182, tm_isdst=0)\n",
      "已读取文件：15_22_51.csv, 修改时间：time.struct_time(tm_year=2024, tm_mon=6, tm_mday=30, tm_hour=15, tm_min=22, tm_sec=52, tm_wday=6, tm_yday=182, tm_isdst=0)\n",
      "已读取文件：15_22_53.csv, 修改时间：time.struct_time(tm_year=2024, tm_mon=6, tm_mday=30, tm_hour=15, tm_min=22, tm_sec=53, tm_wday=6, tm_yday=182, tm_isdst=0)\n",
      "已读取文件：15_22_54.csv, 修改时间：time.struct_time(tm_year=2024, tm_mon=6, tm_mday=30, tm_hour=15, tm_min=22, tm_sec=54, tm_wday=6, tm_yday=182, tm_isdst=0)\n",
      "已读取文件：15_22_56.csv, 修改时间：time.struct_time(tm_year=2024, tm_mon=6, tm_mday=30, tm_hour=15, tm_min=22, tm_sec=56, tm_wday=6, tm_yday=182, tm_isdst=0)\n",
      "已读取文件：15_22_57.csv, 修改时间：time.struct_time(tm_year=2024, tm_mon=6, tm_mday=30, tm_hour=15, tm_min=22, tm_sec=57, tm_wday=6, tm_yday=182, tm_isdst=0)\n",
      "已读取文件：15_22_58.csv, 修改时间：time.struct_time(tm_year=2024, tm_mon=6, tm_mday=30, tm_hour=15, tm_min=22, tm_sec=59, tm_wday=6, tm_yday=182, tm_isdst=0)\n",
      "已读取文件：15_23_0.csv, 修改时间：time.struct_time(tm_year=2024, tm_mon=6, tm_mday=30, tm_hour=15, tm_min=23, tm_sec=0, tm_wday=6, tm_yday=182, tm_isdst=0)\n",
      "已读取文件：15_23_1.csv, 修改时间：time.struct_time(tm_year=2024, tm_mon=6, tm_mday=30, tm_hour=15, tm_min=23, tm_sec=1, tm_wday=6, tm_yday=182, tm_isdst=0)\n",
      "已读取文件：15_23_3.csv, 修改时间：time.struct_time(tm_year=2024, tm_mon=6, tm_mday=30, tm_hour=15, tm_min=23, tm_sec=3, tm_wday=6, tm_yday=182, tm_isdst=0)\n",
      "已读取文件：15_23_4.csv, 修改时间：time.struct_time(tm_year=2024, tm_mon=6, tm_mday=30, tm_hour=15, tm_min=23, tm_sec=4, tm_wday=6, tm_yday=182, tm_isdst=0)\n",
      "已读取文件：15_23_5.csv, 修改时间：time.struct_time(tm_year=2024, tm_mon=6, tm_mday=30, tm_hour=15, tm_min=23, tm_sec=6, tm_wday=6, tm_yday=182, tm_isdst=0)\n",
      "已读取文件：15_23_7.csv, 修改时间：time.struct_time(tm_year=2024, tm_mon=6, tm_mday=30, tm_hour=15, tm_min=23, tm_sec=7, tm_wday=6, tm_yday=182, tm_isdst=0)\n",
      "已读取文件：15_23_8.csv, 修改时间：time.struct_time(tm_year=2024, tm_mon=6, tm_mday=30, tm_hour=15, tm_min=23, tm_sec=8, tm_wday=6, tm_yday=182, tm_isdst=0)\n",
      "已读取文件：15_23_10.csv, 修改时间：time.struct_time(tm_year=2024, tm_mon=6, tm_mday=30, tm_hour=15, tm_min=23, tm_sec=10, tm_wday=6, tm_yday=182, tm_isdst=0)\n",
      "已读取文件：15_23_11.csv, 修改时间：time.struct_time(tm_year=2024, tm_mon=6, tm_mday=30, tm_hour=15, tm_min=23, tm_sec=11, tm_wday=6, tm_yday=182, tm_isdst=0)\n",
      "已读取文件：15_23_12.csv, 修改时间：time.struct_time(tm_year=2024, tm_mon=6, tm_mday=30, tm_hour=15, tm_min=23, tm_sec=13, tm_wday=6, tm_yday=182, tm_isdst=0)\n",
      "已读取文件：15_23_14.csv, 修改时间：time.struct_time(tm_year=2024, tm_mon=6, tm_mday=30, tm_hour=15, tm_min=23, tm_sec=14, tm_wday=6, tm_yday=182, tm_isdst=0)\n",
      "已读取文件：15_23_15.csv, 修改时间：time.struct_time(tm_year=2024, tm_mon=6, tm_mday=30, tm_hour=15, tm_min=23, tm_sec=15, tm_wday=6, tm_yday=182, tm_isdst=0)\n",
      "已读取文件：15_23_17.csv, 修改时间：time.struct_time(tm_year=2024, tm_mon=6, tm_mday=30, tm_hour=15, tm_min=23, tm_sec=17, tm_wday=6, tm_yday=182, tm_isdst=0)\n",
      "已读取文件：15_23_18.csv, 修改时间：time.struct_time(tm_year=2024, tm_mon=6, tm_mday=30, tm_hour=15, tm_min=23, tm_sec=18, tm_wday=6, tm_yday=182, tm_isdst=0)\n",
      "已读取文件：15_23_19.csv, 修改时间：time.struct_time(tm_year=2024, tm_mon=6, tm_mday=30, tm_hour=15, tm_min=23, tm_sec=19, tm_wday=6, tm_yday=182, tm_isdst=0)\n",
      "已读取文件：15_23_21.csv, 修改时间：time.struct_time(tm_year=2024, tm_mon=6, tm_mday=30, tm_hour=15, tm_min=23, tm_sec=21, tm_wday=6, tm_yday=182, tm_isdst=0)\n",
      "已读取文件：15_23_22.csv, 修改时间：time.struct_time(tm_year=2024, tm_mon=6, tm_mday=30, tm_hour=15, tm_min=23, tm_sec=22, tm_wday=6, tm_yday=182, tm_isdst=0)\n",
      "已读取文件：15_23_23.csv, 修改时间：time.struct_time(tm_year=2024, tm_mon=6, tm_mday=30, tm_hour=15, tm_min=23, tm_sec=24, tm_wday=6, tm_yday=182, tm_isdst=0)\n",
      "已读取文件：15_23_25.csv, 修改时间：time.struct_time(tm_year=2024, tm_mon=6, tm_mday=30, tm_hour=15, tm_min=23, tm_sec=25, tm_wday=6, tm_yday=182, tm_isdst=0)\n",
      "已读取文件：15_23_26.csv, 修改时间：time.struct_time(tm_year=2024, tm_mon=6, tm_mday=30, tm_hour=15, tm_min=23, tm_sec=26, tm_wday=6, tm_yday=182, tm_isdst=0)\n",
      "已读取文件：15_23_28.csv, 修改时间：time.struct_time(tm_year=2024, tm_mon=6, tm_mday=30, tm_hour=15, tm_min=23, tm_sec=28, tm_wday=6, tm_yday=182, tm_isdst=0)\n",
      "已读取文件：15_23_29.csv, 修改时间：time.struct_time(tm_year=2024, tm_mon=6, tm_mday=30, tm_hour=15, tm_min=23, tm_sec=29, tm_wday=6, tm_yday=182, tm_isdst=0)\n",
      "已读取文件：15_23_30.csv, 修改时间：time.struct_time(tm_year=2024, tm_mon=6, tm_mday=30, tm_hour=15, tm_min=23, tm_sec=31, tm_wday=6, tm_yday=182, tm_isdst=0)\n",
      "已读取文件：15_23_32.csv, 修改时间：time.struct_time(tm_year=2024, tm_mon=6, tm_mday=30, tm_hour=15, tm_min=23, tm_sec=32, tm_wday=6, tm_yday=182, tm_isdst=0)\n",
      "已读取文件：15_23_33.csv, 修改时间：time.struct_time(tm_year=2024, tm_mon=6, tm_mday=30, tm_hour=15, tm_min=23, tm_sec=33, tm_wday=6, tm_yday=182, tm_isdst=0)\n",
      "已读取文件：15_23_34.csv, 修改时间：time.struct_time(tm_year=2024, tm_mon=6, tm_mday=30, tm_hour=15, tm_min=23, tm_sec=35, tm_wday=6, tm_yday=182, tm_isdst=0)\n"
     ]
    },
    {
     "name": "stdout",
     "output_type": "stream",
     "text": [
      "已读取文件：15_23_36.csv, 修改时间：time.struct_time(tm_year=2024, tm_mon=6, tm_mday=30, tm_hour=15, tm_min=23, tm_sec=36, tm_wday=6, tm_yday=182, tm_isdst=0)\n",
      "已读取文件：15_23_37.csv, 修改时间：time.struct_time(tm_year=2024, tm_mon=6, tm_mday=30, tm_hour=15, tm_min=23, tm_sec=38, tm_wday=6, tm_yday=182, tm_isdst=0)\n",
      "已读取文件：15_23_39.csv, 修改时间：time.struct_time(tm_year=2024, tm_mon=6, tm_mday=30, tm_hour=15, tm_min=23, tm_sec=39, tm_wday=6, tm_yday=182, tm_isdst=0)\n",
      "已读取文件：15_23_40.csv, 修改时间：time.struct_time(tm_year=2024, tm_mon=6, tm_mday=30, tm_hour=15, tm_min=23, tm_sec=40, tm_wday=6, tm_yday=182, tm_isdst=0)\n",
      "已读取文件：15_23_41.csv, 修改时间：time.struct_time(tm_year=2024, tm_mon=6, tm_mday=30, tm_hour=15, tm_min=23, tm_sec=42, tm_wday=6, tm_yday=182, tm_isdst=0)\n",
      "已读取文件：15_23_43.csv, 修改时间：time.struct_time(tm_year=2024, tm_mon=6, tm_mday=30, tm_hour=15, tm_min=23, tm_sec=43, tm_wday=6, tm_yday=182, tm_isdst=0)\n",
      "已读取文件：15_23_44.csv, 修改时间：time.struct_time(tm_year=2024, tm_mon=6, tm_mday=30, tm_hour=15, tm_min=23, tm_sec=45, tm_wday=6, tm_yday=182, tm_isdst=0)\n",
      "已读取文件：15_23_46.csv, 修改时间：time.struct_time(tm_year=2024, tm_mon=6, tm_mday=30, tm_hour=15, tm_min=23, tm_sec=46, tm_wday=6, tm_yday=182, tm_isdst=0)\n",
      "已读取文件：15_23_47.csv, 修改时间：time.struct_time(tm_year=2024, tm_mon=6, tm_mday=30, tm_hour=15, tm_min=23, tm_sec=47, tm_wday=6, tm_yday=182, tm_isdst=0)\n",
      "已读取文件：15_23_48.csv, 修改时间：time.struct_time(tm_year=2024, tm_mon=6, tm_mday=30, tm_hour=15, tm_min=23, tm_sec=49, tm_wday=6, tm_yday=182, tm_isdst=0)\n",
      "已读取文件：15_23_50.csv, 修改时间：time.struct_time(tm_year=2024, tm_mon=6, tm_mday=30, tm_hour=15, tm_min=23, tm_sec=50, tm_wday=6, tm_yday=182, tm_isdst=0)\n",
      "已读取文件：15_23_51.csv, 修改时间：time.struct_time(tm_year=2024, tm_mon=6, tm_mday=30, tm_hour=15, tm_min=23, tm_sec=51, tm_wday=6, tm_yday=182, tm_isdst=0)\n",
      "已读取文件：15_23_53.csv, 修改时间：time.struct_time(tm_year=2024, tm_mon=6, tm_mday=30, tm_hour=15, tm_min=23, tm_sec=53, tm_wday=6, tm_yday=182, tm_isdst=0)\n",
      "已读取文件：15_23_54.csv, 修改时间：time.struct_time(tm_year=2024, tm_mon=6, tm_mday=30, tm_hour=15, tm_min=23, tm_sec=54, tm_wday=6, tm_yday=182, tm_isdst=0)\n",
      "已读取文件：15_23_55.csv, 修改时间：time.struct_time(tm_year=2024, tm_mon=6, tm_mday=30, tm_hour=15, tm_min=23, tm_sec=56, tm_wday=6, tm_yday=182, tm_isdst=0)\n",
      "已读取文件：15_23_57.csv, 修改时间：time.struct_time(tm_year=2024, tm_mon=6, tm_mday=30, tm_hour=15, tm_min=23, tm_sec=57, tm_wday=6, tm_yday=182, tm_isdst=0)\n",
      "已读取文件：15_23_58.csv, 修改时间：time.struct_time(tm_year=2024, tm_mon=6, tm_mday=30, tm_hour=15, tm_min=23, tm_sec=59, tm_wday=6, tm_yday=182, tm_isdst=0)\n",
      "已读取文件：15_24_0.csv, 修改时间：time.struct_time(tm_year=2024, tm_mon=6, tm_mday=30, tm_hour=15, tm_min=24, tm_sec=0, tm_wday=6, tm_yday=182, tm_isdst=0)\n",
      "已读取文件：15_24_1.csv, 修改时间：time.struct_time(tm_year=2024, tm_mon=6, tm_mday=30, tm_hour=15, tm_min=24, tm_sec=1, tm_wday=6, tm_yday=182, tm_isdst=0)\n",
      "已读取文件：15_24_2.csv, 修改时间：time.struct_time(tm_year=2024, tm_mon=6, tm_mday=30, tm_hour=15, tm_min=24, tm_sec=3, tm_wday=6, tm_yday=182, tm_isdst=0)\n",
      "已读取文件：15_24_4.csv, 修改时间：time.struct_time(tm_year=2024, tm_mon=6, tm_mday=30, tm_hour=15, tm_min=24, tm_sec=4, tm_wday=6, tm_yday=182, tm_isdst=0)\n",
      "已读取文件：15_24_5.csv, 修改时间：time.struct_time(tm_year=2024, tm_mon=6, tm_mday=30, tm_hour=15, tm_min=24, tm_sec=5, tm_wday=6, tm_yday=182, tm_isdst=0)\n",
      "已读取文件：15_24_7.csv, 修改时间：time.struct_time(tm_year=2024, tm_mon=6, tm_mday=30, tm_hour=15, tm_min=24, tm_sec=7, tm_wday=6, tm_yday=182, tm_isdst=0)\n",
      "已读取文件：15_24_8.csv, 修改时间：time.struct_time(tm_year=2024, tm_mon=6, tm_mday=30, tm_hour=15, tm_min=24, tm_sec=8, tm_wday=6, tm_yday=182, tm_isdst=0)\n",
      "已读取文件：15_24_9.csv, 修改时间：time.struct_time(tm_year=2024, tm_mon=6, tm_mday=30, tm_hour=15, tm_min=24, tm_sec=10, tm_wday=6, tm_yday=182, tm_isdst=0)\n",
      "已读取文件：15_24_11.csv, 修改时间：time.struct_time(tm_year=2024, tm_mon=6, tm_mday=30, tm_hour=15, tm_min=24, tm_sec=11, tm_wday=6, tm_yday=182, tm_isdst=0)\n",
      "已读取文件：15_24_12.csv, 修改时间：time.struct_time(tm_year=2024, tm_mon=6, tm_mday=30, tm_hour=15, tm_min=24, tm_sec=12, tm_wday=6, tm_yday=182, tm_isdst=0)\n",
      "已读取文件：15_24_14.csv, 修改时间：time.struct_time(tm_year=2024, tm_mon=6, tm_mday=30, tm_hour=15, tm_min=24, tm_sec=14, tm_wday=6, tm_yday=182, tm_isdst=0)\n",
      "已读取文件：15_24_15.csv, 修改时间：time.struct_time(tm_year=2024, tm_mon=6, tm_mday=30, tm_hour=15, tm_min=24, tm_sec=15, tm_wday=6, tm_yday=182, tm_isdst=0)\n",
      "已读取文件：15_24_16.csv, 修改时间：time.struct_time(tm_year=2024, tm_mon=6, tm_mday=30, tm_hour=15, tm_min=24, tm_sec=17, tm_wday=6, tm_yday=182, tm_isdst=0)\n",
      "已读取文件：15_24_18.csv, 修改时间：time.struct_time(tm_year=2024, tm_mon=6, tm_mday=30, tm_hour=15, tm_min=24, tm_sec=18, tm_wday=6, tm_yday=182, tm_isdst=0)\n",
      "已读取文件：15_24_19.csv, 修改时间：time.struct_time(tm_year=2024, tm_mon=6, tm_mday=30, tm_hour=15, tm_min=24, tm_sec=19, tm_wday=6, tm_yday=182, tm_isdst=0)\n",
      "已读取文件：15_24_21.csv, 修改时间：time.struct_time(tm_year=2024, tm_mon=6, tm_mday=30, tm_hour=15, tm_min=24, tm_sec=21, tm_wday=6, tm_yday=182, tm_isdst=0)\n",
      "已读取文件：15_24_22.csv, 修改时间：time.struct_time(tm_year=2024, tm_mon=6, tm_mday=30, tm_hour=15, tm_min=24, tm_sec=22, tm_wday=6, tm_yday=182, tm_isdst=0)\n",
      "已读取文件：15_24_23.csv, 修改时间：time.struct_time(tm_year=2024, tm_mon=6, tm_mday=30, tm_hour=15, tm_min=24, tm_sec=24, tm_wday=6, tm_yday=182, tm_isdst=0)\n",
      "已读取文件：15_24_25.csv, 修改时间：time.struct_time(tm_year=2024, tm_mon=6, tm_mday=30, tm_hour=15, tm_min=24, tm_sec=25, tm_wday=6, tm_yday=182, tm_isdst=0)\n",
      "已读取文件：15_24_26.csv, 修改时间：time.struct_time(tm_year=2024, tm_mon=6, tm_mday=30, tm_hour=15, tm_min=24, tm_sec=26, tm_wday=6, tm_yday=182, tm_isdst=0)\n",
      "已读取文件：15_24_28.csv, 修改时间：time.struct_time(tm_year=2024, tm_mon=6, tm_mday=30, tm_hour=15, tm_min=24, tm_sec=28, tm_wday=6, tm_yday=182, tm_isdst=0)\n",
      "已读取文件：15_24_29.csv, 修改时间：time.struct_time(tm_year=2024, tm_mon=6, tm_mday=30, tm_hour=15, tm_min=24, tm_sec=29, tm_wday=6, tm_yday=182, tm_isdst=0)\n",
      "已读取文件：15_24_30.csv, 修改时间：time.struct_time(tm_year=2024, tm_mon=6, tm_mday=30, tm_hour=15, tm_min=24, tm_sec=30, tm_wday=6, tm_yday=182, tm_isdst=0)\n",
      "已读取文件：15_24_32.csv, 修改时间：time.struct_time(tm_year=2024, tm_mon=6, tm_mday=30, tm_hour=15, tm_min=24, tm_sec=32, tm_wday=6, tm_yday=182, tm_isdst=0)\n",
      "已读取文件：15_24_33.csv, 修改时间：time.struct_time(tm_year=2024, tm_mon=6, tm_mday=30, tm_hour=15, tm_min=24, tm_sec=33, tm_wday=6, tm_yday=182, tm_isdst=0)\n",
      "已读取文件：15_24_34.csv, 修改时间：time.struct_time(tm_year=2024, tm_mon=6, tm_mday=30, tm_hour=15, tm_min=24, tm_sec=35, tm_wday=6, tm_yday=182, tm_isdst=0)\n",
      "已读取文件：15_24_36.csv, 修改时间：time.struct_time(tm_year=2024, tm_mon=6, tm_mday=30, tm_hour=15, tm_min=24, tm_sec=36, tm_wday=6, tm_yday=182, tm_isdst=0)\n",
      "已读取文件：15_24_37.csv, 修改时间：time.struct_time(tm_year=2024, tm_mon=6, tm_mday=30, tm_hour=15, tm_min=24, tm_sec=37, tm_wday=6, tm_yday=182, tm_isdst=0)\n",
      "已读取文件：15_24_39.csv, 修改时间：time.struct_time(tm_year=2024, tm_mon=6, tm_mday=30, tm_hour=15, tm_min=24, tm_sec=39, tm_wday=6, tm_yday=182, tm_isdst=0)\n",
      "已读取文件：15_24_40.csv, 修改时间：time.struct_time(tm_year=2024, tm_mon=6, tm_mday=30, tm_hour=15, tm_min=24, tm_sec=40, tm_wday=6, tm_yday=182, tm_isdst=0)\n",
      "已读取文件：15_24_41.csv, 修改时间：time.struct_time(tm_year=2024, tm_mon=6, tm_mday=30, tm_hour=15, tm_min=24, tm_sec=42, tm_wday=6, tm_yday=182, tm_isdst=0)\n",
      "已读取文件：15_24_43.csv, 修改时间：time.struct_time(tm_year=2024, tm_mon=6, tm_mday=30, tm_hour=15, tm_min=24, tm_sec=43, tm_wday=6, tm_yday=182, tm_isdst=0)\n",
      "已读取文件：15_24_44.csv, 修改时间：time.struct_time(tm_year=2024, tm_mon=6, tm_mday=30, tm_hour=15, tm_min=24, tm_sec=45, tm_wday=6, tm_yday=182, tm_isdst=0)\n",
      "已读取文件：15_24_46.csv, 修改时间：time.struct_time(tm_year=2024, tm_mon=6, tm_mday=30, tm_hour=15, tm_min=24, tm_sec=46, tm_wday=6, tm_yday=182, tm_isdst=0)\n",
      "已读取文件：15_24_47.csv, 修改时间：time.struct_time(tm_year=2024, tm_mon=6, tm_mday=30, tm_hour=15, tm_min=24, tm_sec=47, tm_wday=6, tm_yday=182, tm_isdst=0)\n",
      "已读取文件：15_24_48.csv, 修改时间：time.struct_time(tm_year=2024, tm_mon=6, tm_mday=30, tm_hour=15, tm_min=24, tm_sec=49, tm_wday=6, tm_yday=182, tm_isdst=0)\n",
      "已读取文件：15_24_50.csv, 修改时间：time.struct_time(tm_year=2024, tm_mon=6, tm_mday=30, tm_hour=15, tm_min=24, tm_sec=50, tm_wday=6, tm_yday=182, tm_isdst=0)\n",
      "已读取文件：15_24_51.csv, 修改时间：time.struct_time(tm_year=2024, tm_mon=6, tm_mday=30, tm_hour=15, tm_min=24, tm_sec=51, tm_wday=6, tm_yday=182, tm_isdst=0)\n",
      "已读取文件：15_24_52.csv, 修改时间：time.struct_time(tm_year=2024, tm_mon=6, tm_mday=30, tm_hour=15, tm_min=24, tm_sec=53, tm_wday=6, tm_yday=182, tm_isdst=0)\n",
      "已读取文件：15_24_54.csv, 修改时间：time.struct_time(tm_year=2024, tm_mon=6, tm_mday=30, tm_hour=15, tm_min=24, tm_sec=54, tm_wday=6, tm_yday=182, tm_isdst=0)\n",
      "已读取文件：15_24_55.csv, 修改时间：time.struct_time(tm_year=2024, tm_mon=6, tm_mday=30, tm_hour=15, tm_min=24, tm_sec=56, tm_wday=6, tm_yday=182, tm_isdst=0)\n"
     ]
    },
    {
     "name": "stdout",
     "output_type": "stream",
     "text": [
      "已读取文件：15_24_57.csv, 修改时间：time.struct_time(tm_year=2024, tm_mon=6, tm_mday=30, tm_hour=15, tm_min=24, tm_sec=57, tm_wday=6, tm_yday=182, tm_isdst=0)\n",
      "已读取文件：15_24_58.csv, 修改时间：time.struct_time(tm_year=2024, tm_mon=6, tm_mday=30, tm_hour=15, tm_min=24, tm_sec=58, tm_wday=6, tm_yday=182, tm_isdst=0)\n",
      "已读取文件：15_24_59.csv, 修改时间：time.struct_time(tm_year=2024, tm_mon=6, tm_mday=30, tm_hour=15, tm_min=25, tm_sec=0, tm_wday=6, tm_yday=182, tm_isdst=0)\n",
      "已读取文件：15_25_1.csv, 修改时间：time.struct_time(tm_year=2024, tm_mon=6, tm_mday=30, tm_hour=15, tm_min=25, tm_sec=1, tm_wday=6, tm_yday=182, tm_isdst=0)\n",
      "已读取文件：15_25_2.csv, 修改时间：time.struct_time(tm_year=2024, tm_mon=6, tm_mday=30, tm_hour=15, tm_min=25, tm_sec=2, tm_wday=6, tm_yday=182, tm_isdst=0)\n"
     ]
    }
   ],
   "source": [
    "# Specify the directory path\n",
    "directory = './save2/alltrain-c/'\n",
    "combined_df = readfile(directory)\n",
    "df_cleaned = process(combined_df)\n",
    "all_train_c = df_cleaned.applymap(str_to_float)"
   ]
  },
  {
   "cell_type": "code",
   "execution_count": 40,
   "metadata": {
    "scrolled": true
   },
   "outputs": [
    {
     "name": "stdout",
     "output_type": "stream",
     "text": [
      "已读取文件：15_29_50.csv, 修改时间：time.struct_time(tm_year=2024, tm_mon=6, tm_mday=30, tm_hour=15, tm_min=29, tm_sec=51, tm_wday=6, tm_yday=182, tm_isdst=0)\n",
      "已读取文件：15_29_52.csv, 修改时间：time.struct_time(tm_year=2024, tm_mon=6, tm_mday=30, tm_hour=15, tm_min=29, tm_sec=52, tm_wday=6, tm_yday=182, tm_isdst=0)\n",
      "已读取文件：15_29_53.csv, 修改时间：time.struct_time(tm_year=2024, tm_mon=6, tm_mday=30, tm_hour=15, tm_min=29, tm_sec=53, tm_wday=6, tm_yday=182, tm_isdst=0)\n",
      "已读取文件：15_29_54.csv, 修改时间：time.struct_time(tm_year=2024, tm_mon=6, tm_mday=30, tm_hour=15, tm_min=29, tm_sec=55, tm_wday=6, tm_yday=182, tm_isdst=0)\n",
      "已读取文件：15_29_56.csv, 修改时间：time.struct_time(tm_year=2024, tm_mon=6, tm_mday=30, tm_hour=15, tm_min=29, tm_sec=56, tm_wday=6, tm_yday=182, tm_isdst=0)\n",
      "已读取文件：15_29_57.csv, 修改时间：time.struct_time(tm_year=2024, tm_mon=6, tm_mday=30, tm_hour=15, tm_min=29, tm_sec=57, tm_wday=6, tm_yday=182, tm_isdst=0)\n",
      "已读取文件：15_29_59.csv, 修改时间：time.struct_time(tm_year=2024, tm_mon=6, tm_mday=30, tm_hour=15, tm_min=29, tm_sec=59, tm_wday=6, tm_yday=182, tm_isdst=0)\n",
      "已读取文件：15_30_0.csv, 修改时间：time.struct_time(tm_year=2024, tm_mon=6, tm_mday=30, tm_hour=15, tm_min=30, tm_sec=0, tm_wday=6, tm_yday=182, tm_isdst=0)\n",
      "已读取文件：15_30_2.csv, 修改时间：time.struct_time(tm_year=2024, tm_mon=6, tm_mday=30, tm_hour=15, tm_min=30, tm_sec=2, tm_wday=6, tm_yday=182, tm_isdst=0)\n",
      "已读取文件：15_30_3.csv, 修改时间：time.struct_time(tm_year=2024, tm_mon=6, tm_mday=30, tm_hour=15, tm_min=30, tm_sec=3, tm_wday=6, tm_yday=182, tm_isdst=0)\n",
      "已读取文件：15_30_4.csv, 修改时间：time.struct_time(tm_year=2024, tm_mon=6, tm_mday=30, tm_hour=15, tm_min=30, tm_sec=4, tm_wday=6, tm_yday=182, tm_isdst=0)\n",
      "已读取文件：15_30_6.csv, 修改时间：time.struct_time(tm_year=2024, tm_mon=6, tm_mday=30, tm_hour=15, tm_min=30, tm_sec=6, tm_wday=6, tm_yday=182, tm_isdst=0)\n",
      "已读取文件：15_30_7.csv, 修改时间：time.struct_time(tm_year=2024, tm_mon=6, tm_mday=30, tm_hour=15, tm_min=30, tm_sec=7, tm_wday=6, tm_yday=182, tm_isdst=0)\n",
      "已读取文件：15_30_8.csv, 修改时间：time.struct_time(tm_year=2024, tm_mon=6, tm_mday=30, tm_hour=15, tm_min=30, tm_sec=9, tm_wday=6, tm_yday=182, tm_isdst=0)\n",
      "已读取文件：15_30_10.csv, 修改时间：time.struct_time(tm_year=2024, tm_mon=6, tm_mday=30, tm_hour=15, tm_min=30, tm_sec=10, tm_wday=6, tm_yday=182, tm_isdst=0)\n",
      "已读取文件：15_30_11.csv, 修改时间：time.struct_time(tm_year=2024, tm_mon=6, tm_mday=30, tm_hour=15, tm_min=30, tm_sec=11, tm_wday=6, tm_yday=182, tm_isdst=0)\n",
      "已读取文件：15_30_13.csv, 修改时间：time.struct_time(tm_year=2024, tm_mon=6, tm_mday=30, tm_hour=15, tm_min=30, tm_sec=13, tm_wday=6, tm_yday=182, tm_isdst=0)\n",
      "已读取文件：15_30_14.csv, 修改时间：time.struct_time(tm_year=2024, tm_mon=6, tm_mday=30, tm_hour=15, tm_min=30, tm_sec=14, tm_wday=6, tm_yday=182, tm_isdst=0)\n",
      "已读取文件：15_30_15.csv, 修改时间：time.struct_time(tm_year=2024, tm_mon=6, tm_mday=30, tm_hour=15, tm_min=30, tm_sec=16, tm_wday=6, tm_yday=182, tm_isdst=0)\n",
      "已读取文件：15_30_17.csv, 修改时间：time.struct_time(tm_year=2024, tm_mon=6, tm_mday=30, tm_hour=15, tm_min=30, tm_sec=17, tm_wday=6, tm_yday=182, tm_isdst=0)\n",
      "已读取文件：15_30_18.csv, 修改时间：time.struct_time(tm_year=2024, tm_mon=6, tm_mday=30, tm_hour=15, tm_min=30, tm_sec=18, tm_wday=6, tm_yday=182, tm_isdst=0)\n",
      "已读取文件：15_30_19.csv, 修改时间：time.struct_time(tm_year=2024, tm_mon=6, tm_mday=30, tm_hour=15, tm_min=30, tm_sec=20, tm_wday=6, tm_yday=182, tm_isdst=0)\n",
      "已读取文件：15_30_21.csv, 修改时间：time.struct_time(tm_year=2024, tm_mon=6, tm_mday=30, tm_hour=15, tm_min=30, tm_sec=21, tm_wday=6, tm_yday=182, tm_isdst=0)\n",
      "已读取文件：15_30_22.csv, 修改时间：time.struct_time(tm_year=2024, tm_mon=6, tm_mday=30, tm_hour=15, tm_min=30, tm_sec=22, tm_wday=6, tm_yday=182, tm_isdst=0)\n",
      "已读取文件：15_30_24.csv, 修改时间：time.struct_time(tm_year=2024, tm_mon=6, tm_mday=30, tm_hour=15, tm_min=30, tm_sec=24, tm_wday=6, tm_yday=182, tm_isdst=0)\n",
      "已读取文件：15_30_25.csv, 修改时间：time.struct_time(tm_year=2024, tm_mon=6, tm_mday=30, tm_hour=15, tm_min=30, tm_sec=25, tm_wday=6, tm_yday=182, tm_isdst=0)\n",
      "已读取文件：15_30_26.csv, 修改时间：time.struct_time(tm_year=2024, tm_mon=6, tm_mday=30, tm_hour=15, tm_min=30, tm_sec=27, tm_wday=6, tm_yday=182, tm_isdst=0)\n",
      "已读取文件：15_30_28.csv, 修改时间：time.struct_time(tm_year=2024, tm_mon=6, tm_mday=30, tm_hour=15, tm_min=30, tm_sec=28, tm_wday=6, tm_yday=182, tm_isdst=0)\n",
      "已读取文件：15_30_29.csv, 修改时间：time.struct_time(tm_year=2024, tm_mon=6, tm_mday=30, tm_hour=15, tm_min=30, tm_sec=29, tm_wday=6, tm_yday=182, tm_isdst=0)\n",
      "已读取文件：15_30_31.csv, 修改时间：time.struct_time(tm_year=2024, tm_mon=6, tm_mday=30, tm_hour=15, tm_min=30, tm_sec=31, tm_wday=6, tm_yday=182, tm_isdst=0)\n",
      "已读取文件：15_30_32.csv, 修改时间：time.struct_time(tm_year=2024, tm_mon=6, tm_mday=30, tm_hour=15, tm_min=30, tm_sec=32, tm_wday=6, tm_yday=182, tm_isdst=0)\n",
      "已读取文件：15_30_33.csv, 修改时间：time.struct_time(tm_year=2024, tm_mon=6, tm_mday=30, tm_hour=15, tm_min=30, tm_sec=33, tm_wday=6, tm_yday=182, tm_isdst=0)\n",
      "已读取文件：15_30_35.csv, 修改时间：time.struct_time(tm_year=2024, tm_mon=6, tm_mday=30, tm_hour=15, tm_min=30, tm_sec=35, tm_wday=6, tm_yday=182, tm_isdst=0)\n",
      "已读取文件：15_30_36.csv, 修改时间：time.struct_time(tm_year=2024, tm_mon=6, tm_mday=30, tm_hour=15, tm_min=30, tm_sec=36, tm_wday=6, tm_yday=182, tm_isdst=0)\n",
      "已读取文件：15_30_37.csv, 修改时间：time.struct_time(tm_year=2024, tm_mon=6, tm_mday=30, tm_hour=15, tm_min=30, tm_sec=38, tm_wday=6, tm_yday=182, tm_isdst=0)\n",
      "已读取文件：15_30_39.csv, 修改时间：time.struct_time(tm_year=2024, tm_mon=6, tm_mday=30, tm_hour=15, tm_min=30, tm_sec=39, tm_wday=6, tm_yday=182, tm_isdst=0)\n",
      "已读取文件：15_30_40.csv, 修改时间：time.struct_time(tm_year=2024, tm_mon=6, tm_mday=30, tm_hour=15, tm_min=30, tm_sec=40, tm_wday=6, tm_yday=182, tm_isdst=0)\n",
      "已读取文件：15_30_41.csv, 修改时间：time.struct_time(tm_year=2024, tm_mon=6, tm_mday=30, tm_hour=15, tm_min=30, tm_sec=42, tm_wday=6, tm_yday=182, tm_isdst=0)\n",
      "已读取文件：15_30_43.csv, 修改时间：time.struct_time(tm_year=2024, tm_mon=6, tm_mday=30, tm_hour=15, tm_min=30, tm_sec=43, tm_wday=6, tm_yday=182, tm_isdst=0)\n",
      "已读取文件：15_30_44.csv, 修改时间：time.struct_time(tm_year=2024, tm_mon=6, tm_mday=30, tm_hour=15, tm_min=30, tm_sec=45, tm_wday=6, tm_yday=182, tm_isdst=0)\n",
      "已读取文件：15_30_46.csv, 修改时间：time.struct_time(tm_year=2024, tm_mon=6, tm_mday=30, tm_hour=15, tm_min=30, tm_sec=46, tm_wday=6, tm_yday=182, tm_isdst=0)\n",
      "已读取文件：15_30_47.csv, 修改时间：time.struct_time(tm_year=2024, tm_mon=6, tm_mday=30, tm_hour=15, tm_min=30, tm_sec=47, tm_wday=6, tm_yday=182, tm_isdst=0)\n",
      "已读取文件：15_30_48.csv, 修改时间：time.struct_time(tm_year=2024, tm_mon=6, tm_mday=30, tm_hour=15, tm_min=30, tm_sec=49, tm_wday=6, tm_yday=182, tm_isdst=0)\n",
      "已读取文件：15_30_50.csv, 修改时间：time.struct_time(tm_year=2024, tm_mon=6, tm_mday=30, tm_hour=15, tm_min=30, tm_sec=50, tm_wday=6, tm_yday=182, tm_isdst=0)\n",
      "已读取文件：15_30_51.csv, 修改时间：time.struct_time(tm_year=2024, tm_mon=6, tm_mday=30, tm_hour=15, tm_min=30, tm_sec=51, tm_wday=6, tm_yday=182, tm_isdst=0)\n",
      "已读取文件：15_30_52.csv, 修改时间：time.struct_time(tm_year=2024, tm_mon=6, tm_mday=30, tm_hour=15, tm_min=30, tm_sec=53, tm_wday=6, tm_yday=182, tm_isdst=0)\n",
      "已读取文件：15_30_54.csv, 修改时间：time.struct_time(tm_year=2024, tm_mon=6, tm_mday=30, tm_hour=15, tm_min=30, tm_sec=54, tm_wday=6, tm_yday=182, tm_isdst=0)\n",
      "已读取文件：15_30_55.csv, 修改时间：time.struct_time(tm_year=2024, tm_mon=6, tm_mday=30, tm_hour=15, tm_min=30, tm_sec=56, tm_wday=6, tm_yday=182, tm_isdst=0)\n",
      "已读取文件：15_30_57.csv, 修改时间：time.struct_time(tm_year=2024, tm_mon=6, tm_mday=30, tm_hour=15, tm_min=30, tm_sec=57, tm_wday=6, tm_yday=182, tm_isdst=0)\n",
      "已读取文件：15_30_58.csv, 修改时间：time.struct_time(tm_year=2024, tm_mon=6, tm_mday=30, tm_hour=15, tm_min=30, tm_sec=58, tm_wday=6, tm_yday=182, tm_isdst=0)\n",
      "已读取文件：15_30_59.csv, 修改时间：time.struct_time(tm_year=2024, tm_mon=6, tm_mday=30, tm_hour=15, tm_min=31, tm_sec=0, tm_wday=6, tm_yday=182, tm_isdst=0)\n",
      "已读取文件：15_31_1.csv, 修改时间：time.struct_time(tm_year=2024, tm_mon=6, tm_mday=30, tm_hour=15, tm_min=31, tm_sec=1, tm_wday=6, tm_yday=182, tm_isdst=0)\n",
      "已读取文件：15_31_2.csv, 修改时间：time.struct_time(tm_year=2024, tm_mon=6, tm_mday=30, tm_hour=15, tm_min=31, tm_sec=2, tm_wday=6, tm_yday=182, tm_isdst=0)\n",
      "已读取文件：15_31_4.csv, 修改时间：time.struct_time(tm_year=2024, tm_mon=6, tm_mday=30, tm_hour=15, tm_min=31, tm_sec=4, tm_wday=6, tm_yday=182, tm_isdst=0)\n",
      "已读取文件：15_31_5.csv, 修改时间：time.struct_time(tm_year=2024, tm_mon=6, tm_mday=30, tm_hour=15, tm_min=31, tm_sec=5, tm_wday=6, tm_yday=182, tm_isdst=0)\n",
      "已读取文件：15_31_6.csv, 修改时间：time.struct_time(tm_year=2024, tm_mon=6, tm_mday=30, tm_hour=15, tm_min=31, tm_sec=7, tm_wday=6, tm_yday=182, tm_isdst=0)\n"
     ]
    },
    {
     "name": "stdout",
     "output_type": "stream",
     "text": [
      "已读取文件：15_31_8.csv, 修改时间：time.struct_time(tm_year=2024, tm_mon=6, tm_mday=30, tm_hour=15, tm_min=31, tm_sec=8, tm_wday=6, tm_yday=182, tm_isdst=0)\n",
      "已读取文件：15_31_9.csv, 修改时间：time.struct_time(tm_year=2024, tm_mon=6, tm_mday=30, tm_hour=15, tm_min=31, tm_sec=9, tm_wday=6, tm_yday=182, tm_isdst=0)\n",
      "已读取文件：15_31_10.csv, 修改时间：time.struct_time(tm_year=2024, tm_mon=6, tm_mday=30, tm_hour=15, tm_min=31, tm_sec=11, tm_wday=6, tm_yday=182, tm_isdst=0)\n",
      "已读取文件：15_31_12.csv, 修改时间：time.struct_time(tm_year=2024, tm_mon=6, tm_mday=30, tm_hour=15, tm_min=31, tm_sec=12, tm_wday=6, tm_yday=182, tm_isdst=0)\n",
      "已读取文件：15_31_13.csv, 修改时间：time.struct_time(tm_year=2024, tm_mon=6, tm_mday=30, tm_hour=15, tm_min=31, tm_sec=14, tm_wday=6, tm_yday=182, tm_isdst=0)\n",
      "已读取文件：15_31_15.csv, 修改时间：time.struct_time(tm_year=2024, tm_mon=6, tm_mday=30, tm_hour=15, tm_min=31, tm_sec=15, tm_wday=6, tm_yday=182, tm_isdst=0)\n",
      "已读取文件：15_31_16.csv, 修改时间：time.struct_time(tm_year=2024, tm_mon=6, tm_mday=30, tm_hour=15, tm_min=31, tm_sec=16, tm_wday=6, tm_yday=182, tm_isdst=0)\n",
      "已读取文件：15_31_17.csv, 修改时间：time.struct_time(tm_year=2024, tm_mon=6, tm_mday=30, tm_hour=15, tm_min=31, tm_sec=18, tm_wday=6, tm_yday=182, tm_isdst=0)\n",
      "已读取文件：15_31_19.csv, 修改时间：time.struct_time(tm_year=2024, tm_mon=6, tm_mday=30, tm_hour=15, tm_min=31, tm_sec=19, tm_wday=6, tm_yday=182, tm_isdst=0)\n",
      "已读取文件：15_31_20.csv, 修改时间：time.struct_time(tm_year=2024, tm_mon=6, tm_mday=30, tm_hour=15, tm_min=31, tm_sec=20, tm_wday=6, tm_yday=182, tm_isdst=0)\n",
      "已读取文件：15_31_22.csv, 修改时间：time.struct_time(tm_year=2024, tm_mon=6, tm_mday=30, tm_hour=15, tm_min=31, tm_sec=22, tm_wday=6, tm_yday=182, tm_isdst=0)\n",
      "已读取文件：15_31_23.csv, 修改时间：time.struct_time(tm_year=2024, tm_mon=6, tm_mday=30, tm_hour=15, tm_min=31, tm_sec=23, tm_wday=6, tm_yday=182, tm_isdst=0)\n",
      "已读取文件：15_31_25.csv, 修改时间：time.struct_time(tm_year=2024, tm_mon=6, tm_mday=30, tm_hour=15, tm_min=31, tm_sec=25, tm_wday=6, tm_yday=182, tm_isdst=0)\n",
      "已读取文件：15_31_26.csv, 修改时间：time.struct_time(tm_year=2024, tm_mon=6, tm_mday=30, tm_hour=15, tm_min=31, tm_sec=26, tm_wday=6, tm_yday=182, tm_isdst=0)\n",
      "已读取文件：15_31_27.csv, 修改时间：time.struct_time(tm_year=2024, tm_mon=6, tm_mday=30, tm_hour=15, tm_min=31, tm_sec=28, tm_wday=6, tm_yday=182, tm_isdst=0)\n",
      "已读取文件：15_31_29.csv, 修改时间：time.struct_time(tm_year=2024, tm_mon=6, tm_mday=30, tm_hour=15, tm_min=31, tm_sec=29, tm_wday=6, tm_yday=182, tm_isdst=0)\n",
      "已读取文件：15_31_30.csv, 修改时间：time.struct_time(tm_year=2024, tm_mon=6, tm_mday=30, tm_hour=15, tm_min=31, tm_sec=31, tm_wday=6, tm_yday=182, tm_isdst=0)\n",
      "已读取文件：15_31_32.csv, 修改时间：time.struct_time(tm_year=2024, tm_mon=6, tm_mday=30, tm_hour=15, tm_min=31, tm_sec=32, tm_wday=6, tm_yday=182, tm_isdst=0)\n",
      "已读取文件：15_31_33.csv, 修改时间：time.struct_time(tm_year=2024, tm_mon=6, tm_mday=30, tm_hour=15, tm_min=31, tm_sec=33, tm_wday=6, tm_yday=182, tm_isdst=0)\n",
      "已读取文件：15_31_34.csv, 修改时间：time.struct_time(tm_year=2024, tm_mon=6, tm_mday=30, tm_hour=15, tm_min=31, tm_sec=35, tm_wday=6, tm_yday=182, tm_isdst=0)\n",
      "已读取文件：15_31_36.csv, 修改时间：time.struct_time(tm_year=2024, tm_mon=6, tm_mday=30, tm_hour=15, tm_min=31, tm_sec=36, tm_wday=6, tm_yday=182, tm_isdst=0)\n",
      "已读取文件：15_31_37.csv, 修改时间：time.struct_time(tm_year=2024, tm_mon=6, tm_mday=30, tm_hour=15, tm_min=31, tm_sec=38, tm_wday=6, tm_yday=182, tm_isdst=0)\n",
      "已读取文件：15_31_39.csv, 修改时间：time.struct_time(tm_year=2024, tm_mon=6, tm_mday=30, tm_hour=15, tm_min=31, tm_sec=39, tm_wday=6, tm_yday=182, tm_isdst=0)\n",
      "已读取文件：15_31_40.csv, 修改时间：time.struct_time(tm_year=2024, tm_mon=6, tm_mday=30, tm_hour=15, tm_min=31, tm_sec=40, tm_wday=6, tm_yday=182, tm_isdst=0)\n",
      "已读取文件：15_31_41.csv, 修改时间：time.struct_time(tm_year=2024, tm_mon=6, tm_mday=30, tm_hour=15, tm_min=31, tm_sec=42, tm_wday=6, tm_yday=182, tm_isdst=0)\n",
      "已读取文件：15_31_43.csv, 修改时间：time.struct_time(tm_year=2024, tm_mon=6, tm_mday=30, tm_hour=15, tm_min=31, tm_sec=43, tm_wday=6, tm_yday=182, tm_isdst=0)\n",
      "已读取文件：15_31_44.csv, 修改时间：time.struct_time(tm_year=2024, tm_mon=6, tm_mday=30, tm_hour=15, tm_min=31, tm_sec=44, tm_wday=6, tm_yday=182, tm_isdst=0)\n",
      "已读取文件：15_31_46.csv, 修改时间：time.struct_time(tm_year=2024, tm_mon=6, tm_mday=30, tm_hour=15, tm_min=31, tm_sec=46, tm_wday=6, tm_yday=182, tm_isdst=0)\n",
      "已读取文件：15_31_47.csv, 修改时间：time.struct_time(tm_year=2024, tm_mon=6, tm_mday=30, tm_hour=15, tm_min=31, tm_sec=47, tm_wday=6, tm_yday=182, tm_isdst=0)\n",
      "已读取文件：15_31_48.csv, 修改时间：time.struct_time(tm_year=2024, tm_mon=6, tm_mday=30, tm_hour=15, tm_min=31, tm_sec=49, tm_wday=6, tm_yday=182, tm_isdst=0)\n",
      "已读取文件：15_31_50.csv, 修改时间：time.struct_time(tm_year=2024, tm_mon=6, tm_mday=30, tm_hour=15, tm_min=31, tm_sec=50, tm_wday=6, tm_yday=182, tm_isdst=0)\n",
      "已读取文件：15_31_51.csv, 修改时间：time.struct_time(tm_year=2024, tm_mon=6, tm_mday=30, tm_hour=15, tm_min=31, tm_sec=51, tm_wday=6, tm_yday=182, tm_isdst=0)\n",
      "已读取文件：15_31_52.csv, 修改时间：time.struct_time(tm_year=2024, tm_mon=6, tm_mday=30, tm_hour=15, tm_min=31, tm_sec=53, tm_wday=6, tm_yday=182, tm_isdst=0)\n",
      "已读取文件：15_31_54.csv, 修改时间：time.struct_time(tm_year=2024, tm_mon=6, tm_mday=30, tm_hour=15, tm_min=31, tm_sec=54, tm_wday=6, tm_yday=182, tm_isdst=0)\n",
      "已读取文件：15_31_55.csv, 修改时间：time.struct_time(tm_year=2024, tm_mon=6, tm_mday=30, tm_hour=15, tm_min=31, tm_sec=55, tm_wday=6, tm_yday=182, tm_isdst=0)\n",
      "已读取文件：15_31_57.csv, 修改时间：time.struct_time(tm_year=2024, tm_mon=6, tm_mday=30, tm_hour=15, tm_min=31, tm_sec=57, tm_wday=6, tm_yday=182, tm_isdst=0)\n",
      "已读取文件：15_31_58.csv, 修改时间：time.struct_time(tm_year=2024, tm_mon=6, tm_mday=30, tm_hour=15, tm_min=31, tm_sec=58, tm_wday=6, tm_yday=182, tm_isdst=0)\n",
      "已读取文件：15_31_59.csv, 修改时间：time.struct_time(tm_year=2024, tm_mon=6, tm_mday=30, tm_hour=15, tm_min=32, tm_sec=0, tm_wday=6, tm_yday=182, tm_isdst=0)\n",
      "已读取文件：15_32_1.csv, 修改时间：time.struct_time(tm_year=2024, tm_mon=6, tm_mday=30, tm_hour=15, tm_min=32, tm_sec=1, tm_wday=6, tm_yday=182, tm_isdst=0)\n",
      "已读取文件：15_32_2.csv, 修改时间：time.struct_time(tm_year=2024, tm_mon=6, tm_mday=30, tm_hour=15, tm_min=32, tm_sec=2, tm_wday=6, tm_yday=182, tm_isdst=0)\n",
      "已读取文件：15_32_3.csv, 修改时间：time.struct_time(tm_year=2024, tm_mon=6, tm_mday=30, tm_hour=15, tm_min=32, tm_sec=4, tm_wday=6, tm_yday=182, tm_isdst=0)\n",
      "已读取文件：15_32_5.csv, 修改时间：time.struct_time(tm_year=2024, tm_mon=6, tm_mday=30, tm_hour=15, tm_min=32, tm_sec=5, tm_wday=6, tm_yday=182, tm_isdst=0)\n",
      "已读取文件：15_32_6.csv, 修改时间：time.struct_time(tm_year=2024, tm_mon=6, tm_mday=30, tm_hour=15, tm_min=32, tm_sec=7, tm_wday=6, tm_yday=182, tm_isdst=0)\n",
      "已读取文件：15_32_8.csv, 修改时间：time.struct_time(tm_year=2024, tm_mon=6, tm_mday=30, tm_hour=15, tm_min=32, tm_sec=8, tm_wday=6, tm_yday=182, tm_isdst=0)\n",
      "已读取文件：15_32_9.csv, 修改时间：time.struct_time(tm_year=2024, tm_mon=6, tm_mday=30, tm_hour=15, tm_min=32, tm_sec=9, tm_wday=6, tm_yday=182, tm_isdst=0)\n",
      "已读取文件：15_32_10.csv, 修改时间：time.struct_time(tm_year=2024, tm_mon=6, tm_mday=30, tm_hour=15, tm_min=32, tm_sec=11, tm_wday=6, tm_yday=182, tm_isdst=0)\n",
      "已读取文件：15_32_12.csv, 修改时间：time.struct_time(tm_year=2024, tm_mon=6, tm_mday=30, tm_hour=15, tm_min=32, tm_sec=12, tm_wday=6, tm_yday=182, tm_isdst=0)\n",
      "已读取文件：15_32_13.csv, 修改时间：time.struct_time(tm_year=2024, tm_mon=6, tm_mday=30, tm_hour=15, tm_min=32, tm_sec=14, tm_wday=6, tm_yday=182, tm_isdst=0)\n",
      "已读取文件：15_32_15.csv, 修改时间：time.struct_time(tm_year=2024, tm_mon=6, tm_mday=30, tm_hour=15, tm_min=32, tm_sec=15, tm_wday=6, tm_yday=182, tm_isdst=0)\n",
      "已读取文件：15_32_16.csv, 修改时间：time.struct_time(tm_year=2024, tm_mon=6, tm_mday=30, tm_hour=15, tm_min=32, tm_sec=16, tm_wday=6, tm_yday=182, tm_isdst=0)\n",
      "已读取文件：15_32_17.csv, 修改时间：time.struct_time(tm_year=2024, tm_mon=6, tm_mday=30, tm_hour=15, tm_min=32, tm_sec=18, tm_wday=6, tm_yday=182, tm_isdst=0)\n",
      "已读取文件：15_32_19.csv, 修改时间：time.struct_time(tm_year=2024, tm_mon=6, tm_mday=30, tm_hour=15, tm_min=32, tm_sec=19, tm_wday=6, tm_yday=182, tm_isdst=0)\n",
      "已读取文件：15_32_20.csv, 修改时间：time.struct_time(tm_year=2024, tm_mon=6, tm_mday=30, tm_hour=15, tm_min=32, tm_sec=21, tm_wday=6, tm_yday=182, tm_isdst=0)\n",
      "已读取文件：15_32_22.csv, 修改时间：time.struct_time(tm_year=2024, tm_mon=6, tm_mday=30, tm_hour=15, tm_min=32, tm_sec=22, tm_wday=6, tm_yday=182, tm_isdst=0)\n",
      "已读取文件：15_32_23.csv, 修改时间：time.struct_time(tm_year=2024, tm_mon=6, tm_mday=30, tm_hour=15, tm_min=32, tm_sec=23, tm_wday=6, tm_yday=182, tm_isdst=0)\n",
      "已读取文件：15_32_24.csv, 修改时间：time.struct_time(tm_year=2024, tm_mon=6, tm_mday=30, tm_hour=15, tm_min=32, tm_sec=25, tm_wday=6, tm_yday=182, tm_isdst=0)\n",
      "已读取文件：15_32_26.csv, 修改时间：time.struct_time(tm_year=2024, tm_mon=6, tm_mday=30, tm_hour=15, tm_min=32, tm_sec=26, tm_wday=6, tm_yday=182, tm_isdst=0)\n"
     ]
    },
    {
     "name": "stdout",
     "output_type": "stream",
     "text": [
      "已读取文件：15_32_27.csv, 修改时间：time.struct_time(tm_year=2024, tm_mon=6, tm_mday=30, tm_hour=15, tm_min=32, tm_sec=27, tm_wday=6, tm_yday=182, tm_isdst=0)\n",
      "已读取文件：15_32_29.csv, 修改时间：time.struct_time(tm_year=2024, tm_mon=6, tm_mday=30, tm_hour=15, tm_min=32, tm_sec=29, tm_wday=6, tm_yday=182, tm_isdst=0)\n",
      "已读取文件：15_32_30.csv, 修改时间：time.struct_time(tm_year=2024, tm_mon=6, tm_mday=30, tm_hour=15, tm_min=32, tm_sec=30, tm_wday=6, tm_yday=182, tm_isdst=0)\n",
      "已读取文件：15_32_31.csv, 修改时间：time.struct_time(tm_year=2024, tm_mon=6, tm_mday=30, tm_hour=15, tm_min=32, tm_sec=32, tm_wday=6, tm_yday=182, tm_isdst=0)\n",
      "已读取文件：15_32_33.csv, 修改时间：time.struct_time(tm_year=2024, tm_mon=6, tm_mday=30, tm_hour=15, tm_min=32, tm_sec=33, tm_wday=6, tm_yday=182, tm_isdst=0)\n",
      "已读取文件：15_32_34.csv, 修改时间：time.struct_time(tm_year=2024, tm_mon=6, tm_mday=30, tm_hour=15, tm_min=32, tm_sec=35, tm_wday=6, tm_yday=182, tm_isdst=0)\n",
      "已读取文件：15_32_36.csv, 修改时间：time.struct_time(tm_year=2024, tm_mon=6, tm_mday=30, tm_hour=15, tm_min=32, tm_sec=36, tm_wday=6, tm_yday=182, tm_isdst=0)\n",
      "已读取文件：15_32_37.csv, 修改时间：time.struct_time(tm_year=2024, tm_mon=6, tm_mday=30, tm_hour=15, tm_min=32, tm_sec=37, tm_wday=6, tm_yday=182, tm_isdst=0)\n",
      "已读取文件：15_32_38.csv, 修改时间：time.struct_time(tm_year=2024, tm_mon=6, tm_mday=30, tm_hour=15, tm_min=32, tm_sec=39, tm_wday=6, tm_yday=182, tm_isdst=0)\n",
      "已读取文件：15_32_40.csv, 修改时间：time.struct_time(tm_year=2024, tm_mon=6, tm_mday=30, tm_hour=15, tm_min=32, tm_sec=40, tm_wday=6, tm_yday=182, tm_isdst=0)\n",
      "已读取文件：15_32_41.csv, 修改时间：time.struct_time(tm_year=2024, tm_mon=6, tm_mday=30, tm_hour=15, tm_min=32, tm_sec=41, tm_wday=6, tm_yday=182, tm_isdst=0)\n",
      "已读取文件：15_32_43.csv, 修改时间：time.struct_time(tm_year=2024, tm_mon=6, tm_mday=30, tm_hour=15, tm_min=32, tm_sec=43, tm_wday=6, tm_yday=182, tm_isdst=0)\n",
      "已读取文件：15_32_44.csv, 修改时间：time.struct_time(tm_year=2024, tm_mon=6, tm_mday=30, tm_hour=15, tm_min=32, tm_sec=44, tm_wday=6, tm_yday=182, tm_isdst=0)\n",
      "已读取文件：15_32_46.csv, 修改时间：time.struct_time(tm_year=2024, tm_mon=6, tm_mday=30, tm_hour=15, tm_min=32, tm_sec=46, tm_wday=6, tm_yday=182, tm_isdst=0)\n",
      "已读取文件：15_32_47.csv, 修改时间：time.struct_time(tm_year=2024, tm_mon=6, tm_mday=30, tm_hour=15, tm_min=32, tm_sec=47, tm_wday=6, tm_yday=182, tm_isdst=0)\n",
      "已读取文件：15_32_48.csv, 修改时间：time.struct_time(tm_year=2024, tm_mon=6, tm_mday=30, tm_hour=15, tm_min=32, tm_sec=49, tm_wday=6, tm_yday=182, tm_isdst=0)\n",
      "已读取文件：15_32_50.csv, 修改时间：time.struct_time(tm_year=2024, tm_mon=6, tm_mday=30, tm_hour=15, tm_min=32, tm_sec=50, tm_wday=6, tm_yday=182, tm_isdst=0)\n",
      "已读取文件：15_32_51.csv, 修改时间：time.struct_time(tm_year=2024, tm_mon=6, tm_mday=30, tm_hour=15, tm_min=32, tm_sec=51, tm_wday=6, tm_yday=182, tm_isdst=0)\n",
      "已读取文件：15_32_52.csv, 修改时间：time.struct_time(tm_year=2024, tm_mon=6, tm_mday=30, tm_hour=15, tm_min=32, tm_sec=53, tm_wday=6, tm_yday=182, tm_isdst=0)\n",
      "已读取文件：15_32_54.csv, 修改时间：time.struct_time(tm_year=2024, tm_mon=6, tm_mday=30, tm_hour=15, tm_min=32, tm_sec=54, tm_wday=6, tm_yday=182, tm_isdst=0)\n",
      "已读取文件：15_32_55.csv, 修改时间：time.struct_time(tm_year=2024, tm_mon=6, tm_mday=30, tm_hour=15, tm_min=32, tm_sec=55, tm_wday=6, tm_yday=182, tm_isdst=0)\n",
      "已读取文件：15_32_57.csv, 修改时间：time.struct_time(tm_year=2024, tm_mon=6, tm_mday=30, tm_hour=15, tm_min=32, tm_sec=57, tm_wday=6, tm_yday=182, tm_isdst=0)\n",
      "已读取文件：15_32_58.csv, 修改时间：time.struct_time(tm_year=2024, tm_mon=6, tm_mday=30, tm_hour=15, tm_min=32, tm_sec=58, tm_wday=6, tm_yday=182, tm_isdst=0)\n",
      "已读取文件：15_32_59.csv, 修改时间：time.struct_time(tm_year=2024, tm_mon=6, tm_mday=30, tm_hour=15, tm_min=33, tm_sec=0, tm_wday=6, tm_yday=182, tm_isdst=0)\n",
      "已读取文件：15_33_1.csv, 修改时间：time.struct_time(tm_year=2024, tm_mon=6, tm_mday=30, tm_hour=15, tm_min=33, tm_sec=1, tm_wday=6, tm_yday=182, tm_isdst=0)\n",
      "已读取文件：15_33_2.csv, 修改时间：time.struct_time(tm_year=2024, tm_mon=6, tm_mday=30, tm_hour=15, tm_min=33, tm_sec=3, tm_wday=6, tm_yday=182, tm_isdst=0)\n",
      "已读取文件：15_33_4.csv, 修改时间：time.struct_time(tm_year=2024, tm_mon=6, tm_mday=30, tm_hour=15, tm_min=33, tm_sec=4, tm_wday=6, tm_yday=182, tm_isdst=0)\n",
      "已读取文件：15_33_5.csv, 修改时间：time.struct_time(tm_year=2024, tm_mon=6, tm_mday=30, tm_hour=15, tm_min=33, tm_sec=5, tm_wday=6, tm_yday=182, tm_isdst=0)\n",
      "已读取文件：15_33_6.csv, 修改时间：time.struct_time(tm_year=2024, tm_mon=6, tm_mday=30, tm_hour=15, tm_min=33, tm_sec=7, tm_wday=6, tm_yday=182, tm_isdst=0)\n",
      "已读取文件：15_33_8.csv, 修改时间：time.struct_time(tm_year=2024, tm_mon=6, tm_mday=30, tm_hour=15, tm_min=33, tm_sec=8, tm_wday=6, tm_yday=182, tm_isdst=0)\n",
      "已读取文件：15_33_9.csv, 修改时间：time.struct_time(tm_year=2024, tm_mon=6, tm_mday=30, tm_hour=15, tm_min=33, tm_sec=9, tm_wday=6, tm_yday=182, tm_isdst=0)\n",
      "已读取文件：15_33_11.csv, 修改时间：time.struct_time(tm_year=2024, tm_mon=6, tm_mday=30, tm_hour=15, tm_min=33, tm_sec=11, tm_wday=6, tm_yday=182, tm_isdst=0)\n",
      "已读取文件：15_33_12.csv, 修改时间：time.struct_time(tm_year=2024, tm_mon=6, tm_mday=30, tm_hour=15, tm_min=33, tm_sec=12, tm_wday=6, tm_yday=182, tm_isdst=0)\n",
      "已读取文件：15_33_13.csv, 修改时间：time.struct_time(tm_year=2024, tm_mon=6, tm_mday=30, tm_hour=15, tm_min=33, tm_sec=14, tm_wday=6, tm_yday=182, tm_isdst=0)\n",
      "已读取文件：15_33_15.csv, 修改时间：time.struct_time(tm_year=2024, tm_mon=6, tm_mday=30, tm_hour=15, tm_min=33, tm_sec=15, tm_wday=6, tm_yday=182, tm_isdst=0)\n",
      "已读取文件：15_33_16.csv, 修改时间：time.struct_time(tm_year=2024, tm_mon=6, tm_mday=30, tm_hour=15, tm_min=33, tm_sec=16, tm_wday=6, tm_yday=182, tm_isdst=0)\n",
      "已读取文件：15_33_18.csv, 修改时间：time.struct_time(tm_year=2024, tm_mon=6, tm_mday=30, tm_hour=15, tm_min=33, tm_sec=18, tm_wday=6, tm_yday=182, tm_isdst=0)\n",
      "已读取文件：15_33_19.csv, 修改时间：time.struct_time(tm_year=2024, tm_mon=6, tm_mday=30, tm_hour=15, tm_min=33, tm_sec=19, tm_wday=6, tm_yday=182, tm_isdst=0)\n",
      "已读取文件：15_33_21.csv, 修改时间：time.struct_time(tm_year=2024, tm_mon=6, tm_mday=30, tm_hour=15, tm_min=33, tm_sec=21, tm_wday=6, tm_yday=182, tm_isdst=0)\n",
      "已读取文件：15_33_22.csv, 修改时间：time.struct_time(tm_year=2024, tm_mon=6, tm_mday=30, tm_hour=15, tm_min=33, tm_sec=22, tm_wday=6, tm_yday=182, tm_isdst=0)\n",
      "已读取文件：15_33_23.csv, 修改时间：time.struct_time(tm_year=2024, tm_mon=6, tm_mday=30, tm_hour=15, tm_min=33, tm_sec=23, tm_wday=6, tm_yday=182, tm_isdst=0)\n",
      "已读取文件：15_33_25.csv, 修改时间：time.struct_time(tm_year=2024, tm_mon=6, tm_mday=30, tm_hour=15, tm_min=33, tm_sec=25, tm_wday=6, tm_yday=182, tm_isdst=0)\n",
      "已读取文件：15_33_26.csv, 修改时间：time.struct_time(tm_year=2024, tm_mon=6, tm_mday=30, tm_hour=15, tm_min=33, tm_sec=26, tm_wday=6, tm_yday=182, tm_isdst=0)\n",
      "已读取文件：15_33_27.csv, 修改时间：time.struct_time(tm_year=2024, tm_mon=6, tm_mday=30, tm_hour=15, tm_min=33, tm_sec=28, tm_wday=6, tm_yday=182, tm_isdst=0)\n",
      "已读取文件：15_33_29.csv, 修改时间：time.struct_time(tm_year=2024, tm_mon=6, tm_mday=30, tm_hour=15, tm_min=33, tm_sec=29, tm_wday=6, tm_yday=182, tm_isdst=0)\n",
      "已读取文件：15_33_30.csv, 修改时间：time.struct_time(tm_year=2024, tm_mon=6, tm_mday=30, tm_hour=15, tm_min=33, tm_sec=31, tm_wday=6, tm_yday=182, tm_isdst=0)\n",
      "已读取文件：15_33_32.csv, 修改时间：time.struct_time(tm_year=2024, tm_mon=6, tm_mday=30, tm_hour=15, tm_min=33, tm_sec=32, tm_wday=6, tm_yday=182, tm_isdst=0)\n",
      "已读取文件：15_33_33.csv, 修改时间：time.struct_time(tm_year=2024, tm_mon=6, tm_mday=30, tm_hour=15, tm_min=33, tm_sec=33, tm_wday=6, tm_yday=182, tm_isdst=0)\n",
      "已读取文件：15_33_34.csv, 修改时间：time.struct_time(tm_year=2024, tm_mon=6, tm_mday=30, tm_hour=15, tm_min=33, tm_sec=35, tm_wday=6, tm_yday=182, tm_isdst=0)\n",
      "已读取文件：15_33_36.csv, 修改时间：time.struct_time(tm_year=2024, tm_mon=6, tm_mday=30, tm_hour=15, tm_min=33, tm_sec=36, tm_wday=6, tm_yday=182, tm_isdst=0)\n",
      "已读取文件：15_33_37.csv, 修改时间：time.struct_time(tm_year=2024, tm_mon=6, tm_mday=30, tm_hour=15, tm_min=33, tm_sec=38, tm_wday=6, tm_yday=182, tm_isdst=0)\n",
      "已读取文件：15_33_39.csv, 修改时间：time.struct_time(tm_year=2024, tm_mon=6, tm_mday=30, tm_hour=15, tm_min=33, tm_sec=39, tm_wday=6, tm_yday=182, tm_isdst=0)\n",
      "已读取文件：15_33_40.csv, 修改时间：time.struct_time(tm_year=2024, tm_mon=6, tm_mday=30, tm_hour=15, tm_min=33, tm_sec=40, tm_wday=6, tm_yday=182, tm_isdst=0)\n",
      "已读取文件：15_33_41.csv, 修改时间：time.struct_time(tm_year=2024, tm_mon=6, tm_mday=30, tm_hour=15, tm_min=33, tm_sec=42, tm_wday=6, tm_yday=182, tm_isdst=0)\n",
      "已读取文件：15_33_43.csv, 修改时间：time.struct_time(tm_year=2024, tm_mon=6, tm_mday=30, tm_hour=15, tm_min=33, tm_sec=43, tm_wday=6, tm_yday=182, tm_isdst=0)\n",
      "已读取文件：15_33_44.csv, 修改时间：time.struct_time(tm_year=2024, tm_mon=6, tm_mday=30, tm_hour=15, tm_min=33, tm_sec=44, tm_wday=6, tm_yday=182, tm_isdst=0)\n"
     ]
    },
    {
     "name": "stdout",
     "output_type": "stream",
     "text": [
      "已读取文件：15_33_46.csv, 修改时间：time.struct_time(tm_year=2024, tm_mon=6, tm_mday=30, tm_hour=15, tm_min=33, tm_sec=46, tm_wday=6, tm_yday=182, tm_isdst=0)\n",
      "已读取文件：15_33_47.csv, 修改时间：time.struct_time(tm_year=2024, tm_mon=6, tm_mday=30, tm_hour=15, tm_min=33, tm_sec=47, tm_wday=6, tm_yday=182, tm_isdst=0)\n",
      "已读取文件：15_33_48.csv, 修改时间：time.struct_time(tm_year=2024, tm_mon=6, tm_mday=30, tm_hour=15, tm_min=33, tm_sec=49, tm_wday=6, tm_yday=182, tm_isdst=0)\n",
      "已读取文件：15_33_50.csv, 修改时间：time.struct_time(tm_year=2024, tm_mon=6, tm_mday=30, tm_hour=15, tm_min=33, tm_sec=50, tm_wday=6, tm_yday=182, tm_isdst=0)\n",
      "已读取文件：15_33_51.csv, 修改时间：time.struct_time(tm_year=2024, tm_mon=6, tm_mday=30, tm_hour=15, tm_min=33, tm_sec=51, tm_wday=6, tm_yday=182, tm_isdst=0)\n",
      "已读取文件：15_33_52.csv, 修改时间：time.struct_time(tm_year=2024, tm_mon=6, tm_mday=30, tm_hour=15, tm_min=33, tm_sec=53, tm_wday=6, tm_yday=182, tm_isdst=0)\n",
      "已读取文件：15_33_54.csv, 修改时间：time.struct_time(tm_year=2024, tm_mon=6, tm_mday=30, tm_hour=15, tm_min=33, tm_sec=54, tm_wday=6, tm_yday=182, tm_isdst=0)\n",
      "已读取文件：15_33_55.csv, 修改时间：time.struct_time(tm_year=2024, tm_mon=6, tm_mday=30, tm_hour=15, tm_min=33, tm_sec=56, tm_wday=6, tm_yday=182, tm_isdst=0)\n"
     ]
    }
   ],
   "source": [
    "# Specify the directory path\n",
    "directory = './save2/alltrain-n/'\n",
    "combined_df = readfile(directory)\n",
    "df_cleaned = process(combined_df)\n",
    "all_train_n = df_cleaned.applymap(str_to_float)"
   ]
  },
  {
   "cell_type": "code",
   "execution_count": 41,
   "metadata": {
    "scrolled": true
   },
   "outputs": [
    {
     "name": "stdout",
     "output_type": "stream",
     "text": [
      "已读取文件：15_27_46.csv, 修改时间：time.struct_time(tm_year=2024, tm_mon=6, tm_mday=30, tm_hour=15, tm_min=27, tm_sec=46, tm_wday=6, tm_yday=182, tm_isdst=0)\n",
      "已读取文件：15_27_48.csv, 修改时间：time.struct_time(tm_year=2024, tm_mon=6, tm_mday=30, tm_hour=15, tm_min=27, tm_sec=48, tm_wday=6, tm_yday=182, tm_isdst=0)\n",
      "已读取文件：15_27_49.csv, 修改时间：time.struct_time(tm_year=2024, tm_mon=6, tm_mday=30, tm_hour=15, tm_min=27, tm_sec=49, tm_wday=6, tm_yday=182, tm_isdst=0)\n",
      "已读取文件：15_27_50.csv, 修改时间：time.struct_time(tm_year=2024, tm_mon=6, tm_mday=30, tm_hour=15, tm_min=27, tm_sec=50, tm_wday=6, tm_yday=182, tm_isdst=0)\n",
      "已读取文件：15_27_52.csv, 修改时间：time.struct_time(tm_year=2024, tm_mon=6, tm_mday=30, tm_hour=15, tm_min=27, tm_sec=52, tm_wday=6, tm_yday=182, tm_isdst=0)\n",
      "已读取文件：15_27_53.csv, 修改时间：time.struct_time(tm_year=2024, tm_mon=6, tm_mday=30, tm_hour=15, tm_min=27, tm_sec=53, tm_wday=6, tm_yday=182, tm_isdst=0)\n",
      "已读取文件：15_27_55.csv, 修改时间：time.struct_time(tm_year=2024, tm_mon=6, tm_mday=30, tm_hour=15, tm_min=27, tm_sec=55, tm_wday=6, tm_yday=182, tm_isdst=0)\n",
      "已读取文件：15_27_56.csv, 修改时间：time.struct_time(tm_year=2024, tm_mon=6, tm_mday=30, tm_hour=15, tm_min=27, tm_sec=56, tm_wday=6, tm_yday=182, tm_isdst=0)\n",
      "已读取文件：15_27_57.csv, 修改时间：time.struct_time(tm_year=2024, tm_mon=6, tm_mday=30, tm_hour=15, tm_min=27, tm_sec=58, tm_wday=6, tm_yday=182, tm_isdst=0)\n",
      "已读取文件：15_27_59.csv, 修改时间：time.struct_time(tm_year=2024, tm_mon=6, tm_mday=30, tm_hour=15, tm_min=27, tm_sec=59, tm_wday=6, tm_yday=182, tm_isdst=0)\n",
      "已读取文件：15_28_0.csv, 修改时间：time.struct_time(tm_year=2024, tm_mon=6, tm_mday=30, tm_hour=15, tm_min=28, tm_sec=0, tm_wday=6, tm_yday=182, tm_isdst=0)\n",
      "已读取文件：15_28_1.csv, 修改时间：time.struct_time(tm_year=2024, tm_mon=6, tm_mday=30, tm_hour=15, tm_min=28, tm_sec=2, tm_wday=6, tm_yday=182, tm_isdst=0)\n",
      "已读取文件：15_28_3.csv, 修改时间：time.struct_time(tm_year=2024, tm_mon=6, tm_mday=30, tm_hour=15, tm_min=28, tm_sec=3, tm_wday=6, tm_yday=182, tm_isdst=0)\n",
      "已读取文件：15_28_4.csv, 修改时间：time.struct_time(tm_year=2024, tm_mon=6, tm_mday=30, tm_hour=15, tm_min=28, tm_sec=5, tm_wday=6, tm_yday=182, tm_isdst=0)\n",
      "已读取文件：15_28_6.csv, 修改时间：time.struct_time(tm_year=2024, tm_mon=6, tm_mday=30, tm_hour=15, tm_min=28, tm_sec=6, tm_wday=6, tm_yday=182, tm_isdst=0)\n",
      "已读取文件：15_28_7.csv, 修改时间：time.struct_time(tm_year=2024, tm_mon=6, tm_mday=30, tm_hour=15, tm_min=28, tm_sec=7, tm_wday=6, tm_yday=182, tm_isdst=0)\n",
      "已读取文件：15_28_8.csv, 修改时间：time.struct_time(tm_year=2024, tm_mon=6, tm_mday=30, tm_hour=15, tm_min=28, tm_sec=9, tm_wday=6, tm_yday=182, tm_isdst=0)\n",
      "已读取文件：15_28_10.csv, 修改时间：time.struct_time(tm_year=2024, tm_mon=6, tm_mday=30, tm_hour=15, tm_min=28, tm_sec=10, tm_wday=6, tm_yday=182, tm_isdst=0)\n",
      "已读取文件：15_28_11.csv, 修改时间：time.struct_time(tm_year=2024, tm_mon=6, tm_mday=30, tm_hour=15, tm_min=28, tm_sec=12, tm_wday=6, tm_yday=182, tm_isdst=0)\n",
      "已读取文件：15_28_13.csv, 修改时间：time.struct_time(tm_year=2024, tm_mon=6, tm_mday=30, tm_hour=15, tm_min=28, tm_sec=13, tm_wday=6, tm_yday=182, tm_isdst=0)\n",
      "已读取文件：15_28_14.csv, 修改时间：time.struct_time(tm_year=2024, tm_mon=6, tm_mday=30, tm_hour=15, tm_min=28, tm_sec=14, tm_wday=6, tm_yday=182, tm_isdst=0)\n",
      "已读取文件：15_28_15.csv, 修改时间：time.struct_time(tm_year=2024, tm_mon=6, tm_mday=30, tm_hour=15, tm_min=28, tm_sec=16, tm_wday=6, tm_yday=182, tm_isdst=0)\n",
      "已读取文件：15_28_17.csv, 修改时间：time.struct_time(tm_year=2024, tm_mon=6, tm_mday=30, tm_hour=15, tm_min=28, tm_sec=17, tm_wday=6, tm_yday=182, tm_isdst=0)\n",
      "已读取文件：15_28_18.csv, 修改时间：time.struct_time(tm_year=2024, tm_mon=6, tm_mday=30, tm_hour=15, tm_min=28, tm_sec=18, tm_wday=6, tm_yday=182, tm_isdst=0)\n",
      "已读取文件：15_28_20.csv, 修改时间：time.struct_time(tm_year=2024, tm_mon=6, tm_mday=30, tm_hour=15, tm_min=28, tm_sec=20, tm_wday=6, tm_yday=182, tm_isdst=0)\n",
      "已读取文件：15_28_21.csv, 修改时间：time.struct_time(tm_year=2024, tm_mon=6, tm_mday=30, tm_hour=15, tm_min=28, tm_sec=21, tm_wday=6, tm_yday=182, tm_isdst=0)\n",
      "已读取文件：15_28_22.csv, 修改时间：time.struct_time(tm_year=2024, tm_mon=6, tm_mday=30, tm_hour=15, tm_min=28, tm_sec=23, tm_wday=6, tm_yday=182, tm_isdst=0)\n",
      "已读取文件：15_28_24.csv, 修改时间：time.struct_time(tm_year=2024, tm_mon=6, tm_mday=30, tm_hour=15, tm_min=28, tm_sec=24, tm_wday=6, tm_yday=182, tm_isdst=0)\n",
      "已读取文件：15_28_25.csv, 修改时间：time.struct_time(tm_year=2024, tm_mon=6, tm_mday=30, tm_hour=15, tm_min=28, tm_sec=25, tm_wday=6, tm_yday=182, tm_isdst=0)\n",
      "已读取文件：15_28_27.csv, 修改时间：time.struct_time(tm_year=2024, tm_mon=6, tm_mday=30, tm_hour=15, tm_min=28, tm_sec=27, tm_wday=6, tm_yday=182, tm_isdst=0)\n",
      "已读取文件：15_28_28.csv, 修改时间：time.struct_time(tm_year=2024, tm_mon=6, tm_mday=30, tm_hour=15, tm_min=28, tm_sec=28, tm_wday=6, tm_yday=182, tm_isdst=0)\n",
      "已读取文件：15_28_29.csv, 修改时间：time.struct_time(tm_year=2024, tm_mon=6, tm_mday=30, tm_hour=15, tm_min=28, tm_sec=30, tm_wday=6, tm_yday=182, tm_isdst=0)\n",
      "已读取文件：15_28_31.csv, 修改时间：time.struct_time(tm_year=2024, tm_mon=6, tm_mday=30, tm_hour=15, tm_min=28, tm_sec=31, tm_wday=6, tm_yday=182, tm_isdst=0)\n",
      "已读取文件：15_28_32.csv, 修改时间：time.struct_time(tm_year=2024, tm_mon=6, tm_mday=30, tm_hour=15, tm_min=28, tm_sec=32, tm_wday=6, tm_yday=182, tm_isdst=0)\n",
      "已读取文件：15_28_34.csv, 修改时间：time.struct_time(tm_year=2024, tm_mon=6, tm_mday=30, tm_hour=15, tm_min=28, tm_sec=34, tm_wday=6, tm_yday=182, tm_isdst=0)\n",
      "已读取文件：15_28_35.csv, 修改时间：time.struct_time(tm_year=2024, tm_mon=6, tm_mday=30, tm_hour=15, tm_min=28, tm_sec=35, tm_wday=6, tm_yday=182, tm_isdst=0)\n",
      "已读取文件：15_28_36.csv, 修改时间：time.struct_time(tm_year=2024, tm_mon=6, tm_mday=30, tm_hour=15, tm_min=28, tm_sec=37, tm_wday=6, tm_yday=182, tm_isdst=0)\n",
      "已读取文件：15_28_38.csv, 修改时间：time.struct_time(tm_year=2024, tm_mon=6, tm_mday=30, tm_hour=15, tm_min=28, tm_sec=38, tm_wday=6, tm_yday=182, tm_isdst=0)\n",
      "已读取文件：15_28_39.csv, 修改时间：time.struct_time(tm_year=2024, tm_mon=6, tm_mday=30, tm_hour=15, tm_min=28, tm_sec=39, tm_wday=6, tm_yday=182, tm_isdst=0)\n",
      "已读取文件：15_28_40.csv, 修改时间：time.struct_time(tm_year=2024, tm_mon=6, tm_mday=30, tm_hour=15, tm_min=28, tm_sec=41, tm_wday=6, tm_yday=182, tm_isdst=0)\n",
      "已读取文件：15_28_42.csv, 修改时间：time.struct_time(tm_year=2024, tm_mon=6, tm_mday=30, tm_hour=15, tm_min=28, tm_sec=42, tm_wday=6, tm_yday=182, tm_isdst=0)\n",
      "已读取文件：15_28_43.csv, 修改时间：time.struct_time(tm_year=2024, tm_mon=6, tm_mday=30, tm_hour=15, tm_min=28, tm_sec=43, tm_wday=6, tm_yday=182, tm_isdst=0)\n",
      "已读取文件：15_28_45.csv, 修改时间：time.struct_time(tm_year=2024, tm_mon=6, tm_mday=30, tm_hour=15, tm_min=28, tm_sec=45, tm_wday=6, tm_yday=182, tm_isdst=0)\n",
      "已读取文件：15_28_46.csv, 修改时间：time.struct_time(tm_year=2024, tm_mon=6, tm_mday=30, tm_hour=15, tm_min=28, tm_sec=46, tm_wday=6, tm_yday=182, tm_isdst=0)\n",
      "已读取文件：15_28_47.csv, 修改时间：time.struct_time(tm_year=2024, tm_mon=6, tm_mday=30, tm_hour=15, tm_min=28, tm_sec=48, tm_wday=6, tm_yday=182, tm_isdst=0)\n"
     ]
    }
   ],
   "source": [
    "# Specify the directory path\n",
    "directory = './save2/allval-c/'\n",
    "combined_df = readfile(directory)\n",
    "df_cleaned = process(combined_df)\n",
    "all_val_c = df_cleaned.applymap(str_to_float)"
   ]
  },
  {
   "cell_type": "code",
   "execution_count": 42,
   "metadata": {
    "scrolled": true
   },
   "outputs": [
    {
     "name": "stdout",
     "output_type": "stream",
     "text": [
      "已读取文件：15_35_21.csv, 修改时间：time.struct_time(tm_year=2024, tm_mon=6, tm_mday=30, tm_hour=15, tm_min=35, tm_sec=21, tm_wday=6, tm_yday=182, tm_isdst=0)\n",
      "已读取文件：15_35_22.csv, 修改时间：time.struct_time(tm_year=2024, tm_mon=6, tm_mday=30, tm_hour=15, tm_min=35, tm_sec=23, tm_wday=6, tm_yday=182, tm_isdst=0)\n",
      "已读取文件：15_35_24.csv, 修改时间：time.struct_time(tm_year=2024, tm_mon=6, tm_mday=30, tm_hour=15, tm_min=35, tm_sec=24, tm_wday=6, tm_yday=182, tm_isdst=0)\n",
      "已读取文件：15_35_25.csv, 修改时间：time.struct_time(tm_year=2024, tm_mon=6, tm_mday=30, tm_hour=15, tm_min=35, tm_sec=25, tm_wday=6, tm_yday=182, tm_isdst=0)\n",
      "已读取文件：15_35_26.csv, 修改时间：time.struct_time(tm_year=2024, tm_mon=6, tm_mday=30, tm_hour=15, tm_min=35, tm_sec=27, tm_wday=6, tm_yday=182, tm_isdst=0)\n",
      "已读取文件：15_35_28.csv, 修改时间：time.struct_time(tm_year=2024, tm_mon=6, tm_mday=30, tm_hour=15, tm_min=35, tm_sec=28, tm_wday=6, tm_yday=182, tm_isdst=0)\n",
      "已读取文件：15_35_29.csv, 修改时间：time.struct_time(tm_year=2024, tm_mon=6, tm_mday=30, tm_hour=15, tm_min=35, tm_sec=29, tm_wday=6, tm_yday=182, tm_isdst=0)\n",
      "已读取文件：15_35_31.csv, 修改时间：time.struct_time(tm_year=2024, tm_mon=6, tm_mday=30, tm_hour=15, tm_min=35, tm_sec=31, tm_wday=6, tm_yday=182, tm_isdst=0)\n",
      "已读取文件：15_35_32.csv, 修改时间：time.struct_time(tm_year=2024, tm_mon=6, tm_mday=30, tm_hour=15, tm_min=35, tm_sec=32, tm_wday=6, tm_yday=182, tm_isdst=0)\n",
      "已读取文件：15_35_33.csv, 修改时间：time.struct_time(tm_year=2024, tm_mon=6, tm_mday=30, tm_hour=15, tm_min=35, tm_sec=34, tm_wday=6, tm_yday=182, tm_isdst=0)\n",
      "已读取文件：15_35_35.csv, 修改时间：time.struct_time(tm_year=2024, tm_mon=6, tm_mday=30, tm_hour=15, tm_min=35, tm_sec=35, tm_wday=6, tm_yday=182, tm_isdst=0)\n",
      "已读取文件：15_35_36.csv, 修改时间：time.struct_time(tm_year=2024, tm_mon=6, tm_mday=30, tm_hour=15, tm_min=35, tm_sec=36, tm_wday=6, tm_yday=182, tm_isdst=0)\n",
      "已读取文件：15_35_38.csv, 修改时间：time.struct_time(tm_year=2024, tm_mon=6, tm_mday=30, tm_hour=15, tm_min=35, tm_sec=38, tm_wday=6, tm_yday=182, tm_isdst=0)\n",
      "已读取文件：15_35_39.csv, 修改时间：time.struct_time(tm_year=2024, tm_mon=6, tm_mday=30, tm_hour=15, tm_min=35, tm_sec=39, tm_wday=6, tm_yday=182, tm_isdst=0)\n",
      "已读取文件：15_35_40.csv, 修改时间：time.struct_time(tm_year=2024, tm_mon=6, tm_mday=30, tm_hour=15, tm_min=35, tm_sec=41, tm_wday=6, tm_yday=182, tm_isdst=0)\n",
      "已读取文件：15_35_42.csv, 修改时间：time.struct_time(tm_year=2024, tm_mon=6, tm_mday=30, tm_hour=15, tm_min=35, tm_sec=42, tm_wday=6, tm_yday=182, tm_isdst=0)\n",
      "已读取文件：15_35_43.csv, 修改时间：time.struct_time(tm_year=2024, tm_mon=6, tm_mday=30, tm_hour=15, tm_min=35, tm_sec=44, tm_wday=6, tm_yday=182, tm_isdst=0)\n",
      "已读取文件：15_35_45.csv, 修改时间：time.struct_time(tm_year=2024, tm_mon=6, tm_mday=30, tm_hour=15, tm_min=35, tm_sec=45, tm_wday=6, tm_yday=182, tm_isdst=0)\n",
      "已读取文件：15_35_46.csv, 修改时间：time.struct_time(tm_year=2024, tm_mon=6, tm_mday=30, tm_hour=15, tm_min=35, tm_sec=46, tm_wday=6, tm_yday=182, tm_isdst=0)\n",
      "已读取文件：15_35_47.csv, 修改时间：time.struct_time(tm_year=2024, tm_mon=6, tm_mday=30, tm_hour=15, tm_min=35, tm_sec=48, tm_wday=6, tm_yday=182, tm_isdst=0)\n",
      "已读取文件：15_35_49.csv, 修改时间：time.struct_time(tm_year=2024, tm_mon=6, tm_mday=30, tm_hour=15, tm_min=35, tm_sec=49, tm_wday=6, tm_yday=182, tm_isdst=0)\n",
      "已读取文件：15_35_50.csv, 修改时间：time.struct_time(tm_year=2024, tm_mon=6, tm_mday=30, tm_hour=15, tm_min=35, tm_sec=50, tm_wday=6, tm_yday=182, tm_isdst=0)\n",
      "已读取文件：15_35_52.csv, 修改时间：time.struct_time(tm_year=2024, tm_mon=6, tm_mday=30, tm_hour=15, tm_min=35, tm_sec=52, tm_wday=6, tm_yday=182, tm_isdst=0)\n",
      "已读取文件：15_35_53.csv, 修改时间：time.struct_time(tm_year=2024, tm_mon=6, tm_mday=30, tm_hour=15, tm_min=35, tm_sec=53, tm_wday=6, tm_yday=182, tm_isdst=0)\n",
      "已读取文件：15_35_54.csv, 修改时间：time.struct_time(tm_year=2024, tm_mon=6, tm_mday=30, tm_hour=15, tm_min=35, tm_sec=55, tm_wday=6, tm_yday=182, tm_isdst=0)\n",
      "已读取文件：15_35_56.csv, 修改时间：time.struct_time(tm_year=2024, tm_mon=6, tm_mday=30, tm_hour=15, tm_min=35, tm_sec=56, tm_wday=6, tm_yday=182, tm_isdst=0)\n",
      "已读取文件：15_35_57.csv, 修改时间：time.struct_time(tm_year=2024, tm_mon=6, tm_mday=30, tm_hour=15, tm_min=35, tm_sec=57, tm_wday=6, tm_yday=182, tm_isdst=0)\n",
      "已读取文件：15_35_58.csv, 修改时间：time.struct_time(tm_year=2024, tm_mon=6, tm_mday=30, tm_hour=15, tm_min=35, tm_sec=59, tm_wday=6, tm_yday=182, tm_isdst=0)\n",
      "已读取文件：15_36_0.csv, 修改时间：time.struct_time(tm_year=2024, tm_mon=6, tm_mday=30, tm_hour=15, tm_min=36, tm_sec=0, tm_wday=6, tm_yday=182, tm_isdst=0)\n",
      "已读取文件：15_36_1.csv, 修改时间：time.struct_time(tm_year=2024, tm_mon=6, tm_mday=30, tm_hour=15, tm_min=36, tm_sec=2, tm_wday=6, tm_yday=182, tm_isdst=0)\n",
      "已读取文件：15_36_3.csv, 修改时间：time.struct_time(tm_year=2024, tm_mon=6, tm_mday=30, tm_hour=15, tm_min=36, tm_sec=3, tm_wday=6, tm_yday=182, tm_isdst=0)\n",
      "已读取文件：15_36_4.csv, 修改时间：time.struct_time(tm_year=2024, tm_mon=6, tm_mday=30, tm_hour=15, tm_min=36, tm_sec=4, tm_wday=6, tm_yday=182, tm_isdst=0)\n",
      "已读取文件：15_36_5.csv, 修改时间：time.struct_time(tm_year=2024, tm_mon=6, tm_mday=30, tm_hour=15, tm_min=36, tm_sec=6, tm_wday=6, tm_yday=182, tm_isdst=0)\n",
      "已读取文件：15_36_7.csv, 修改时间：time.struct_time(tm_year=2024, tm_mon=6, tm_mday=30, tm_hour=15, tm_min=36, tm_sec=7, tm_wday=6, tm_yday=182, tm_isdst=0)\n",
      "已读取文件：15_36_8.csv, 修改时间：time.struct_time(tm_year=2024, tm_mon=6, tm_mday=30, tm_hour=15, tm_min=36, tm_sec=9, tm_wday=6, tm_yday=182, tm_isdst=0)\n",
      "已读取文件：15_36_10.csv, 修改时间：time.struct_time(tm_year=2024, tm_mon=6, tm_mday=30, tm_hour=15, tm_min=36, tm_sec=10, tm_wday=6, tm_yday=182, tm_isdst=0)\n",
      "已读取文件：15_36_11.csv, 修改时间：time.struct_time(tm_year=2024, tm_mon=6, tm_mday=30, tm_hour=15, tm_min=36, tm_sec=11, tm_wday=6, tm_yday=182, tm_isdst=0)\n",
      "已读取文件：15_36_12.csv, 修改时间：time.struct_time(tm_year=2024, tm_mon=6, tm_mday=30, tm_hour=15, tm_min=36, tm_sec=13, tm_wday=6, tm_yday=182, tm_isdst=0)\n",
      "已读取文件：15_36_14.csv, 修改时间：time.struct_time(tm_year=2024, tm_mon=6, tm_mday=30, tm_hour=15, tm_min=36, tm_sec=14, tm_wday=6, tm_yday=182, tm_isdst=0)\n",
      "已读取文件：15_36_15.csv, 修改时间：time.struct_time(tm_year=2024, tm_mon=6, tm_mday=30, tm_hour=15, tm_min=36, tm_sec=15, tm_wday=6, tm_yday=182, tm_isdst=0)\n",
      "已读取文件：15_36_17.csv, 修改时间：time.struct_time(tm_year=2024, tm_mon=6, tm_mday=30, tm_hour=15, tm_min=36, tm_sec=17, tm_wday=6, tm_yday=182, tm_isdst=0)\n",
      "已读取文件：15_36_18.csv, 修改时间：time.struct_time(tm_year=2024, tm_mon=6, tm_mday=30, tm_hour=15, tm_min=36, tm_sec=18, tm_wday=6, tm_yday=182, tm_isdst=0)\n",
      "已读取文件：15_36_19.csv, 修改时间：time.struct_time(tm_year=2024, tm_mon=6, tm_mday=30, tm_hour=15, tm_min=36, tm_sec=20, tm_wday=6, tm_yday=182, tm_isdst=0)\n",
      "已读取文件：15_36_21.csv, 修改时间：time.struct_time(tm_year=2024, tm_mon=6, tm_mday=30, tm_hour=15, tm_min=36, tm_sec=21, tm_wday=6, tm_yday=182, tm_isdst=0)\n",
      "已读取文件：15_36_22.csv, 修改时间：time.struct_time(tm_year=2024, tm_mon=6, tm_mday=30, tm_hour=15, tm_min=36, tm_sec=22, tm_wday=6, tm_yday=182, tm_isdst=0)\n"
     ]
    }
   ],
   "source": [
    "# Specify the directory path\n",
    "directory = './save2/allval-n'\n",
    "combined_df = readfile(directory)\n",
    "df_cleaned = process(combined_df)\n",
    "all_val_n = df_cleaned.applymap(str_to_float)"
   ]
  },
  {
   "cell_type": "code",
   "execution_count": 43,
   "metadata": {},
   "outputs": [
    {
     "data": {
      "text/plain": [
       "(177, 2048)"
      ]
     },
     "execution_count": 43,
     "metadata": {},
     "output_type": "execute_result"
    }
   ],
   "source": [
    "all_train_c.shape"
   ]
  },
  {
   "cell_type": "code",
   "execution_count": 44,
   "metadata": {},
   "outputs": [],
   "source": [
    "all_train_c *= 1.2\n",
    "all_train_n *= 1\n",
    "train = pd.concat([all_train_c, all_train_n], axis=1)"
   ]
  },
  {
   "cell_type": "code",
   "execution_count": 45,
   "metadata": {},
   "outputs": [],
   "source": [
    "all_val_c *= 1.2\n",
    "all_val_n *= 1\n",
    "val = pd.concat([all_val_c, all_val_n], axis=1)"
   ]
  },
  {
   "cell_type": "code",
   "execution_count": 46,
   "metadata": {
    "scrolled": true
   },
   "outputs": [],
   "source": [
    "# Specify the directory path and file name\n",
    "import pandas as pd\n",
    "# Specify the path to .txt file\n",
    "file_path = './video_data/train_all.txt'\n",
    "# Determine the separator (e.g., comma ',', tab 't', space '', etc.)\n",
    "# The delimiter is assumed to be a tab\n",
    "delimiter = ' '\n",
    "Y_train = pd.read_csv(file_path, delimiter=delimiter, header=None)\n",
    "file_path = './video_data/val_all.txt'\n",
    "# Determine the separator (e.g., comma ',', tab 't', space '', etc.)\n",
    "# The delimiter is assumed to be a tab\n",
    "delimiter = ' '\n",
    "Y_val = pd.read_csv(file_path, delimiter=delimiter, header=None)"
   ]
  },
  {
   "cell_type": "code",
   "execution_count": 47,
   "metadata": {
    "scrolled": true
   },
   "outputs": [],
   "source": [
    "Y_train = Y_train.iloc[:, -1]\n",
    "Y_val = Y_val.iloc[:, -1]"
   ]
  },
  {
   "cell_type": "code",
   "execution_count": 48,
   "metadata": {},
   "outputs": [
    {
     "data": {
      "text/plain": [
       "0      2\n",
       "1      2\n",
       "2      1\n",
       "3      1\n",
       "4      1\n",
       "      ..\n",
       "172    2\n",
       "173    2\n",
       "174    0\n",
       "175    2\n",
       "176    1\n",
       "Name: 1, Length: 177, dtype: int64"
      ]
     },
     "execution_count": 48,
     "metadata": {},
     "output_type": "execute_result"
    }
   ],
   "source": [
    "Y_train"
   ]
  },
  {
   "cell_type": "code",
   "execution_count": 49,
   "metadata": {
    "scrolled": true
   },
   "outputs": [
    {
     "data": {
      "text/plain": [
       "0     0\n",
       "1     0\n",
       "2     1\n",
       "3     1\n",
       "4     1\n",
       "5     2\n",
       "6     1\n",
       "7     1\n",
       "8     1\n",
       "9     2\n",
       "10    2\n",
       "11    0\n",
       "12    2\n",
       "13    0\n",
       "14    1\n",
       "15    2\n",
       "16    1\n",
       "17    1\n",
       "18    2\n",
       "19    1\n",
       "20    2\n",
       "21    1\n",
       "22    1\n",
       "23    1\n",
       "24    1\n",
       "25    0\n",
       "26    1\n",
       "27    2\n",
       "28    1\n",
       "29    2\n",
       "30    1\n",
       "31    1\n",
       "32    0\n",
       "33    0\n",
       "34    2\n",
       "35    1\n",
       "36    2\n",
       "37    0\n",
       "38    2\n",
       "39    2\n",
       "40    1\n",
       "41    1\n",
       "42    0\n",
       "43    2\n",
       "44    2\n",
       "Name: 1, dtype: int64"
      ]
     },
     "execution_count": 49,
     "metadata": {},
     "output_type": "execute_result"
    }
   ],
   "source": [
    "Y_val"
   ]
  },
  {
   "cell_type": "code",
   "execution_count": 50,
   "metadata": {
    "scrolled": true
   },
   "outputs": [
    {
     "name": "stdout",
     "output_type": "stream",
     "text": [
      "模型准确率: 0.6888888888888889\n"
     ]
    }
   ],
   "source": [
    "import numpy as np\n",
    "from sklearn.ensemble import RandomForestClassifier\n",
    "from sklearn.model_selection import train_test_split\n",
    "from sklearn.metrics import accuracy_score\n",
    "\n",
    "# Initialize the random forest model\n",
    "# n_estimators is the number of trees in the forest, and max_depth is the maximum depth of the trees\n",
    "rf = RandomForestClassifier(n_estimators=300, max_depth=10)\n",
    "\n",
    "# Train the model\n",
    "rf.fit(train, Y_train)\n",
    "\n",
    "# Predict the test set\n",
    "y_pred = rf.predict(val)\n",
    "\n",
    "# Evaluate the model\n",
    "accuracy = accuracy_score(Y_val, y_pred)\n",
    "print(f\"Model accuracy: {accuracy}\")"
   ]
  },
  {
   "cell_type": "code",
   "execution_count": null,
   "metadata": {},
   "outputs": [],
   "source": []
  },
  {
   "cell_type": "code",
   "execution_count": 51,
   "metadata": {},
   "outputs": [
    {
     "name": "stdout",
     "output_type": "stream",
     "text": [
      "              precision    recall  f1-score   support\n",
      "\n",
      "           0       0.64      1.00      0.78         9\n",
      "           1       0.85      0.52      0.65        21\n",
      "           2       0.61      0.73      0.67        15\n",
      "\n",
      "    accuracy                           0.69        45\n",
      "   macro avg       0.70      0.75      0.70        45\n",
      "weighted avg       0.73      0.69      0.68        45\n",
      "\n"
     ]
    }
   ],
   "source": [
    "from sklearn.metrics import classification_report\n",
    "import numpy as np\n",
    "print(classification_report(Y_val, y_pred))"
   ]
  },
  {
   "cell_type": "code",
   "execution_count": 52,
   "metadata": {
    "scrolled": true
   },
   "outputs": [
    {
     "data": {
      "text/plain": [
       "array([0, 0, 1, 1, 1, 2, 1, 1, 1, 2, 2, 0, 2, 0, 1, 2, 1, 1, 2, 1, 2, 1,\n",
       "       1, 1, 1, 0, 1, 2, 1, 2, 1, 1, 0, 0, 2, 1, 2, 0, 2, 2, 1, 1, 0, 2,\n",
       "       2], dtype=int64)"
      ]
     },
     "execution_count": 52,
     "metadata": {},
     "output_type": "execute_result"
    }
   ],
   "source": [
    "Y_val.values"
   ]
  },
  {
   "cell_type": "code",
   "execution_count": 53,
   "metadata": {},
   "outputs": [
    {
     "data": {
      "text/plain": [
       "array([0, 0, 1, 1, 1, 2, 2, 0, 2, 2, 2, 0, 2, 0, 1, 0, 1, 2, 1, 1, 2, 1,\n",
       "       0, 1, 2, 0, 2, 2, 1, 2, 2, 2, 0, 0, 2, 1, 2, 0, 2, 0, 1, 0, 0, 2,\n",
       "       1], dtype=int64)"
      ]
     },
     "execution_count": 53,
     "metadata": {},
     "output_type": "execute_result"
    }
   ],
   "source": [
    "y_pred"
   ]
  },
  {
   "cell_type": "code",
   "execution_count": 54,
   "metadata": {},
   "outputs": [
    {
     "name": "stdout",
     "output_type": "stream",
     "text": [
      "Random Forest 的准确率: 0.64\n",
      "SVM 的准确率: 0.69\n"
     ]
    },
    {
     "name": "stderr",
     "output_type": "stream",
     "text": [
      "C:\\Users\\15281\\anaconda3\\lib\\site-packages\\sklearn\\linear_model\\_logistic.py:763: ConvergenceWarning: lbfgs failed to converge (status=1):\n",
      "STOP: TOTAL NO. of ITERATIONS REACHED LIMIT.\n",
      "\n",
      "Increase the number of iterations (max_iter) or scale the data as shown in:\n",
      "    https://scikit-learn.org/stable/modules/preprocessing.html\n",
      "Please also refer to the documentation for alternative solver options:\n",
      "    https://scikit-learn.org/stable/modules/linear_model.html#logistic-regression\n",
      "  n_iter_i = _check_optimize_result(\n"
     ]
    },
    {
     "name": "stdout",
     "output_type": "stream",
     "text": [
      "Logistic Regression 的准确率: 0.69\n",
      "MLP 的准确率: 0.64\n"
     ]
    }
   ],
   "source": [
    "import numpy as np\n",
    "from sklearn.model_selection import train_test_split\n",
    "from sklearn.metrics import accuracy_score\n",
    "from sklearn.ensemble import RandomForestClassifier\n",
    "from sklearn.svm import SVC\n",
    "from sklearn.linear_model import LogisticRegression\n",
    "from sklearn.neural_network import MLPClassifier\n",
    "from sklearn.linear_model import ElasticNet\n",
    "\n",
    "# Define the model\n",
    "models = {\n",
    "    'Random Forest': RandomForestClassifier(n_estimators=100),\n",
    "    'SVM': SVC(probability=True, random_state=20),\n",
    "    'Logistic Regression': LogisticRegression(max_iter=200),\n",
    "    'MLP': MLPClassifier(max_iter=100),\n",
    "    #'Elastic Net': ElasticNet()\n",
    "}\n",
    "\n",
    "# Evaluate the model and print the results\n",
    "for name, model in models.items():\n",
    "    # Train the model\n",
    "    model.fit(train, Y_train)\n",
    "    \n",
    "    # Predict the test set\n",
    "    y_pred = model.predict(val)\n",
    "    \n",
    "    # Calculate the accuracy\n",
    "    accuracy = accuracy_score(Y_val, y_pred)\n",
    "    print(f\"{name} accuracy: {accuracy:.2f}\")"
   ]
  },
  {
   "cell_type": "code",
   "execution_count": 55,
   "metadata": {},
   "outputs": [
    {
     "name": "stdout",
     "output_type": "stream",
     "text": [
      "模型准确率: 0.7111111111111111\n"
     ]
    },
    {
     "name": "stderr",
     "output_type": "stream",
     "text": [
      "C:\\Users\\15281\\anaconda3\\lib\\site-packages\\sklearn\\neural_network\\_multilayer_perceptron.py:614: ConvergenceWarning: Stochastic Optimizer: Maximum iterations (100) reached and the optimization hasn't converged yet.\n",
      "  warnings.warn(\n"
     ]
    }
   ],
   "source": [
    "rf = MLPClassifier(max_iter=100)\n",
    "\n",
    "# Train the model\n",
    "rf.fit(train, Y_train)\n",
    "\n",
    "# Predict the test set\n",
    "y_pred = rf.predict(val)\n",
    "\n",
    "# Evaluate the model\n",
    "accuracy = accuracy_score(Y_val, y_pred)\n",
    "print(f\"Model accuracy: {accuracy}\")"
   ]
  },
  {
   "cell_type": "code",
   "execution_count": 56,
   "metadata": {},
   "outputs": [
    {
     "name": "stdout",
     "output_type": "stream",
     "text": [
      "              precision    recall  f1-score   support\n",
      "\n",
      "           0       0.60      1.00      0.75         9\n",
      "           1       0.86      0.57      0.69        21\n",
      "           2       0.69      0.73      0.71        15\n",
      "\n",
      "    accuracy                           0.71        45\n",
      "   macro avg       0.71      0.77      0.72        45\n",
      "weighted avg       0.75      0.71      0.71        45\n",
      "\n"
     ]
    }
   ],
   "source": [
    "from sklearn.metrics import classification_report\n",
    "import numpy as np\n",
    "print(classification_report(Y_val, y_pred))"
   ]
  },
  {
   "cell_type": "code",
   "execution_count": 35,
   "metadata": {},
   "outputs": [
    {
     "data": {
      "text/plain": [
       "array([0, 0, 1, 1, 1, 2, 1, 1, 1, 2, 2, 0, 2, 0, 1, 2, 1, 1, 2, 1, 2, 1,\n",
       "       1, 1, 1, 0, 1, 2, 1, 2, 1, 1, 0, 0, 2, 1, 2, 0, 2, 2, 1, 1, 0, 2,\n",
       "       2], dtype=int64)"
      ]
     },
     "execution_count": 35,
     "metadata": {},
     "output_type": "execute_result"
    }
   ],
   "source": [
    "Y_val.values"
   ]
  },
  {
   "cell_type": "code",
   "execution_count": 36,
   "metadata": {},
   "outputs": [
    {
     "data": {
      "text/plain": [
       "array([0, 0, 1, 1, 1, 2, 1, 1, 1, 2, 2, 0, 2, 0, 1, 2, 1, 2, 1, 1, 2, 1,\n",
       "       1, 1, 2, 0, 1, 2, 1, 2, 2, 2, 0, 0, 2, 1, 2, 0, 2, 1, 1, 1, 0, 2,\n",
       "       2], dtype=int64)"
      ]
     },
     "execution_count": 36,
     "metadata": {},
     "output_type": "execute_result"
    }
   ],
   "source": [
    "y_pred"
   ]
  },
  {
   "cell_type": "code",
   "execution_count": null,
   "metadata": {},
   "outputs": [],
   "source": []
  }
 ],
 "metadata": {
  "kernelspec": {
   "display_name": "Python 3",
   "language": "python",
   "name": "python3"
  },
  "language_info": {
   "codemirror_mode": {
    "name": "ipython",
    "version": 3
   },
   "file_extension": ".py",
   "mimetype": "text/x-python",
   "name": "python",
   "nbconvert_exporter": "python",
   "pygments_lexer": "ipython3",
   "version": "3.8.3"
  }
 },
 "nbformat": 4,
 "nbformat_minor": 5
}
