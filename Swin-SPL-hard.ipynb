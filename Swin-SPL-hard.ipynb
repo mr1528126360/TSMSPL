{
 "cells": [
  {
   "cell_type": "code",
   "execution_count": 1,
   "id": "986584f0",
   "metadata": {
    "scrolled": true
   },
   "outputs": [
    {
     "name": "stdout",
     "output_type": "stream",
     "text": [
      "1.10.0+cu113 True\n",
      "0.15.0\n",
      "11.3\n",
      "MSVC 192930137\n"
     ]
    }
   ],
   "source": [
    "# 检查torch的安装以及gpu的使用\n",
    "import torch, torchvision\n",
    "print(torch.__version__, torch.cuda.is_available())\n",
    "\n",
    "# 检查MMAction2的安装\n",
    "import mmaction\n",
    "print(mmaction.__version__)\n",
    "\n",
    "# 检查mmcv的安装\n",
    "from mmcv.ops import get_compiling_cuda_version, get_compiler_version\n",
    "print(get_compiling_cuda_version())\n",
    "print(get_compiler_version())"
   ]
  },
  {
   "cell_type": "code",
   "execution_count": 2,
   "id": "ee00a9a1",
   "metadata": {},
   "outputs": [
    {
     "name": "stdout",
     "output_type": "stream",
     "text": [
      "configs/recognition/swin/swin_base_patch244_window877_kinetics400_1k.py\n"
     ]
    },
    {
     "name": "stderr",
     "output_type": "stream",
     "text": [
      "C:\\Users\\15281\\anaconda3\\lib\\site-packages\\torch\\functional.py:445: UserWarning: torch.meshgrid: in an upcoming release, it will be required to pass the indexing argument. (Triggered internally at  ..\\aten\\src\\ATen\\native\\TensorShape.cpp:2157.)\n",
      "  return _VF.meshgrid(tensors, **kwargs)  # type: ignore[attr-defined]\n"
     ]
    },
    {
     "name": "stdout",
     "output_type": "stream",
     "text": [
      "load checkpoint from local path: checkpoints/swin_base_patch244_window877_kinetics400_1k.pth\n"
     ]
    }
   ],
   "source": [
    "from mmaction.apis import inference_recognizer, init_recognizer\n",
    "\n",
    "# 选择tsn对应的配置文件\n",
    "config = 'configs/recognition/swin/swin_base_patch244_window877_kinetics400_1k.py'\n",
    "# 加载上面下载的checkpoint文件\n",
    "checkpoint =  'checkpoints/swin_base_patch244_window877_kinetics400_1k.pth'\n",
    "# 初始化模型\n",
    "print(config)\n",
    "model = init_recognizer(config, checkpoint, device='cuda:1')"
   ]
  },
  {
   "cell_type": "code",
   "execution_count": 3,
   "id": "2944fa45",
   "metadata": {
    "scrolled": true
   },
   "outputs": [],
   "source": [
    "import pandas as pd\n",
    "from sklearn.model_selection import train_test_split\n",
    "import random\n",
    "\n",
    "# Function to read and randomly split a txt file\n",
    "def read_and_split_txt(file_path, test_size=0.2):\n",
    "    # Read the txt file into a pandas DataFrame\n",
    "    data = pd.read_csv(file_path, delimiter=\",\", header=None)\n",
    "    \n",
    "    # Randomly shuffle the DataFrame\n",
    "    data = data.sample(frac=1).reset_index(drop=True)\n",
    "    \n",
    "    # Split the data into features and target variable\n",
    "    X = data  # Assuming the last column is the target variable\n",
    "    y = data.iloc[:, -1]\n",
    "    \n",
    "    # Split the data into training and testing sets\n",
    "    X_train, X_test, y_train, y_test = train_test_split(X, y, test_size=test_size)\n",
    "    \n",
    "    return X_train, X_test, y_train, y_test\n",
    "\n",
    "# Example usage\n",
    "file_path = './video_data/硬样本_A_分类.csv'\n",
    "X_train, X_test, y_train, y_test = read_and_split_txt(file_path)\n",
    "X_train.to_csv('./video_data/cu/train2.txt', index=False, header=False, sep=' ')\n",
    "X_test.to_csv('./video_data/cu/val_file2.txt', index=False, header=False, sep=' ')\n",
    "X_train.to_csv('./video_data/train2.txt', index=False, header=False, sep=' ')\n",
    "X_test.to_csv('./video_data/val_file2.txt', index=False, header=False, sep=' ')\n"
   ]
  },
  {
   "cell_type": "code",
   "execution_count": 4,
   "id": "3be18614",
   "metadata": {},
   "outputs": [
    {
     "name": "stdout",
     "output_type": "stream",
     "text": [
      "Config:\n",
      "model = dict(\n",
      "    type='Recognizer3D',\n",
      "    backbone=dict(\n",
      "        type='SwinTransformer3D',\n",
      "        patch_size=(2, 4, 4),\n",
      "        embed_dim=128,\n",
      "        depths=[2, 2, 18, 2],\n",
      "        num_heads=[4, 8, 16, 32],\n",
      "        window_size=(8, 7, 7),\n",
      "        mlp_ratio=4.0,\n",
      "        qkv_bias=True,\n",
      "        qk_scale=None,\n",
      "        drop_rate=0.0,\n",
      "        attn_drop_rate=0.0,\n",
      "        drop_path_rate=0.3,\n",
      "        patch_norm=True),\n",
      "    cls_head=dict(\n",
      "        type='I3DHead',\n",
      "        in_channels=1024,\n",
      "        num_classes=3,\n",
      "        spatial_type='avg',\n",
      "        dropout_ratio=0.5),\n",
      "    test_cfg=dict(average_clips='prob', max_testing_views=4))\n",
      "checkpoint_config = dict(interval=10)\n",
      "log_config = dict(interval=5, hooks=[dict(type='TextLoggerHook')])\n",
      "dist_params = dict(backend='nccl')\n",
      "log_level = 'INFO'\n",
      "load_from = 'checkpoints/swin_base_patch244_window877_kinetics400_1k.pth'\n",
      "resume_from = None\n",
      "workflow = [('train', 1)]\n",
      "dataset_type = 'VideoDataset'\n",
      "data_root = './video_data/train_video/'\n",
      "data_root_val = './video_data/val_video/'\n",
      "ann_file_train = './video_data/train2.txt'\n",
      "ann_file_val = './video_data/val_file2.txt'\n",
      "ann_file_test = './video_data/val_file2.txt'\n",
      "img_norm_cfg = dict(\n",
      "    mean=[123.675, 116.28, 103.53], std=[58.395, 57.12, 57.375], to_bgr=False)\n",
      "train_pipeline = [\n",
      "    dict(type='DecordInit'),\n",
      "    dict(type='SampleFrames', clip_len=10, frame_interval=30, num_clips=1),\n",
      "    dict(type='DecordDecode'),\n",
      "    dict(type='Resize', scale=(-1, 256)),\n",
      "    dict(type='RandomResizedCrop'),\n",
      "    dict(type='Resize', scale=(224, 224), keep_ratio=False),\n",
      "    dict(type='Flip', flip_ratio=0.5),\n",
      "    dict(\n",
      "        type='Normalize',\n",
      "        mean=[123.675, 116.28, 103.53],\n",
      "        std=[58.395, 57.12, 57.375],\n",
      "        to_bgr=False),\n",
      "    dict(type='FormatShape', input_format='NCTHW'),\n",
      "    dict(type='Collect', keys=['imgs', 'label'], meta_keys=[]),\n",
      "    dict(type='ToTensor', keys=['imgs', 'label'])\n",
      "]\n",
      "val_pipeline = [\n",
      "    dict(type='DecordInit'),\n",
      "    dict(\n",
      "        type='SampleFrames',\n",
      "        clip_len=10,\n",
      "        frame_interval=30,\n",
      "        num_clips=1,\n",
      "        test_mode=True),\n",
      "    dict(type='DecordDecode'),\n",
      "    dict(type='Resize', scale=(-1, 256)),\n",
      "    dict(type='CenterCrop', crop_size=224),\n",
      "    dict(type='Flip', flip_ratio=0),\n",
      "    dict(\n",
      "        type='Normalize',\n",
      "        mean=[123.675, 116.28, 103.53],\n",
      "        std=[58.395, 57.12, 57.375],\n",
      "        to_bgr=False),\n",
      "    dict(type='FormatShape', input_format='NCTHW'),\n",
      "    dict(type='Collect', keys=['imgs', 'label'], meta_keys=[]),\n",
      "    dict(type='ToTensor', keys=['imgs'])\n",
      "]\n",
      "test_pipeline = [\n",
      "    dict(type='DecordInit'),\n",
      "    dict(\n",
      "        type='SampleFrames',\n",
      "        clip_len=10,\n",
      "        frame_interval=30,\n",
      "        num_clips=1,\n",
      "        test_mode=True),\n",
      "    dict(type='DecordDecode'),\n",
      "    dict(type='Resize', scale=(-1, 224)),\n",
      "    dict(type='ThreeCrop', crop_size=224),\n",
      "    dict(type='Flip', flip_ratio=0),\n",
      "    dict(\n",
      "        type='Normalize',\n",
      "        mean=[123.675, 116.28, 103.53],\n",
      "        std=[58.395, 57.12, 57.375],\n",
      "        to_bgr=False),\n",
      "    dict(type='FormatShape', input_format='NCTHW'),\n",
      "    dict(type='Collect', keys=['imgs', 'label'], meta_keys=[]),\n",
      "    dict(type='ToTensor', keys=['imgs'])\n",
      "]\n",
      "data = dict(\n",
      "    videos_per_gpu=2,\n",
      "    workers_per_gpu=4,\n",
      "    val_dataloader=dict(videos_per_gpu=1, workers_per_gpu=1),\n",
      "    test_dataloader=dict(videos_per_gpu=1, workers_per_gpu=1),\n",
      "    train=dict(\n",
      "        type='VideoDataset',\n",
      "        ann_file='./video_data/train2.txt',\n",
      "        data_prefix='./video_data/train_video/',\n",
      "        pipeline=[\n",
      "            dict(type='DecordInit'),\n",
      "            dict(\n",
      "                type='SampleFrames',\n",
      "                clip_len=10,\n",
      "                frame_interval=30,\n",
      "                num_clips=1),\n",
      "            dict(type='DecordDecode'),\n",
      "            dict(type='Resize', scale=(-1, 256)),\n",
      "            dict(type='RandomResizedCrop'),\n",
      "            dict(type='Resize', scale=(224, 224), keep_ratio=False),\n",
      "            dict(type='Flip', flip_ratio=0.5),\n",
      "            dict(\n",
      "                type='Normalize',\n",
      "                mean=[123.675, 116.28, 103.53],\n",
      "                std=[58.395, 57.12, 57.375],\n",
      "                to_bgr=False),\n",
      "            dict(type='FormatShape', input_format='NCTHW'),\n",
      "            dict(type='Collect', keys=['imgs', 'label'], meta_keys=[]),\n",
      "            dict(type='ToTensor', keys=['imgs', 'label'])\n",
      "        ]),\n",
      "    val=dict(\n",
      "        type='VideoDataset',\n",
      "        ann_file='./video_data/val_file2.txt',\n",
      "        data_prefix='./video_data/val_video/',\n",
      "        pipeline=[\n",
      "            dict(type='DecordInit'),\n",
      "            dict(\n",
      "                type='SampleFrames',\n",
      "                clip_len=10,\n",
      "                frame_interval=30,\n",
      "                num_clips=1,\n",
      "                test_mode=True),\n",
      "            dict(type='DecordDecode'),\n",
      "            dict(type='Resize', scale=(-1, 256)),\n",
      "            dict(type='CenterCrop', crop_size=224),\n",
      "            dict(type='Flip', flip_ratio=0),\n",
      "            dict(\n",
      "                type='Normalize',\n",
      "                mean=[123.675, 116.28, 103.53],\n",
      "                std=[58.395, 57.12, 57.375],\n",
      "                to_bgr=False),\n",
      "            dict(type='FormatShape', input_format='NCTHW'),\n",
      "            dict(type='Collect', keys=['imgs', 'label'], meta_keys=[]),\n",
      "            dict(type='ToTensor', keys=['imgs'])\n",
      "        ]),\n",
      "    test=dict(\n",
      "        type='VideoDataset',\n",
      "        ann_file='./video_data/val_file2.txt',\n",
      "        data_prefix='./video_data/val_video/',\n",
      "        pipeline=[\n",
      "            dict(type='DecordInit'),\n",
      "            dict(\n",
      "                type='SampleFrames',\n",
      "                clip_len=10,\n",
      "                frame_interval=30,\n",
      "                num_clips=1,\n",
      "                test_mode=True),\n",
      "            dict(type='DecordDecode'),\n",
      "            dict(type='Resize', scale=(-1, 224)),\n",
      "            dict(type='ThreeCrop', crop_size=224),\n",
      "            dict(type='Flip', flip_ratio=0),\n",
      "            dict(\n",
      "                type='Normalize',\n",
      "                mean=[123.675, 116.28, 103.53],\n",
      "                std=[58.395, 57.12, 57.375],\n",
      "                to_bgr=False),\n",
      "            dict(type='FormatShape', input_format='NCTHW'),\n",
      "            dict(type='Collect', keys=['imgs', 'label'], meta_keys=[]),\n",
      "            dict(type='ToTensor', keys=['imgs'])\n",
      "        ]))\n",
      "evaluation = dict(\n",
      "    interval=5, metrics=['top_k_accuracy', 'mean_class_accuracy'])\n",
      "optimizer = dict(\n",
      "    type='AdamW',\n",
      "    lr=7.8125e-06,\n",
      "    betas=(0.9, 0.999),\n",
      "    weight_decay=0.05,\n",
      "    paramwise_cfg=dict(\n",
      "        custom_keys=dict(\n",
      "            absolute_pos_embed=dict(decay_mult=0.0),\n",
      "            relative_position_bias_table=dict(decay_mult=0.0),\n",
      "            norm=dict(decay_mult=0.0),\n",
      "            backbone=dict(lr_mult=0.1))))\n",
      "lr_config = dict(\n",
      "    policy='CosineAnnealing',\n",
      "    min_lr=0,\n",
      "    warmup='linear',\n",
      "    warmup_by_epoch=True,\n",
      "    warmup_iters=2.5)\n",
      "total_epochs = 20\n",
      "work_dir = './tutorial_exps1'\n",
      "find_unused_parameters = False\n",
      "fp16 = None\n",
      "optimizer_config = dict(\n",
      "    type='DistOptimizerHook',\n",
      "    update_interval=8,\n",
      "    grad_clip=None,\n",
      "    coalesce=True,\n",
      "    bucket_size_mb=-1,\n",
      "    use_fp16=True)\n",
      "omnisource = False\n",
      "seed = 40\n",
      "gpu_ids = range(1, 2)\n",
      "\n"
     ]
    }
   ],
   "source": [
    "from mmcv.runner import set_random_seed\n",
    "# 获得tsn对应的配置文件cfg\n",
    "from mmcv import Config\n",
    "cfg = Config.fromfile('./configs/recognition/swin/swin_base_patch244_window877_kinetics400_1k.py')\n",
    "# 修改数据集类型和各个文件路径\n",
    "cfg.dataset_type = 'VideoDataset'\n",
    "cfg.data_root = './video_data/train_video/'\n",
    "cfg.data_root_val = './video_data/val_video/'\n",
    "cfg.ann_file_train = './video_data/train2.txt'\n",
    "cfg.ann_file_val = './video_data/val_file2.txt'\n",
    "cfg.ann_file_test = './video_data/val_file2.txt'\n",
    "\n",
    "\n",
    "cfg.data.test.type = 'VideoDataset'\n",
    "cfg.data.test.ann_file = './video_data/val_file2.txt'\n",
    "cfg.data.test.data_prefix = './video_data/val_video/'\n",
    "\n",
    "cfg.data.train.type = 'VideoDataset'\n",
    "cfg.data.train.ann_file = './video_data/train2.txt'\n",
    "cfg.data.train.data_prefix = './video_data/train_video/'\n",
    "cfg.data.train.data_prefix = './video_data/train_video/'\n",
    "\n",
    "cfg.data.val.type = 'VideoDataset'\n",
    "cfg.data.val.ann_file = './video_data/val_file2.txt'\n",
    "cfg.data.val.data_prefix = './video_data/val_video/'\n",
    "\n",
    "# 这里用于确认是否使用到omnisource训练\n",
    "cfg.setdefault('omnisource', False)\n",
    "# 修改cls_head中类别数为3\n",
    "cfg.model.cls_head.num_classes = 3\n",
    "# 使用预训练好的tsn模型\n",
    "cfg.load_from = 'checkpoints/swin_base_patch244_window877_kinetics400_1k.pth'\n",
    "# 设置工作目录\n",
    "cfg.work_dir = './tutorial_exps1'\n",
    "\n",
    "# 由于是单卡训练，修改对应的lr\n",
    "#cfg.data.videos_per_gpu = cfg.data.videos_per_gpu // 16\n",
    "cfg.data.videos_per_gpu = 2\n",
    "cfg.optimizer.lr = cfg.optimizer.lr / 8 / 16\n",
    "#设置epoches\n",
    "cfg.total_epochs = 20\n",
    "# 设置存档点间隔减少存储空间的消耗\n",
    "cfg.checkpoint_config.interval = 10\n",
    "# 设置日志打印间隔减少打印时间\n",
    "cfg.log_config.interval = 5\n",
    "\n",
    "# 固定随机种子使得结果可复现\n",
    "cfg.seed = 40\n",
    "set_random_seed(0, deterministic=False)\n",
    "cfg.gpu_ids = range(1,2)\n",
    "\n",
    "# 打印所有的配置参数\n",
    "print(f'Config:\\n{cfg.pretty_text}')"
   ]
  },
  {
   "cell_type": "code",
   "execution_count": 5,
   "id": "d55d1369",
   "metadata": {
    "scrolled": true
   },
   "outputs": [],
   "source": [
    "import os.path as osp\n",
    "import os\n",
    "def clean():\n",
    "    # Get a list of all files in the current directory\n",
    "    files_in_directory = os.listdir()\n",
    "    filtered_files = [file for file in files_in_directory if file.endswith(\".pt\")]\n",
    "    # Loop through the list and remove each file\n",
    "    for file in filtered_files:\n",
    "        os.remove(file)\n",
    "def cleancsv(directory):\n",
    "    # 指定要清除CSV文件的目录\n",
    "    # 遍历目录中的所有文件\n",
    "    for filename in os.listdir(directory):\n",
    "        # 检查文件扩展名是否为'.csv'\n",
    "        if filename.endswith('.csv'):\n",
    "            # 构造完整的文件路径\n",
    "            file_path = os.path.join(directory, filename)\n",
    "            # 删除文件\n",
    "            os.remove(file_path)"
   ]
  },
  {
   "cell_type": "code",
   "execution_count": 6,
   "id": "be7043df",
   "metadata": {
    "scrolled": true
   },
   "outputs": [],
   "source": [
    "#按排序重建训练文件\n",
    "import pandas as pd\n",
    "import numpy as np\n",
    "import cv2\n",
    "data = pd.read_csv(\"./video_data/硬样本——A.csv\",sep=\",\", engine='python', encoding='utf-8')\n",
    "data2 = pd.read_csv(\"./video_data/cu/train2.txt\", delimiter=\" \", header=None)\n",
    "def select(data,data2,lr):\n",
    "    ko = []\n",
    "    for i in range(0,len(data2[0])):\n",
    "        for j in range(0,len(data[\"名称\"])):\n",
    "            if(data2[0][i] == data[\"名称\"][j]):\n",
    "                if(data[\"dis\"][j]<lr):\n",
    "                    #print(i)\n",
    "                    ko.append(i)\n",
    "    data3 = data2.loc[ko, :]\n",
    "    return data3\n",
    "#data4 = select(data,data2,2.5)"
   ]
  },
  {
   "cell_type": "code",
   "execution_count": 7,
   "id": "30c99362",
   "metadata": {
    "scrolled": true
   },
   "outputs": [
    {
     "name": "stderr",
     "output_type": "stream",
     "text": [
      "C:\\Users\\15281\\anaconda3\\lib\\site-packages\\apex-0.1-py3.8.egg\\apex\\__init__.py:68: DeprecatedFeatureWarning: apex.amp is deprecated and will be removed by the end of February 2023. Use [PyTorch AMP](https://pytorch.org/docs/stable/amp.html)\n"
     ]
    },
    {
     "name": "stdout",
     "output_type": "stream",
     "text": [
      "Selected optimization level O1:  Insert automatic casts around Pytorch functions and Tensor methods.\n",
      "\n",
      "Defaults for this optimization level are:\n",
      "enabled                : True\n",
      "opt_level              : O1\n",
      "cast_model_type        : None\n",
      "patch_torch_functions  : True\n",
      "keep_batchnorm_fp32    : None\n",
      "master_weights         : None\n",
      "loss_scale             : dynamic\n",
      "Processing user overrides (additional kwargs that are not None)...\n",
      "After processing overrides, optimization options are:\n",
      "enabled                : True\n",
      "opt_level              : O1\n",
      "cast_model_type        : None\n",
      "patch_torch_functions  : True\n",
      "keep_batchnorm_fp32    : None\n",
      "master_weights         : None\n",
      "loss_scale             : dynamic\n",
      "Warning:  multi_tensor_applier fused unscale kernel is unavailable, possibly because apex was installed without --cuda_ext --cpp_ext. Using Python fallback.  Original ImportError was: ModuleNotFoundError(\"No module named 'amp_C'\")\n"
     ]
    },
    {
     "name": "stderr",
     "output_type": "stream",
     "text": [
      "2024-06-28 21:27:57,661 - mmaction - INFO - load checkpoint from local path: checkpoints/swin_base_patch244_window877_kinetics400_1k.pth\n",
      "2024-06-28 21:27:57,949 - mmaction - WARNING - The model and loaded state dict do not match exactly\n",
      "\n",
      "size mismatch for cls_head.fc_cls.weight: copying a param with shape torch.Size([400, 1024]) from checkpoint, the shape in current model is torch.Size([3, 1024]).\n",
      "size mismatch for cls_head.fc_cls.bias: copying a param with shape torch.Size([400]) from checkpoint, the shape in current model is torch.Size([3]).\n",
      "2024-06-28 21:27:57,960 - mmaction - INFO - Start running, host: 15281@实验室, work_dir: H:\\code\\视频组代码\\Video_Swin_Transformer\\tutorial_exps1\n",
      "2024-06-28 21:27:57,961 - mmaction - INFO - Hooks will be executed in the following order:\n",
      "before_run:\n",
      "(VERY_HIGH   ) StepLrUpdaterHook                  \n",
      "(ABOVE_NORMAL) DistOptimizerHook                  \n",
      "(NORMAL      ) CheckpointHook                     \n",
      "(NORMAL      ) EvalHook                           \n",
      "(VERY_LOW    ) TextLoggerHook                     \n",
      " -------------------- \n",
      "before_train_epoch:\n",
      "(VERY_HIGH   ) StepLrUpdaterHook                  \n",
      "(NORMAL      ) EvalHook                           \n",
      "(LOW         ) IterTimerHook                      \n",
      "(VERY_LOW    ) TextLoggerHook                     \n",
      " -------------------- \n",
      "before_train_iter:\n",
      "(VERY_HIGH   ) StepLrUpdaterHook                  \n",
      "(NORMAL      ) EvalHook                           \n",
      "(LOW         ) IterTimerHook                      \n",
      " -------------------- \n",
      "after_train_iter:\n",
      "(ABOVE_NORMAL) DistOptimizerHook                  \n",
      "(NORMAL      ) CheckpointHook                     \n",
      "(NORMAL      ) EvalHook                           \n",
      "(LOW         ) IterTimerHook                      \n",
      "(VERY_LOW    ) TextLoggerHook                     \n",
      " -------------------- \n",
      "after_train_epoch:\n",
      "(NORMAL      ) CheckpointHook                     \n",
      "(NORMAL      ) EvalHook                           \n",
      "(VERY_LOW    ) TextLoggerHook                     \n",
      " -------------------- \n",
      "before_val_epoch:\n",
      "(LOW         ) IterTimerHook                      \n",
      "(VERY_LOW    ) TextLoggerHook                     \n",
      " -------------------- \n",
      "before_val_iter:\n",
      "(LOW         ) IterTimerHook                      \n",
      " -------------------- \n",
      "after_val_iter:\n",
      "(LOW         ) IterTimerHook                      \n",
      " -------------------- \n",
      "after_val_epoch:\n",
      "(VERY_LOW    ) TextLoggerHook                     \n",
      " -------------------- \n",
      "after_run:\n",
      "(VERY_LOW    ) TextLoggerHook                     \n",
      " -------------------- \n",
      "2024-06-28 21:27:57,962 - mmaction - INFO - workflow: [('train', 1)], max: 20 epochs\n",
      "2024-06-28 21:27:57,962 - mmaction - INFO - Checkpoints will be saved to H:\\code\\视频组代码\\Video_Swin_Transformer\\tutorial_exps1 by HardDiskBackend.\n",
      "C:\\Users\\15281\\anaconda3\\lib\\site-packages\\mmcv\\runner\\hooks\\evaluation.py:222: UserWarning: runner.meta is None. Creating an empty one.\n",
      "  warnings.warn('runner.meta is None. Creating an empty one.')\n",
      "2024-06-28 21:28:10,841 - mmaction - INFO - Epoch [1][5/9]\tlr: 7.813e-07, eta: 0:07:30, time: 2.574, data_time: 1.448, memory: 4699, top1_acc: 0.4000, top5_acc: 1.0000, loss_cls: 1.0762, loss: 1.0762\n",
      "2024-06-28 21:28:22,711 - mmaction - INFO - Epoch [2][5/9]\tlr: 7.813e-07, eta: 0:04:36, time: 2.082, data_time: 1.806, memory: 5374, top1_acc: 0.2000, top5_acc: 1.0000, loss_cls: 1.2060, loss: 1.2060\n",
      "2024-06-28 21:28:33,833 - mmaction - INFO - Epoch [3][5/9]\tlr: 7.813e-07, eta: 0:03:45, time: 1.954, data_time: 1.653, memory: 5374, top1_acc: 0.5000, top5_acc: 1.0000, loss_cls: 1.1110, loss: 1.1110\n",
      "2024-06-28 21:28:43,862 - mmaction - INFO - Epoch [4][5/9]\tlr: 7.813e-07, eta: 0:03:12, time: 1.712, data_time: 1.423, memory: 5374, top1_acc: 0.3000, top5_acc: 1.0000, loss_cls: 1.0961, loss: 1.0961\n",
      "2024-06-28 21:28:54,683 - mmaction - INFO - Epoch [5][5/9]\tlr: 7.813e-07, eta: 0:02:49, time: 1.691, data_time: 1.359, memory: 5374, top1_acc: 0.6000, top5_acc: 1.0000, loss_cls: 1.0258, loss: 1.0258\n"
     ]
    },
    {
     "name": "stdout",
     "output_type": "stream",
     "text": [
      "[>>>>>>>>>>>>>>>>>>>>>>>>>>>>>>>>>>>>>>>>>>>>>>>>>>] 9/9, 0.6 task/s, elapsed: 16s, ETA:     0s"
     ]
    },
    {
     "name": "stderr",
     "output_type": "stream",
     "text": [
      "2024-06-28 21:29:12,045 - mmaction - INFO - Evaluating top_k_accuracy ...\n",
      "2024-06-28 21:29:12,045 - mmaction - INFO - \n",
      "top1_acc\t0.4444\n",
      "top5_acc\t1.0000\n",
      "2024-06-28 21:29:12,046 - mmaction - INFO - Evaluating mean_class_accuracy ...\n",
      "2024-06-28 21:29:12,047 - mmaction - INFO - \n",
      "mean_acc\t0.5667\n"
     ]
    },
    {
     "name": "stdout",
     "output_type": "stream",
     "text": [
      "mean_class_accuracy\n",
      "[0 0 1 2 1 0 0 0 0]\n",
      "[2, 0, 2, 2, 1, 1, 0, 2, 2]\n"
     ]
    },
    {
     "name": "stderr",
     "output_type": "stream",
     "text": [
      "2024-06-28 21:29:13,244 - mmaction - INFO - Now best checkpoint is saved as best_top1_acc_epoch_5.pth.\n",
      "2024-06-28 21:29:13,244 - mmaction - INFO - Best top1_acc is 0.4444 at 5 epoch.\n",
      "2024-06-28 21:29:13,245 - mmaction - INFO - Epoch(val) [5][9]\ttop1_acc: 0.4444, top5_acc: 1.0000, mean_class_accuracy: 0.5667\n",
      "2024-06-28 21:29:22,177 - mmaction - INFO - Epoch [6][5/9]\tlr: 7.813e-07, eta: 0:02:33, time: 1.785, data_time: 1.470, memory: 5374, top1_acc: 0.3000, top5_acc: 1.0000, loss_cls: 1.1390, loss: 1.1390\n",
      "2024-06-28 21:29:33,915 - mmaction - INFO - Epoch [7][5/9]\tlr: 7.813e-07, eta: 0:02:20, time: 1.876, data_time: 1.580, memory: 5374, top1_acc: 0.1000, top5_acc: 1.0000, loss_cls: 1.1783, loss: 1.1783\n",
      "2024-06-28 21:29:45,836 - mmaction - INFO - Epoch [8][5/9]\tlr: 7.813e-07, eta: 0:02:09, time: 2.100, data_time: 1.765, memory: 5374, top1_acc: 0.3000, top5_acc: 1.0000, loss_cls: 1.1509, loss: 1.1509\n",
      "2024-06-28 21:29:55,450 - mmaction - INFO - Epoch [9][5/9]\tlr: 7.813e-07, eta: 0:01:56, time: 1.635, data_time: 1.351, memory: 5378, top1_acc: 0.4000, top5_acc: 1.0000, loss_cls: 1.0815, loss: 1.0815\n",
      "2024-06-28 21:30:08,141 - mmaction - INFO - Epoch [10][5/9]\tlr: 7.813e-07, eta: 0:01:45, time: 1.955, data_time: 1.662, memory: 5378, top1_acc: 0.3000, top5_acc: 1.0000, loss_cls: 1.0779, loss: 1.0779\n",
      "2024-06-28 21:30:09,610 - mmaction - INFO - Saving checkpoint at 10 epochs\n"
     ]
    },
    {
     "name": "stdout",
     "output_type": "stream",
     "text": [
      "[>>>>>>>>>>>>>>>>>>>>>>>>>>>>>>>>>>>>>>>>>>>>>>>>>>] 9/9, 0.6 task/s, elapsed: 16s, ETA:     0s"
     ]
    },
    {
     "name": "stderr",
     "output_type": "stream",
     "text": [
      "2024-06-28 21:30:27,523 - mmaction - INFO - Evaluating top_k_accuracy ...\n",
      "2024-06-28 21:30:27,524 - mmaction - INFO - \n",
      "top1_acc\t0.4444\n",
      "top5_acc\t1.0000\n",
      "2024-06-28 21:30:27,524 - mmaction - INFO - Evaluating mean_class_accuracy ...\n",
      "2024-06-28 21:30:27,527 - mmaction - INFO - \n",
      "mean_acc\t0.5667\n",
      "2024-06-28 21:30:27,527 - mmaction - INFO - Epoch(val) [10][9]\ttop1_acc: 0.4444, top5_acc: 1.0000, mean_class_accuracy: 0.5667\n"
     ]
    },
    {
     "name": "stdout",
     "output_type": "stream",
     "text": [
      "mean_class_accuracy\n",
      "[0 0 1 2 1 0 0 0 0]\n",
      "[2, 0, 2, 2, 1, 1, 0, 2, 2]\n"
     ]
    },
    {
     "name": "stderr",
     "output_type": "stream",
     "text": [
      "2024-06-28 21:30:35,881 - mmaction - INFO - Epoch [11][5/9]\tlr: 7.813e-07, eta: 0:01:34, time: 1.669, data_time: 1.387, memory: 5378, top1_acc: 0.2000, top5_acc: 1.0000, loss_cls: 1.0819, loss: 1.0819\n",
      "2024-06-28 21:30:47,385 - mmaction - INFO - Epoch [12][5/9]\tlr: 7.813e-07, eta: 0:01:23, time: 1.928, data_time: 1.621, memory: 5378, top1_acc: 0.4000, top5_acc: 1.0000, loss_cls: 1.0704, loss: 1.0704\n",
      "2024-06-28 21:30:57,967 - mmaction - INFO - Epoch [13][5/9]\tlr: 7.813e-07, eta: 0:01:13, time: 1.822, data_time: 1.516, memory: 5378, top1_acc: 0.5000, top5_acc: 1.0000, loss_cls: 1.0984, loss: 1.0984\n",
      "2024-06-28 21:31:08,398 - mmaction - INFO - Epoch [14][5/9]\tlr: 7.813e-07, eta: 0:01:02, time: 1.581, data_time: 1.290, memory: 5378, top1_acc: 0.2000, top5_acc: 1.0000, loss_cls: 1.1547, loss: 1.1547\n",
      "2024-06-28 21:31:19,933 - mmaction - INFO - Epoch [15][5/9]\tlr: 7.813e-07, eta: 0:00:52, time: 1.710, data_time: 1.397, memory: 5378, top1_acc: 0.4000, top5_acc: 1.0000, loss_cls: 1.1267, loss: 1.1267\n"
     ]
    },
    {
     "name": "stdout",
     "output_type": "stream",
     "text": [
      "[>>>>>>>>>>>>>>>>>>>>>>>>>>>>>>>>>>>>>>>>>>>>>>>>>>] 9/9, 0.6 task/s, elapsed: 15s, ETA:     0s"
     ]
    },
    {
     "name": "stderr",
     "output_type": "stream",
     "text": [
      "2024-06-28 21:31:36,872 - mmaction - INFO - Evaluating top_k_accuracy ...\n",
      "2024-06-28 21:31:36,873 - mmaction - INFO - \n",
      "top1_acc\t0.4444\n",
      "top5_acc\t1.0000\n",
      "2024-06-28 21:31:36,874 - mmaction - INFO - Evaluating mean_class_accuracy ...\n",
      "2024-06-28 21:31:36,875 - mmaction - INFO - \n",
      "mean_acc\t0.5667\n",
      "2024-06-28 21:31:36,876 - mmaction - INFO - Epoch(val) [15][9]\ttop1_acc: 0.4444, top5_acc: 1.0000, mean_class_accuracy: 0.5667\n"
     ]
    },
    {
     "name": "stdout",
     "output_type": "stream",
     "text": [
      "mean_class_accuracy\n",
      "[0 0 1 2 1 0 0 0 0]\n",
      "[2, 0, 2, 2, 1, 1, 0, 2, 2]\n"
     ]
    },
    {
     "name": "stderr",
     "output_type": "stream",
     "text": [
      "2024-06-28 21:31:46,025 - mmaction - INFO - Epoch [16][5/9]\tlr: 7.813e-07, eta: 0:00:42, time: 1.829, data_time: 1.495, memory: 5378, top1_acc: 0.7000, top5_acc: 1.0000, loss_cls: 1.0285, loss: 1.0285\n",
      "2024-06-28 21:31:55,507 - mmaction - INFO - Epoch [17][5/9]\tlr: 7.813e-07, eta: 0:00:32, time: 1.601, data_time: 1.298, memory: 5378, top1_acc: 0.6000, top5_acc: 1.0000, loss_cls: 1.0323, loss: 1.0323\n",
      "2024-06-28 21:32:05,478 - mmaction - INFO - Epoch [18][5/9]\tlr: 7.813e-07, eta: 0:00:23, time: 1.686, data_time: 1.379, memory: 5378, top1_acc: 0.3000, top5_acc: 1.0000, loss_cls: 1.1223, loss: 1.1223\n",
      "2024-06-28 21:32:15,324 - mmaction - INFO - Epoch [19][5/9]\tlr: 7.813e-07, eta: 0:00:13, time: 1.536, data_time: 1.234, memory: 5378, top1_acc: 0.5000, top5_acc: 1.0000, loss_cls: 1.0428, loss: 1.0428\n",
      "2024-06-28 21:32:25,792 - mmaction - INFO - Epoch [20][5/9]\tlr: 7.813e-07, eta: 0:00:04, time: 1.633, data_time: 1.313, memory: 5378, top1_acc: 0.6000, top5_acc: 1.0000, loss_cls: 1.0165, loss: 1.0165\n",
      "2024-06-28 21:32:27,557 - mmaction - INFO - Saving checkpoint at 20 epochs\n"
     ]
    },
    {
     "name": "stdout",
     "output_type": "stream",
     "text": [
      "[>>>>>>>>>>>>>>>>>>>>>>>>>>>>>>>>>>>>>>>>>>>>>>>>>>] 9/9, 0.6 task/s, elapsed: 16s, ETA:     0s"
     ]
    },
    {
     "name": "stderr",
     "output_type": "stream",
     "text": [
      "2024-06-28 21:32:45,447 - mmaction - INFO - Evaluating top_k_accuracy ...\n",
      "2024-06-28 21:32:45,448 - mmaction - INFO - \n",
      "top1_acc\t0.4444\n",
      "top5_acc\t1.0000\n",
      "2024-06-28 21:32:45,449 - mmaction - INFO - Evaluating mean_class_accuracy ...\n",
      "2024-06-28 21:32:45,450 - mmaction - INFO - \n",
      "mean_acc\t0.5667\n",
      "2024-06-28 21:32:45,451 - mmaction - INFO - Epoch(val) [20][9]\ttop1_acc: 0.4444, top5_acc: 1.0000, mean_class_accuracy: 0.5667\n"
     ]
    },
    {
     "name": "stdout",
     "output_type": "stream",
     "text": [
      "mean_class_accuracy\n",
      "[0 0 1 2 1 0 0 0 0]\n",
      "[2, 0, 2, 2, 1, 1, 0, 2, 2]\n"
     ]
    },
    {
     "name": "stderr",
     "output_type": "stream",
     "text": [
      "2024-06-28 21:32:47,016 - mmaction - INFO - load checkpoint from local path: ./tutorial_exps/epoch_20.pth\n"
     ]
    },
    {
     "name": "stdout",
     "output_type": "stream",
     "text": [
      "Selected optimization level O1:  Insert automatic casts around Pytorch functions and Tensor methods.\n",
      "\n",
      "Defaults for this optimization level are:\n",
      "enabled                : True\n",
      "opt_level              : O1\n",
      "cast_model_type        : None\n",
      "patch_torch_functions  : True\n",
      "keep_batchnorm_fp32    : None\n",
      "master_weights         : None\n",
      "loss_scale             : dynamic\n",
      "Processing user overrides (additional kwargs that are not None)...\n",
      "After processing overrides, optimization options are:\n",
      "enabled                : True\n",
      "opt_level              : O1\n",
      "cast_model_type        : None\n",
      "patch_torch_functions  : True\n",
      "keep_batchnorm_fp32    : None\n",
      "master_weights         : None\n",
      "loss_scale             : dynamic\n"
     ]
    },
    {
     "name": "stderr",
     "output_type": "stream",
     "text": [
      "2024-06-28 21:32:47,423 - mmaction - INFO - Start running, host: 15281@实验室, work_dir: H:\\code\\视频组代码\\Video_Swin_Transformer\\tutorial_exps1\n",
      "2024-06-28 21:32:47,423 - mmaction - INFO - Hooks will be executed in the following order:\n",
      "before_run:\n",
      "(VERY_HIGH   ) StepLrUpdaterHook                  \n",
      "(ABOVE_NORMAL) DistOptimizerHook                  \n",
      "(NORMAL      ) CheckpointHook                     \n",
      "(NORMAL      ) EvalHook                           \n",
      "(VERY_LOW    ) TextLoggerHook                     \n",
      " -------------------- \n",
      "before_train_epoch:\n",
      "(VERY_HIGH   ) StepLrUpdaterHook                  \n",
      "(NORMAL      ) EvalHook                           \n",
      "(LOW         ) IterTimerHook                      \n",
      "(VERY_LOW    ) TextLoggerHook                     \n",
      " -------------------- \n",
      "before_train_iter:\n",
      "(VERY_HIGH   ) StepLrUpdaterHook                  \n",
      "(NORMAL      ) EvalHook                           \n",
      "(LOW         ) IterTimerHook                      \n",
      " -------------------- \n",
      "after_train_iter:\n",
      "(ABOVE_NORMAL) DistOptimizerHook                  \n",
      "(NORMAL      ) CheckpointHook                     \n",
      "(NORMAL      ) EvalHook                           \n",
      "(LOW         ) IterTimerHook                      \n",
      "(VERY_LOW    ) TextLoggerHook                     \n",
      " -------------------- \n",
      "after_train_epoch:\n",
      "(NORMAL      ) CheckpointHook                     \n",
      "(NORMAL      ) EvalHook                           \n",
      "(VERY_LOW    ) TextLoggerHook                     \n",
      " -------------------- \n",
      "before_val_epoch:\n",
      "(LOW         ) IterTimerHook                      \n",
      "(VERY_LOW    ) TextLoggerHook                     \n",
      " -------------------- \n",
      "before_val_iter:\n",
      "(LOW         ) IterTimerHook                      \n",
      " -------------------- \n",
      "after_val_iter:\n",
      "(LOW         ) IterTimerHook                      \n",
      " -------------------- \n",
      "after_val_epoch:\n",
      "(VERY_LOW    ) TextLoggerHook                     \n",
      " -------------------- \n",
      "after_run:\n",
      "(VERY_LOW    ) TextLoggerHook                     \n",
      " -------------------- \n",
      "2024-06-28 21:32:47,423 - mmaction - INFO - workflow: [('train', 1)], max: 20 epochs\n",
      "2024-06-28 21:32:47,428 - mmaction - INFO - Checkpoints will be saved to H:\\code\\视频组代码\\Video_Swin_Transformer\\tutorial_exps1 by HardDiskBackend.\n",
      "2024-06-28 21:32:55,461 - mmaction - INFO - Epoch [1][5/16]\tlr: 7.813e-07, eta: 0:08:25, time: 1.605, data_time: 1.318, memory: 5542, top1_acc: 0.1000, top5_acc: 1.0000, loss_cls: 1.2323, loss: 1.2323\n",
      "2024-06-28 21:32:57,531 - mmaction - INFO - Epoch [1][10/16]\tlr: 7.813e-07, eta: 0:05:13, time: 0.414, data_time: 0.154, memory: 6217, top1_acc: 0.4000, top5_acc: 1.0000, loss_cls: 1.1981, loss: 1.1981\n",
      "2024-06-28 21:32:59,803 - mmaction - INFO - Epoch [1][15/16]\tlr: 7.813e-07, eta: 0:04:11, time: 0.454, data_time: 0.206, memory: 6220, top1_acc: 0.4000, top5_acc: 1.0000, loss_cls: 1.1326, loss: 1.1326\n",
      "2024-06-28 21:33:10,053 - mmaction - INFO - Epoch [2][5/16]\tlr: 7.813e-07, eta: 0:04:56, time: 1.690, data_time: 1.409, memory: 6222, top1_acc: 0.4000, top5_acc: 1.0000, loss_cls: 1.1097, loss: 1.1097\n",
      "2024-06-28 21:33:12,184 - mmaction - INFO - Epoch [2][10/16]\tlr: 7.813e-07, eta: 0:04:19, time: 0.426, data_time: 0.164, memory: 6222, top1_acc: 0.3000, top5_acc: 1.0000, loss_cls: 1.1500, loss: 1.1500\n",
      "2024-06-28 21:33:16,237 - mmaction - INFO - Epoch [2][15/16]\tlr: 7.813e-07, eta: 0:04:11, time: 0.810, data_time: 0.518, memory: 6225, top1_acc: 0.4000, top5_acc: 1.0000, loss_cls: 1.1001, loss: 1.1001\n",
      "2024-06-28 21:33:26,163 - mmaction - INFO - Epoch [3][5/16]\tlr: 7.813e-07, eta: 0:04:28, time: 1.612, data_time: 1.305, memory: 6225, top1_acc: 0.3000, top5_acc: 1.0000, loss_cls: 1.1629, loss: 1.1629\n",
      "2024-06-28 21:33:28,021 - mmaction - INFO - Epoch [3][10/16]\tlr: 7.813e-07, eta: 0:04:04, time: 0.372, data_time: 0.113, memory: 6225, top1_acc: 0.4000, top5_acc: 1.0000, loss_cls: 1.0940, loss: 1.0940\n",
      "2024-06-28 21:33:32,006 - mmaction - INFO - Epoch [3][15/16]\tlr: 7.813e-07, eta: 0:03:57, time: 0.797, data_time: 0.521, memory: 6225, top1_acc: 0.2000, top5_acc: 1.0000, loss_cls: 1.1232, loss: 1.1232\n",
      "2024-06-28 21:33:42,643 - mmaction - INFO - Epoch [4][5/16]\tlr: 7.813e-07, eta: 0:04:10, time: 1.782, data_time: 1.461, memory: 6225, top1_acc: 0.3000, top5_acc: 1.0000, loss_cls: 1.0726, loss: 1.0726\n",
      "2024-06-28 21:33:44,730 - mmaction - INFO - Epoch [4][10/16]\tlr: 7.813e-07, eta: 0:03:54, time: 0.417, data_time: 0.155, memory: 6225, top1_acc: 0.4000, top5_acc: 1.0000, loss_cls: 1.1042, loss: 1.1042\n",
      "2024-06-28 21:33:47,522 - mmaction - INFO - Epoch [4][15/16]\tlr: 7.813e-07, eta: 0:03:43, time: 0.559, data_time: 0.307, memory: 6225, top1_acc: 0.3000, top5_acc: 1.0000, loss_cls: 1.0180, loss: 1.0180\n",
      "2024-06-28 21:33:57,324 - mmaction - INFO - Epoch [5][5/16]\tlr: 7.813e-07, eta: 0:03:48, time: 1.606, data_time: 1.282, memory: 6225, top1_acc: 0.3000, top5_acc: 1.0000, loss_cls: 1.1116, loss: 1.1116\n",
      "2024-06-28 21:34:00,450 - mmaction - INFO - Epoch [5][10/16]\tlr: 7.813e-07, eta: 0:03:38, time: 0.625, data_time: 0.357, memory: 6225, top1_acc: 0.4000, top5_acc: 1.0000, loss_cls: 1.0396, loss: 1.0396\n",
      "2024-06-28 21:34:03,039 - mmaction - INFO - Epoch [5][15/16]\tlr: 7.813e-07, eta: 0:03:28, time: 0.518, data_time: 0.266, memory: 6225, top1_acc: 0.2000, top5_acc: 1.0000, loss_cls: 1.2296, loss: 1.2296\n"
     ]
    },
    {
     "name": "stdout",
     "output_type": "stream",
     "text": [
      "[>>>>>>>>>>>>>>>>>>>>>>>>>>>>>>>>>>>>>>>>>>>>>>>>>>] 9/9, 0.6 task/s, elapsed: 16s, ETA:     0s"
     ]
    },
    {
     "name": "stderr",
     "output_type": "stream",
     "text": [
      "2024-06-28 21:34:21,302 - mmaction - INFO - Evaluating top_k_accuracy ...\n",
      "2024-06-28 21:34:21,302 - mmaction - INFO - \n",
      "top1_acc\t0.2222\n",
      "top5_acc\t1.0000\n",
      "2024-06-28 21:34:21,303 - mmaction - INFO - Evaluating mean_class_accuracy ...\n",
      "2024-06-28 21:34:21,303 - mmaction - INFO - \n",
      "mean_acc\t0.3333\n"
     ]
    },
    {
     "name": "stdout",
     "output_type": "stream",
     "text": [
      "mean_class_accuracy\n",
      "[1 1 1 1 1 1 1 1 1]\n",
      "[2, 0, 2, 2, 1, 1, 0, 2, 2]\n"
     ]
    },
    {
     "name": "stderr",
     "output_type": "stream",
     "text": [
      "2024-06-28 21:34:22,924 - mmaction - INFO - Now best checkpoint is saved as best_top1_acc_epoch_5.pth.\n",
      "2024-06-28 21:34:22,925 - mmaction - INFO - Best top1_acc is 0.2222 at 5 epoch.\n",
      "2024-06-28 21:34:22,925 - mmaction - INFO - Epoch(val) [5][9]\ttop1_acc: 0.2222, top5_acc: 1.0000, mean_class_accuracy: 0.3333\n",
      "2024-06-28 21:34:31,248 - mmaction - INFO - Epoch [6][5/16]\tlr: 7.813e-07, eta: 0:03:32, time: 1.663, data_time: 1.357, memory: 6225, top1_acc: 0.3000, top5_acc: 1.0000, loss_cls: 1.1024, loss: 1.1024\n",
      "2024-06-28 21:34:34,938 - mmaction - INFO - Epoch [6][10/16]\tlr: 7.813e-07, eta: 0:03:25, time: 0.738, data_time: 0.435, memory: 6225, top1_acc: 0.4000, top5_acc: 1.0000, loss_cls: 1.1169, loss: 1.1169\n",
      "2024-06-28 21:34:37,357 - mmaction - INFO - Epoch [6][15/16]\tlr: 7.813e-07, eta: 0:03:16, time: 0.484, data_time: 0.230, memory: 6225, top1_acc: 0.1000, top5_acc: 1.0000, loss_cls: 1.1976, loss: 1.1976\n",
      "2024-06-28 21:34:47,622 - mmaction - INFO - Epoch [7][5/16]\tlr: 7.813e-07, eta: 0:03:18, time: 1.695, data_time: 1.375, memory: 6225, top1_acc: 0.3000, top5_acc: 1.0000, loss_cls: 1.0921, loss: 1.0921\n",
      "2024-06-28 21:34:49,299 - mmaction - INFO - Epoch [7][10/16]\tlr: 7.813e-07, eta: 0:03:07, time: 0.335, data_time: 0.077, memory: 6225, top1_acc: 0.2000, top5_acc: 1.0000, loss_cls: 1.1829, loss: 1.1829\n",
      "2024-06-28 21:34:51,869 - mmaction - INFO - Epoch [7][15/16]\tlr: 7.813e-07, eta: 0:02:59, time: 0.514, data_time: 0.264, memory: 6225, top1_acc: 0.2000, top5_acc: 1.0000, loss_cls: 1.2202, loss: 1.2202\n",
      "2024-06-28 21:35:02,959 - mmaction - INFO - Epoch [8][5/16]\tlr: 7.813e-07, eta: 0:03:01, time: 1.855, data_time: 1.557, memory: 6225, top1_acc: 0.3000, top5_acc: 1.0000, loss_cls: 1.1314, loss: 1.1314\n",
      "2024-06-28 21:35:04,708 - mmaction - INFO - Epoch [8][10/16]\tlr: 7.813e-07, eta: 0:02:53, time: 0.350, data_time: 0.095, memory: 6225, top1_acc: 0.2000, top5_acc: 1.0000, loss_cls: 1.2256, loss: 1.2256\n",
      "2024-06-28 21:35:07,405 - mmaction - INFO - Epoch [8][15/16]\tlr: 7.813e-07, eta: 0:02:46, time: 0.539, data_time: 0.294, memory: 6225, top1_acc: 0.4000, top5_acc: 1.0000, loss_cls: 1.0699, loss: 1.0699\n",
      "2024-06-28 21:35:18,109 - mmaction - INFO - Epoch [9][5/16]\tlr: 7.813e-07, eta: 0:02:46, time: 1.773, data_time: 1.459, memory: 6225, top1_acc: 0.4000, top5_acc: 1.0000, loss_cls: 1.1483, loss: 1.1483\n",
      "2024-06-28 21:35:20,431 - mmaction - INFO - Epoch [9][10/16]\tlr: 7.813e-07, eta: 0:02:38, time: 0.464, data_time: 0.202, memory: 6225, top1_acc: 0.2000, top5_acc: 1.0000, loss_cls: 1.0960, loss: 1.0960\n",
      "2024-06-28 21:35:22,986 - mmaction - INFO - Epoch [9][15/16]\tlr: 7.813e-07, eta: 0:02:32, time: 0.511, data_time: 0.259, memory: 6225, top1_acc: 0.4000, top5_acc: 1.0000, loss_cls: 1.0490, loss: 1.0490\n",
      "2024-06-28 21:35:34,088 - mmaction - INFO - Epoch [10][5/16]\tlr: 7.813e-07, eta: 0:02:31, time: 1.863, data_time: 1.557, memory: 6225, top1_acc: 0.4000, top5_acc: 1.0000, loss_cls: 1.0529, loss: 1.0529\n",
      "2024-06-28 21:35:36,149 - mmaction - INFO - Epoch [10][10/16]\tlr: 7.813e-07, eta: 0:02:24, time: 0.412, data_time: 0.149, memory: 6225, top1_acc: 0.3000, top5_acc: 1.0000, loss_cls: 1.1525, loss: 1.1525\n",
      "2024-06-28 21:35:39,353 - mmaction - INFO - Epoch [10][15/16]\tlr: 7.813e-07, eta: 0:02:19, time: 0.640, data_time: 0.386, memory: 6225, top1_acc: 0.2000, top5_acc: 1.0000, loss_cls: 1.1860, loss: 1.1860\n",
      "2024-06-28 21:35:41,087 - mmaction - INFO - Saving checkpoint at 10 epochs\n"
     ]
    },
    {
     "name": "stdout",
     "output_type": "stream",
     "text": [
      "[>>>>>>>>>>>>>>>>>>>>>>>>>>>>>>>>>>>>>>>>>>>>>>>>>>] 9/9, 0.6 task/s, elapsed: 16s, ETA:     0s"
     ]
    },
    {
     "name": "stderr",
     "output_type": "stream",
     "text": [
      "2024-06-28 21:35:58,989 - mmaction - INFO - Evaluating top_k_accuracy ...\n",
      "2024-06-28 21:35:58,990 - mmaction - INFO - \n",
      "top1_acc\t0.2222\n",
      "top5_acc\t1.0000\n",
      "2024-06-28 21:35:58,990 - mmaction - INFO - Evaluating mean_class_accuracy ...\n",
      "2024-06-28 21:35:58,991 - mmaction - INFO - \n",
      "mean_acc\t0.3333\n",
      "2024-06-28 21:35:58,992 - mmaction - INFO - Epoch(val) [10][9]\ttop1_acc: 0.2222, top5_acc: 1.0000, mean_class_accuracy: 0.3333\n"
     ]
    },
    {
     "name": "stdout",
     "output_type": "stream",
     "text": [
      "mean_class_accuracy\n",
      "[1 1 1 1 1 1 1 1 1]\n",
      "[2, 0, 2, 2, 1, 1, 0, 2, 2]\n"
     ]
    },
    {
     "name": "stderr",
     "output_type": "stream",
     "text": [
      "2024-06-28 21:36:07,948 - mmaction - INFO - Epoch [11][5/16]\tlr: 7.813e-07, eta: 0:02:17, time: 1.790, data_time: 1.458, memory: 6225, top1_acc: 0.2000, top5_acc: 1.0000, loss_cls: 1.1535, loss: 1.1535\n",
      "2024-06-28 21:36:11,072 - mmaction - INFO - Epoch [11][10/16]\tlr: 7.813e-07, eta: 0:02:12, time: 0.625, data_time: 0.364, memory: 6225, top1_acc: 0.4000, top5_acc: 1.0000, loss_cls: 1.0663, loss: 1.0663\n",
      "2024-06-28 21:36:13,412 - mmaction - INFO - Epoch [11][15/16]\tlr: 7.813e-07, eta: 0:02:05, time: 0.468, data_time: 0.225, memory: 6225, top1_acc: 0.2000, top5_acc: 1.0000, loss_cls: 1.0855, loss: 1.0855\n",
      "2024-06-28 21:36:26,530 - mmaction - INFO - Epoch [12][5/16]\tlr: 7.813e-07, eta: 0:02:05, time: 2.295, data_time: 1.940, memory: 6225, top1_acc: 0.3000, top5_acc: 1.0000, loss_cls: 1.0852, loss: 1.0852\n",
      "2024-06-28 21:36:30,411 - mmaction - INFO - Epoch [12][10/16]\tlr: 7.813e-07, eta: 0:02:00, time: 0.776, data_time: 0.487, memory: 6225, top1_acc: 0.3000, top5_acc: 1.0000, loss_cls: 1.1101, loss: 1.1101\n",
      "2024-06-28 21:36:31,608 - mmaction - INFO - Epoch [12][15/16]\tlr: 7.813e-07, eta: 0:01:53, time: 0.239, data_time: 0.001, memory: 6225, top1_acc: 0.2000, top5_acc: 1.0000, loss_cls: 1.1527, loss: 1.1527\n",
      "2024-06-28 21:36:43,640 - mmaction - INFO - Epoch [13][5/16]\tlr: 7.813e-07, eta: 0:01:51, time: 2.075, data_time: 1.766, memory: 6225, top1_acc: 0.3000, top5_acc: 1.0000, loss_cls: 1.1445, loss: 1.1445\n",
      "2024-06-28 21:36:46,261 - mmaction - INFO - Epoch [13][10/16]\tlr: 7.813e-07, eta: 0:01:46, time: 0.524, data_time: 0.262, memory: 6225, top1_acc: 0.2000, top5_acc: 1.0000, loss_cls: 1.1219, loss: 1.1219\n",
      "2024-06-28 21:36:49,129 - mmaction - INFO - Epoch [13][15/16]\tlr: 7.813e-07, eta: 0:01:40, time: 0.574, data_time: 0.328, memory: 6225, top1_acc: 0.5000, top5_acc: 1.0000, loss_cls: 0.9620, loss: 0.9620\n",
      "2024-06-28 21:37:00,155 - mmaction - INFO - Epoch [14][5/16]\tlr: 7.813e-07, eta: 0:01:37, time: 1.849, data_time: 1.558, memory: 6225, top1_acc: 0.3000, top5_acc: 1.0000, loss_cls: 1.1186, loss: 1.1186\n",
      "2024-06-28 21:37:02,656 - mmaction - INFO - Epoch [14][10/16]\tlr: 7.813e-07, eta: 0:01:31, time: 0.500, data_time: 0.237, memory: 6225, top1_acc: 0.2000, top5_acc: 1.0000, loss_cls: 1.1710, loss: 1.1710\n",
      "2024-06-28 21:37:05,502 - mmaction - INFO - Epoch [14][15/16]\tlr: 7.813e-07, eta: 0:01:26, time: 0.569, data_time: 0.315, memory: 6225, top1_acc: 0.4000, top5_acc: 1.0000, loss_cls: 1.0161, loss: 1.0161\n",
      "2024-06-28 21:37:16,254 - mmaction - INFO - Epoch [15][5/16]\tlr: 7.813e-07, eta: 0:01:22, time: 1.795, data_time: 1.456, memory: 6225, top1_acc: 0.3000, top5_acc: 1.0000, loss_cls: 1.0966, loss: 1.0966\n",
      "2024-06-28 21:37:19,717 - mmaction - INFO - Epoch [15][10/16]\tlr: 7.813e-07, eta: 0:01:17, time: 0.693, data_time: 0.400, memory: 6225, top1_acc: 0.6000, top5_acc: 1.0000, loss_cls: 0.9582, loss: 0.9582\n",
      "2024-06-28 21:37:22,515 - mmaction - INFO - Epoch [15][15/16]\tlr: 7.813e-07, eta: 0:01:12, time: 0.560, data_time: 0.318, memory: 6225, top1_acc: 0.2000, top5_acc: 1.0000, loss_cls: 1.1351, loss: 1.1351\n"
     ]
    },
    {
     "name": "stdout",
     "output_type": "stream",
     "text": [
      "[>>>>>>>>>>>>>>>>>>>>>>>>>>>>>>>>>>>>>>>>>>>>>>>>>>] 9/9, 0.6 task/s, elapsed: 16s, ETA:     0s"
     ]
    },
    {
     "name": "stderr",
     "output_type": "stream",
     "text": [
      "2024-06-28 21:37:40,740 - mmaction - INFO - Evaluating top_k_accuracy ...\n",
      "2024-06-28 21:37:40,741 - mmaction - INFO - \n",
      "top1_acc\t0.2222\n",
      "top5_acc\t1.0000\n",
      "2024-06-28 21:37:40,741 - mmaction - INFO - Evaluating mean_class_accuracy ...\n",
      "2024-06-28 21:37:40,742 - mmaction - INFO - \n",
      "mean_acc\t0.3333\n",
      "2024-06-28 21:37:40,742 - mmaction - INFO - Epoch(val) [15][9]\ttop1_acc: 0.2222, top5_acc: 1.0000, mean_class_accuracy: 0.3333\n"
     ]
    },
    {
     "name": "stdout",
     "output_type": "stream",
     "text": [
      "mean_class_accuracy\n",
      "[1 1 1 1 1 1 1 1 1]\n",
      "[2, 0, 2, 2, 1, 1, 0, 2, 2]\n"
     ]
    },
    {
     "name": "stderr",
     "output_type": "stream",
     "text": [
      "2024-06-28 21:37:49,525 - mmaction - INFO - Epoch [16][5/16]\tlr: 7.813e-07, eta: 0:01:08, time: 1.755, data_time: 1.437, memory: 6225, top1_acc: 0.1000, top5_acc: 1.0000, loss_cls: 1.2309, loss: 1.2309\n",
      "2024-06-28 21:37:51,826 - mmaction - INFO - Epoch [16][10/16]\tlr: 7.813e-07, eta: 0:01:03, time: 0.460, data_time: 0.200, memory: 6225, top1_acc: 0.1000, top5_acc: 1.0000, loss_cls: 1.1249, loss: 1.1249\n",
      "2024-06-28 21:37:54,600 - mmaction - INFO - Epoch [16][15/16]\tlr: 7.813e-07, eta: 0:00:58, time: 0.555, data_time: 0.304, memory: 6225, top1_acc: 0.5000, top5_acc: 1.0000, loss_cls: 0.9907, loss: 0.9907\n",
      "2024-06-28 21:38:08,066 - mmaction - INFO - Epoch [17][5/16]\tlr: 7.813e-07, eta: 0:00:54, time: 2.335, data_time: 2.014, memory: 6225, top1_acc: 0.3000, top5_acc: 1.0000, loss_cls: 1.1591, loss: 1.1591\n",
      "2024-06-28 21:38:09,681 - mmaction - INFO - Epoch [17][10/16]\tlr: 7.813e-07, eta: 0:00:49, time: 0.323, data_time: 0.057, memory: 6225, top1_acc: 0.4000, top5_acc: 1.0000, loss_cls: 1.0560, loss: 1.0560\n",
      "2024-06-28 21:38:10,909 - mmaction - INFO - Epoch [17][15/16]\tlr: 7.813e-07, eta: 0:00:43, time: 0.246, data_time: 0.001, memory: 6225, top1_acc: 0.1000, top5_acc: 1.0000, loss_cls: 1.2828, loss: 1.2828\n",
      "2024-06-28 21:38:21,374 - mmaction - INFO - Epoch [18][5/16]\tlr: 7.813e-07, eta: 0:00:39, time: 1.751, data_time: 1.442, memory: 6225, top1_acc: 0.3000, top5_acc: 1.0000, loss_cls: 1.0992, loss: 1.0992\n",
      "2024-06-28 21:38:23,771 - mmaction - INFO - Epoch [18][10/16]\tlr: 7.813e-07, eta: 0:00:34, time: 0.479, data_time: 0.215, memory: 6225, top1_acc: 0.3000, top5_acc: 1.0000, loss_cls: 1.0700, loss: 1.0700\n",
      "2024-06-28 21:38:26,187 - mmaction - INFO - Epoch [18][15/16]\tlr: 7.813e-07, eta: 0:00:29, time: 0.483, data_time: 0.232, memory: 6225, top1_acc: 0.3000, top5_acc: 1.0000, loss_cls: 1.1793, loss: 1.1793\n",
      "2024-06-28 21:38:36,497 - mmaction - INFO - Epoch [19][5/16]\tlr: 7.813e-07, eta: 0:00:24, time: 1.708, data_time: 1.380, memory: 6225, top1_acc: 0.2000, top5_acc: 1.0000, loss_cls: 1.1418, loss: 1.1418\n",
      "2024-06-28 21:38:38,892 - mmaction - INFO - Epoch [19][10/16]\tlr: 7.813e-07, eta: 0:00:19, time: 0.479, data_time: 0.217, memory: 6225, top1_acc: 0.3000, top5_acc: 1.0000, loss_cls: 1.0228, loss: 1.0228\n",
      "2024-06-28 21:38:41,837 - mmaction - INFO - Epoch [19][15/16]\tlr: 7.813e-07, eta: 0:00:15, time: 0.589, data_time: 0.340, memory: 6225, top1_acc: 0.3000, top5_acc: 1.0000, loss_cls: 1.1518, loss: 1.1518\n",
      "2024-06-28 21:38:51,670 - mmaction - INFO - Epoch [20][5/16]\tlr: 7.813e-07, eta: 0:00:09, time: 1.610, data_time: 1.322, memory: 6225, top1_acc: 0.3000, top5_acc: 1.0000, loss_cls: 1.1486, loss: 1.1486\n",
      "2024-06-28 21:38:54,188 - mmaction - INFO - Epoch [20][10/16]\tlr: 7.813e-07, eta: 0:00:05, time: 0.504, data_time: 0.249, memory: 6225, top1_acc: 0.3000, top5_acc: 1.0000, loss_cls: 1.0817, loss: 1.0817\n",
      "2024-06-28 21:38:56,415 - mmaction - INFO - Epoch [20][15/16]\tlr: 7.813e-07, eta: 0:00:00, time: 0.445, data_time: 0.201, memory: 6225, top1_acc: 0.4000, top5_acc: 1.0000, loss_cls: 1.0870, loss: 1.0870\n",
      "2024-06-28 21:38:58,236 - mmaction - INFO - Saving checkpoint at 20 epochs\n"
     ]
    },
    {
     "name": "stdout",
     "output_type": "stream",
     "text": [
      "[>>>>>>>>>>>>>>>>>>>>>>>>>>>>>>>>>>>>>>>>>>>>>>>>>>] 9/9, 0.6 task/s, elapsed: 16s, ETA:     0s"
     ]
    },
    {
     "name": "stderr",
     "output_type": "stream",
     "text": [
      "2024-06-28 21:39:16,787 - mmaction - INFO - Evaluating top_k_accuracy ...\n",
      "2024-06-28 21:39:16,788 - mmaction - INFO - \n",
      "top1_acc\t0.2222\n",
      "top5_acc\t1.0000\n",
      "2024-06-28 21:39:16,789 - mmaction - INFO - Evaluating mean_class_accuracy ...\n",
      "2024-06-28 21:39:16,790 - mmaction - INFO - \n",
      "mean_acc\t0.3333\n",
      "2024-06-28 21:39:16,790 - mmaction - INFO - Epoch(val) [20][9]\ttop1_acc: 0.2222, top5_acc: 1.0000, mean_class_accuracy: 0.3333\n"
     ]
    },
    {
     "name": "stdout",
     "output_type": "stream",
     "text": [
      "mean_class_accuracy\n",
      "[1 1 1 1 1 1 1 1 1]\n",
      "[2, 0, 2, 2, 1, 1, 0, 2, 2]\n"
     ]
    },
    {
     "name": "stderr",
     "output_type": "stream",
     "text": [
      "2024-06-28 21:39:18,365 - mmaction - INFO - load checkpoint from local path: ./tutorial_exps/epoch_20.pth\n"
     ]
    },
    {
     "name": "stdout",
     "output_type": "stream",
     "text": [
      "Selected optimization level O1:  Insert automatic casts around Pytorch functions and Tensor methods.\n",
      "\n",
      "Defaults for this optimization level are:\n",
      "enabled                : True\n",
      "opt_level              : O1\n",
      "cast_model_type        : None\n",
      "patch_torch_functions  : True\n",
      "keep_batchnorm_fp32    : None\n",
      "master_weights         : None\n",
      "loss_scale             : dynamic\n",
      "Processing user overrides (additional kwargs that are not None)...\n",
      "After processing overrides, optimization options are:\n",
      "enabled                : True\n",
      "opt_level              : O1\n",
      "cast_model_type        : None\n",
      "patch_torch_functions  : True\n",
      "keep_batchnorm_fp32    : None\n",
      "master_weights         : None\n",
      "loss_scale             : dynamic\n"
     ]
    },
    {
     "name": "stderr",
     "output_type": "stream",
     "text": [
      "2024-06-28 21:39:18,858 - mmaction - INFO - Start running, host: 15281@实验室, work_dir: H:\\code\\视频组代码\\Video_Swin_Transformer\\tutorial_exps1\n",
      "2024-06-28 21:39:18,859 - mmaction - INFO - Hooks will be executed in the following order:\n",
      "before_run:\n",
      "(VERY_HIGH   ) StepLrUpdaterHook                  \n",
      "(ABOVE_NORMAL) DistOptimizerHook                  \n",
      "(NORMAL      ) CheckpointHook                     \n",
      "(NORMAL      ) EvalHook                           \n",
      "(VERY_LOW    ) TextLoggerHook                     \n",
      " -------------------- \n",
      "before_train_epoch:\n",
      "(VERY_HIGH   ) StepLrUpdaterHook                  \n",
      "(NORMAL      ) EvalHook                           \n",
      "(LOW         ) IterTimerHook                      \n",
      "(VERY_LOW    ) TextLoggerHook                     \n",
      " -------------------- \n",
      "before_train_iter:\n",
      "(VERY_HIGH   ) StepLrUpdaterHook                  \n",
      "(NORMAL      ) EvalHook                           \n",
      "(LOW         ) IterTimerHook                      \n",
      " -------------------- \n",
      "after_train_iter:\n",
      "(ABOVE_NORMAL) DistOptimizerHook                  \n",
      "(NORMAL      ) CheckpointHook                     \n",
      "(NORMAL      ) EvalHook                           \n",
      "(LOW         ) IterTimerHook                      \n",
      "(VERY_LOW    ) TextLoggerHook                     \n",
      " -------------------- \n",
      "after_train_epoch:\n",
      "(NORMAL      ) CheckpointHook                     \n",
      "(NORMAL      ) EvalHook                           \n",
      "(VERY_LOW    ) TextLoggerHook                     \n",
      " -------------------- \n",
      "before_val_epoch:\n",
      "(LOW         ) IterTimerHook                      \n",
      "(VERY_LOW    ) TextLoggerHook                     \n",
      " -------------------- \n",
      "before_val_iter:\n",
      "(LOW         ) IterTimerHook                      \n",
      " -------------------- \n",
      "after_val_iter:\n",
      "(LOW         ) IterTimerHook                      \n",
      " -------------------- \n",
      "after_val_epoch:\n",
      "(VERY_LOW    ) TextLoggerHook                     \n",
      " -------------------- \n",
      "after_run:\n",
      "(VERY_LOW    ) TextLoggerHook                     \n",
      " -------------------- \n",
      "2024-06-28 21:39:18,860 - mmaction - INFO - workflow: [('train', 1)], max: 20 epochs\n",
      "2024-06-28 21:39:18,864 - mmaction - INFO - Checkpoints will be saved to H:\\code\\视频组代码\\Video_Swin_Transformer\\tutorial_exps1 by HardDiskBackend.\n",
      "2024-06-28 21:39:28,160 - mmaction - INFO - Epoch [1][5/16]\tlr: 7.813e-07, eta: 0:09:45, time: 1.858, data_time: 1.558, memory: 6225, top1_acc: 0.3000, top5_acc: 1.0000, loss_cls: 1.0598, loss: 1.0598\n",
      "2024-06-28 21:39:30,283 - mmaction - INFO - Epoch [1][10/16]\tlr: 7.813e-07, eta: 0:05:53, time: 0.425, data_time: 0.154, memory: 6394, top1_acc: 0.4000, top5_acc: 1.0000, loss_cls: 1.0982, loss: 1.0982\n",
      "2024-06-28 21:39:32,839 - mmaction - INFO - Epoch [1][15/16]\tlr: 7.813e-07, eta: 0:04:44, time: 0.511, data_time: 0.264, memory: 6399, top1_acc: 0.1000, top5_acc: 1.0000, loss_cls: 1.3245, loss: 1.3245\n",
      "2024-06-28 21:39:42,697 - mmaction - INFO - Epoch [2][5/16]\tlr: 7.813e-07, eta: 0:05:30, time: 1.843, data_time: 1.505, memory: 6399, top1_acc: 0.2000, top5_acc: 1.0000, loss_cls: 1.1721, loss: 1.1721\n",
      "2024-06-28 21:39:45,451 - mmaction - INFO - Epoch [2][10/16]\tlr: 7.813e-07, eta: 0:04:53, time: 0.551, data_time: 0.279, memory: 6399, top1_acc: 0.3000, top5_acc: 1.0000, loss_cls: 1.0766, loss: 1.0766\n",
      "2024-06-28 21:39:47,017 - mmaction - INFO - Epoch [2][15/16]\tlr: 7.813e-07, eta: 0:04:16, time: 0.313, data_time: 0.065, memory: 6399, top1_acc: 0.3000, top5_acc: 1.0000, loss_cls: 1.2169, loss: 1.2169\n",
      "2024-06-28 21:39:57,231 - mmaction - INFO - Epoch [3][5/16]\tlr: 7.813e-07, eta: 0:04:38, time: 1.785, data_time: 1.450, memory: 6401, top1_acc: 0.1000, top5_acc: 1.0000, loss_cls: 1.2990, loss: 1.2990\n",
      "2024-06-28 21:39:59,814 - mmaction - INFO - Epoch [3][10/16]\tlr: 7.813e-07, eta: 0:04:18, time: 0.517, data_time: 0.254, memory: 6401, top1_acc: 0.5000, top5_acc: 1.0000, loss_cls: 1.0559, loss: 1.0559\n",
      "2024-06-28 21:40:03,526 - mmaction - INFO - Epoch [3][15/16]\tlr: 7.813e-07, eta: 0:04:08, time: 0.742, data_time: 0.458, memory: 6401, top1_acc: 0.2000, top5_acc: 1.0000, loss_cls: 1.1555, loss: 1.1555\n",
      "2024-06-28 21:40:13,748 - mmaction - INFO - Epoch [4][5/16]\tlr: 7.813e-07, eta: 0:04:23, time: 1.900, data_time: 1.613, memory: 6401, top1_acc: 0.1000, top5_acc: 1.0000, loss_cls: 1.1889, loss: 1.1889\n",
      "2024-06-28 21:40:15,276 - mmaction - INFO - Epoch [4][10/16]\tlr: 7.813e-07, eta: 0:04:02, time: 0.305, data_time: 0.038, memory: 6401, top1_acc: 0.3000, top5_acc: 1.0000, loss_cls: 1.1233, loss: 1.1233\n",
      "2024-06-28 21:40:17,312 - mmaction - INFO - Epoch [4][15/16]\tlr: 7.813e-07, eta: 0:03:47, time: 0.407, data_time: 0.160, memory: 6401, top1_acc: 0.3000, top5_acc: 1.0000, loss_cls: 1.1550, loss: 1.1550\n",
      "2024-06-28 21:40:27,118 - mmaction - INFO - Epoch [5][5/16]\tlr: 7.813e-07, eta: 0:03:56, time: 1.833, data_time: 1.535, memory: 6402, top1_acc: 0.2000, top5_acc: 1.0000, loss_cls: 1.1294, loss: 1.1294\n",
      "2024-06-28 21:40:30,069 - mmaction - INFO - Epoch [5][10/16]\tlr: 7.813e-07, eta: 0:03:45, time: 0.590, data_time: 0.328, memory: 6402, top1_acc: 0.3000, top5_acc: 1.0000, loss_cls: 1.1477, loss: 1.1477\n",
      "2024-06-28 21:40:33,118 - mmaction - INFO - Epoch [5][15/16]\tlr: 7.813e-07, eta: 0:03:36, time: 0.610, data_time: 0.335, memory: 6402, top1_acc: 0.3000, top5_acc: 1.0000, loss_cls: 1.2578, loss: 1.2578\n"
     ]
    },
    {
     "name": "stdout",
     "output_type": "stream",
     "text": [
      "[>>>>>>>>>>>>>>>>>>>>>>>>>>>>>>>>>>>>>>>>>>>>>>>>>>] 9/9, 0.6 task/s, elapsed: 16s, ETA:     0s"
     ]
    },
    {
     "name": "stderr",
     "output_type": "stream",
     "text": [
      "2024-06-28 21:40:49,907 - mmaction - INFO - Evaluating top_k_accuracy ...\n",
      "2024-06-28 21:40:49,907 - mmaction - INFO - \n",
      "top1_acc\t0.2222\n",
      "top5_acc\t1.0000\n",
      "2024-06-28 21:40:49,908 - mmaction - INFO - Evaluating mean_class_accuracy ...\n",
      "2024-06-28 21:40:49,908 - mmaction - INFO - \n",
      "mean_acc\t0.3333\n"
     ]
    },
    {
     "name": "stdout",
     "output_type": "stream",
     "text": [
      "mean_class_accuracy\n",
      "[1 1 1 1 1 1 1 1 1]\n",
      "[2, 0, 2, 2, 1, 1, 0, 2, 2]\n"
     ]
    },
    {
     "name": "stderr",
     "output_type": "stream",
     "text": [
      "2024-06-28 21:40:50,969 - mmaction - INFO - Now best checkpoint is saved as best_top1_acc_epoch_5.pth.\n",
      "2024-06-28 21:40:50,969 - mmaction - INFO - Best top1_acc is 0.2222 at 5 epoch.\n",
      "2024-06-28 21:40:50,970 - mmaction - INFO - Epoch(val) [5][9]\ttop1_acc: 0.2222, top5_acc: 1.0000, mean_class_accuracy: 0.3333\n",
      "2024-06-28 21:41:00,164 - mmaction - INFO - Epoch [6][5/16]\tlr: 7.813e-07, eta: 0:03:41, time: 1.838, data_time: 1.548, memory: 6402, top1_acc: 0.3000, top5_acc: 1.0000, loss_cls: 1.0829, loss: 1.0829\n",
      "2024-06-28 21:41:02,435 - mmaction - INFO - Epoch [6][10/16]\tlr: 7.813e-07, eta: 0:03:30, time: 0.454, data_time: 0.186, memory: 6402, top1_acc: 0.1000, top5_acc: 1.0000, loss_cls: 1.2264, loss: 1.2264\n",
      "2024-06-28 21:41:04,115 - mmaction - INFO - Epoch [6][15/16]\tlr: 7.813e-07, eta: 0:03:19, time: 0.336, data_time: 0.085, memory: 6402, top1_acc: 0.1000, top5_acc: 1.0000, loss_cls: 1.2012, loss: 1.2012\n",
      "2024-06-28 21:41:13,849 - mmaction - INFO - Epoch [7][5/16]\tlr: 7.813e-07, eta: 0:03:22, time: 1.821, data_time: 1.511, memory: 6402, top1_acc: 0.3000, top5_acc: 1.0000, loss_cls: 1.2123, loss: 1.2123\n",
      "2024-06-28 21:41:17,322 - mmaction - INFO - Epoch [7][10/16]\tlr: 7.813e-07, eta: 0:03:15, time: 0.695, data_time: 0.391, memory: 6402, top1_acc: 0.1000, top5_acc: 1.0000, loss_cls: 1.1813, loss: 1.1813\n",
      "2024-06-28 21:41:18,576 - mmaction - INFO - Epoch [7][15/16]\tlr: 7.813e-07, eta: 0:03:04, time: 0.251, data_time: 0.001, memory: 6402, top1_acc: 0.3000, top5_acc: 1.0000, loss_cls: 1.1095, loss: 1.1095\n",
      "2024-06-28 21:41:29,783 - mmaction - INFO - Epoch [8][5/16]\tlr: 7.813e-07, eta: 0:03:08, time: 2.101, data_time: 1.789, memory: 6402, top1_acc: 0.2000, top5_acc: 1.0000, loss_cls: 1.1914, loss: 1.1914\n",
      "2024-06-28 21:41:32,682 - mmaction - INFO - Epoch [8][10/16]\tlr: 7.813e-07, eta: 0:03:00, time: 0.580, data_time: 0.314, memory: 6402, top1_acc: 0.3000, top5_acc: 1.0000, loss_cls: 1.0679, loss: 1.0679\n",
      "2024-06-28 21:41:34,535 - mmaction - INFO - Epoch [8][15/16]\tlr: 7.813e-07, eta: 0:02:51, time: 0.370, data_time: 0.121, memory: 6402, top1_acc: 0.3000, top5_acc: 1.0000, loss_cls: 1.1044, loss: 1.1044\n",
      "2024-06-28 21:41:44,912 - mmaction - INFO - Epoch [9][5/16]\tlr: 7.813e-07, eta: 0:02:52, time: 1.933, data_time: 1.589, memory: 6402, top1_acc: 0.2000, top5_acc: 1.0000, loss_cls: 1.1476, loss: 1.1476\n",
      "2024-06-28 21:41:47,167 - mmaction - INFO - Epoch [9][10/16]\tlr: 7.813e-07, eta: 0:02:44, time: 0.451, data_time: 0.192, memory: 6402, top1_acc: 0.3000, top5_acc: 1.0000, loss_cls: 1.1091, loss: 1.1091\n",
      "2024-06-28 21:41:49,449 - mmaction - INFO - Epoch [9][15/16]\tlr: 7.813e-07, eta: 0:02:37, time: 0.457, data_time: 0.201, memory: 6402, top1_acc: 0.1000, top5_acc: 1.0000, loss_cls: 1.2075, loss: 1.2075\n",
      "2024-06-28 21:41:58,213 - mmaction - INFO - Epoch [10][5/16]\tlr: 7.813e-07, eta: 0:02:35, time: 1.555, data_time: 1.248, memory: 6402, top1_acc: 0.3000, top5_acc: 1.0000, loss_cls: 1.0944, loss: 1.0944\n",
      "2024-06-28 21:42:01,564 - mmaction - INFO - Epoch [10][10/16]\tlr: 7.813e-07, eta: 0:02:29, time: 0.670, data_time: 0.406, memory: 6402, top1_acc: 0.2000, top5_acc: 1.0000, loss_cls: 1.2200, loss: 1.2200\n",
      "2024-06-28 21:42:04,406 - mmaction - INFO - Epoch [10][15/16]\tlr: 7.813e-07, eta: 0:02:23, time: 0.569, data_time: 0.326, memory: 6402, top1_acc: 0.2000, top5_acc: 1.0000, loss_cls: 1.2003, loss: 1.2003\n",
      "2024-06-28 21:42:05,047 - mmaction - INFO - Saving checkpoint at 10 epochs\n"
     ]
    },
    {
     "name": "stdout",
     "output_type": "stream",
     "text": [
      "[>>>>>>>>>>>>>>>>>>>>>>>>>>>>>>>>>>>>>>>>>>>>>>>>>>] 9/9, 0.5 task/s, elapsed: 17s, ETA:     0s"
     ]
    },
    {
     "name": "stderr",
     "output_type": "stream",
     "text": [
      "2024-06-28 21:42:23,616 - mmaction - INFO - Evaluating top_k_accuracy ...\n",
      "2024-06-28 21:42:23,617 - mmaction - INFO - \n",
      "top1_acc\t0.2222\n",
      "top5_acc\t1.0000\n",
      "2024-06-28 21:42:23,618 - mmaction - INFO - Evaluating mean_class_accuracy ...\n",
      "2024-06-28 21:42:23,618 - mmaction - INFO - \n",
      "mean_acc\t0.3333\n",
      "2024-06-28 21:42:23,619 - mmaction - INFO - Epoch(val) [10][9]\ttop1_acc: 0.2222, top5_acc: 1.0000, mean_class_accuracy: 0.3333\n"
     ]
    },
    {
     "name": "stdout",
     "output_type": "stream",
     "text": [
      "mean_class_accuracy\n",
      "[1 1 1 1 1 1 1 1 1]\n",
      "[2, 0, 2, 2, 1, 1, 0, 2, 2]\n"
     ]
    },
    {
     "name": "stderr",
     "output_type": "stream",
     "text": [
      "2024-06-28 21:42:31,881 - mmaction - INFO - Epoch [11][5/16]\tlr: 7.813e-07, eta: 0:02:20, time: 1.651, data_time: 1.324, memory: 6402, top1_acc: 0.1000, top5_acc: 1.0000, loss_cls: 1.1508, loss: 1.1508\n",
      "2024-06-28 21:42:34,517 - mmaction - INFO - Epoch [11][10/16]\tlr: 7.813e-07, eta: 0:02:14, time: 0.527, data_time: 0.234, memory: 6402, top1_acc: 0.4000, top5_acc: 1.0000, loss_cls: 1.0696, loss: 1.0696\n",
      "2024-06-28 21:42:37,382 - mmaction - INFO - Epoch [11][15/16]\tlr: 7.813e-07, eta: 0:02:08, time: 0.573, data_time: 0.315, memory: 6402, top1_acc: 0.2000, top5_acc: 1.0000, loss_cls: 1.1590, loss: 1.1590\n",
      "2024-06-28 21:42:46,890 - mmaction - INFO - Epoch [12][5/16]\tlr: 7.813e-07, eta: 0:02:05, time: 1.753, data_time: 1.447, memory: 6402, top1_acc: 0.2000, top5_acc: 1.0000, loss_cls: 1.1171, loss: 1.1171\n",
      "2024-06-28 21:42:50,221 - mmaction - INFO - Epoch [12][10/16]\tlr: 7.813e-07, eta: 0:02:00, time: 0.666, data_time: 0.408, memory: 6402, top1_acc: 0.4000, top5_acc: 1.0000, loss_cls: 1.0520, loss: 1.0520\n",
      "2024-06-28 21:42:53,825 - mmaction - INFO - Epoch [12][15/16]\tlr: 7.813e-07, eta: 0:01:55, time: 0.721, data_time: 0.441, memory: 6402, top1_acc: 0.2000, top5_acc: 1.0000, loss_cls: 1.1282, loss: 1.1282\n",
      "2024-06-28 21:43:03,167 - mmaction - INFO - Epoch [13][5/16]\tlr: 7.813e-07, eta: 0:01:52, time: 1.738, data_time: 1.435, memory: 6402, top1_acc: 0.2000, top5_acc: 1.0000, loss_cls: 1.1556, loss: 1.1556\n",
      "2024-06-28 21:43:05,621 - mmaction - INFO - Epoch [13][10/16]\tlr: 7.813e-07, eta: 0:01:46, time: 0.491, data_time: 0.224, memory: 6402, top1_acc: 0.3000, top5_acc: 1.0000, loss_cls: 1.0809, loss: 1.0809\n",
      "2024-06-28 21:43:10,128 - mmaction - INFO - Epoch [13][15/16]\tlr: 7.813e-07, eta: 0:01:41, time: 0.901, data_time: 0.640, memory: 6402, top1_acc: 0.4000, top5_acc: 1.0000, loss_cls: 1.1756, loss: 1.1756\n",
      "2024-06-28 21:43:20,551 - mmaction - INFO - Epoch [14][5/16]\tlr: 7.813e-07, eta: 0:01:38, time: 1.943, data_time: 1.602, memory: 6402, top1_acc: 0.3000, top5_acc: 1.0000, loss_cls: 1.1219, loss: 1.1219\n",
      "2024-06-28 21:43:23,100 - mmaction - INFO - Epoch [14][10/16]\tlr: 7.813e-07, eta: 0:01:32, time: 0.510, data_time: 0.239, memory: 6402, top1_acc: 0.3000, top5_acc: 1.0000, loss_cls: 1.1361, loss: 1.1361\n",
      "2024-06-28 21:43:25,373 - mmaction - INFO - Epoch [14][15/16]\tlr: 7.813e-07, eta: 0:01:27, time: 0.455, data_time: 0.199, memory: 6402, top1_acc: 0.2000, top5_acc: 1.0000, loss_cls: 1.1254, loss: 1.1254\n",
      "2024-06-28 21:43:34,963 - mmaction - INFO - Epoch [15][5/16]\tlr: 7.813e-07, eta: 0:01:23, time: 1.775, data_time: 1.453, memory: 6402, top1_acc: 0.2000, top5_acc: 1.0000, loss_cls: 1.1914, loss: 1.1914\n",
      "2024-06-28 21:43:37,126 - mmaction - INFO - Epoch [15][10/16]\tlr: 7.813e-07, eta: 0:01:17, time: 0.433, data_time: 0.177, memory: 6402, top1_acc: 0.2000, top5_acc: 1.0000, loss_cls: 1.0647, loss: 1.0647\n",
      "2024-06-28 21:43:40,111 - mmaction - INFO - Epoch [15][15/16]\tlr: 7.813e-07, eta: 0:01:12, time: 0.597, data_time: 0.349, memory: 6402, top1_acc: 0.3000, top5_acc: 1.0000, loss_cls: 1.1041, loss: 1.1041\n"
     ]
    },
    {
     "name": "stdout",
     "output_type": "stream",
     "text": [
      "[>>>>>>>>>>>>>>>>>>>>>>>>>>>>>>>>>>>>>>>>>>>>>>>>>>] 9/9, 0.5 task/s, elapsed: 17s, ETA:     0s"
     ]
    },
    {
     "name": "stderr",
     "output_type": "stream",
     "text": [
      "2024-06-28 21:43:58,370 - mmaction - INFO - Evaluating top_k_accuracy ...\n",
      "2024-06-28 21:43:58,370 - mmaction - INFO - \n",
      "top1_acc\t0.2222\n",
      "top5_acc\t1.0000\n",
      "2024-06-28 21:43:58,371 - mmaction - INFO - Evaluating mean_class_accuracy ...\n",
      "2024-06-28 21:43:58,372 - mmaction - INFO - \n",
      "mean_acc\t0.3333\n",
      "2024-06-28 21:43:58,372 - mmaction - INFO - Epoch(val) [15][9]\ttop1_acc: 0.2222, top5_acc: 1.0000, mean_class_accuracy: 0.3333\n"
     ]
    },
    {
     "name": "stdout",
     "output_type": "stream",
     "text": [
      "mean_class_accuracy\n",
      "[1 1 1 1 1 1 1 1 1]\n",
      "[2, 0, 2, 2, 1, 1, 0, 2, 2]\n"
     ]
    },
    {
     "name": "stderr",
     "output_type": "stream",
     "text": [
      "2024-06-28 21:44:07,942 - mmaction - INFO - Epoch [16][5/16]\tlr: 7.813e-07, eta: 0:01:08, time: 1.912, data_time: 1.578, memory: 6402, top1_acc: 0.3000, top5_acc: 1.0000, loss_cls: 1.0979, loss: 1.0979\n",
      "2024-06-28 21:44:10,683 - mmaction - INFO - Epoch [16][10/16]\tlr: 7.813e-07, eta: 0:01:03, time: 0.548, data_time: 0.278, memory: 6402, top1_acc: 0.2000, top5_acc: 1.0000, loss_cls: 1.1645, loss: 1.1645\n",
      "2024-06-28 21:44:13,192 - mmaction - INFO - Epoch [16][15/16]\tlr: 7.813e-07, eta: 0:00:58, time: 0.502, data_time: 0.256, memory: 6402, top1_acc: 0.4000, top5_acc: 1.0000, loss_cls: 1.0466, loss: 1.0466\n",
      "2024-06-28 21:44:22,392 - mmaction - INFO - Epoch [17][5/16]\tlr: 7.813e-07, eta: 0:00:53, time: 1.687, data_time: 1.380, memory: 6402, top1_acc: 0.4000, top5_acc: 1.0000, loss_cls: 1.0709, loss: 1.0709\n",
      "2024-06-28 21:44:24,519 - mmaction - INFO - Epoch [17][10/16]\tlr: 7.813e-07, eta: 0:00:48, time: 0.425, data_time: 0.162, memory: 6402, top1_acc: 0.2000, top5_acc: 1.0000, loss_cls: 1.0924, loss: 1.0924\n",
      "2024-06-28 21:44:27,257 - mmaction - INFO - Epoch [17][15/16]\tlr: 7.813e-07, eta: 0:00:43, time: 0.548, data_time: 0.297, memory: 6402, top1_acc: 0.4000, top5_acc: 1.0000, loss_cls: 1.1490, loss: 1.1490\n",
      "2024-06-28 21:44:36,540 - mmaction - INFO - Epoch [18][5/16]\tlr: 7.813e-07, eta: 0:00:39, time: 1.708, data_time: 1.369, memory: 6402, top1_acc: 0.3000, top5_acc: 1.0000, loss_cls: 1.0994, loss: 1.0994\n",
      "2024-06-28 21:44:39,390 - mmaction - INFO - Epoch [18][10/16]\tlr: 7.813e-07, eta: 0:00:34, time: 0.570, data_time: 0.316, memory: 6402, top1_acc: 0.4000, top5_acc: 1.0000, loss_cls: 1.0906, loss: 1.0906\n",
      "2024-06-28 21:44:42,277 - mmaction - INFO - Epoch [18][15/16]\tlr: 7.813e-07, eta: 0:00:29, time: 0.577, data_time: 0.324, memory: 6402, top1_acc: 0.2000, top5_acc: 1.0000, loss_cls: 1.1782, loss: 1.1782\n",
      "2024-06-28 21:44:52,783 - mmaction - INFO - Epoch [19][5/16]\tlr: 7.813e-07, eta: 0:00:24, time: 1.945, data_time: 1.652, memory: 6402, top1_acc: 0.2000, top5_acc: 1.0000, loss_cls: 1.2059, loss: 1.2059\n",
      "2024-06-28 21:44:55,119 - mmaction - INFO - Epoch [19][10/16]\tlr: 7.813e-07, eta: 0:00:19, time: 0.467, data_time: 0.198, memory: 6402, top1_acc: 0.3000, top5_acc: 1.0000, loss_cls: 1.1291, loss: 1.1291\n",
      "2024-06-28 21:44:56,743 - mmaction - INFO - Epoch [19][15/16]\tlr: 7.813e-07, eta: 0:00:15, time: 0.325, data_time: 0.065, memory: 6402, top1_acc: 0.4000, top5_acc: 1.0000, loss_cls: 1.0827, loss: 1.0827\n",
      "2024-06-28 21:45:06,322 - mmaction - INFO - Epoch [20][5/16]\tlr: 7.813e-07, eta: 0:00:09, time: 1.768, data_time: 1.456, memory: 6402, top1_acc: 0.3000, top5_acc: 1.0000, loss_cls: 1.0423, loss: 1.0423\n",
      "2024-06-28 21:45:08,845 - mmaction - INFO - Epoch [20][10/16]\tlr: 7.813e-07, eta: 0:00:05, time: 0.504, data_time: 0.239, memory: 6402, top1_acc: 0.3000, top5_acc: 1.0000, loss_cls: 1.1232, loss: 1.1232\n",
      "2024-06-28 21:45:12,379 - mmaction - INFO - Epoch [20][15/16]\tlr: 7.813e-07, eta: 0:00:00, time: 0.707, data_time: 0.420, memory: 6402, top1_acc: 0.5000, top5_acc: 1.0000, loss_cls: 1.0987, loss: 1.0987\n",
      "2024-06-28 21:45:13,080 - mmaction - INFO - Saving checkpoint at 20 epochs\n"
     ]
    },
    {
     "name": "stdout",
     "output_type": "stream",
     "text": [
      "[>>>>>>>>>>>>>>>>>>>>>>>>>>>>>>>>>>>>>>>>>>>>>>>>>>] 9/9, 0.5 task/s, elapsed: 16s, ETA:     0s"
     ]
    },
    {
     "name": "stderr",
     "output_type": "stream",
     "text": [
      "2024-06-28 21:45:31,547 - mmaction - INFO - Evaluating top_k_accuracy ...\n",
      "2024-06-28 21:45:31,548 - mmaction - INFO - \n",
      "top1_acc\t0.2222\n",
      "top5_acc\t1.0000\n",
      "2024-06-28 21:45:31,548 - mmaction - INFO - Evaluating mean_class_accuracy ...\n",
      "2024-06-28 21:45:31,549 - mmaction - INFO - \n",
      "mean_acc\t0.3333\n",
      "2024-06-28 21:45:31,549 - mmaction - INFO - Epoch(val) [20][9]\ttop1_acc: 0.2222, top5_acc: 1.0000, mean_class_accuracy: 0.3333\n"
     ]
    },
    {
     "name": "stdout",
     "output_type": "stream",
     "text": [
      "mean_class_accuracy\n",
      "[1 1 1 1 1 1 1 1 1]\n",
      "[2, 0, 2, 2, 1, 1, 0, 2, 2]\n"
     ]
    },
    {
     "name": "stderr",
     "output_type": "stream",
     "text": [
      "2024-06-28 21:45:33,049 - mmaction - INFO - load checkpoint from local path: ./tutorial_exps/epoch_20.pth\n"
     ]
    },
    {
     "name": "stdout",
     "output_type": "stream",
     "text": [
      "Selected optimization level O1:  Insert automatic casts around Pytorch functions and Tensor methods.\n",
      "\n",
      "Defaults for this optimization level are:\n",
      "enabled                : True\n",
      "opt_level              : O1\n",
      "cast_model_type        : None\n",
      "patch_torch_functions  : True\n",
      "keep_batchnorm_fp32    : None\n",
      "master_weights         : None\n",
      "loss_scale             : dynamic\n",
      "Processing user overrides (additional kwargs that are not None)...\n",
      "After processing overrides, optimization options are:\n",
      "enabled                : True\n",
      "opt_level              : O1\n",
      "cast_model_type        : None\n",
      "patch_torch_functions  : True\n",
      "keep_batchnorm_fp32    : None\n",
      "master_weights         : None\n",
      "loss_scale             : dynamic\n"
     ]
    },
    {
     "name": "stderr",
     "output_type": "stream",
     "text": [
      "2024-06-28 21:45:33,382 - mmaction - INFO - Start running, host: 15281@实验室, work_dir: H:\\code\\视频组代码\\Video_Swin_Transformer\\tutorial_exps1\n",
      "2024-06-28 21:45:33,383 - mmaction - INFO - Hooks will be executed in the following order:\n",
      "before_run:\n",
      "(VERY_HIGH   ) StepLrUpdaterHook                  \n",
      "(ABOVE_NORMAL) DistOptimizerHook                  \n",
      "(NORMAL      ) CheckpointHook                     \n",
      "(NORMAL      ) EvalHook                           \n",
      "(VERY_LOW    ) TextLoggerHook                     \n",
      " -------------------- \n",
      "before_train_epoch:\n",
      "(VERY_HIGH   ) StepLrUpdaterHook                  \n",
      "(NORMAL      ) EvalHook                           \n",
      "(LOW         ) IterTimerHook                      \n",
      "(VERY_LOW    ) TextLoggerHook                     \n",
      " -------------------- \n",
      "before_train_iter:\n",
      "(VERY_HIGH   ) StepLrUpdaterHook                  \n",
      "(NORMAL      ) EvalHook                           \n",
      "(LOW         ) IterTimerHook                      \n",
      " -------------------- \n",
      "after_train_iter:\n",
      "(ABOVE_NORMAL) DistOptimizerHook                  \n",
      "(NORMAL      ) CheckpointHook                     \n",
      "(NORMAL      ) EvalHook                           \n",
      "(LOW         ) IterTimerHook                      \n",
      "(VERY_LOW    ) TextLoggerHook                     \n",
      " -------------------- \n",
      "after_train_epoch:\n",
      "(NORMAL      ) CheckpointHook                     \n",
      "(NORMAL      ) EvalHook                           \n",
      "(VERY_LOW    ) TextLoggerHook                     \n",
      " -------------------- \n",
      "before_val_epoch:\n",
      "(LOW         ) IterTimerHook                      \n",
      "(VERY_LOW    ) TextLoggerHook                     \n",
      " -------------------- \n",
      "before_val_iter:\n",
      "(LOW         ) IterTimerHook                      \n",
      " -------------------- \n",
      "after_val_iter:\n",
      "(LOW         ) IterTimerHook                      \n",
      " -------------------- \n",
      "after_val_epoch:\n",
      "(VERY_LOW    ) TextLoggerHook                     \n",
      " -------------------- \n",
      "after_run:\n",
      "(VERY_LOW    ) TextLoggerHook                     \n",
      " -------------------- \n",
      "2024-06-28 21:45:33,384 - mmaction - INFO - workflow: [('train', 1)], max: 20 epochs\n",
      "2024-06-28 21:45:33,388 - mmaction - INFO - Checkpoints will be saved to H:\\code\\视频组代码\\Video_Swin_Transformer\\tutorial_exps1 by HardDiskBackend.\n",
      "2024-06-28 21:45:42,726 - mmaction - INFO - Epoch [1][5/17]\tlr: 7.813e-07, eta: 0:10:25, time: 1.866, data_time: 1.553, memory: 6402, top1_acc: 0.2000, top5_acc: 1.0000, loss_cls: 1.1991, loss: 1.1991\n",
      "2024-06-28 21:45:44,831 - mmaction - INFO - Epoch [1][10/17]\tlr: 7.813e-07, eta: 0:06:17, time: 0.421, data_time: 0.152, memory: 6568, top1_acc: 0.2000, top5_acc: 1.0000, loss_cls: 1.1241, loss: 1.1241\n",
      "2024-06-28 21:45:47,307 - mmaction - INFO - Epoch [1][15/17]\tlr: 7.813e-07, eta: 0:05:01, time: 0.495, data_time: 0.239, memory: 6575, top1_acc: 0.4000, top5_acc: 1.0000, loss_cls: 1.0202, loss: 1.0202\n",
      "2024-06-28 21:45:58,532 - mmaction - INFO - Epoch [2][5/17]\tlr: 7.813e-07, eta: 0:05:34, time: 1.839, data_time: 1.512, memory: 6575, top1_acc: 0.3000, top5_acc: 1.0000, loss_cls: 1.1243, loss: 1.1243\n",
      "2024-06-28 21:46:00,800 - mmaction - INFO - Epoch [2][10/17]\tlr: 7.813e-07, eta: 0:04:54, time: 0.454, data_time: 0.191, memory: 6575, top1_acc: 0.2000, top5_acc: 1.0000, loss_cls: 1.1713, loss: 1.1713\n",
      "2024-06-28 21:46:03,682 - mmaction - INFO - Epoch [2][15/17]\tlr: 7.813e-07, eta: 0:04:31, time: 0.576, data_time: 0.308, memory: 6575, top1_acc: 0.1000, top5_acc: 1.0000, loss_cls: 1.2332, loss: 1.2332\n",
      "2024-06-28 21:46:15,519 - mmaction - INFO - Epoch [3][5/17]\tlr: 7.813e-07, eta: 0:04:53, time: 1.962, data_time: 1.622, memory: 6577, top1_acc: 0.3000, top5_acc: 1.0000, loss_cls: 1.1509, loss: 1.1509\n",
      "2024-06-28 21:46:17,116 - mmaction - INFO - Epoch [3][10/17]\tlr: 7.813e-07, eta: 0:04:26, time: 0.320, data_time: 0.032, memory: 6577, top1_acc: 0.3000, top5_acc: 1.0000, loss_cls: 1.0601, loss: 1.0601\n",
      "2024-06-28 21:46:19,884 - mmaction - INFO - Epoch [3][15/17]\tlr: 7.813e-07, eta: 0:04:11, time: 0.553, data_time: 0.289, memory: 6577, top1_acc: 0.2000, top5_acc: 1.0000, loss_cls: 1.2240, loss: 1.2240\n",
      "2024-06-28 21:46:30,274 - mmaction - INFO - Epoch [4][5/17]\tlr: 7.813e-07, eta: 0:04:18, time: 1.690, data_time: 1.363, memory: 6577, top1_acc: 0.2000, top5_acc: 1.0000, loss_cls: 1.2071, loss: 1.2071\n",
      "2024-06-28 21:46:34,094 - mmaction - INFO - Epoch [4][10/17]\tlr: 7.813e-07, eta: 0:04:10, time: 0.764, data_time: 0.503, memory: 6577, top1_acc: 0.4000, top5_acc: 1.0000, loss_cls: 1.0976, loss: 1.0976\n",
      "2024-06-28 21:46:37,417 - mmaction - INFO - Epoch [4][15/17]\tlr: 7.813e-07, eta: 0:04:00, time: 0.665, data_time: 0.368, memory: 6577, top1_acc: 0.2000, top5_acc: 1.0000, loss_cls: 1.2177, loss: 1.2177\n",
      "2024-06-28 21:46:49,124 - mmaction - INFO - Epoch [5][5/17]\tlr: 7.813e-07, eta: 0:04:07, time: 1.945, data_time: 1.580, memory: 6577, top1_acc: 0.5000, top5_acc: 1.0000, loss_cls: 1.0120, loss: 1.0120\n",
      "2024-06-28 21:46:52,611 - mmaction - INFO - Epoch [5][10/17]\tlr: 7.813e-07, eta: 0:03:59, time: 0.697, data_time: 0.438, memory: 6577, top1_acc: 0.3000, top5_acc: 1.0000, loss_cls: 1.2297, loss: 1.2297\n",
      "2024-06-28 21:46:55,460 - mmaction - INFO - Epoch [5][15/17]\tlr: 7.813e-07, eta: 0:03:49, time: 0.570, data_time: 0.305, memory: 6577, top1_acc: 0.2000, top5_acc: 1.0000, loss_cls: 1.1543, loss: 1.1543\n"
     ]
    },
    {
     "name": "stdout",
     "output_type": "stream",
     "text": [
      "[>>>>>>>>>>>>>>>>>>>>>>>>>>>>>>>>>>>>>>>>>>>>>>>>>>] 9/9, 0.5 task/s, elapsed: 16s, ETA:     0s"
     ]
    },
    {
     "name": "stderr",
     "output_type": "stream",
     "text": [
      "2024-06-28 21:47:14,026 - mmaction - INFO - Evaluating top_k_accuracy ...\n",
      "2024-06-28 21:47:14,026 - mmaction - INFO - \n",
      "top1_acc\t0.2222\n",
      "top5_acc\t1.0000\n",
      "2024-06-28 21:47:14,026 - mmaction - INFO - Evaluating mean_class_accuracy ...\n",
      "2024-06-28 21:47:14,028 - mmaction - INFO - \n",
      "mean_acc\t0.3333\n"
     ]
    },
    {
     "name": "stdout",
     "output_type": "stream",
     "text": [
      "mean_class_accuracy\n",
      "[1 1 1 1 1 1 1 1 1]\n",
      "[2, 0, 2, 2, 1, 1, 0, 2, 2]\n"
     ]
    },
    {
     "name": "stderr",
     "output_type": "stream",
     "text": [
      "2024-06-28 21:47:15,073 - mmaction - INFO - Now best checkpoint is saved as best_top1_acc_epoch_5.pth.\n",
      "2024-06-28 21:47:15,073 - mmaction - INFO - Best top1_acc is 0.2222 at 5 epoch.\n",
      "2024-06-28 21:47:15,074 - mmaction - INFO - Epoch(val) [5][9]\ttop1_acc: 0.2222, top5_acc: 1.0000, mean_class_accuracy: 0.3333\n",
      "2024-06-28 21:47:24,413 - mmaction - INFO - Epoch [6][5/17]\tlr: 7.813e-07, eta: 0:03:51, time: 1.867, data_time: 1.507, memory: 6577, top1_acc: 0.0000, top5_acc: 1.0000, loss_cls: 1.2595, loss: 1.2595\n",
      "2024-06-28 21:47:26,895 - mmaction - INFO - Epoch [6][10/17]\tlr: 7.813e-07, eta: 0:03:41, time: 0.496, data_time: 0.229, memory: 6577, top1_acc: 0.2000, top5_acc: 1.0000, loss_cls: 1.2265, loss: 1.2265\n",
      "2024-06-28 21:47:29,590 - mmaction - INFO - Epoch [6][15/17]\tlr: 7.813e-07, eta: 0:03:32, time: 0.539, data_time: 0.269, memory: 6577, top1_acc: 0.4000, top5_acc: 1.0000, loss_cls: 1.0384, loss: 1.0384\n",
      "2024-06-28 21:47:40,934 - mmaction - INFO - Epoch [7][5/17]\tlr: 7.813e-07, eta: 0:03:33, time: 1.867, data_time: 1.543, memory: 6577, top1_acc: 0.4000, top5_acc: 1.0000, loss_cls: 1.1068, loss: 1.1068\n",
      "2024-06-28 21:47:43,524 - mmaction - INFO - Epoch [7][10/17]\tlr: 7.813e-07, eta: 0:03:24, time: 0.518, data_time: 0.243, memory: 6577, top1_acc: 0.1000, top5_acc: 1.0000, loss_cls: 1.2217, loss: 1.2217\n",
      "2024-06-28 21:47:46,692 - mmaction - INFO - Epoch [7][15/17]\tlr: 7.813e-07, eta: 0:03:17, time: 0.634, data_time: 0.370, memory: 6577, top1_acc: 0.3000, top5_acc: 1.0000, loss_cls: 1.1427, loss: 1.1427\n",
      "2024-06-28 21:47:58,411 - mmaction - INFO - Epoch [8][5/17]\tlr: 7.813e-07, eta: 0:03:17, time: 1.945, data_time: 1.606, memory: 6577, top1_acc: 0.2000, top5_acc: 1.0000, loss_cls: 1.1523, loss: 1.1523\n",
      "2024-06-28 21:48:00,835 - mmaction - INFO - Epoch [8][10/17]\tlr: 7.813e-07, eta: 0:03:09, time: 0.485, data_time: 0.217, memory: 6577, top1_acc: 0.4000, top5_acc: 1.0000, loss_cls: 1.1513, loss: 1.1513\n",
      "2024-06-28 21:48:02,113 - mmaction - INFO - Epoch [8][15/17]\tlr: 7.813e-07, eta: 0:03:00, time: 0.255, data_time: 0.001, memory: 6577, top1_acc: 0.2000, top5_acc: 1.0000, loss_cls: 1.2341, loss: 1.2341\n",
      "2024-06-28 21:48:12,971 - mmaction - INFO - Epoch [9][5/17]\tlr: 7.813e-07, eta: 0:02:57, time: 1.690, data_time: 1.379, memory: 6577, top1_acc: 0.4000, top5_acc: 1.0000, loss_cls: 1.0192, loss: 1.0192\n",
      "2024-06-28 21:48:16,412 - mmaction - INFO - Epoch [9][10/17]\tlr: 7.813e-07, eta: 0:02:51, time: 0.688, data_time: 0.385, memory: 6577, top1_acc: 0.1000, top5_acc: 1.0000, loss_cls: 1.2236, loss: 1.2236\n",
      "2024-06-28 21:48:19,407 - mmaction - INFO - Epoch [9][15/17]\tlr: 7.813e-07, eta: 0:02:45, time: 0.599, data_time: 0.347, memory: 6577, top1_acc: 0.4000, top5_acc: 1.0000, loss_cls: 1.0997, loss: 1.0997\n",
      "2024-06-28 21:48:31,347 - mmaction - INFO - Epoch [10][5/17]\tlr: 7.813e-07, eta: 0:02:42, time: 1.752, data_time: 1.446, memory: 6577, top1_acc: 0.3000, top5_acc: 1.0000, loss_cls: 1.1270, loss: 1.1270\n",
      "2024-06-28 21:48:32,830 - mmaction - INFO - Epoch [10][10/17]\tlr: 7.813e-07, eta: 0:02:34, time: 0.297, data_time: 0.027, memory: 6577, top1_acc: 0.3000, top5_acc: 1.0000, loss_cls: 1.1663, loss: 1.1663\n",
      "2024-06-28 21:48:36,482 - mmaction - INFO - Epoch [10][15/17]\tlr: 7.813e-07, eta: 0:02:29, time: 0.730, data_time: 0.422, memory: 6577, top1_acc: 0.3000, top5_acc: 1.0000, loss_cls: 1.1229, loss: 1.1229\n",
      "2024-06-28 21:48:39,413 - mmaction - INFO - Saving checkpoint at 10 epochs\n"
     ]
    },
    {
     "name": "stdout",
     "output_type": "stream",
     "text": [
      "[>>>>>>>>>>>>>>>>>>>>>>>>>>>>>>>>>>>>>>>>>>>>>>>>>>] 9/9, 0.6 task/s, elapsed: 16s, ETA:     0s"
     ]
    },
    {
     "name": "stderr",
     "output_type": "stream",
     "text": [
      "2024-06-28 21:48:57,719 - mmaction - INFO - Evaluating top_k_accuracy ...\n",
      "2024-06-28 21:48:57,719 - mmaction - INFO - \n",
      "top1_acc\t0.2222\n",
      "top5_acc\t1.0000\n",
      "2024-06-28 21:48:57,720 - mmaction - INFO - Evaluating mean_class_accuracy ...\n",
      "2024-06-28 21:48:57,721 - mmaction - INFO - \n",
      "mean_acc\t0.3333\n",
      "2024-06-28 21:48:57,721 - mmaction - INFO - Epoch(val) [10][9]\ttop1_acc: 0.2222, top5_acc: 1.0000, mean_class_accuracy: 0.3333\n"
     ]
    },
    {
     "name": "stdout",
     "output_type": "stream",
     "text": [
      "mean_class_accuracy\n",
      "[1 1 1 1 1 1 1 1 1]\n",
      "[2, 0, 2, 2, 1, 1, 0, 2, 2]\n"
     ]
    },
    {
     "name": "stderr",
     "output_type": "stream",
     "text": [
      "2024-06-28 21:49:06,081 - mmaction - INFO - Epoch [11][5/17]\tlr: 7.813e-07, eta: 0:02:25, time: 1.671, data_time: 1.334, memory: 6577, top1_acc: 0.3000, top5_acc: 1.0000, loss_cls: 1.1900, loss: 1.1900\n",
      "2024-06-28 21:49:08,224 - mmaction - INFO - Epoch [11][10/17]\tlr: 7.813e-07, eta: 0:02:19, time: 0.428, data_time: 0.155, memory: 6577, top1_acc: 0.3000, top5_acc: 1.0000, loss_cls: 1.0730, loss: 1.0730\n",
      "2024-06-28 21:49:11,160 - mmaction - INFO - Epoch [11][15/17]\tlr: 7.813e-07, eta: 0:02:13, time: 0.587, data_time: 0.310, memory: 6577, top1_acc: 0.3000, top5_acc: 1.0000, loss_cls: 1.0511, loss: 1.0511\n",
      "2024-06-28 21:49:26,232 - mmaction - INFO - Epoch [12][5/17]\tlr: 7.813e-07, eta: 0:02:10, time: 2.084, data_time: 1.763, memory: 6577, top1_acc: 0.2000, top5_acc: 1.0000, loss_cls: 1.0862, loss: 1.0862\n",
      "2024-06-28 21:49:28,489 - mmaction - INFO - Epoch [12][10/17]\tlr: 7.813e-07, eta: 0:02:04, time: 0.452, data_time: 0.189, memory: 6577, top1_acc: 0.3000, top5_acc: 1.0000, loss_cls: 1.0310, loss: 1.0310\n",
      "2024-06-28 21:49:30,194 - mmaction - INFO - Epoch [12][15/17]\tlr: 7.813e-07, eta: 0:01:58, time: 0.341, data_time: 0.054, memory: 6577, top1_acc: 0.3000, top5_acc: 1.0000, loss_cls: 1.0861, loss: 1.0861\n",
      "2024-06-28 21:49:40,227 - mmaction - INFO - Epoch [13][5/17]\tlr: 7.813e-07, eta: 0:01:53, time: 1.604, data_time: 1.305, memory: 6577, top1_acc: 0.2000, top5_acc: 1.0000, loss_cls: 1.2081, loss: 1.2081\n",
      "2024-06-28 21:49:42,969 - mmaction - INFO - Epoch [13][10/17]\tlr: 7.813e-07, eta: 0:01:48, time: 0.548, data_time: 0.282, memory: 6577, top1_acc: 0.1000, top5_acc: 1.0000, loss_cls: 1.2764, loss: 1.2764\n",
      "2024-06-28 21:49:45,751 - mmaction - INFO - Epoch [13][15/17]\tlr: 7.813e-07, eta: 0:01:43, time: 0.556, data_time: 0.291, memory: 6577, top1_acc: 0.3000, top5_acc: 1.0000, loss_cls: 1.1209, loss: 1.1209\n",
      "2024-06-28 21:49:58,210 - mmaction - INFO - Epoch [14][5/17]\tlr: 7.813e-07, eta: 0:01:39, time: 2.037, data_time: 1.712, memory: 6577, top1_acc: 0.2000, top5_acc: 1.0000, loss_cls: 1.1463, loss: 1.1463\n",
      "2024-06-28 21:49:59,634 - mmaction - INFO - Epoch [14][10/17]\tlr: 7.813e-07, eta: 0:01:33, time: 0.285, data_time: 0.022, memory: 6577, top1_acc: 0.1000, top5_acc: 1.0000, loss_cls: 1.2125, loss: 1.2125\n",
      "2024-06-28 21:50:02,972 - mmaction - INFO - Epoch [14][15/17]\tlr: 7.813e-07, eta: 0:01:29, time: 0.668, data_time: 0.389, memory: 6577, top1_acc: 0.4000, top5_acc: 1.0000, loss_cls: 0.9944, loss: 0.9944\n",
      "2024-06-28 21:50:14,290 - mmaction - INFO - Epoch [15][5/17]\tlr: 7.813e-07, eta: 0:01:24, time: 1.847, data_time: 1.505, memory: 6577, top1_acc: 0.3000, top5_acc: 1.0000, loss_cls: 1.0793, loss: 1.0793\n",
      "2024-06-28 21:50:15,906 - mmaction - INFO - Epoch [15][10/17]\tlr: 7.813e-07, eta: 0:01:19, time: 0.323, data_time: 0.056, memory: 6577, top1_acc: 0.1000, top5_acc: 1.0000, loss_cls: 1.1645, loss: 1.1645\n",
      "2024-06-28 21:50:18,521 - mmaction - INFO - Epoch [15][15/17]\tlr: 7.813e-07, eta: 0:01:14, time: 0.524, data_time: 0.261, memory: 6577, top1_acc: 0.4000, top5_acc: 1.0000, loss_cls: 1.0725, loss: 1.0725\n"
     ]
    },
    {
     "name": "stdout",
     "output_type": "stream",
     "text": [
      "[>>>>>>>>>>>>>>>>>>>>>>>>>>>>>>>>>>>>>>>>>>>>>>>>>>] 9/9, 0.5 task/s, elapsed: 17s, ETA:     0s"
     ]
    },
    {
     "name": "stderr",
     "output_type": "stream",
     "text": [
      "2024-06-28 21:50:38,541 - mmaction - INFO - Evaluating top_k_accuracy ...\n",
      "2024-06-28 21:50:38,541 - mmaction - INFO - \n",
      "top1_acc\t0.2222\n",
      "top5_acc\t1.0000\n",
      "2024-06-28 21:50:38,542 - mmaction - INFO - Evaluating mean_class_accuracy ...\n",
      "2024-06-28 21:50:38,542 - mmaction - INFO - \n",
      "mean_acc\t0.3333\n",
      "2024-06-28 21:50:38,543 - mmaction - INFO - Epoch(val) [15][9]\ttop1_acc: 0.2222, top5_acc: 1.0000, mean_class_accuracy: 0.3333\n"
     ]
    },
    {
     "name": "stdout",
     "output_type": "stream",
     "text": [
      "mean_class_accuracy\n",
      "[1 1 1 1 1 1 1 1 1]\n",
      "[2, 0, 2, 2, 1, 1, 0, 2, 2]\n"
     ]
    },
    {
     "name": "stderr",
     "output_type": "stream",
     "text": [
      "2024-06-28 21:50:48,123 - mmaction - INFO - Epoch [16][5/17]\tlr: 7.813e-07, eta: 0:01:09, time: 1.915, data_time: 1.601, memory: 6577, top1_acc: 0.4000, top5_acc: 1.0000, loss_cls: 1.1088, loss: 1.1088\n",
      "2024-06-28 21:50:50,534 - mmaction - INFO - Epoch [16][10/17]\tlr: 7.813e-07, eta: 0:01:04, time: 0.482, data_time: 0.212, memory: 6577, top1_acc: 0.3000, top5_acc: 1.0000, loss_cls: 1.0551, loss: 1.0551\n",
      "2024-06-28 21:50:52,134 - mmaction - INFO - Epoch [16][15/17]\tlr: 7.813e-07, eta: 0:00:59, time: 0.320, data_time: 0.064, memory: 6577, top1_acc: 0.2000, top5_acc: 1.0000, loss_cls: 1.1769, loss: 1.1769\n",
      "2024-06-28 21:51:02,998 - mmaction - INFO - Epoch [17][5/17]\tlr: 7.813e-07, eta: 0:00:54, time: 1.759, data_time: 1.460, memory: 6577, top1_acc: 0.1000, top5_acc: 1.0000, loss_cls: 1.1606, loss: 1.1606\n",
      "2024-06-28 21:51:06,707 - mmaction - INFO - Epoch [17][10/17]\tlr: 7.813e-07, eta: 0:00:49, time: 0.742, data_time: 0.456, memory: 6577, top1_acc: 0.3000, top5_acc: 1.0000, loss_cls: 1.0786, loss: 1.0786\n",
      "2024-06-28 21:51:09,056 - mmaction - INFO - Epoch [17][15/17]\tlr: 7.813e-07, eta: 0:00:45, time: 0.470, data_time: 0.217, memory: 6577, top1_acc: 0.4000, top5_acc: 1.0000, loss_cls: 1.0800, loss: 1.0800\n",
      "2024-06-28 21:51:19,363 - mmaction - INFO - Epoch [18][5/17]\tlr: 7.813e-07, eta: 0:00:39, time: 1.669, data_time: 1.370, memory: 6577, top1_acc: 0.3000, top5_acc: 1.0000, loss_cls: 1.1077, loss: 1.1077\n",
      "2024-06-28 21:51:20,720 - mmaction - INFO - Epoch [18][10/17]\tlr: 7.813e-07, eta: 0:00:34, time: 0.271, data_time: 0.001, memory: 6577, top1_acc: 0.3000, top5_acc: 1.0000, loss_cls: 1.0437, loss: 1.0437\n",
      "2024-06-28 21:51:23,553 - mmaction - INFO - Epoch [18][15/17]\tlr: 7.813e-07, eta: 0:00:30, time: 0.566, data_time: 0.301, memory: 6577, top1_acc: 0.1000, top5_acc: 1.0000, loss_cls: 1.1760, loss: 1.1760\n",
      "2024-06-28 21:51:37,999 - mmaction - INFO - Epoch [19][5/17]\tlr: 7.813e-07, eta: 0:00:24, time: 1.983, data_time: 1.698, memory: 6577, top1_acc: 0.2000, top5_acc: 1.0000, loss_cls: 1.1180, loss: 1.1180\n",
      "2024-06-28 21:51:40,534 - mmaction - INFO - Epoch [19][10/17]\tlr: 7.813e-07, eta: 0:00:20, time: 0.507, data_time: 0.234, memory: 6577, top1_acc: 0.4000, top5_acc: 1.0000, loss_cls: 0.9970, loss: 0.9970\n",
      "2024-06-28 21:51:43,508 - mmaction - INFO - Epoch [19][15/17]\tlr: 7.813e-07, eta: 0:00:16, time: 0.595, data_time: 0.323, memory: 6577, top1_acc: 0.2000, top5_acc: 1.0000, loss_cls: 1.1583, loss: 1.1583\n",
      "2024-06-28 21:51:54,898 - mmaction - INFO - Epoch [20][5/17]\tlr: 7.813e-07, eta: 0:00:10, time: 1.871, data_time: 1.543, memory: 6577, top1_acc: 0.1000, top5_acc: 1.0000, loss_cls: 1.2000, loss: 1.2000\n",
      "2024-06-28 21:51:57,114 - mmaction - INFO - Epoch [20][10/17]\tlr: 7.813e-07, eta: 0:00:05, time: 0.443, data_time: 0.188, memory: 6577, top1_acc: 0.4000, top5_acc: 1.0000, loss_cls: 1.0768, loss: 1.0768\n"
     ]
    },
    {
     "name": "stdout",
     "output_type": "stream",
     "text": [
      "Gradient overflow.  Skipping step, loss scaler 0 reducing loss scale to 32768.0\n"
     ]
    },
    {
     "name": "stderr",
     "output_type": "stream",
     "text": [
      "2024-06-28 21:52:01,154 - mmaction - INFO - Epoch [20][15/17]\tlr: 7.813e-07, eta: 0:00:01, time: 0.808, data_time: 0.551, memory: 6577, top1_acc: 0.3000, top5_acc: 1.0000, loss_cls: 1.0966, loss: 1.0966\n",
      "2024-06-28 21:52:03,108 - mmaction - INFO - Saving checkpoint at 20 epochs\n"
     ]
    },
    {
     "name": "stdout",
     "output_type": "stream",
     "text": [
      "[>>>>>>>>>>>>>>>>>>>>>>>>>>>>>>>>>>>>>>>>>>>>>>>>>>] 9/9, 0.5 task/s, elapsed: 16s, ETA:     0s"
     ]
    },
    {
     "name": "stderr",
     "output_type": "stream",
     "text": [
      "2024-06-28 21:52:21,415 - mmaction - INFO - Evaluating top_k_accuracy ...\n",
      "2024-06-28 21:52:21,416 - mmaction - INFO - \n",
      "top1_acc\t0.2222\n",
      "top5_acc\t1.0000\n",
      "2024-06-28 21:52:21,416 - mmaction - INFO - Evaluating mean_class_accuracy ...\n",
      "2024-06-28 21:52:21,417 - mmaction - INFO - \n",
      "mean_acc\t0.3333\n",
      "2024-06-28 21:52:21,417 - mmaction - INFO - Epoch(val) [20][9]\ttop1_acc: 0.2222, top5_acc: 1.0000, mean_class_accuracy: 0.3333\n"
     ]
    },
    {
     "name": "stdout",
     "output_type": "stream",
     "text": [
      "mean_class_accuracy\n",
      "[1 1 1 1 1 1 1 1 1]\n",
      "[2, 0, 2, 2, 1, 1, 0, 2, 2]\n"
     ]
    },
    {
     "name": "stderr",
     "output_type": "stream",
     "text": [
      "2024-06-28 21:52:22,756 - mmaction - INFO - load checkpoint from local path: ./tutorial_exps/epoch_20.pth\n"
     ]
    },
    {
     "name": "stdout",
     "output_type": "stream",
     "text": [
      "Selected optimization level O1:  Insert automatic casts around Pytorch functions and Tensor methods.\n",
      "\n",
      "Defaults for this optimization level are:\n",
      "enabled                : True\n",
      "opt_level              : O1\n",
      "cast_model_type        : None\n",
      "patch_torch_functions  : True\n",
      "keep_batchnorm_fp32    : None\n",
      "master_weights         : None\n",
      "loss_scale             : dynamic\n",
      "Processing user overrides (additional kwargs that are not None)...\n",
      "After processing overrides, optimization options are:\n",
      "enabled                : True\n",
      "opt_level              : O1\n",
      "cast_model_type        : None\n",
      "patch_torch_functions  : True\n",
      "keep_batchnorm_fp32    : None\n",
      "master_weights         : None\n",
      "loss_scale             : dynamic\n"
     ]
    },
    {
     "name": "stderr",
     "output_type": "stream",
     "text": [
      "2024-06-28 21:52:23,119 - mmaction - INFO - Start running, host: 15281@实验室, work_dir: H:\\code\\视频组代码\\Video_Swin_Transformer\\tutorial_exps1\n",
      "2024-06-28 21:52:23,120 - mmaction - INFO - Hooks will be executed in the following order:\n",
      "before_run:\n",
      "(VERY_HIGH   ) StepLrUpdaterHook                  \n",
      "(ABOVE_NORMAL) DistOptimizerHook                  \n",
      "(NORMAL      ) CheckpointHook                     \n",
      "(NORMAL      ) EvalHook                           \n",
      "(VERY_LOW    ) TextLoggerHook                     \n",
      " -------------------- \n",
      "before_train_epoch:\n",
      "(VERY_HIGH   ) StepLrUpdaterHook                  \n",
      "(NORMAL      ) EvalHook                           \n",
      "(LOW         ) IterTimerHook                      \n",
      "(VERY_LOW    ) TextLoggerHook                     \n",
      " -------------------- \n",
      "before_train_iter:\n",
      "(VERY_HIGH   ) StepLrUpdaterHook                  \n",
      "(NORMAL      ) EvalHook                           \n",
      "(LOW         ) IterTimerHook                      \n",
      " -------------------- \n",
      "after_train_iter:\n",
      "(ABOVE_NORMAL) DistOptimizerHook                  \n",
      "(NORMAL      ) CheckpointHook                     \n",
      "(NORMAL      ) EvalHook                           \n",
      "(LOW         ) IterTimerHook                      \n",
      "(VERY_LOW    ) TextLoggerHook                     \n",
      " -------------------- \n",
      "after_train_epoch:\n",
      "(NORMAL      ) CheckpointHook                     \n",
      "(NORMAL      ) EvalHook                           \n",
      "(VERY_LOW    ) TextLoggerHook                     \n",
      " -------------------- \n",
      "before_val_epoch:\n",
      "(LOW         ) IterTimerHook                      \n",
      "(VERY_LOW    ) TextLoggerHook                     \n",
      " -------------------- \n",
      "before_val_iter:\n",
      "(LOW         ) IterTimerHook                      \n",
      " -------------------- \n",
      "after_val_iter:\n",
      "(LOW         ) IterTimerHook                      \n",
      " -------------------- \n",
      "after_val_epoch:\n",
      "(VERY_LOW    ) TextLoggerHook                     \n",
      " -------------------- \n",
      "after_run:\n",
      "(VERY_LOW    ) TextLoggerHook                     \n",
      " -------------------- \n",
      "2024-06-28 21:52:23,120 - mmaction - INFO - workflow: [('train', 1)], max: 20 epochs\n",
      "2024-06-28 21:52:23,125 - mmaction - INFO - Checkpoints will be saved to H:\\code\\视频组代码\\Video_Swin_Transformer\\tutorial_exps1 by HardDiskBackend.\n",
      "2024-06-28 21:52:32,832 - mmaction - INFO - Epoch [1][5/17]\tlr: 7.813e-07, eta: 0:10:49, time: 1.940, data_time: 1.601, memory: 6577, top1_acc: 0.2000, top5_acc: 1.0000, loss_cls: 1.1962, loss: 1.1962\n"
     ]
    },
    {
     "name": "stdout",
     "output_type": "stream",
     "text": [
      "Gradient overflow.  Skipping step, loss scaler 0 reducing loss scale to 32768.0\n"
     ]
    },
    {
     "name": "stderr",
     "output_type": "stream",
     "text": [
      "2024-06-28 21:52:36,037 - mmaction - INFO - Epoch [1][10/17]\tlr: 7.813e-07, eta: 0:07:05, time: 0.641, data_time: 0.381, memory: 6577, top1_acc: 0.4000, top5_acc: 1.0000, loss_cls: 1.1040, loss: 1.1040\n",
      "2024-06-28 21:52:38,864 - mmaction - INFO - Epoch [1][15/17]\tlr: 7.813e-07, eta: 0:05:40, time: 0.565, data_time: 0.280, memory: 6577, top1_acc: 0.2000, top5_acc: 1.0000, loss_cls: 1.3180, loss: 1.3180\n",
      "2024-06-28 21:52:50,562 - mmaction - INFO - Epoch [2][5/17]\tlr: 7.813e-07, eta: 0:06:06, time: 1.919, data_time: 1.584, memory: 6577, top1_acc: 0.3000, top5_acc: 1.0000, loss_cls: 1.1253, loss: 1.1253\n",
      "2024-06-28 21:52:52,735 - mmaction - INFO - Epoch [2][10/17]\tlr: 7.813e-07, eta: 0:05:18, time: 0.435, data_time: 0.158, memory: 6577, top1_acc: 0.2000, top5_acc: 1.0000, loss_cls: 1.1912, loss: 1.1912\n",
      "2024-06-28 21:52:55,031 - mmaction - INFO - Epoch [2][15/17]\tlr: 7.813e-07, eta: 0:04:46, time: 0.459, data_time: 0.189, memory: 6577, top1_acc: 0.2000, top5_acc: 1.0000, loss_cls: 1.1610, loss: 1.1610\n",
      "2024-06-28 21:53:07,535 - mmaction - INFO - Epoch [3][5/17]\tlr: 7.813e-07, eta: 0:04:57, time: 1.762, data_time: 1.452, memory: 6577, top1_acc: 0.1000, top5_acc: 1.0000, loss_cls: 1.3391, loss: 1.3391\n",
      "2024-06-28 21:53:09,373 - mmaction - INFO - Epoch [3][10/17]\tlr: 7.813e-07, eta: 0:04:32, time: 0.368, data_time: 0.082, memory: 6577, top1_acc: 0.4000, top5_acc: 1.0000, loss_cls: 1.0057, loss: 1.0057\n",
      "2024-06-28 21:53:11,405 - mmaction - INFO - Epoch [3][15/17]\tlr: 7.813e-07, eta: 0:04:12, time: 0.406, data_time: 0.135, memory: 6577, top1_acc: 0.3000, top5_acc: 1.0000, loss_cls: 1.1294, loss: 1.1294\n",
      "2024-06-28 21:53:24,226 - mmaction - INFO - Epoch [4][5/17]\tlr: 7.813e-07, eta: 0:04:26, time: 2.022, data_time: 1.707, memory: 6577, top1_acc: 0.3000, top5_acc: 1.0000, loss_cls: 1.1809, loss: 1.1809\n",
      "2024-06-28 21:53:25,986 - mmaction - INFO - Epoch [4][10/17]\tlr: 7.813e-07, eta: 0:04:08, time: 0.352, data_time: 0.086, memory: 6577, top1_acc: 0.3000, top5_acc: 1.0000, loss_cls: 1.0446, loss: 1.0446\n",
      "2024-06-28 21:53:28,424 - mmaction - INFO - Epoch [4][15/17]\tlr: 7.813e-07, eta: 0:03:55, time: 0.488, data_time: 0.209, memory: 6577, top1_acc: 0.2000, top5_acc: 1.0000, loss_cls: 1.2099, loss: 1.2099\n",
      "2024-06-28 21:53:39,346 - mmaction - INFO - Epoch [5][5/17]\tlr: 7.813e-07, eta: 0:03:59, time: 1.764, data_time: 1.432, memory: 6577, top1_acc: 0.2000, top5_acc: 1.0000, loss_cls: 1.2072, loss: 1.2072\n",
      "2024-06-28 21:53:41,704 - mmaction - INFO - Epoch [5][10/17]\tlr: 7.813e-07, eta: 0:03:48, time: 0.472, data_time: 0.195, memory: 6577, top1_acc: 0.3000, top5_acc: 1.0000, loss_cls: 1.1182, loss: 1.1182\n",
      "2024-06-28 21:53:45,389 - mmaction - INFO - Epoch [5][15/17]\tlr: 7.813e-07, eta: 0:03:41, time: 0.737, data_time: 0.457, memory: 6577, top1_acc: 0.2000, top5_acc: 1.0000, loss_cls: 1.1942, loss: 1.1942\n"
     ]
    },
    {
     "name": "stdout",
     "output_type": "stream",
     "text": [
      "[>>>>>>>>>>>>>>>>>>>>>>>>>>>>>>>>>>>>>>>>>>>>>>>>>>] 9/9, 0.5 task/s, elapsed: 17s, ETA:     0s"
     ]
    },
    {
     "name": "stderr",
     "output_type": "stream",
     "text": [
      "2024-06-28 21:54:04,675 - mmaction - INFO - Evaluating top_k_accuracy ...\n",
      "2024-06-28 21:54:04,676 - mmaction - INFO - \n",
      "top1_acc\t0.2222\n",
      "top5_acc\t1.0000\n",
      "2024-06-28 21:54:04,676 - mmaction - INFO - Evaluating mean_class_accuracy ...\n",
      "2024-06-28 21:54:04,677 - mmaction - INFO - \n",
      "mean_acc\t0.3333\n"
     ]
    },
    {
     "name": "stdout",
     "output_type": "stream",
     "text": [
      "mean_class_accuracy\n",
      "[1 1 1 1 1 1 1 1 1]\n",
      "[2, 0, 2, 2, 1, 1, 0, 2, 2]\n"
     ]
    },
    {
     "name": "stderr",
     "output_type": "stream",
     "text": [
      "2024-06-28 21:54:05,725 - mmaction - INFO - Now best checkpoint is saved as best_top1_acc_epoch_5.pth.\n",
      "2024-06-28 21:54:05,725 - mmaction - INFO - Best top1_acc is 0.2222 at 5 epoch.\n",
      "2024-06-28 21:54:05,726 - mmaction - INFO - Epoch(val) [5][9]\ttop1_acc: 0.2222, top5_acc: 1.0000, mean_class_accuracy: 0.3333\n",
      "2024-06-28 21:54:15,838 - mmaction - INFO - Epoch [6][5/17]\tlr: 7.813e-07, eta: 0:03:47, time: 2.021, data_time: 1.662, memory: 6577, top1_acc: 0.2000, top5_acc: 1.0000, loss_cls: 1.1024, loss: 1.1024\n",
      "2024-06-28 21:54:18,356 - mmaction - INFO - Epoch [6][10/17]\tlr: 7.813e-07, eta: 0:03:37, time: 0.504, data_time: 0.233, memory: 6577, top1_acc: 0.2000, top5_acc: 1.0000, loss_cls: 1.1357, loss: 1.1357\n",
      "2024-06-28 21:54:20,515 - mmaction - INFO - Epoch [6][15/17]\tlr: 7.813e-07, eta: 0:03:27, time: 0.432, data_time: 0.147, memory: 6577, top1_acc: 0.3000, top5_acc: 1.0000, loss_cls: 1.0641, loss: 1.0641\n",
      "2024-06-28 21:54:31,713 - mmaction - INFO - Epoch [7][5/17]\tlr: 7.813e-07, eta: 0:03:28, time: 1.829, data_time: 1.490, memory: 6577, top1_acc: 0.1000, top5_acc: 1.0000, loss_cls: 1.2357, loss: 1.2357\n",
      "2024-06-28 21:54:36,079 - mmaction - INFO - Epoch [7][10/17]\tlr: 7.813e-07, eta: 0:03:23, time: 0.873, data_time: 0.559, memory: 6577, top1_acc: 0.1000, top5_acc: 1.0000, loss_cls: 1.1817, loss: 1.1817\n",
      "2024-06-28 21:54:37,422 - mmaction - INFO - Epoch [7][15/17]\tlr: 7.813e-07, eta: 0:03:13, time: 0.269, data_time: 0.002, memory: 6577, top1_acc: 0.6000, top5_acc: 1.0000, loss_cls: 0.9175, loss: 0.9175\n",
      "2024-06-28 21:54:47,657 - mmaction - INFO - Epoch [8][5/17]\tlr: 7.813e-07, eta: 0:03:10, time: 1.640, data_time: 1.295, memory: 6577, top1_acc: 0.2000, top5_acc: 1.0000, loss_cls: 1.2139, loss: 1.2139\n",
      "2024-06-28 21:54:49,593 - mmaction - INFO - Epoch [8][10/17]\tlr: 7.813e-07, eta: 0:03:02, time: 0.387, data_time: 0.110, memory: 6577, top1_acc: 0.1000, top5_acc: 1.0000, loss_cls: 1.1954, loss: 1.1954\n",
      "2024-06-28 21:54:53,609 - mmaction - INFO - Epoch [8][15/17]\tlr: 7.813e-07, eta: 0:02:57, time: 0.803, data_time: 0.544, memory: 6577, top1_acc: 0.5000, top5_acc: 1.0000, loss_cls: 0.9514, loss: 0.9514\n",
      "2024-06-28 21:55:05,565 - mmaction - INFO - Epoch [9][5/17]\tlr: 7.813e-07, eta: 0:02:56, time: 1.995, data_time: 1.647, memory: 6577, top1_acc: 0.2000, top5_acc: 1.0000, loss_cls: 1.2297, loss: 1.2297\n",
      "2024-06-28 21:55:09,592 - mmaction - INFO - Epoch [9][10/17]\tlr: 7.813e-07, eta: 0:02:51, time: 0.805, data_time: 0.487, memory: 6577, top1_acc: 0.4000, top5_acc: 1.0000, loss_cls: 1.0531, loss: 1.0531\n",
      "2024-06-28 21:55:10,933 - mmaction - INFO - Epoch [9][15/17]\tlr: 7.813e-07, eta: 0:02:43, time: 0.268, data_time: 0.001, memory: 6577, top1_acc: 0.4000, top5_acc: 1.0000, loss_cls: 1.0823, loss: 1.0823\n",
      "2024-06-28 21:55:24,723 - mmaction - INFO - Epoch [10][5/17]\tlr: 7.813e-07, eta: 0:02:42, time: 2.124, data_time: 1.780, memory: 6577, top1_acc: 0.3000, top5_acc: 1.0000, loss_cls: 1.0828, loss: 1.0828\n",
      "2024-06-28 21:55:27,693 - mmaction - INFO - Epoch [10][10/17]\tlr: 7.813e-07, eta: 0:02:36, time: 0.594, data_time: 0.315, memory: 6577, top1_acc: 0.1000, top5_acc: 1.0000, loss_cls: 1.1386, loss: 1.1386\n",
      "2024-06-28 21:55:29,604 - mmaction - INFO - Epoch [10][15/17]\tlr: 7.813e-07, eta: 0:02:29, time: 0.382, data_time: 0.106, memory: 6577, top1_acc: 0.5000, top5_acc: 1.0000, loss_cls: 1.0020, loss: 1.0020\n",
      "2024-06-28 21:55:31,663 - mmaction - INFO - Saving checkpoint at 10 epochs\n"
     ]
    },
    {
     "name": "stdout",
     "output_type": "stream",
     "text": [
      "[>>>>>>>>>>>>>>>>>>>>>>>>>>>>>>>>>>>>>>>>>>>>>>>>>>] 9/9, 0.5 task/s, elapsed: 17s, ETA:     0s"
     ]
    },
    {
     "name": "stderr",
     "output_type": "stream",
     "text": [
      "2024-06-28 21:55:50,581 - mmaction - INFO - Evaluating top_k_accuracy ...\n",
      "2024-06-28 21:55:50,581 - mmaction - INFO - \n",
      "top1_acc\t0.2222\n",
      "top5_acc\t1.0000\n",
      "2024-06-28 21:55:50,581 - mmaction - INFO - Evaluating mean_class_accuracy ...\n",
      "2024-06-28 21:55:50,582 - mmaction - INFO - \n",
      "mean_acc\t0.3333\n",
      "2024-06-28 21:55:50,583 - mmaction - INFO - Epoch(val) [10][9]\ttop1_acc: 0.2222, top5_acc: 1.0000, mean_class_accuracy: 0.3333\n"
     ]
    },
    {
     "name": "stdout",
     "output_type": "stream",
     "text": [
      "mean_class_accuracy\n",
      "[1 1 1 1 1 1 1 1 1]\n",
      "[2, 0, 2, 2, 1, 1, 0, 2, 2]\n"
     ]
    },
    {
     "name": "stderr",
     "output_type": "stream",
     "text": [
      "2024-06-28 21:55:59,609 - mmaction - INFO - Epoch [11][5/17]\tlr: 7.813e-07, eta: 0:02:26, time: 1.803, data_time: 1.456, memory: 6577, top1_acc: 0.3000, top5_acc: 1.0000, loss_cls: 1.0898, loss: 1.0898\n",
      "2024-06-28 21:56:02,202 - mmaction - INFO - Epoch [11][10/17]\tlr: 7.813e-07, eta: 0:02:20, time: 0.519, data_time: 0.240, memory: 6577, top1_acc: 0.2000, top5_acc: 1.0000, loss_cls: 1.0456, loss: 1.0456\n",
      "2024-06-28 21:56:04,748 - mmaction - INFO - Epoch [11][15/17]\tlr: 7.813e-07, eta: 0:02:14, time: 0.509, data_time: 0.235, memory: 6577, top1_acc: 0.3000, top5_acc: 1.0000, loss_cls: 1.1535, loss: 1.1535\n",
      "2024-06-28 21:56:15,318 - mmaction - INFO - Epoch [12][5/17]\tlr: 7.813e-07, eta: 0:02:10, time: 1.709, data_time: 1.395, memory: 6577, top1_acc: 0.1000, top5_acc: 1.0000, loss_cls: 1.1656, loss: 1.1656\n",
      "2024-06-28 21:56:17,261 - mmaction - INFO - Epoch [12][10/17]\tlr: 7.813e-07, eta: 0:02:04, time: 0.390, data_time: 0.128, memory: 6577, top1_acc: 0.3000, top5_acc: 1.0000, loss_cls: 1.0174, loss: 1.0174\n",
      "2024-06-28 21:56:20,861 - mmaction - INFO - Epoch [12][15/17]\tlr: 7.813e-07, eta: 0:01:59, time: 0.720, data_time: 0.422, memory: 6577, top1_acc: 0.3000, top5_acc: 1.0000, loss_cls: 1.0766, loss: 1.0766\n",
      "2024-06-28 21:56:31,706 - mmaction - INFO - Epoch [13][5/17]\tlr: 7.813e-07, eta: 0:01:54, time: 1.759, data_time: 1.423, memory: 6577, top1_acc: 0.2000, top5_acc: 1.0000, loss_cls: 1.1902, loss: 1.1902\n",
      "2024-06-28 21:56:33,155 - mmaction - INFO - Epoch [13][10/17]\tlr: 7.813e-07, eta: 0:01:48, time: 0.290, data_time: 0.025, memory: 6577, top1_acc: 0.2000, top5_acc: 1.0000, loss_cls: 1.1336, loss: 1.1336\n",
      "2024-06-28 21:56:35,881 - mmaction - INFO - Epoch [13][15/17]\tlr: 7.813e-07, eta: 0:01:43, time: 0.545, data_time: 0.275, memory: 6577, top1_acc: 0.4000, top5_acc: 1.0000, loss_cls: 1.0290, loss: 1.0290\n",
      "2024-06-28 21:56:48,358 - mmaction - INFO - Epoch [14][5/17]\tlr: 7.813e-07, eta: 0:01:39, time: 2.044, data_time: 1.718, memory: 6577, top1_acc: 0.3000, top5_acc: 1.0000, loss_cls: 1.1469, loss: 1.1469\n",
      "2024-06-28 21:56:52,777 - mmaction - INFO - Epoch [14][10/17]\tlr: 7.813e-07, eta: 0:01:35, time: 0.884, data_time: 0.570, memory: 6577, top1_acc: 0.2000, top5_acc: 1.0000, loss_cls: 1.2461, loss: 1.2461\n",
      "2024-06-28 21:56:54,157 - mmaction - INFO - Epoch [14][15/17]\tlr: 7.813e-07, eta: 0:01:29, time: 0.276, data_time: 0.002, memory: 6577, top1_acc: 0.4000, top5_acc: 1.0000, loss_cls: 1.0233, loss: 1.0233\n",
      "2024-06-28 21:57:05,242 - mmaction - INFO - Epoch [15][5/17]\tlr: 7.813e-07, eta: 0:01:24, time: 1.797, data_time: 1.439, memory: 6577, top1_acc: 0.2000, top5_acc: 1.0000, loss_cls: 1.1126, loss: 1.1126\n",
      "2024-06-28 21:57:07,375 - mmaction - INFO - Epoch [15][10/17]\tlr: 7.813e-07, eta: 0:01:19, time: 0.426, data_time: 0.144, memory: 6577, top1_acc: 0.6000, top5_acc: 1.0000, loss_cls: 1.0033, loss: 1.0033\n",
      "2024-06-28 21:57:11,700 - mmaction - INFO - Epoch [15][15/17]\tlr: 7.813e-07, eta: 0:01:15, time: 0.866, data_time: 0.556, memory: 6577, top1_acc: 0.1000, top5_acc: 1.0000, loss_cls: 1.1795, loss: 1.1795\n"
     ]
    },
    {
     "name": "stdout",
     "output_type": "stream",
     "text": [
      "[>>>>>>>>>>>>>>>>>>>>>>>>>>>>>>>>>>>>>>>>>>>>>>>>>>] 9/9, 0.5 task/s, elapsed: 17s, ETA:     0s"
     ]
    },
    {
     "name": "stderr",
     "output_type": "stream",
     "text": [
      "2024-06-28 21:57:30,810 - mmaction - INFO - Evaluating top_k_accuracy ...\n",
      "2024-06-28 21:57:30,811 - mmaction - INFO - \n",
      "top1_acc\t0.2222\n",
      "top5_acc\t1.0000\n",
      "2024-06-28 21:57:30,812 - mmaction - INFO - Evaluating mean_class_accuracy ...\n",
      "2024-06-28 21:57:30,813 - mmaction - INFO - \n",
      "mean_acc\t0.3333\n",
      "2024-06-28 21:57:30,813 - mmaction - INFO - Epoch(val) [15][9]\ttop1_acc: 0.2222, top5_acc: 1.0000, mean_class_accuracy: 0.3333\n"
     ]
    },
    {
     "name": "stdout",
     "output_type": "stream",
     "text": [
      "mean_class_accuracy\n",
      "[1 1 1 1 1 1 1 1 1]\n",
      "[2, 0, 2, 2, 1, 1, 0, 2, 2]\n"
     ]
    },
    {
     "name": "stderr",
     "output_type": "stream",
     "text": [
      "2024-06-28 21:57:40,706 - mmaction - INFO - Epoch [16][5/17]\tlr: 7.813e-07, eta: 0:01:10, time: 1.977, data_time: 1.626, memory: 6577, top1_acc: 0.3000, top5_acc: 1.0000, loss_cls: 1.0723, loss: 1.0723\n",
      "2024-06-28 21:57:42,141 - mmaction - INFO - Epoch [16][10/17]\tlr: 7.813e-07, eta: 0:01:05, time: 0.287, data_time: 0.002, memory: 6577, top1_acc: 0.3000, top5_acc: 1.0000, loss_cls: 1.0964, loss: 1.0964\n",
      "2024-06-28 21:57:44,489 - mmaction - INFO - Epoch [16][15/17]\tlr: 7.813e-07, eta: 0:01:00, time: 0.469, data_time: 0.211, memory: 6577, top1_acc: 0.4000, top5_acc: 1.0000, loss_cls: 1.0223, loss: 1.0223\n",
      "2024-06-28 21:57:55,310 - mmaction - INFO - Epoch [17][5/17]\tlr: 7.813e-07, eta: 0:00:54, time: 1.612, data_time: 1.282, memory: 6577, top1_acc: 0.4000, top5_acc: 1.0000, loss_cls: 1.0121, loss: 1.0121\n",
      "2024-06-28 21:57:59,905 - mmaction - INFO - Epoch [17][10/17]\tlr: 7.813e-07, eta: 0:00:50, time: 0.919, data_time: 0.604, memory: 6577, top1_acc: 0.4000, top5_acc: 1.0000, loss_cls: 1.0249, loss: 1.0249\n",
      "2024-06-28 21:58:03,806 - mmaction - INFO - Epoch [17][15/17]\tlr: 7.813e-07, eta: 0:00:46, time: 0.780, data_time: 0.484, memory: 6577, top1_acc: 0.1000, top5_acc: 1.0000, loss_cls: 1.2028, loss: 1.2028\n",
      "2024-06-28 21:58:14,345 - mmaction - INFO - Epoch [18][5/17]\tlr: 7.813e-07, eta: 0:00:40, time: 1.686, data_time: 1.364, memory: 6577, top1_acc: 0.1000, top5_acc: 1.0000, loss_cls: 1.1560, loss: 1.1560\n",
      "2024-06-28 21:58:17,376 - mmaction - INFO - Epoch [18][10/17]\tlr: 7.813e-07, eta: 0:00:35, time: 0.606, data_time: 0.329, memory: 6577, top1_acc: 0.3000, top5_acc: 1.0000, loss_cls: 1.1375, loss: 1.1375\n",
      "2024-06-28 21:58:21,230 - mmaction - INFO - Epoch [18][15/17]\tlr: 7.813e-07, eta: 0:00:31, time: 0.770, data_time: 0.481, memory: 6577, top1_acc: 0.5000, top5_acc: 1.0000, loss_cls: 1.0764, loss: 1.0764\n",
      "2024-06-28 21:58:32,937 - mmaction - INFO - Epoch [19][5/17]\tlr: 7.813e-07, eta: 0:00:25, time: 1.953, data_time: 1.629, memory: 6577, top1_acc: 0.3000, top5_acc: 1.0000, loss_cls: 1.0404, loss: 1.0404\n",
      "2024-06-28 21:58:35,361 - mmaction - INFO - Epoch [19][10/17]\tlr: 7.813e-07, eta: 0:00:21, time: 0.485, data_time: 0.217, memory: 6577, top1_acc: 0.0000, top5_acc: 1.0000, loss_cls: 1.2001, loss: 1.2001\n",
      "2024-06-28 21:58:36,731 - mmaction - INFO - Epoch [19][15/17]\tlr: 7.813e-07, eta: 0:00:16, time: 0.274, data_time: 0.001, memory: 6577, top1_acc: 0.2000, top5_acc: 1.0000, loss_cls: 1.0573, loss: 1.0573\n",
      "2024-06-28 21:58:50,726 - mmaction - INFO - Epoch [20][5/17]\tlr: 7.813e-07, eta: 0:00:10, time: 1.917, data_time: 1.566, memory: 6577, top1_acc: 0.0000, top5_acc: 1.0000, loss_cls: 1.2344, loss: 1.2344\n",
      "2024-06-28 21:58:52,067 - mmaction - INFO - Epoch [20][10/17]\tlr: 7.813e-07, eta: 0:00:06, time: 0.269, data_time: 0.002, memory: 6577, top1_acc: 0.4000, top5_acc: 1.0000, loss_cls: 1.0335, loss: 1.0335\n",
      "2024-06-28 21:58:56,246 - mmaction - INFO - Epoch [20][15/17]\tlr: 7.813e-07, eta: 0:00:01, time: 0.836, data_time: 0.521, memory: 6577, top1_acc: 0.4000, top5_acc: 1.0000, loss_cls: 1.0728, loss: 1.0728\n",
      "2024-06-28 21:58:58,255 - mmaction - INFO - Saving checkpoint at 20 epochs\n"
     ]
    },
    {
     "name": "stdout",
     "output_type": "stream",
     "text": [
      "[>>>>>>>>>>>>>>>>>>>>>>>>>>>>>>>>>>>>>>>>>>>>>>>>>>] 9/9, 0.5 task/s, elapsed: 17s, ETA:     0s"
     ]
    },
    {
     "name": "stderr",
     "output_type": "stream",
     "text": [
      "2024-06-28 21:59:16,933 - mmaction - INFO - Evaluating top_k_accuracy ...\n",
      "2024-06-28 21:59:16,934 - mmaction - INFO - \n",
      "top1_acc\t0.2222\n",
      "top5_acc\t1.0000\n",
      "2024-06-28 21:59:16,934 - mmaction - INFO - Evaluating mean_class_accuracy ...\n",
      "2024-06-28 21:59:16,935 - mmaction - INFO - \n",
      "mean_acc\t0.3333\n",
      "2024-06-28 21:59:16,936 - mmaction - INFO - Epoch(val) [20][9]\ttop1_acc: 0.2222, top5_acc: 1.0000, mean_class_accuracy: 0.3333\n"
     ]
    },
    {
     "name": "stdout",
     "output_type": "stream",
     "text": [
      "mean_class_accuracy\n",
      "[1 1 1 1 1 1 1 1 1]\n",
      "[2, 0, 2, 2, 1, 1, 0, 2, 2]\n",
      "Selected optimization level O1:  Insert automatic casts around Pytorch functions and Tensor methods.\n",
      "\n",
      "Defaults for this optimization level are:\n",
      "enabled                : True\n",
      "opt_level              : O1\n",
      "cast_model_type        : None\n",
      "patch_torch_functions  : True\n",
      "keep_batchnorm_fp32    : None\n",
      "master_weights         : None\n",
      "loss_scale             : dynamic\n",
      "Processing user overrides (additional kwargs that are not None)...\n",
      "After processing overrides, optimization options are:\n",
      "enabled                : True\n",
      "opt_level              : O1\n",
      "cast_model_type        : None\n",
      "patch_torch_functions  : True\n",
      "keep_batchnorm_fp32    : None\n",
      "master_weights         : None\n",
      "loss_scale             : dynamic\n"
     ]
    },
    {
     "name": "stderr",
     "output_type": "stream",
     "text": [
      "2024-06-28 21:59:18,595 - mmaction - INFO - load checkpoint from local path: ./tutorial_exps/epoch_20.pth\n",
      "2024-06-28 21:59:18,956 - mmaction - INFO - Start running, host: 15281@实验室, work_dir: H:\\code\\视频组代码\\Video_Swin_Transformer\\tutorial_exps1\n",
      "2024-06-28 21:59:18,956 - mmaction - INFO - Hooks will be executed in the following order:\n",
      "before_run:\n",
      "(VERY_HIGH   ) StepLrUpdaterHook                  \n",
      "(ABOVE_NORMAL) DistOptimizerHook                  \n",
      "(NORMAL      ) CheckpointHook                     \n",
      "(NORMAL      ) EvalHook                           \n",
      "(VERY_LOW    ) TextLoggerHook                     \n",
      " -------------------- \n",
      "before_train_epoch:\n",
      "(VERY_HIGH   ) StepLrUpdaterHook                  \n",
      "(NORMAL      ) EvalHook                           \n",
      "(LOW         ) IterTimerHook                      \n",
      "(VERY_LOW    ) TextLoggerHook                     \n",
      " -------------------- \n",
      "before_train_iter:\n",
      "(VERY_HIGH   ) StepLrUpdaterHook                  \n",
      "(NORMAL      ) EvalHook                           \n",
      "(LOW         ) IterTimerHook                      \n",
      " -------------------- \n",
      "after_train_iter:\n",
      "(ABOVE_NORMAL) DistOptimizerHook                  \n",
      "(NORMAL      ) CheckpointHook                     \n",
      "(NORMAL      ) EvalHook                           \n",
      "(LOW         ) IterTimerHook                      \n",
      "(VERY_LOW    ) TextLoggerHook                     \n",
      " -------------------- \n",
      "after_train_epoch:\n",
      "(NORMAL      ) CheckpointHook                     \n",
      "(NORMAL      ) EvalHook                           \n",
      "(VERY_LOW    ) TextLoggerHook                     \n",
      " -------------------- \n",
      "before_val_epoch:\n",
      "(LOW         ) IterTimerHook                      \n",
      "(VERY_LOW    ) TextLoggerHook                     \n",
      " -------------------- \n",
      "before_val_iter:\n",
      "(LOW         ) IterTimerHook                      \n",
      " -------------------- \n",
      "after_val_iter:\n",
      "(LOW         ) IterTimerHook                      \n",
      " -------------------- \n",
      "after_val_epoch:\n",
      "(VERY_LOW    ) TextLoggerHook                     \n",
      " -------------------- \n",
      "after_run:\n",
      "(VERY_LOW    ) TextLoggerHook                     \n",
      " -------------------- \n",
      "2024-06-28 21:59:18,957 - mmaction - INFO - workflow: [('train', 1)], max: 20 epochs\n",
      "2024-06-28 21:59:18,961 - mmaction - INFO - Checkpoints will be saved to H:\\code\\视频组代码\\Video_Swin_Transformer\\tutorial_exps1 by HardDiskBackend.\n",
      "2024-06-28 21:59:28,535 - mmaction - INFO - Epoch [1][5/17]\tlr: 7.813e-07, eta: 0:10:41, time: 1.914, data_time: 1.593, memory: 6577, top1_acc: 0.3000, top5_acc: 1.0000, loss_cls: 1.0933, loss: 1.0933\n",
      "2024-06-28 21:59:30,639 - mmaction - INFO - Epoch [1][10/17]\tlr: 7.813e-07, eta: 0:06:25, time: 0.421, data_time: 0.131, memory: 6917, top1_acc: 0.2000, top5_acc: 1.0000, loss_cls: 1.2335, loss: 1.2335\n",
      "2024-06-28 21:59:33,332 - mmaction - INFO - Epoch [1][15/17]\tlr: 7.813e-07, eta: 0:05:11, time: 0.539, data_time: 0.265, memory: 6920, top1_acc: 0.2000, top5_acc: 1.0000, loss_cls: 1.0920, loss: 1.0920\n",
      "2024-06-28 21:59:46,414 - mmaction - INFO - Epoch [2][5/17]\tlr: 7.813e-07, eta: 0:06:06, time: 2.198, data_time: 1.832, memory: 6920, top1_acc: 0.3000, top5_acc: 1.0000, loss_cls: 1.1445, loss: 1.1445\n",
      "2024-06-28 21:59:48,829 - mmaction - INFO - Epoch [2][10/17]\tlr: 7.813e-07, eta: 0:05:21, time: 0.483, data_time: 0.194, memory: 6920, top1_acc: 0.3000, top5_acc: 1.0000, loss_cls: 1.1835, loss: 1.1835\n",
      "2024-06-28 21:59:51,609 - mmaction - INFO - Epoch [2][15/17]\tlr: 7.813e-07, eta: 0:04:54, time: 0.556, data_time: 0.270, memory: 6920, top1_acc: 0.4000, top5_acc: 1.0000, loss_cls: 1.1276, loss: 1.1276\n",
      "2024-06-28 22:00:01,695 - mmaction - INFO - Epoch [3][5/17]\tlr: 7.813e-07, eta: 0:04:57, time: 1.608, data_time: 1.265, memory: 6920, top1_acc: 0.2000, top5_acc: 1.0000, loss_cls: 1.0911, loss: 1.0911\n",
      "2024-06-28 22:00:04,051 - mmaction - INFO - Epoch [3][10/17]\tlr: 7.813e-07, eta: 0:04:35, time: 0.471, data_time: 0.200, memory: 6920, top1_acc: 0.2000, top5_acc: 1.0000, loss_cls: 1.1749, loss: 1.1749\n",
      "2024-06-28 22:00:06,834 - mmaction - INFO - Epoch [3][15/17]\tlr: 7.813e-07, eta: 0:04:19, time: 0.557, data_time: 0.270, memory: 6920, top1_acc: 0.2000, top5_acc: 1.0000, loss_cls: 1.1680, loss: 1.1680\n",
      "2024-06-28 22:00:20,338 - mmaction - INFO - Epoch [4][5/17]\tlr: 7.813e-07, eta: 0:04:30, time: 1.906, data_time: 1.548, memory: 6920, top1_acc: 0.2000, top5_acc: 1.0000, loss_cls: 1.1495, loss: 1.1495\n",
      "2024-06-28 22:00:23,370 - mmaction - INFO - Epoch [4][10/17]\tlr: 7.813e-07, eta: 0:04:17, time: 0.607, data_time: 0.328, memory: 6920, top1_acc: 0.2000, top5_acc: 1.0000, loss_cls: 1.1104, loss: 1.1104\n",
      "2024-06-28 22:00:25,369 - mmaction - INFO - Epoch [4][15/17]\tlr: 7.813e-07, eta: 0:04:01, time: 0.399, data_time: 0.118, memory: 6920, top1_acc: 0.3000, top5_acc: 1.0000, loss_cls: 1.0760, loss: 1.0760\n",
      "2024-06-28 22:00:35,972 - mmaction - INFO - Epoch [5][5/17]\tlr: 7.813e-07, eta: 0:04:04, time: 1.700, data_time: 1.373, memory: 6920, top1_acc: 0.2000, top5_acc: 1.0000, loss_cls: 1.2745, loss: 1.2745\n",
      "2024-06-28 22:00:38,412 - mmaction - INFO - Epoch [5][10/17]\tlr: 7.813e-07, eta: 0:03:52, time: 0.488, data_time: 0.197, memory: 6920, top1_acc: 0.3000, top5_acc: 1.0000, loss_cls: 1.0934, loss: 1.0934\n",
      "2024-06-28 22:00:41,868 - mmaction - INFO - Epoch [5][15/17]\tlr: 7.813e-07, eta: 0:03:45, time: 0.691, data_time: 0.403, memory: 6920, top1_acc: 0.3000, top5_acc: 1.0000, loss_cls: 1.0942, loss: 1.0942\n"
     ]
    },
    {
     "name": "stdout",
     "output_type": "stream",
     "text": [
      "[>>>>>>>>>>>>>>>>>>>>>>>>>>>>>>>>>>>>>>>>>>>>>>>>>>] 9/9, 0.5 task/s, elapsed: 17s, ETA:     0s"
     ]
    },
    {
     "name": "stderr",
     "output_type": "stream",
     "text": [
      "2024-06-28 22:01:01,354 - mmaction - INFO - Evaluating top_k_accuracy ...\n",
      "2024-06-28 22:01:01,355 - mmaction - INFO - \n",
      "top1_acc\t0.2222\n",
      "top5_acc\t1.0000\n",
      "2024-06-28 22:01:01,356 - mmaction - INFO - Evaluating mean_class_accuracy ...\n",
      "2024-06-28 22:01:01,356 - mmaction - INFO - \n",
      "mean_acc\t0.3333\n"
     ]
    },
    {
     "name": "stdout",
     "output_type": "stream",
     "text": [
      "mean_class_accuracy\n",
      "[1 1 1 1 1 1 1 1 1]\n",
      "[2, 0, 2, 2, 1, 1, 0, 2, 2]\n"
     ]
    },
    {
     "name": "stderr",
     "output_type": "stream",
     "text": [
      "2024-06-28 22:01:02,398 - mmaction - INFO - Now best checkpoint is saved as best_top1_acc_epoch_5.pth.\n",
      "2024-06-28 22:01:02,398 - mmaction - INFO - Best top1_acc is 0.2222 at 5 epoch.\n",
      "2024-06-28 22:01:02,399 - mmaction - INFO - Epoch(val) [5][9]\ttop1_acc: 0.2222, top5_acc: 1.0000, mean_class_accuracy: 0.3333\n",
      "2024-06-28 22:01:11,133 - mmaction - INFO - Epoch [6][5/17]\tlr: 7.813e-07, eta: 0:03:46, time: 1.746, data_time: 1.394, memory: 6920, top1_acc: 0.5000, top5_acc: 1.0000, loss_cls: 1.0416, loss: 1.0416\n",
      "2024-06-28 22:01:12,865 - mmaction - INFO - Epoch [6][10/17]\tlr: 7.813e-07, eta: 0:03:34, time: 0.347, data_time: 0.072, memory: 6920, top1_acc: 0.0000, top5_acc: 1.0000, loss_cls: 1.2038, loss: 1.2038\n",
      "2024-06-28 22:01:16,077 - mmaction - INFO - Epoch [6][15/17]\tlr: 7.813e-07, eta: 0:03:27, time: 0.642, data_time: 0.361, memory: 6920, top1_acc: 0.3000, top5_acc: 1.0000, loss_cls: 1.1437, loss: 1.1437\n",
      "2024-06-28 22:01:26,857 - mmaction - INFO - Epoch [7][5/17]\tlr: 7.813e-07, eta: 0:03:27, time: 1.748, data_time: 1.423, memory: 6920, top1_acc: 0.4000, top5_acc: 1.0000, loss_cls: 1.0656, loss: 1.0656\n",
      "2024-06-28 22:01:30,522 - mmaction - INFO - Epoch [7][10/17]\tlr: 7.813e-07, eta: 0:03:21, time: 0.732, data_time: 0.437, memory: 6920, top1_acc: 0.3000, top5_acc: 1.0000, loss_cls: 1.1556, loss: 1.1556\n",
      "2024-06-28 22:01:33,159 - mmaction - INFO - Epoch [7][15/17]\tlr: 7.813e-07, eta: 0:03:13, time: 0.528, data_time: 0.261, memory: 6920, top1_acc: 0.2000, top5_acc: 1.0000, loss_cls: 1.1129, loss: 1.1129\n",
      "2024-06-28 22:01:43,886 - mmaction - INFO - Epoch [8][5/17]\tlr: 7.813e-07, eta: 0:03:11, time: 1.728, data_time: 1.415, memory: 6920, top1_acc: 0.2000, top5_acc: 1.0000, loss_cls: 1.1712, loss: 1.1712\n",
      "2024-06-28 22:01:45,844 - mmaction - INFO - Epoch [8][10/17]\tlr: 7.813e-07, eta: 0:03:03, time: 0.392, data_time: 0.110, memory: 6920, top1_acc: 0.3000, top5_acc: 1.0000, loss_cls: 1.1145, loss: 1.1145\n",
      "2024-06-28 22:01:48,248 - mmaction - INFO - Epoch [8][15/17]\tlr: 7.813e-07, eta: 0:02:55, time: 0.481, data_time: 0.211, memory: 6920, top1_acc: 0.3000, top5_acc: 1.0000, loss_cls: 1.1117, loss: 1.1117\n",
      "2024-06-28 22:01:58,833 - mmaction - INFO - Epoch [9][5/17]\tlr: 7.813e-07, eta: 0:02:53, time: 1.725, data_time: 1.418, memory: 6920, top1_acc: 0.3000, top5_acc: 1.0000, loss_cls: 1.1808, loss: 1.1808\n",
      "2024-06-28 22:02:01,552 - mmaction - INFO - Epoch [9][10/17]\tlr: 7.813e-07, eta: 0:02:47, time: 0.544, data_time: 0.259, memory: 6920, top1_acc: 0.2000, top5_acc: 1.0000, loss_cls: 1.1109, loss: 1.1109\n",
      "2024-06-28 22:02:05,141 - mmaction - INFO - Epoch [9][15/17]\tlr: 7.813e-07, eta: 0:02:41, time: 0.718, data_time: 0.419, memory: 6920, top1_acc: 0.2000, top5_acc: 1.0000, loss_cls: 1.1388, loss: 1.1388\n",
      "2024-06-28 22:02:17,404 - mmaction - INFO - Epoch [10][5/17]\tlr: 7.813e-07, eta: 0:02:40, time: 2.014, data_time: 1.631, memory: 6920, top1_acc: 0.3000, top5_acc: 1.0000, loss_cls: 1.1743, loss: 1.1743\n",
      "2024-06-28 22:02:20,160 - mmaction - INFO - Epoch [10][10/17]\tlr: 7.813e-07, eta: 0:02:34, time: 0.551, data_time: 0.270, memory: 6920, top1_acc: 0.3000, top5_acc: 1.0000, loss_cls: 1.1117, loss: 1.1117\n",
      "2024-06-28 22:02:21,580 - mmaction - INFO - Epoch [10][15/17]\tlr: 7.813e-07, eta: 0:02:26, time: 0.283, data_time: 0.001, memory: 6920, top1_acc: 0.0000, top5_acc: 1.0000, loss_cls: 1.1893, loss: 1.1893\n",
      "2024-06-28 22:02:23,742 - mmaction - INFO - Saving checkpoint at 10 epochs\n"
     ]
    },
    {
     "name": "stdout",
     "output_type": "stream",
     "text": [
      "[>>>>>>>>>>>>>>>>>>>>>>>>>>>>>>>>>>>>>>>>>>>>>>>>>>] 9/9, 0.5 task/s, elapsed: 17s, ETA:     0s"
     ]
    },
    {
     "name": "stderr",
     "output_type": "stream",
     "text": [
      "2024-06-28 22:02:42,877 - mmaction - INFO - Evaluating top_k_accuracy ...\n",
      "2024-06-28 22:02:42,878 - mmaction - INFO - \n",
      "top1_acc\t0.2222\n",
      "top5_acc\t1.0000\n",
      "2024-06-28 22:02:42,879 - mmaction - INFO - Evaluating mean_class_accuracy ...\n",
      "2024-06-28 22:02:42,879 - mmaction - INFO - \n",
      "mean_acc\t0.3333\n",
      "2024-06-28 22:02:42,880 - mmaction - INFO - Epoch(val) [10][9]\ttop1_acc: 0.2222, top5_acc: 1.0000, mean_class_accuracy: 0.3333\n"
     ]
    },
    {
     "name": "stdout",
     "output_type": "stream",
     "text": [
      "mean_class_accuracy\n",
      "[1 1 1 1 1 1 1 1 1]\n",
      "[2, 0, 2, 2, 1, 1, 0, 2, 2]\n"
     ]
    },
    {
     "name": "stderr",
     "output_type": "stream",
     "text": [
      "2024-06-28 22:02:51,040 - mmaction - INFO - Epoch [11][5/17]\tlr: 7.813e-07, eta: 0:02:23, time: 1.630, data_time: 1.308, memory: 6920, top1_acc: 0.2000, top5_acc: 1.0000, loss_cls: 1.1081, loss: 1.1081\n",
      "2024-06-28 22:02:55,323 - mmaction - INFO - Epoch [11][10/17]\tlr: 7.813e-07, eta: 0:02:18, time: 0.857, data_time: 0.579, memory: 6920, top1_acc: 0.3000, top5_acc: 1.0000, loss_cls: 1.1726, loss: 1.1726\n",
      "2024-06-28 22:02:57,988 - mmaction - INFO - Epoch [11][15/17]\tlr: 7.813e-07, eta: 0:02:12, time: 0.533, data_time: 0.249, memory: 6920, top1_acc: 0.3000, top5_acc: 1.0000, loss_cls: 1.1048, loss: 1.1048\n",
      "2024-06-28 22:03:10,038 - mmaction - INFO - Epoch [12][5/17]\tlr: 7.813e-07, eta: 0:02:09, time: 1.985, data_time: 1.645, memory: 6920, top1_acc: 0.3000, top5_acc: 1.0000, loss_cls: 1.1337, loss: 1.1337\n",
      "2024-06-28 22:03:13,676 - mmaction - INFO - Epoch [12][10/17]\tlr: 7.813e-07, eta: 0:02:05, time: 0.728, data_time: 0.421, memory: 6920, top1_acc: 0.1000, top5_acc: 1.0000, loss_cls: 1.1690, loss: 1.1690\n",
      "2024-06-28 22:03:15,401 - mmaction - INFO - Epoch [12][15/17]\tlr: 7.813e-07, eta: 0:01:58, time: 0.345, data_time: 0.058, memory: 6920, top1_acc: 0.1000, top5_acc: 1.0000, loss_cls: 1.1805, loss: 1.1805\n",
      "2024-06-28 22:03:28,824 - mmaction - INFO - Epoch [13][5/17]\tlr: 7.813e-07, eta: 0:01:56, time: 2.279, data_time: 1.916, memory: 6920, top1_acc: 0.4000, top5_acc: 1.0000, loss_cls: 1.0128, loss: 1.0128\n",
      "2024-06-28 22:03:30,986 - mmaction - INFO - Epoch [13][10/17]\tlr: 7.813e-07, eta: 0:01:50, time: 0.432, data_time: 0.162, memory: 6920, top1_acc: 0.4000, top5_acc: 1.0000, loss_cls: 1.0057, loss: 1.0057\n",
      "2024-06-28 22:03:32,998 - mmaction - INFO - Epoch [13][15/17]\tlr: 7.813e-07, eta: 0:01:44, time: 0.402, data_time: 0.118, memory: 6920, top1_acc: 0.0000, top5_acc: 1.0000, loss_cls: 1.2275, loss: 1.2275\n",
      "2024-06-28 22:03:43,252 - mmaction - INFO - Epoch [14][5/17]\tlr: 7.813e-07, eta: 0:01:39, time: 1.637, data_time: 1.290, memory: 6920, top1_acc: 0.3000, top5_acc: 1.0000, loss_cls: 1.1238, loss: 1.1238\n",
      "2024-06-28 22:03:45,720 - mmaction - INFO - Epoch [14][10/17]\tlr: 7.813e-07, eta: 0:01:34, time: 0.494, data_time: 0.213, memory: 6920, top1_acc: 0.2000, top5_acc: 1.0000, loss_cls: 1.1019, loss: 1.1019\n",
      "2024-06-28 22:03:48,601 - mmaction - INFO - Epoch [14][15/17]\tlr: 7.813e-07, eta: 0:01:29, time: 0.576, data_time: 0.296, memory: 6920, top1_acc: 0.2000, top5_acc: 1.0000, loss_cls: 1.1677, loss: 1.1677\n",
      "2024-06-28 22:03:59,686 - mmaction - INFO - Epoch [15][5/17]\tlr: 7.813e-07, eta: 0:01:24, time: 1.819, data_time: 1.468, memory: 6920, top1_acc: 0.3000, top5_acc: 1.0000, loss_cls: 1.0551, loss: 1.0551\n",
      "2024-06-28 22:04:03,109 - mmaction - INFO - Epoch [15][10/17]\tlr: 7.813e-07, eta: 0:01:19, time: 0.684, data_time: 0.403, memory: 6920, top1_acc: 0.0000, top5_acc: 1.0000, loss_cls: 1.2400, loss: 1.2400\n",
      "2024-06-28 22:04:04,487 - mmaction - INFO - Epoch [15][15/17]\tlr: 7.813e-07, eta: 0:01:14, time: 0.277, data_time: 0.002, memory: 6920, top1_acc: 0.2000, top5_acc: 1.0000, loss_cls: 1.0747, loss: 1.0747\n"
     ]
    },
    {
     "name": "stdout",
     "output_type": "stream",
     "text": [
      "[>>>>>>>>>>>>>>>>>>>>>>>>>>>>>>>>>>>>>>>>>>>>>>>>>>] 9/9, 0.5 task/s, elapsed: 17s, ETA:     0s"
     ]
    },
    {
     "name": "stderr",
     "output_type": "stream",
     "text": [
      "2024-06-28 22:04:24,924 - mmaction - INFO - Evaluating top_k_accuracy ...\n",
      "2024-06-28 22:04:24,925 - mmaction - INFO - \n",
      "top1_acc\t0.2222\n",
      "top5_acc\t1.0000\n",
      "2024-06-28 22:04:24,925 - mmaction - INFO - Evaluating mean_class_accuracy ...\n",
      "2024-06-28 22:04:24,926 - mmaction - INFO - \n",
      "mean_acc\t0.3333\n",
      "2024-06-28 22:04:24,927 - mmaction - INFO - Epoch(val) [15][9]\ttop1_acc: 0.2222, top5_acc: 1.0000, mean_class_accuracy: 0.3333\n"
     ]
    },
    {
     "name": "stdout",
     "output_type": "stream",
     "text": [
      "mean_class_accuracy\n",
      "[1 1 1 1 1 1 1 1 1]\n",
      "[2, 0, 2, 2, 1, 1, 0, 2, 2]\n"
     ]
    },
    {
     "name": "stderr",
     "output_type": "stream",
     "text": [
      "2024-06-28 22:04:33,578 - mmaction - INFO - Epoch [16][5/17]\tlr: 7.813e-07, eta: 0:01:09, time: 1.729, data_time: 1.416, memory: 6920, top1_acc: 0.5000, top5_acc: 1.0000, loss_cls: 1.0810, loss: 1.0810\n",
      "2024-06-28 22:04:36,607 - mmaction - INFO - Epoch [16][10/17]\tlr: 7.813e-07, eta: 0:01:04, time: 0.606, data_time: 0.319, memory: 6920, top1_acc: 0.4000, top5_acc: 1.0000, loss_cls: 1.0622, loss: 1.0622\n",
      "2024-06-28 22:04:37,991 - mmaction - INFO - Epoch [16][15/17]\tlr: 7.813e-07, eta: 0:00:59, time: 0.277, data_time: 0.001, memory: 6920, top1_acc: 0.3000, top5_acc: 1.0000, loss_cls: 1.1482, loss: 1.1482\n",
      "2024-06-28 22:04:50,956 - mmaction - INFO - Epoch [17][5/17]\tlr: 7.813e-07, eta: 0:00:54, time: 2.014, data_time: 1.709, memory: 6920, top1_acc: 0.3000, top5_acc: 1.0000, loss_cls: 1.1099, loss: 1.1099\n",
      "2024-06-28 22:04:52,648 - mmaction - INFO - Epoch [17][10/17]\tlr: 7.813e-07, eta: 0:00:49, time: 0.338, data_time: 0.054, memory: 6920, top1_acc: 0.1000, top5_acc: 1.0000, loss_cls: 1.1734, loss: 1.1734\n",
      "2024-06-28 22:04:56,372 - mmaction - INFO - Epoch [17][15/17]\tlr: 7.813e-07, eta: 0:00:45, time: 0.745, data_time: 0.443, memory: 6920, top1_acc: 0.3000, top5_acc: 1.0000, loss_cls: 1.1005, loss: 1.1005\n",
      "2024-06-28 22:05:08,576 - mmaction - INFO - Epoch [18][5/17]\tlr: 7.813e-07, eta: 0:00:39, time: 1.915, data_time: 1.570, memory: 6920, top1_acc: 0.5000, top5_acc: 1.0000, loss_cls: 1.1271, loss: 1.1271\n",
      "2024-06-28 22:05:10,724 - mmaction - INFO - Epoch [18][10/17]\tlr: 7.813e-07, eta: 0:00:35, time: 0.430, data_time: 0.140, memory: 6920, top1_acc: 0.3000, top5_acc: 1.0000, loss_cls: 1.0579, loss: 1.0579\n",
      "2024-06-28 22:05:14,048 - mmaction - INFO - Epoch [18][15/17]\tlr: 7.813e-07, eta: 0:00:30, time: 0.665, data_time: 0.364, memory: 6920, top1_acc: 0.3000, top5_acc: 1.0000, loss_cls: 1.0868, loss: 1.0868\n",
      "2024-06-28 22:05:24,284 - mmaction - INFO - Epoch [19][5/17]\tlr: 7.813e-07, eta: 0:00:25, time: 1.638, data_time: 1.301, memory: 6920, top1_acc: 0.4000, top5_acc: 1.0000, loss_cls: 1.1603, loss: 1.1603\n",
      "2024-06-28 22:05:27,393 - mmaction - INFO - Epoch [19][10/17]\tlr: 7.813e-07, eta: 0:00:20, time: 0.622, data_time: 0.314, memory: 6920, top1_acc: 0.3000, top5_acc: 1.0000, loss_cls: 1.1058, loss: 1.1058\n",
      "2024-06-28 22:05:31,037 - mmaction - INFO - Epoch [19][15/17]\tlr: 7.813e-07, eta: 0:00:16, time: 0.729, data_time: 0.440, memory: 6920, top1_acc: 0.3000, top5_acc: 1.0000, loss_cls: 1.1282, loss: 1.1282\n",
      "2024-06-28 22:05:42,172 - mmaction - INFO - Epoch [20][5/17]\tlr: 7.813e-07, eta: 0:00:10, time: 1.799, data_time: 1.460, memory: 6920, top1_acc: 0.1000, top5_acc: 1.0000, loss_cls: 1.1359, loss: 1.1359\n",
      "2024-06-28 22:05:44,168 - mmaction - INFO - Epoch [20][10/17]\tlr: 7.813e-07, eta: 0:00:06, time: 0.400, data_time: 0.134, memory: 6920, top1_acc: 0.2000, top5_acc: 1.0000, loss_cls: 1.1534, loss: 1.1534\n",
      "2024-06-28 22:05:47,772 - mmaction - INFO - Epoch [20][15/17]\tlr: 7.813e-07, eta: 0:00:01, time: 0.721, data_time: 0.440, memory: 6920, top1_acc: 0.7000, top5_acc: 1.0000, loss_cls: 0.9329, loss: 0.9329\n",
      "2024-06-28 22:05:49,846 - mmaction - INFO - Saving checkpoint at 20 epochs\n"
     ]
    },
    {
     "name": "stdout",
     "output_type": "stream",
     "text": [
      "[>>>>>>>>>>>>>>>>>>>>>>>>>>>>>>>>>>>>>>>>>>>>>>>>>>] 9/9, 0.5 task/s, elapsed: 17s, ETA:     0s"
     ]
    },
    {
     "name": "stderr",
     "output_type": "stream",
     "text": [
      "2024-06-28 22:06:08,836 - mmaction - INFO - Evaluating top_k_accuracy ...\n",
      "2024-06-28 22:06:08,836 - mmaction - INFO - \n",
      "top1_acc\t0.2222\n",
      "top5_acc\t1.0000\n",
      "2024-06-28 22:06:08,837 - mmaction - INFO - Evaluating mean_class_accuracy ...\n",
      "2024-06-28 22:06:08,838 - mmaction - INFO - \n",
      "mean_acc\t0.3333\n",
      "2024-06-28 22:06:08,838 - mmaction - INFO - Epoch(val) [20][9]\ttop1_acc: 0.2222, top5_acc: 1.0000, mean_class_accuracy: 0.3333\n"
     ]
    },
    {
     "name": "stdout",
     "output_type": "stream",
     "text": [
      "mean_class_accuracy\n",
      "[1 1 1 1 1 1 1 1 1]\n",
      "[2, 0, 2, 2, 1, 1, 0, 2, 2]\n"
     ]
    },
    {
     "name": "stderr",
     "output_type": "stream",
     "text": [
      "2024-06-28 22:06:10,428 - mmaction - INFO - load checkpoint from local path: ./tutorial_exps/epoch_20.pth\n"
     ]
    },
    {
     "name": "stdout",
     "output_type": "stream",
     "text": [
      "Selected optimization level O1:  Insert automatic casts around Pytorch functions and Tensor methods.\n",
      "\n",
      "Defaults for this optimization level are:\n",
      "enabled                : True\n",
      "opt_level              : O1\n",
      "cast_model_type        : None\n",
      "patch_torch_functions  : True\n",
      "keep_batchnorm_fp32    : None\n",
      "master_weights         : None\n",
      "loss_scale             : dynamic\n",
      "Processing user overrides (additional kwargs that are not None)...\n",
      "After processing overrides, optimization options are:\n",
      "enabled                : True\n",
      "opt_level              : O1\n",
      "cast_model_type        : None\n",
      "patch_torch_functions  : True\n",
      "keep_batchnorm_fp32    : None\n",
      "master_weights         : None\n",
      "loss_scale             : dynamic\n"
     ]
    },
    {
     "name": "stderr",
     "output_type": "stream",
     "text": [
      "2024-06-28 22:06:10,863 - mmaction - INFO - Start running, host: 15281@实验室, work_dir: H:\\code\\视频组代码\\Video_Swin_Transformer\\tutorial_exps1\n",
      "2024-06-28 22:06:10,864 - mmaction - INFO - Hooks will be executed in the following order:\n",
      "before_run:\n",
      "(VERY_HIGH   ) StepLrUpdaterHook                  \n",
      "(ABOVE_NORMAL) DistOptimizerHook                  \n",
      "(NORMAL      ) CheckpointHook                     \n",
      "(NORMAL      ) EvalHook                           \n",
      "(VERY_LOW    ) TextLoggerHook                     \n",
      " -------------------- \n",
      "before_train_epoch:\n",
      "(VERY_HIGH   ) StepLrUpdaterHook                  \n",
      "(NORMAL      ) EvalHook                           \n",
      "(LOW         ) IterTimerHook                      \n",
      "(VERY_LOW    ) TextLoggerHook                     \n",
      " -------------------- \n",
      "before_train_iter:\n",
      "(VERY_HIGH   ) StepLrUpdaterHook                  \n",
      "(NORMAL      ) EvalHook                           \n",
      "(LOW         ) IterTimerHook                      \n",
      " -------------------- \n",
      "after_train_iter:\n",
      "(ABOVE_NORMAL) DistOptimizerHook                  \n",
      "(NORMAL      ) CheckpointHook                     \n",
      "(NORMAL      ) EvalHook                           \n",
      "(LOW         ) IterTimerHook                      \n",
      "(VERY_LOW    ) TextLoggerHook                     \n",
      " -------------------- \n",
      "after_train_epoch:\n",
      "(NORMAL      ) CheckpointHook                     \n",
      "(NORMAL      ) EvalHook                           \n",
      "(VERY_LOW    ) TextLoggerHook                     \n",
      " -------------------- \n",
      "before_val_epoch:\n",
      "(LOW         ) IterTimerHook                      \n",
      "(VERY_LOW    ) TextLoggerHook                     \n",
      " -------------------- \n",
      "before_val_iter:\n",
      "(LOW         ) IterTimerHook                      \n",
      " -------------------- \n",
      "after_val_iter:\n",
      "(LOW         ) IterTimerHook                      \n",
      " -------------------- \n",
      "after_val_epoch:\n",
      "(VERY_LOW    ) TextLoggerHook                     \n",
      " -------------------- \n",
      "after_run:\n",
      "(VERY_LOW    ) TextLoggerHook                     \n",
      " -------------------- \n",
      "2024-06-28 22:06:10,864 - mmaction - INFO - workflow: [('train', 1)], max: 20 epochs\n",
      "2024-06-28 22:06:10,870 - mmaction - INFO - Checkpoints will be saved to H:\\code\\视频组代码\\Video_Swin_Transformer\\tutorial_exps1 by HardDiskBackend.\n",
      "2024-06-28 22:06:20,083 - mmaction - INFO - Epoch [1][5/17]\tlr: 7.813e-07, eta: 0:10:16, time: 1.841, data_time: 1.478, memory: 6920, top1_acc: 0.3000, top5_acc: 1.0000, loss_cls: 1.1153, loss: 1.1153\n",
      "2024-06-28 22:06:23,368 - mmaction - INFO - Epoch [1][10/17]\tlr: 7.813e-07, eta: 0:06:52, time: 0.657, data_time: 0.365, memory: 7089, top1_acc: 0.2000, top5_acc: 1.0000, loss_cls: 1.1058, loss: 1.1058\n",
      "2024-06-28 22:06:24,718 - mmaction - INFO - Epoch [1][15/17]\tlr: 7.813e-07, eta: 0:04:59, time: 0.270, data_time: 0.001, memory: 7091, top1_acc: 0.0000, top5_acc: 1.0000, loss_cls: 1.1851, loss: 1.1851\n",
      "2024-06-28 22:06:36,878 - mmaction - INFO - Epoch [2][5/17]\tlr: 7.813e-07, eta: 0:05:43, time: 1.985, data_time: 1.664, memory: 7093, top1_acc: 0.1000, top5_acc: 1.0000, loss_cls: 1.1548, loss: 1.1548\n",
      "2024-06-28 22:06:38,272 - mmaction - INFO - Epoch [2][10/17]\tlr: 7.813e-07, eta: 0:04:51, time: 0.279, data_time: 0.001, memory: 7093, top1_acc: 0.6000, top5_acc: 1.0000, loss_cls: 1.0541, loss: 1.0541\n",
      "2024-06-28 22:06:40,443 - mmaction - INFO - Epoch [2][15/17]\tlr: 7.813e-07, eta: 0:04:23, time: 0.433, data_time: 0.156, memory: 7097, top1_acc: 0.3000, top5_acc: 1.0000, loss_cls: 1.0269, loss: 1.0269\n",
      "2024-06-28 22:06:50,882 - mmaction - INFO - Epoch [3][5/17]\tlr: 7.813e-07, eta: 0:04:36, time: 1.697, data_time: 1.323, memory: 7097, top1_acc: 0.3000, top5_acc: 1.0000, loss_cls: 1.0259, loss: 1.0259\n",
      "2024-06-28 22:06:53,770 - mmaction - INFO - Epoch [3][10/17]\tlr: 7.813e-07, eta: 0:04:20, time: 0.577, data_time: 0.302, memory: 7097, top1_acc: 0.3000, top5_acc: 1.0000, loss_cls: 1.0250, loss: 1.0250\n",
      "2024-06-28 22:06:55,661 - mmaction - INFO - Epoch [3][15/17]\tlr: 7.813e-07, eta: 0:04:01, time: 0.378, data_time: 0.099, memory: 7097, top1_acc: 0.1000, top5_acc: 1.0000, loss_cls: 1.1446, loss: 1.1446\n",
      "2024-06-28 22:07:06,107 - mmaction - INFO - Epoch [4][5/17]\tlr: 7.813e-07, eta: 0:04:07, time: 1.642, data_time: 1.309, memory: 7097, top1_acc: 0.1000, top5_acc: 1.0000, loss_cls: 1.1274, loss: 1.1274\n",
      "2024-06-28 22:07:08,420 - mmaction - INFO - Epoch [4][10/17]\tlr: 7.813e-07, eta: 0:03:53, time: 0.463, data_time: 0.202, memory: 7097, top1_acc: 0.5000, top5_acc: 1.0000, loss_cls: 0.9135, loss: 0.9135\n",
      "2024-06-28 22:07:11,767 - mmaction - INFO - Epoch [4][15/17]\tlr: 7.813e-07, eta: 0:03:46, time: 0.669, data_time: 0.369, memory: 7097, top1_acc: 0.1000, top5_acc: 1.0000, loss_cls: 1.1657, loss: 1.1657\n",
      "2024-06-28 22:07:23,214 - mmaction - INFO - Epoch [5][5/17]\tlr: 7.813e-07, eta: 0:03:52, time: 1.815, data_time: 1.483, memory: 7097, top1_acc: 0.3000, top5_acc: 1.0000, loss_cls: 1.1049, loss: 1.1049\n",
      "2024-06-28 22:07:25,446 - mmaction - INFO - Epoch [5][10/17]\tlr: 7.813e-07, eta: 0:03:40, time: 0.446, data_time: 0.177, memory: 7097, top1_acc: 0.3000, top5_acc: 1.0000, loss_cls: 1.1300, loss: 1.1300\n",
      "2024-06-28 22:07:27,272 - mmaction - INFO - Epoch [5][15/17]\tlr: 7.813e-07, eta: 0:03:29, time: 0.365, data_time: 0.081, memory: 7097, top1_acc: 0.2000, top5_acc: 1.0000, loss_cls: 1.1319, loss: 1.1319\n"
     ]
    },
    {
     "name": "stdout",
     "output_type": "stream",
     "text": [
      "[>>>>>>>>>>>>>>>>>>>>>>>>>>>>>>>>>>>>>>>>>>>>>>>>>>] 9/9, 0.5 task/s, elapsed: 17s, ETA:     0s"
     ]
    },
    {
     "name": "stderr",
     "output_type": "stream",
     "text": [
      "2024-06-28 22:07:46,717 - mmaction - INFO - Evaluating top_k_accuracy ...\n",
      "2024-06-28 22:07:46,718 - mmaction - INFO - \n",
      "top1_acc\t0.3333\n",
      "top5_acc\t1.0000\n",
      "2024-06-28 22:07:46,718 - mmaction - INFO - Evaluating mean_class_accuracy ...\n",
      "2024-06-28 22:07:46,719 - mmaction - INFO - \n",
      "mean_acc\t0.4000\n"
     ]
    },
    {
     "name": "stdout",
     "output_type": "stream",
     "text": [
      "mean_class_accuracy\n",
      "[1 1 1 2 1 1 1 1 1]\n",
      "[2, 0, 2, 2, 1, 1, 0, 2, 2]\n"
     ]
    },
    {
     "name": "stderr",
     "output_type": "stream",
     "text": [
      "2024-06-28 22:07:48,038 - mmaction - INFO - Now best checkpoint is saved as best_top1_acc_epoch_5.pth.\n",
      "2024-06-28 22:07:48,039 - mmaction - INFO - Best top1_acc is 0.3333 at 5 epoch.\n",
      "2024-06-28 22:07:48,040 - mmaction - INFO - Epoch(val) [5][9]\ttop1_acc: 0.3333, top5_acc: 1.0000, mean_class_accuracy: 0.4000\n",
      "2024-06-28 22:07:58,572 - mmaction - INFO - Epoch [6][5/17]\tlr: 7.813e-07, eta: 0:03:36, time: 2.105, data_time: 1.767, memory: 7097, top1_acc: 0.2000, top5_acc: 1.0000, loss_cls: 1.1260, loss: 1.1260\n",
      "2024-06-28 22:08:01,946 - mmaction - INFO - Epoch [6][10/17]\tlr: 7.813e-07, eta: 0:03:30, time: 0.675, data_time: 0.352, memory: 7097, top1_acc: 0.3000, top5_acc: 1.0000, loss_cls: 1.1072, loss: 1.1072\n",
      "2024-06-28 22:08:03,414 - mmaction - INFO - Epoch [6][15/17]\tlr: 7.813e-07, eta: 0:03:19, time: 0.294, data_time: 0.001, memory: 7097, top1_acc: 0.4000, top5_acc: 1.0000, loss_cls: 1.0359, loss: 1.0359\n",
      "2024-06-28 22:08:14,944 - mmaction - INFO - Epoch [7][5/17]\tlr: 7.813e-07, eta: 0:03:19, time: 1.702, data_time: 1.373, memory: 7097, top1_acc: 0.3000, top5_acc: 1.0000, loss_cls: 1.1210, loss: 1.1210\n",
      "2024-06-28 22:08:17,312 - mmaction - INFO - Epoch [7][10/17]\tlr: 7.813e-07, eta: 0:03:11, time: 0.474, data_time: 0.182, memory: 7097, top1_acc: 0.4000, top5_acc: 1.0000, loss_cls: 1.0395, loss: 1.0395\n",
      "2024-06-28 22:08:19,836 - mmaction - INFO - Epoch [7][15/17]\tlr: 7.813e-07, eta: 0:03:03, time: 0.505, data_time: 0.229, memory: 7097, top1_acc: 0.5000, top5_acc: 1.0000, loss_cls: 1.0200, loss: 1.0200\n",
      "2024-06-28 22:08:29,957 - mmaction - INFO - Epoch [8][5/17]\tlr: 7.813e-07, eta: 0:03:01, time: 1.591, data_time: 1.263, memory: 7097, top1_acc: 0.2000, top5_acc: 1.0000, loss_cls: 1.1356, loss: 1.1356\n",
      "2024-06-28 22:08:33,592 - mmaction - INFO - Epoch [8][10/17]\tlr: 7.813e-07, eta: 0:02:56, time: 0.727, data_time: 0.447, memory: 7097, top1_acc: 0.3000, top5_acc: 1.0000, loss_cls: 1.0809, loss: 1.0809\n",
      "2024-06-28 22:08:35,216 - mmaction - INFO - Epoch [8][15/17]\tlr: 7.813e-07, eta: 0:02:48, time: 0.325, data_time: 0.058, memory: 7097, top1_acc: 0.3000, top5_acc: 1.0000, loss_cls: 1.0890, loss: 1.0890\n",
      "2024-06-28 22:08:46,288 - mmaction - INFO - Epoch [9][5/17]\tlr: 7.813e-07, eta: 0:02:47, time: 1.800, data_time: 1.446, memory: 7097, top1_acc: 0.1000, top5_acc: 1.0000, loss_cls: 1.1873, loss: 1.1873\n",
      "2024-06-28 22:08:48,417 - mmaction - INFO - Epoch [9][10/17]\tlr: 7.813e-07, eta: 0:02:40, time: 0.426, data_time: 0.136, memory: 7097, top1_acc: 0.5000, top5_acc: 1.0000, loss_cls: 1.0578, loss: 1.0578\n",
      "2024-06-28 22:08:50,347 - mmaction - INFO - Epoch [9][15/17]\tlr: 7.813e-07, eta: 0:02:33, time: 0.386, data_time: 0.110, memory: 7097, top1_acc: 0.3000, top5_acc: 1.0000, loss_cls: 1.0630, loss: 1.0630\n",
      "2024-06-28 22:09:02,948 - mmaction - INFO - Epoch [10][5/17]\tlr: 7.813e-07, eta: 0:02:31, time: 1.763, data_time: 1.431, memory: 7097, top1_acc: 0.3000, top5_acc: 1.0000, loss_cls: 1.0444, loss: 1.0444\n",
      "2024-06-28 22:09:04,749 - mmaction - INFO - Epoch [10][10/17]\tlr: 7.813e-07, eta: 0:02:24, time: 0.360, data_time: 0.075, memory: 7097, top1_acc: 0.2000, top5_acc: 1.0000, loss_cls: 1.0848, loss: 1.0848\n",
      "2024-06-28 22:09:09,382 - mmaction - INFO - Epoch [10][15/17]\tlr: 7.813e-07, eta: 0:02:21, time: 0.926, data_time: 0.591, memory: 7097, top1_acc: 0.3000, top5_acc: 1.0000, loss_cls: 1.0964, loss: 1.0964\n",
      "2024-06-28 22:09:11,467 - mmaction - INFO - Saving checkpoint at 10 epochs\n"
     ]
    },
    {
     "name": "stdout",
     "output_type": "stream",
     "text": [
      "[>>>>>>>>>>>>>>>>>>>>>>>>>>>>>>>>>>>>>>>>>>>>>>>>>>] 9/9, 0.5 task/s, elapsed: 18s, ETA:     0s"
     ]
    },
    {
     "name": "stderr",
     "output_type": "stream",
     "text": [
      "2024-06-28 22:09:31,074 - mmaction - INFO - Evaluating top_k_accuracy ...\n",
      "2024-06-28 22:09:31,074 - mmaction - INFO - \n",
      "top1_acc\t0.3333\n",
      "top5_acc\t1.0000\n",
      "2024-06-28 22:09:31,075 - mmaction - INFO - Evaluating mean_class_accuracy ...\n",
      "2024-06-28 22:09:31,075 - mmaction - INFO - \n",
      "mean_acc\t0.4000\n",
      "2024-06-28 22:09:31,076 - mmaction - INFO - Epoch(val) [10][9]\ttop1_acc: 0.3333, top5_acc: 1.0000, mean_class_accuracy: 0.4000\n"
     ]
    },
    {
     "name": "stdout",
     "output_type": "stream",
     "text": [
      "mean_class_accuracy\n",
      "[1 1 1 2 1 1 1 1 1]\n",
      "[2, 0, 2, 2, 1, 1, 0, 2, 2]\n"
     ]
    },
    {
     "name": "stderr",
     "output_type": "stream",
     "text": [
      "2024-06-28 22:09:40,679 - mmaction - INFO - Epoch [11][5/17]\tlr: 7.813e-07, eta: 0:02:19, time: 1.919, data_time: 1.583, memory: 7097, top1_acc: 0.2000, top5_acc: 1.0000, loss_cls: 1.0816, loss: 1.0816\n",
      "2024-06-28 22:09:42,204 - mmaction - INFO - Epoch [11][10/17]\tlr: 7.813e-07, eta: 0:02:12, time: 0.305, data_time: 0.012, memory: 7097, top1_acc: 0.4000, top5_acc: 1.0000, loss_cls: 0.9857, loss: 0.9857\n",
      "2024-06-28 22:09:47,145 - mmaction - INFO - Epoch [11][15/17]\tlr: 7.813e-07, eta: 0:02:08, time: 0.988, data_time: 0.670, memory: 7097, top1_acc: 0.4000, top5_acc: 1.0000, loss_cls: 1.1066, loss: 1.1066\n",
      "2024-06-28 22:09:58,524 - mmaction - INFO - Epoch [12][5/17]\tlr: 7.813e-07, eta: 0:02:05, time: 1.849, data_time: 1.474, memory: 7097, top1_acc: 0.4000, top5_acc: 1.0000, loss_cls: 0.9899, loss: 0.9899\n",
      "2024-06-28 22:10:02,616 - mmaction - INFO - Epoch [12][10/17]\tlr: 7.813e-07, eta: 0:02:01, time: 0.818, data_time: 0.485, memory: 7097, top1_acc: 0.2000, top5_acc: 1.0000, loss_cls: 1.0107, loss: 1.0107\n",
      "2024-06-28 22:10:04,060 - mmaction - INFO - Epoch [12][15/17]\tlr: 7.813e-07, eta: 0:01:55, time: 0.289, data_time: 0.001, memory: 7097, top1_acc: 0.3000, top5_acc: 1.0000, loss_cls: 1.0801, loss: 1.0801\n",
      "2024-06-28 22:10:15,360 - mmaction - INFO - Epoch [13][5/17]\tlr: 7.813e-07, eta: 0:01:51, time: 1.752, data_time: 1.425, memory: 7097, top1_acc: 0.3000, top5_acc: 1.0000, loss_cls: 1.0820, loss: 1.0820\n",
      "2024-06-28 22:10:17,623 - mmaction - INFO - Epoch [13][10/17]\tlr: 7.813e-07, eta: 0:01:45, time: 0.452, data_time: 0.182, memory: 7097, top1_acc: 0.3000, top5_acc: 1.0000, loss_cls: 1.0706, loss: 1.0706\n",
      "2024-06-28 22:10:20,471 - mmaction - INFO - Epoch [13][15/17]\tlr: 7.813e-07, eta: 0:01:40, time: 0.570, data_time: 0.294, memory: 7097, top1_acc: 0.4000, top5_acc: 1.0000, loss_cls: 1.0350, loss: 1.0350\n",
      "2024-06-28 22:10:33,905 - mmaction - INFO - Epoch [14][5/17]\tlr: 7.813e-07, eta: 0:01:37, time: 2.296, data_time: 1.929, memory: 7097, top1_acc: 0.3000, top5_acc: 1.0000, loss_cls: 1.1462, loss: 1.1462\n",
      "2024-06-28 22:10:35,755 - mmaction - INFO - Epoch [14][10/17]\tlr: 7.813e-07, eta: 0:01:32, time: 0.370, data_time: 0.085, memory: 7097, top1_acc: 0.5000, top5_acc: 1.0000, loss_cls: 1.0184, loss: 1.0184\n",
      "2024-06-28 22:10:37,753 - mmaction - INFO - Epoch [14][15/17]\tlr: 7.813e-07, eta: 0:01:27, time: 0.399, data_time: 0.118, memory: 7097, top1_acc: 0.2000, top5_acc: 1.0000, loss_cls: 1.1518, loss: 1.1518\n",
      "2024-06-28 22:10:51,699 - mmaction - INFO - Epoch [15][5/17]\tlr: 7.813e-07, eta: 0:01:23, time: 2.252, data_time: 1.911, memory: 7097, top1_acc: 0.1000, top5_acc: 1.0000, loss_cls: 1.1739, loss: 1.1739\n",
      "2024-06-28 22:10:55,445 - mmaction - INFO - Epoch [15][10/17]\tlr: 7.813e-07, eta: 0:01:18, time: 0.749, data_time: 0.432, memory: 7097, top1_acc: 0.4000, top5_acc: 1.0000, loss_cls: 1.0468, loss: 1.0468\n",
      "2024-06-28 22:10:57,774 - mmaction - INFO - Epoch [15][15/17]\tlr: 7.813e-07, eta: 0:01:14, time: 0.466, data_time: 0.194, memory: 7097, top1_acc: 0.6000, top5_acc: 1.0000, loss_cls: 1.0251, loss: 1.0251\n"
     ]
    },
    {
     "name": "stdout",
     "output_type": "stream",
     "text": [
      "[>>>>>>>>>>>>>>>>>>>>>>>>>>>>>>>>>>>>>>>>>>>>>>>>>>] 9/9, 0.5 task/s, elapsed: 17s, ETA:     0s"
     ]
    },
    {
     "name": "stderr",
     "output_type": "stream",
     "text": [
      "2024-06-28 22:11:17,194 - mmaction - INFO - Evaluating top_k_accuracy ...\n",
      "2024-06-28 22:11:17,195 - mmaction - INFO - \n",
      "top1_acc\t0.3333\n",
      "top5_acc\t1.0000\n",
      "2024-06-28 22:11:17,195 - mmaction - INFO - Evaluating mean_class_accuracy ...\n",
      "2024-06-28 22:11:17,196 - mmaction - INFO - \n",
      "mean_acc\t0.4000\n",
      "2024-06-28 22:11:17,197 - mmaction - INFO - Epoch(val) [15][9]\ttop1_acc: 0.3333, top5_acc: 1.0000, mean_class_accuracy: 0.4000\n"
     ]
    },
    {
     "name": "stdout",
     "output_type": "stream",
     "text": [
      "mean_class_accuracy\n",
      "[1 1 1 2 1 1 1 1 1]\n",
      "[2, 0, 2, 2, 1, 1, 0, 2, 2]\n"
     ]
    },
    {
     "name": "stderr",
     "output_type": "stream",
     "text": [
      "2024-06-28 22:11:27,825 - mmaction - INFO - Epoch [16][5/17]\tlr: 7.813e-07, eta: 0:01:09, time: 2.124, data_time: 1.793, memory: 7097, top1_acc: 0.2000, top5_acc: 1.0000, loss_cls: 1.0782, loss: 1.0782\n",
      "2024-06-28 22:11:31,170 - mmaction - INFO - Epoch [16][10/17]\tlr: 7.813e-07, eta: 0:01:04, time: 0.669, data_time: 0.359, memory: 7097, top1_acc: 0.3000, top5_acc: 1.0000, loss_cls: 1.0627, loss: 1.0627\n",
      "2024-06-28 22:11:33,588 - mmaction - INFO - Epoch [16][15/17]\tlr: 7.813e-07, eta: 0:01:00, time: 0.484, data_time: 0.192, memory: 7097, top1_acc: 0.4000, top5_acc: 1.0000, loss_cls: 1.0907, loss: 1.0907\n",
      "2024-06-28 22:11:45,075 - mmaction - INFO - Epoch [17][5/17]\tlr: 7.813e-07, eta: 0:00:54, time: 1.859, data_time: 1.541, memory: 7097, top1_acc: 0.4000, top5_acc: 1.0000, loss_cls: 1.1032, loss: 1.1032\n",
      "2024-06-28 22:11:46,721 - mmaction - INFO - Epoch [17][10/17]\tlr: 7.813e-07, eta: 0:00:49, time: 0.329, data_time: 0.050, memory: 7097, top1_acc: 0.4000, top5_acc: 1.0000, loss_cls: 1.0062, loss: 1.0062\n",
      "2024-06-28 22:11:48,912 - mmaction - INFO - Epoch [17][15/17]\tlr: 7.813e-07, eta: 0:00:45, time: 0.438, data_time: 0.163, memory: 7097, top1_acc: 0.5000, top5_acc: 1.0000, loss_cls: 1.0387, loss: 1.0387\n",
      "2024-06-28 22:11:59,491 - mmaction - INFO - Epoch [18][5/17]\tlr: 7.813e-07, eta: 0:00:39, time: 1.666, data_time: 1.335, memory: 7097, top1_acc: 0.3000, top5_acc: 1.0000, loss_cls: 1.0466, loss: 1.0466\n",
      "2024-06-28 22:12:01,695 - mmaction - INFO - Epoch [18][10/17]\tlr: 7.813e-07, eta: 0:00:35, time: 0.441, data_time: 0.160, memory: 7097, top1_acc: 0.4000, top5_acc: 1.0000, loss_cls: 1.0071, loss: 1.0071\n",
      "2024-06-28 22:12:05,274 - mmaction - INFO - Epoch [18][15/17]\tlr: 7.813e-07, eta: 0:00:30, time: 0.715, data_time: 0.386, memory: 7097, top1_acc: 0.3000, top5_acc: 1.0000, loss_cls: 1.0672, loss: 1.0672\n",
      "2024-06-28 22:12:16,572 - mmaction - INFO - Epoch [19][5/17]\tlr: 7.813e-07, eta: 0:00:24, time: 1.837, data_time: 1.513, memory: 7097, top1_acc: 0.6000, top5_acc: 1.0000, loss_cls: 1.0018, loss: 1.0018\n",
      "2024-06-28 22:12:19,346 - mmaction - INFO - Epoch [19][10/17]\tlr: 7.813e-07, eta: 0:00:20, time: 0.555, data_time: 0.279, memory: 7097, top1_acc: 0.4000, top5_acc: 1.0000, loss_cls: 0.9855, loss: 0.9855\n",
      "2024-06-28 22:12:21,881 - mmaction - INFO - Epoch [19][15/17]\tlr: 7.813e-07, eta: 0:00:16, time: 0.507, data_time: 0.229, memory: 7097, top1_acc: 0.2000, top5_acc: 1.0000, loss_cls: 1.0907, loss: 1.0907\n",
      "2024-06-28 22:12:33,896 - mmaction - INFO - Epoch [20][5/17]\tlr: 7.813e-07, eta: 0:00:10, time: 2.001, data_time: 1.675, memory: 7097, top1_acc: 0.6000, top5_acc: 1.0000, loss_cls: 0.9492, loss: 0.9492\n",
      "2024-06-28 22:12:35,440 - mmaction - INFO - Epoch [20][10/17]\tlr: 7.813e-07, eta: 0:00:05, time: 0.310, data_time: 0.038, memory: 7097, top1_acc: 0.6000, top5_acc: 1.0000, loss_cls: 1.0145, loss: 1.0145\n",
      "2024-06-28 22:12:37,295 - mmaction - INFO - Epoch [20][15/17]\tlr: 7.813e-07, eta: 0:00:01, time: 0.371, data_time: 0.087, memory: 7097, top1_acc: 0.3000, top5_acc: 1.0000, loss_cls: 1.0114, loss: 1.0114\n",
      "2024-06-28 22:12:39,763 - mmaction - INFO - Saving checkpoint at 20 epochs\n"
     ]
    },
    {
     "name": "stdout",
     "output_type": "stream",
     "text": [
      "[>>>>>>>>>>>>>>>>>>>>>>>>>>>>>>>>>>>>>>>>>>>>>>>>>>] 9/9, 0.5 task/s, elapsed: 17s, ETA:     0s"
     ]
    },
    {
     "name": "stderr",
     "output_type": "stream",
     "text": [
      "2024-06-28 22:12:59,009 - mmaction - INFO - Evaluating top_k_accuracy ...\n",
      "2024-06-28 22:12:59,011 - mmaction - INFO - \n",
      "top1_acc\t0.3333\n",
      "top5_acc\t1.0000\n",
      "2024-06-28 22:12:59,011 - mmaction - INFO - Evaluating mean_class_accuracy ...\n",
      "2024-06-28 22:12:59,012 - mmaction - INFO - \n",
      "mean_acc\t0.4000\n",
      "2024-06-28 22:12:59,012 - mmaction - INFO - Epoch(val) [20][9]\ttop1_acc: 0.3333, top5_acc: 1.0000, mean_class_accuracy: 0.4000\n"
     ]
    },
    {
     "name": "stdout",
     "output_type": "stream",
     "text": [
      "mean_class_accuracy\n",
      "[1 1 1 2 1 1 1 1 1]\n",
      "[2, 0, 2, 2, 1, 1, 0, 2, 2]\n"
     ]
    },
    {
     "name": "stderr",
     "output_type": "stream",
     "text": [
      "2024-06-28 22:13:00,476 - mmaction - INFO - load checkpoint from local path: ./tutorial_exps/epoch_20.pth\n"
     ]
    },
    {
     "name": "stdout",
     "output_type": "stream",
     "text": [
      "Selected optimization level O1:  Insert automatic casts around Pytorch functions and Tensor methods.\n",
      "\n",
      "Defaults for this optimization level are:\n",
      "enabled                : True\n",
      "opt_level              : O1\n",
      "cast_model_type        : None\n",
      "patch_torch_functions  : True\n",
      "keep_batchnorm_fp32    : None\n",
      "master_weights         : None\n",
      "loss_scale             : dynamic\n",
      "Processing user overrides (additional kwargs that are not None)...\n",
      "After processing overrides, optimization options are:\n",
      "enabled                : True\n",
      "opt_level              : O1\n",
      "cast_model_type        : None\n",
      "patch_torch_functions  : True\n",
      "keep_batchnorm_fp32    : None\n",
      "master_weights         : None\n",
      "loss_scale             : dynamic\n"
     ]
    },
    {
     "name": "stderr",
     "output_type": "stream",
     "text": [
      "2024-06-28 22:13:00,812 - mmaction - INFO - Start running, host: 15281@实验室, work_dir: H:\\code\\视频组代码\\Video_Swin_Transformer\\tutorial_exps1\n",
      "2024-06-28 22:13:00,812 - mmaction - INFO - Hooks will be executed in the following order:\n",
      "before_run:\n",
      "(VERY_HIGH   ) StepLrUpdaterHook                  \n",
      "(ABOVE_NORMAL) DistOptimizerHook                  \n",
      "(NORMAL      ) CheckpointHook                     \n",
      "(NORMAL      ) EvalHook                           \n",
      "(VERY_LOW    ) TextLoggerHook                     \n",
      " -------------------- \n",
      "before_train_epoch:\n",
      "(VERY_HIGH   ) StepLrUpdaterHook                  \n",
      "(NORMAL      ) EvalHook                           \n",
      "(LOW         ) IterTimerHook                      \n",
      "(VERY_LOW    ) TextLoggerHook                     \n",
      " -------------------- \n",
      "before_train_iter:\n",
      "(VERY_HIGH   ) StepLrUpdaterHook                  \n",
      "(NORMAL      ) EvalHook                           \n",
      "(LOW         ) IterTimerHook                      \n",
      " -------------------- \n",
      "after_train_iter:\n",
      "(ABOVE_NORMAL) DistOptimizerHook                  \n",
      "(NORMAL      ) CheckpointHook                     \n",
      "(NORMAL      ) EvalHook                           \n",
      "(LOW         ) IterTimerHook                      \n",
      "(VERY_LOW    ) TextLoggerHook                     \n",
      " -------------------- \n",
      "after_train_epoch:\n",
      "(NORMAL      ) CheckpointHook                     \n",
      "(NORMAL      ) EvalHook                           \n",
      "(VERY_LOW    ) TextLoggerHook                     \n",
      " -------------------- \n",
      "before_val_epoch:\n",
      "(LOW         ) IterTimerHook                      \n",
      "(VERY_LOW    ) TextLoggerHook                     \n",
      " -------------------- \n",
      "before_val_iter:\n",
      "(LOW         ) IterTimerHook                      \n",
      " -------------------- \n",
      "after_val_iter:\n",
      "(LOW         ) IterTimerHook                      \n",
      " -------------------- \n",
      "after_val_epoch:\n",
      "(VERY_LOW    ) TextLoggerHook                     \n",
      " -------------------- \n",
      "after_run:\n",
      "(VERY_LOW    ) TextLoggerHook                     \n",
      " -------------------- \n",
      "2024-06-28 22:13:00,813 - mmaction - INFO - workflow: [('train', 1)], max: 20 epochs\n",
      "2024-06-28 22:13:00,816 - mmaction - INFO - Checkpoints will be saved to H:\\code\\视频组代码\\Video_Swin_Transformer\\tutorial_exps1 by HardDiskBackend.\n",
      "2024-06-28 22:13:09,267 - mmaction - INFO - Epoch [1][5/17]\tlr: 7.813e-07, eta: 0:09:25, time: 1.689, data_time: 1.340, memory: 7097, top1_acc: 0.2000, top5_acc: 1.0000, loss_cls: 1.1151, loss: 1.1151\n",
      "2024-06-28 22:13:11,854 - mmaction - INFO - Epoch [1][10/17]\tlr: 7.813e-07, eta: 0:06:04, time: 0.518, data_time: 0.227, memory: 7261, top1_acc: 0.1000, top5_acc: 1.0000, loss_cls: 1.1342, loss: 1.1342\n",
      "2024-06-28 22:13:14,296 - mmaction - INFO - Epoch [1][15/17]\tlr: 7.813e-07, eta: 0:04:51, time: 0.488, data_time: 0.219, memory: 7261, top1_acc: 0.4000, top5_acc: 1.0000, loss_cls: 1.0569, loss: 1.0569\n",
      "2024-06-28 22:13:25,866 - mmaction - INFO - Epoch [2][5/17]\tlr: 7.813e-07, eta: 0:05:31, time: 1.895, data_time: 1.563, memory: 7263, top1_acc: 0.2000, top5_acc: 1.0000, loss_cls: 1.0807, loss: 1.0807\n",
      "2024-06-28 22:13:29,605 - mmaction - INFO - Epoch [2][10/17]\tlr: 7.813e-07, eta: 0:05:09, time: 0.748, data_time: 0.411, memory: 7263, top1_acc: 0.2000, top5_acc: 1.0000, loss_cls: 1.0419, loss: 1.0419\n",
      "2024-06-28 22:13:31,090 - mmaction - INFO - Epoch [2][15/17]\tlr: 7.813e-07, eta: 0:04:31, time: 0.297, data_time: 0.001, memory: 7264, top1_acc: 0.4000, top5_acc: 1.0000, loss_cls: 1.0057, loss: 1.0057\n",
      "2024-06-28 22:13:43,719 - mmaction - INFO - Epoch [3][5/17]\tlr: 7.813e-07, eta: 0:04:58, time: 2.103, data_time: 1.757, memory: 7264, top1_acc: 0.5000, top5_acc: 1.0000, loss_cls: 1.0099, loss: 1.0099\n",
      "2024-06-28 22:13:46,581 - mmaction - INFO - Epoch [3][10/17]\tlr: 7.813e-07, eta: 0:04:39, time: 0.572, data_time: 0.280, memory: 7264, top1_acc: 0.3000, top5_acc: 1.0000, loss_cls: 1.0583, loss: 1.0583\n",
      "2024-06-28 22:13:49,456 - mmaction - INFO - Epoch [3][15/17]\tlr: 7.813e-07, eta: 0:04:23, time: 0.575, data_time: 0.277, memory: 7264, top1_acc: 0.0000, top5_acc: 1.0000, loss_cls: 1.1198, loss: 1.1198\n",
      "2024-06-28 22:14:01,814 - mmaction - INFO - Epoch [4][5/17]\tlr: 7.813e-07, eta: 0:04:32, time: 1.863, data_time: 1.512, memory: 7264, top1_acc: 0.3000, top5_acc: 1.0000, loss_cls: 1.0500, loss: 1.0500\n",
      "2024-06-28 22:14:04,333 - mmaction - INFO - Epoch [4][10/17]\tlr: 7.813e-07, eta: 0:04:17, time: 0.504, data_time: 0.221, memory: 7264, top1_acc: 0.5000, top5_acc: 1.0000, loss_cls: 0.9672, loss: 0.9672\n",
      "2024-06-28 22:14:06,269 - mmaction - INFO - Epoch [4][15/17]\tlr: 7.813e-07, eta: 0:04:01, time: 0.387, data_time: 0.108, memory: 7265, top1_acc: 0.3000, top5_acc: 1.0000, loss_cls: 1.2023, loss: 1.2023\n",
      "2024-06-28 22:14:19,486 - mmaction - INFO - Epoch [5][5/17]\tlr: 7.813e-07, eta: 0:04:11, time: 2.091, data_time: 1.729, memory: 7265, top1_acc: 0.3000, top5_acc: 1.0000, loss_cls: 1.0615, loss: 1.0615\n",
      "2024-06-28 22:14:21,367 - mmaction - INFO - Epoch [5][10/17]\tlr: 7.813e-07, eta: 0:03:56, time: 0.376, data_time: 0.090, memory: 7267, top1_acc: 0.5000, top5_acc: 1.0000, loss_cls: 0.9859, loss: 0.9859\n",
      "2024-06-28 22:14:23,132 - mmaction - INFO - Epoch [5][15/17]\tlr: 7.813e-07, eta: 0:03:43, time: 0.353, data_time: 0.050, memory: 7267, top1_acc: 0.4000, top5_acc: 1.0000, loss_cls: 1.0936, loss: 1.0936\n"
     ]
    },
    {
     "name": "stdout",
     "output_type": "stream",
     "text": [
      "[>>>>>>>>>>>>>>>>>>>>>>>>>>>>>>>>>>>>>>>>>>>>>>>>>>] 9/9, 0.5 task/s, elapsed: 17s, ETA:     0s"
     ]
    },
    {
     "name": "stderr",
     "output_type": "stream",
     "text": [
      "2024-06-28 22:14:43,430 - mmaction - INFO - Evaluating top_k_accuracy ...\n",
      "2024-06-28 22:14:43,430 - mmaction - INFO - \n",
      "top1_acc\t0.3333\n",
      "top5_acc\t1.0000\n",
      "2024-06-28 22:14:43,431 - mmaction - INFO - Evaluating mean_class_accuracy ...\n",
      "2024-06-28 22:14:43,432 - mmaction - INFO - \n",
      "mean_acc\t0.4000\n"
     ]
    },
    {
     "name": "stdout",
     "output_type": "stream",
     "text": [
      "mean_class_accuracy\n",
      "[1 1 1 2 1 1 1 1 1]\n",
      "[2, 0, 2, 2, 1, 1, 0, 2, 2]\n"
     ]
    },
    {
     "name": "stderr",
     "output_type": "stream",
     "text": [
      "2024-06-28 22:14:45,253 - mmaction - INFO - Now best checkpoint is saved as best_top1_acc_epoch_5.pth.\n",
      "2024-06-28 22:14:45,254 - mmaction - INFO - Best top1_acc is 0.3333 at 5 epoch.\n",
      "2024-06-28 22:14:45,255 - mmaction - INFO - Epoch(val) [5][9]\ttop1_acc: 0.3333, top5_acc: 1.0000, mean_class_accuracy: 0.4000\n",
      "2024-06-28 22:14:54,620 - mmaction - INFO - Epoch [6][5/17]\tlr: 7.813e-07, eta: 0:03:46, time: 1.872, data_time: 1.525, memory: 7267, top1_acc: 0.3000, top5_acc: 1.0000, loss_cls: 1.0761, loss: 1.0761\n",
      "2024-06-28 22:14:56,099 - mmaction - INFO - Epoch [6][10/17]\tlr: 7.813e-07, eta: 0:03:34, time: 0.296, data_time: 0.002, memory: 7267, top1_acc: 0.2000, top5_acc: 1.0000, loss_cls: 1.0942, loss: 1.0942\n",
      "2024-06-28 22:14:59,066 - mmaction - INFO - Epoch [6][15/17]\tlr: 7.813e-07, eta: 0:03:26, time: 0.593, data_time: 0.297, memory: 7267, top1_acc: 0.4000, top5_acc: 1.0000, loss_cls: 1.0688, loss: 1.0688\n",
      "2024-06-28 22:15:09,814 - mmaction - INFO - Epoch [7][5/17]\tlr: 7.813e-07, eta: 0:03:26, time: 1.725, data_time: 1.396, memory: 7267, top1_acc: 0.3000, top5_acc: 1.0000, loss_cls: 1.0368, loss: 1.0368\n",
      "2024-06-28 22:15:12,212 - mmaction - INFO - Epoch [7][10/17]\tlr: 7.813e-07, eta: 0:03:17, time: 0.479, data_time: 0.196, memory: 7267, top1_acc: 0.3000, top5_acc: 1.0000, loss_cls: 1.0386, loss: 1.0386\n",
      "2024-06-28 22:15:13,992 - mmaction - INFO - Epoch [7][15/17]\tlr: 7.813e-07, eta: 0:03:08, time: 0.357, data_time: 0.082, memory: 7267, top1_acc: 0.2000, top5_acc: 1.0000, loss_cls: 1.0711, loss: 1.0711\n",
      "2024-06-28 22:15:24,672 - mmaction - INFO - Epoch [8][5/17]\tlr: 7.813e-07, eta: 0:03:07, time: 1.708, data_time: 1.340, memory: 7267, top1_acc: 0.2000, top5_acc: 1.0000, loss_cls: 1.1190, loss: 1.1190\n",
      "2024-06-28 22:15:28,656 - mmaction - INFO - Epoch [8][10/17]\tlr: 7.813e-07, eta: 0:03:02, time: 0.797, data_time: 0.472, memory: 7267, top1_acc: 0.5000, top5_acc: 1.0000, loss_cls: 0.9933, loss: 0.9933\n",
      "2024-06-28 22:15:30,114 - mmaction - INFO - Epoch [8][15/17]\tlr: 7.813e-07, eta: 0:02:53, time: 0.292, data_time: 0.013, memory: 7267, top1_acc: 0.2000, top5_acc: 1.0000, loss_cls: 1.1412, loss: 1.1412\n",
      "2024-06-28 22:15:42,149 - mmaction - INFO - Epoch [9][5/17]\tlr: 7.813e-07, eta: 0:02:53, time: 1.966, data_time: 1.610, memory: 7267, top1_acc: 0.2000, top5_acc: 1.0000, loss_cls: 1.1242, loss: 1.1242\n",
      "2024-06-28 22:15:45,395 - mmaction - INFO - Epoch [9][10/17]\tlr: 7.813e-07, eta: 0:02:47, time: 0.649, data_time: 0.344, memory: 7267, top1_acc: 0.2000, top5_acc: 1.0000, loss_cls: 1.1022, loss: 1.1022\n",
      "2024-06-28 22:15:47,808 - mmaction - INFO - Epoch [9][15/17]\tlr: 7.813e-07, eta: 0:02:40, time: 0.483, data_time: 0.196, memory: 7267, top1_acc: 0.4000, top5_acc: 1.0000, loss_cls: 1.0019, loss: 1.0019\n"
     ]
    },
    {
     "name": "stdout",
     "output_type": "stream",
     "text": [
      "Gradient overflow.  Skipping step, loss scaler 0 reducing loss scale to 32768.0\n"
     ]
    },
    {
     "name": "stderr",
     "output_type": "stream",
     "text": [
      "2024-06-28 22:15:59,130 - mmaction - INFO - Epoch [10][5/17]\tlr: 7.813e-07, eta: 0:02:38, time: 1.842, data_time: 1.511, memory: 7267, top1_acc: 0.2000, top5_acc: 1.0000, loss_cls: 1.1262, loss: 1.1262\n",
      "2024-06-28 22:16:00,855 - mmaction - INFO - Epoch [10][10/17]\tlr: 7.813e-07, eta: 0:02:31, time: 0.345, data_time: 0.043, memory: 7267, top1_acc: 0.5000, top5_acc: 1.0000, loss_cls: 1.0435, loss: 1.0435\n",
      "2024-06-28 22:16:04,181 - mmaction - INFO - Epoch [10][15/17]\tlr: 7.813e-07, eta: 0:02:26, time: 0.664, data_time: 0.385, memory: 7267, top1_acc: 0.5000, top5_acc: 1.0000, loss_cls: 1.0148, loss: 1.0148\n",
      "2024-06-28 22:16:06,155 - mmaction - INFO - Saving checkpoint at 10 epochs\n"
     ]
    },
    {
     "name": "stdout",
     "output_type": "stream",
     "text": [
      "[>>>>>>>>>>>>>>>>>>>>>>>>>>>>>>>>>>>>>>>>>>>>>>>>>>] 9/9, 0.5 task/s, elapsed: 18s, ETA:     0s"
     ]
    },
    {
     "name": "stderr",
     "output_type": "stream",
     "text": [
      "2024-06-28 22:16:25,956 - mmaction - INFO - Evaluating top_k_accuracy ...\n",
      "2024-06-28 22:16:25,957 - mmaction - INFO - \n",
      "top1_acc\t0.3333\n",
      "top5_acc\t1.0000\n",
      "2024-06-28 22:16:25,958 - mmaction - INFO - Evaluating mean_class_accuracy ...\n",
      "2024-06-28 22:16:25,959 - mmaction - INFO - \n",
      "mean_acc\t0.4000\n",
      "2024-06-28 22:16:25,959 - mmaction - INFO - Epoch(val) [10][9]\ttop1_acc: 0.3333, top5_acc: 1.0000, mean_class_accuracy: 0.4000\n"
     ]
    },
    {
     "name": "stdout",
     "output_type": "stream",
     "text": [
      "mean_class_accuracy\n",
      "[1 1 1 2 1 1 1 1 1]\n",
      "[2, 0, 2, 2, 1, 1, 0, 2, 2]\n"
     ]
    },
    {
     "name": "stderr",
     "output_type": "stream",
     "text": [
      "2024-06-28 22:16:36,157 - mmaction - INFO - Epoch [11][5/17]\tlr: 7.813e-07, eta: 0:02:24, time: 2.038, data_time: 1.705, memory: 7267, top1_acc: 0.3000, top5_acc: 1.0000, loss_cls: 1.0465, loss: 1.0465\n",
      "2024-06-28 22:16:37,706 - mmaction - INFO - Epoch [11][10/17]\tlr: 7.813e-07, eta: 0:02:17, time: 0.310, data_time: 0.001, memory: 7267, top1_acc: 0.6000, top5_acc: 1.0000, loss_cls: 0.9385, loss: 0.9385\n",
      "2024-06-28 22:16:39,961 - mmaction - INFO - Epoch [11][15/17]\tlr: 7.813e-07, eta: 0:02:11, time: 0.451, data_time: 0.148, memory: 7267, top1_acc: 0.3000, top5_acc: 1.0000, loss_cls: 1.0926, loss: 1.0926\n",
      "2024-06-28 22:16:51,976 - mmaction - INFO - Epoch [12][5/17]\tlr: 7.813e-07, eta: 0:02:08, time: 1.956, data_time: 1.629, memory: 7267, top1_acc: 0.6000, top5_acc: 1.0000, loss_cls: 0.9924, loss: 0.9924\n",
      "2024-06-28 22:16:55,456 - mmaction - INFO - Epoch [12][10/17]\tlr: 7.813e-07, eta: 0:02:03, time: 0.697, data_time: 0.387, memory: 7267, top1_acc: 0.2000, top5_acc: 1.0000, loss_cls: 1.0962, loss: 1.0962\n",
      "2024-06-28 22:16:57,134 - mmaction - INFO - Epoch [12][15/17]\tlr: 7.813e-07, eta: 0:01:57, time: 0.335, data_time: 0.059, memory: 7267, top1_acc: 0.3000, top5_acc: 1.0000, loss_cls: 1.0530, loss: 1.0530\n",
      "2024-06-28 22:17:07,516 - mmaction - INFO - Epoch [13][5/17]\tlr: 7.813e-07, eta: 0:01:52, time: 1.672, data_time: 1.317, memory: 7267, top1_acc: 0.2000, top5_acc: 1.0000, loss_cls: 1.0723, loss: 1.0723\n",
      "2024-06-28 22:17:10,224 - mmaction - INFO - Epoch [13][10/17]\tlr: 7.813e-07, eta: 0:01:47, time: 0.542, data_time: 0.265, memory: 7267, top1_acc: 0.3000, top5_acc: 1.0000, loss_cls: 1.1065, loss: 1.1065\n",
      "2024-06-28 22:17:13,306 - mmaction - INFO - Epoch [13][15/17]\tlr: 7.813e-07, eta: 0:01:42, time: 0.616, data_time: 0.326, memory: 7267, top1_acc: 0.4000, top5_acc: 1.0000, loss_cls: 1.0631, loss: 1.0631\n",
      "2024-06-28 22:17:24,411 - mmaction - INFO - Epoch [14][5/17]\tlr: 7.813e-07, eta: 0:01:38, time: 1.791, data_time: 1.462, memory: 7267, top1_acc: 0.3000, top5_acc: 1.0000, loss_cls: 1.0463, loss: 1.0463\n",
      "2024-06-28 22:17:26,473 - mmaction - INFO - Epoch [14][10/17]\tlr: 7.813e-07, eta: 0:01:32, time: 0.413, data_time: 0.120, memory: 7267, top1_acc: 0.4000, top5_acc: 1.0000, loss_cls: 1.0511, loss: 1.0511\n",
      "2024-06-28 22:17:29,042 - mmaction - INFO - Epoch [14][15/17]\tlr: 7.813e-07, eta: 0:01:27, time: 0.514, data_time: 0.222, memory: 7267, top1_acc: 0.1000, top5_acc: 1.0000, loss_cls: 1.0980, loss: 1.0980\n",
      "2024-06-28 22:17:40,195 - mmaction - INFO - Epoch [15][5/17]\tlr: 7.813e-07, eta: 0:01:23, time: 1.806, data_time: 1.454, memory: 7267, top1_acc: 0.4000, top5_acc: 1.0000, loss_cls: 1.0831, loss: 1.0831\n",
      "2024-06-28 22:17:43,281 - mmaction - INFO - Epoch [15][10/17]\tlr: 7.813e-07, eta: 0:01:18, time: 0.617, data_time: 0.315, memory: 7267, top1_acc: 0.3000, top5_acc: 1.0000, loss_cls: 1.0560, loss: 1.0560\n",
      "2024-06-28 22:17:46,022 - mmaction - INFO - Epoch [15][15/17]\tlr: 7.813e-07, eta: 0:01:13, time: 0.548, data_time: 0.281, memory: 7267, top1_acc: 0.2000, top5_acc: 1.0000, loss_cls: 1.0771, loss: 1.0771\n"
     ]
    },
    {
     "name": "stdout",
     "output_type": "stream",
     "text": [
      "[>>>>>>>>>>>>>>>>>>>>>>>>>>>>>>>>>>>>>>>>>>>>>>>>>>] 9/9, 0.5 task/s, elapsed: 18s, ETA:     0s"
     ]
    },
    {
     "name": "stderr",
     "output_type": "stream",
     "text": [
      "2024-06-28 22:18:06,053 - mmaction - INFO - Evaluating top_k_accuracy ...\n",
      "2024-06-28 22:18:06,053 - mmaction - INFO - \n",
      "top1_acc\t0.3333\n",
      "top5_acc\t1.0000\n",
      "2024-06-28 22:18:06,054 - mmaction - INFO - Evaluating mean_class_accuracy ...\n",
      "2024-06-28 22:18:06,054 - mmaction - INFO - \n",
      "mean_acc\t0.4000\n",
      "2024-06-28 22:18:06,055 - mmaction - INFO - Epoch(val) [15][9]\ttop1_acc: 0.3333, top5_acc: 1.0000, mean_class_accuracy: 0.4000\n"
     ]
    },
    {
     "name": "stdout",
     "output_type": "stream",
     "text": [
      "mean_class_accuracy\n",
      "[1 1 1 2 1 1 1 1 1]\n",
      "[2, 0, 2, 2, 1, 1, 0, 2, 2]\n"
     ]
    },
    {
     "name": "stderr",
     "output_type": "stream",
     "text": [
      "2024-06-28 22:18:16,078 - mmaction - INFO - Epoch [16][5/17]\tlr: 7.813e-07, eta: 0:01:08, time: 2.003, data_time: 1.674, memory: 7267, top1_acc: 0.1000, top5_acc: 1.0000, loss_cls: 1.1173, loss: 1.1173\n",
      "2024-06-28 22:18:19,449 - mmaction - INFO - Epoch [16][10/17]\tlr: 7.813e-07, eta: 0:01:04, time: 0.674, data_time: 0.372, memory: 7267, top1_acc: 0.1000, top5_acc: 1.0000, loss_cls: 1.1195, loss: 1.1195\n",
      "2024-06-28 22:18:21,334 - mmaction - INFO - Epoch [16][15/17]\tlr: 7.813e-07, eta: 0:00:59, time: 0.377, data_time: 0.100, memory: 7267, top1_acc: 0.4000, top5_acc: 1.0000, loss_cls: 1.0691, loss: 1.0691\n",
      "2024-06-28 22:18:32,820 - mmaction - INFO - Epoch [17][5/17]\tlr: 7.813e-07, eta: 0:00:54, time: 1.869, data_time: 1.533, memory: 7267, top1_acc: 0.5000, top5_acc: 1.0000, loss_cls: 0.9643, loss: 0.9643\n",
      "2024-06-28 22:18:34,262 - mmaction - INFO - Epoch [17][10/17]\tlr: 7.813e-07, eta: 0:00:49, time: 0.288, data_time: 0.002, memory: 7267, top1_acc: 0.2000, top5_acc: 1.0000, loss_cls: 1.0731, loss: 1.0731\n",
      "2024-06-28 22:18:36,997 - mmaction - INFO - Epoch [17][15/17]\tlr: 7.813e-07, eta: 0:00:44, time: 0.547, data_time: 0.274, memory: 7267, top1_acc: 0.3000, top5_acc: 1.0000, loss_cls: 1.0658, loss: 1.0658\n",
      "2024-06-28 22:18:51,026 - mmaction - INFO - Epoch [18][5/17]\tlr: 7.813e-07, eta: 0:00:39, time: 2.386, data_time: 2.034, memory: 7267, top1_acc: 0.8000, top5_acc: 1.0000, loss_cls: 0.9811, loss: 0.9811\n",
      "2024-06-28 22:18:52,599 - mmaction - INFO - Epoch [18][10/17]\tlr: 7.813e-07, eta: 0:00:35, time: 0.315, data_time: 0.022, memory: 7267, top1_acc: 0.5000, top5_acc: 1.0000, loss_cls: 1.0372, loss: 1.0372\n",
      "2024-06-28 22:18:54,844 - mmaction - INFO - Epoch [18][15/17]\tlr: 7.813e-07, eta: 0:00:30, time: 0.448, data_time: 0.167, memory: 7267, top1_acc: 0.3000, top5_acc: 1.0000, loss_cls: 1.0073, loss: 1.0073\n",
      "2024-06-28 22:19:06,299 - mmaction - INFO - Epoch [19][5/17]\tlr: 7.813e-07, eta: 0:00:24, time: 1.865, data_time: 1.530, memory: 7267, top1_acc: 0.5000, top5_acc: 1.0000, loss_cls: 1.0503, loss: 1.0503\n",
      "2024-06-28 22:19:08,745 - mmaction - INFO - Epoch [19][10/17]\tlr: 7.813e-07, eta: 0:00:20, time: 0.489, data_time: 0.195, memory: 7267, top1_acc: 0.3000, top5_acc: 1.0000, loss_cls: 1.1244, loss: 1.1244\n",
      "2024-06-28 22:19:11,528 - mmaction - INFO - Epoch [19][15/17]\tlr: 7.813e-07, eta: 0:00:16, time: 0.557, data_time: 0.273, memory: 7267, top1_acc: 0.2000, top5_acc: 1.0000, loss_cls: 1.0288, loss: 1.0288\n",
      "2024-06-28 22:19:21,814 - mmaction - INFO - Epoch [20][5/17]\tlr: 7.813e-07, eta: 0:00:10, time: 1.627, data_time: 1.263, memory: 7267, top1_acc: 0.2000, top5_acc: 1.0000, loss_cls: 1.0960, loss: 1.0960\n",
      "2024-06-28 22:19:23,673 - mmaction - INFO - Epoch [20][10/17]\tlr: 7.813e-07, eta: 0:00:05, time: 0.372, data_time: 0.087, memory: 7267, top1_acc: 0.4000, top5_acc: 1.0000, loss_cls: 0.9841, loss: 0.9841\n",
      "2024-06-28 22:19:27,717 - mmaction - INFO - Epoch [20][15/17]\tlr: 7.813e-07, eta: 0:00:01, time: 0.809, data_time: 0.480, memory: 7267, top1_acc: 0.8000, top5_acc: 1.0000, loss_cls: 0.9212, loss: 0.9212\n",
      "2024-06-28 22:19:30,091 - mmaction - INFO - Saving checkpoint at 20 epochs\n"
     ]
    },
    {
     "name": "stdout",
     "output_type": "stream",
     "text": [
      "[>>>>>>>>>>>>>>>>>>>>>>>>>>>>>>>>>>>>>>>>>>>>>>>>>>] 9/9, 0.5 task/s, elapsed: 17s, ETA:     0s"
     ]
    },
    {
     "name": "stderr",
     "output_type": "stream",
     "text": [
      "2024-06-28 22:19:49,375 - mmaction - INFO - Evaluating top_k_accuracy ...\n",
      "2024-06-28 22:19:49,376 - mmaction - INFO - \n",
      "top1_acc\t0.3333\n",
      "top5_acc\t1.0000\n",
      "2024-06-28 22:19:49,376 - mmaction - INFO - Evaluating mean_class_accuracy ...\n",
      "2024-06-28 22:19:49,378 - mmaction - INFO - \n",
      "mean_acc\t0.4000\n",
      "2024-06-28 22:19:49,378 - mmaction - INFO - Epoch(val) [20][9]\ttop1_acc: 0.3333, top5_acc: 1.0000, mean_class_accuracy: 0.4000\n"
     ]
    },
    {
     "name": "stdout",
     "output_type": "stream",
     "text": [
      "mean_class_accuracy\n",
      "[1 1 1 2 1 1 1 1 1]\n",
      "[2, 0, 2, 2, 1, 1, 0, 2, 2]\n"
     ]
    },
    {
     "name": "stderr",
     "output_type": "stream",
     "text": [
      "2024-06-28 22:19:50,715 - mmaction - INFO - load checkpoint from local path: ./tutorial_exps/epoch_20.pth\n"
     ]
    },
    {
     "name": "stdout",
     "output_type": "stream",
     "text": [
      "Selected optimization level O1:  Insert automatic casts around Pytorch functions and Tensor methods.\n",
      "\n",
      "Defaults for this optimization level are:\n",
      "enabled                : True\n",
      "opt_level              : O1\n",
      "cast_model_type        : None\n",
      "patch_torch_functions  : True\n",
      "keep_batchnorm_fp32    : None\n",
      "master_weights         : None\n",
      "loss_scale             : dynamic\n",
      "Processing user overrides (additional kwargs that are not None)...\n",
      "After processing overrides, optimization options are:\n",
      "enabled                : True\n",
      "opt_level              : O1\n",
      "cast_model_type        : None\n",
      "patch_torch_functions  : True\n",
      "keep_batchnorm_fp32    : None\n",
      "master_weights         : None\n",
      "loss_scale             : dynamic\n"
     ]
    },
    {
     "name": "stderr",
     "output_type": "stream",
     "text": [
      "2024-06-28 22:19:51,064 - mmaction - INFO - Start running, host: 15281@实验室, work_dir: H:\\code\\视频组代码\\Video_Swin_Transformer\\tutorial_exps1\n",
      "2024-06-28 22:19:51,065 - mmaction - INFO - Hooks will be executed in the following order:\n",
      "before_run:\n",
      "(VERY_HIGH   ) StepLrUpdaterHook                  \n",
      "(ABOVE_NORMAL) DistOptimizerHook                  \n",
      "(NORMAL      ) CheckpointHook                     \n",
      "(NORMAL      ) EvalHook                           \n",
      "(VERY_LOW    ) TextLoggerHook                     \n",
      " -------------------- \n",
      "before_train_epoch:\n",
      "(VERY_HIGH   ) StepLrUpdaterHook                  \n",
      "(NORMAL      ) EvalHook                           \n",
      "(LOW         ) IterTimerHook                      \n",
      "(VERY_LOW    ) TextLoggerHook                     \n",
      " -------------------- \n",
      "before_train_iter:\n",
      "(VERY_HIGH   ) StepLrUpdaterHook                  \n",
      "(NORMAL      ) EvalHook                           \n",
      "(LOW         ) IterTimerHook                      \n",
      " -------------------- \n",
      "after_train_iter:\n",
      "(ABOVE_NORMAL) DistOptimizerHook                  \n",
      "(NORMAL      ) CheckpointHook                     \n",
      "(NORMAL      ) EvalHook                           \n",
      "(LOW         ) IterTimerHook                      \n",
      "(VERY_LOW    ) TextLoggerHook                     \n",
      " -------------------- \n",
      "after_train_epoch:\n",
      "(NORMAL      ) CheckpointHook                     \n",
      "(NORMAL      ) EvalHook                           \n",
      "(VERY_LOW    ) TextLoggerHook                     \n",
      " -------------------- \n",
      "before_val_epoch:\n",
      "(LOW         ) IterTimerHook                      \n",
      "(VERY_LOW    ) TextLoggerHook                     \n",
      " -------------------- \n",
      "before_val_iter:\n",
      "(LOW         ) IterTimerHook                      \n",
      " -------------------- \n",
      "after_val_iter:\n",
      "(LOW         ) IterTimerHook                      \n",
      " -------------------- \n",
      "after_val_epoch:\n",
      "(VERY_LOW    ) TextLoggerHook                     \n",
      " -------------------- \n",
      "after_run:\n",
      "(VERY_LOW    ) TextLoggerHook                     \n",
      " -------------------- \n",
      "2024-06-28 22:19:51,065 - mmaction - INFO - workflow: [('train', 1)], max: 20 epochs\n",
      "2024-06-28 22:19:51,070 - mmaction - INFO - Checkpoints will be saved to H:\\code\\视频组代码\\Video_Swin_Transformer\\tutorial_exps1 by HardDiskBackend.\n",
      "2024-06-28 22:20:00,334 - mmaction - INFO - Epoch [1][5/17]\tlr: 7.813e-07, eta: 0:10:20, time: 1.852, data_time: 1.523, memory: 7267, top1_acc: 0.3000, top5_acc: 1.0000, loss_cls: 1.0951, loss: 1.0951\n",
      "2024-06-28 22:20:02,356 - mmaction - INFO - Epoch [1][10/17]\tlr: 7.813e-07, eta: 0:06:12, time: 0.404, data_time: 0.106, memory: 7445, top1_acc: 0.2000, top5_acc: 1.0000, loss_cls: 1.0737, loss: 1.0737\n",
      "2024-06-28 22:20:05,282 - mmaction - INFO - Epoch [1][15/17]\tlr: 7.813e-07, eta: 0:05:07, time: 0.585, data_time: 0.303, memory: 7445, top1_acc: 0.3000, top5_acc: 1.0000, loss_cls: 1.1254, loss: 1.1254\n",
      "2024-06-28 22:20:16,481 - mmaction - INFO - Epoch [2][5/17]\tlr: 7.813e-07, eta: 0:05:36, time: 1.809, data_time: 1.453, memory: 7445, top1_acc: 0.3000, top5_acc: 1.0000, loss_cls: 1.0551, loss: 1.0551\n",
      "2024-06-28 22:20:20,032 - mmaction - INFO - Epoch [2][10/17]\tlr: 7.813e-07, eta: 0:05:10, time: 0.710, data_time: 0.389, memory: 7445, top1_acc: 0.1000, top5_acc: 1.0000, loss_cls: 1.1796, loss: 1.1796\n",
      "2024-06-28 22:20:22,302 - mmaction - INFO - Epoch [2][15/17]\tlr: 7.813e-07, eta: 0:04:39, time: 0.454, data_time: 0.167, memory: 7447, top1_acc: 0.3000, top5_acc: 1.0000, loss_cls: 1.1399, loss: 1.1399\n",
      "2024-06-28 22:20:33,967 - mmaction - INFO - Epoch [3][5/17]\tlr: 7.813e-07, eta: 0:04:50, time: 1.721, data_time: 1.338, memory: 7447, top1_acc: 0.0000, top5_acc: 1.0000, loss_cls: 1.2412, loss: 1.2412\n",
      "2024-06-28 22:20:35,548 - mmaction - INFO - Epoch [3][10/17]\tlr: 7.813e-07, eta: 0:04:24, time: 0.316, data_time: 0.016, memory: 7447, top1_acc: 0.3000, top5_acc: 1.0000, loss_cls: 1.0776, loss: 1.0776\n",
      "2024-06-28 22:20:38,147 - mmaction - INFO - Epoch [3][15/17]\tlr: 7.813e-07, eta: 0:04:08, time: 0.520, data_time: 0.214, memory: 7447, top1_acc: 0.4000, top5_acc: 1.0000, loss_cls: 1.0375, loss: 1.0375\n",
      "2024-06-28 22:20:48,402 - mmaction - INFO - Epoch [4][5/17]\tlr: 7.813e-07, eta: 0:04:12, time: 1.597, data_time: 1.278, memory: 7447, top1_acc: 0.3000, top5_acc: 1.0000, loss_cls: 1.1362, loss: 1.1362\n",
      "2024-06-28 22:20:51,220 - mmaction - INFO - Epoch [4][10/17]\tlr: 7.813e-07, eta: 0:04:00, time: 0.563, data_time: 0.277, memory: 7447, top1_acc: 0.3000, top5_acc: 1.0000, loss_cls: 1.0515, loss: 1.0515\n",
      "2024-06-28 22:20:53,980 - mmaction - INFO - Epoch [4][15/17]\tlr: 7.813e-07, eta: 0:03:50, time: 0.552, data_time: 0.269, memory: 7447, top1_acc: 0.2000, top5_acc: 1.0000, loss_cls: 1.0825, loss: 1.0825\n",
      "2024-06-28 22:21:05,922 - mmaction - INFO - Epoch [5][5/17]\tlr: 7.813e-07, eta: 0:03:58, time: 1.956, data_time: 1.614, memory: 7447, top1_acc: 0.2000, top5_acc: 1.0000, loss_cls: 1.0782, loss: 1.0782\n",
      "2024-06-28 22:21:09,651 - mmaction - INFO - Epoch [5][10/17]\tlr: 7.813e-07, eta: 0:03:51, time: 0.746, data_time: 0.466, memory: 7447, top1_acc: 0.3000, top5_acc: 1.0000, loss_cls: 1.0748, loss: 1.0748\n",
      "2024-06-28 22:21:11,373 - mmaction - INFO - Epoch [5][15/17]\tlr: 7.813e-07, eta: 0:03:38, time: 0.344, data_time: 0.048, memory: 7447, top1_acc: 0.3000, top5_acc: 1.0000, loss_cls: 1.1406, loss: 1.1406\n"
     ]
    },
    {
     "name": "stdout",
     "output_type": "stream",
     "text": [
      "[>>>>>>>>>>>>>>>>>>>>>>>>>>>>>>>>>>>>>>>>>>>>>>>>>>] 9/9, 0.5 task/s, elapsed: 18s, ETA:     0s"
     ]
    },
    {
     "name": "stderr",
     "output_type": "stream",
     "text": [
      "2024-06-28 22:21:31,955 - mmaction - INFO - Evaluating top_k_accuracy ...\n",
      "2024-06-28 22:21:31,956 - mmaction - INFO - \n",
      "top1_acc\t0.3333\n",
      "top5_acc\t1.0000\n",
      "2024-06-28 22:21:31,956 - mmaction - INFO - Evaluating mean_class_accuracy ...\n",
      "2024-06-28 22:21:31,957 - mmaction - INFO - \n",
      "mean_acc\t0.4000\n"
     ]
    },
    {
     "name": "stdout",
     "output_type": "stream",
     "text": [
      "mean_class_accuracy\n",
      "[1 1 1 2 1 1 1 1 1]\n",
      "[2, 0, 2, 2, 1, 1, 0, 2, 2]\n"
     ]
    },
    {
     "name": "stderr",
     "output_type": "stream",
     "text": [
      "2024-06-28 22:21:33,793 - mmaction - INFO - Now best checkpoint is saved as best_top1_acc_epoch_5.pth.\n",
      "2024-06-28 22:21:33,793 - mmaction - INFO - Best top1_acc is 0.3333 at 5 epoch.\n",
      "2024-06-28 22:21:33,794 - mmaction - INFO - Epoch(val) [5][9]\ttop1_acc: 0.3333, top5_acc: 1.0000, mean_class_accuracy: 0.4000\n",
      "2024-06-28 22:21:42,582 - mmaction - INFO - Epoch [6][5/17]\tlr: 7.813e-07, eta: 0:03:40, time: 1.756, data_time: 1.432, memory: 7447, top1_acc: 0.4000, top5_acc: 1.0000, loss_cls: 1.0575, loss: 1.0575\n",
      "2024-06-28 22:21:43,936 - mmaction - INFO - Epoch [6][10/17]\tlr: 7.813e-07, eta: 0:03:28, time: 0.271, data_time: 0.001, memory: 7447, top1_acc: 0.4000, top5_acc: 1.0000, loss_cls: 1.1188, loss: 1.1188\n",
      "2024-06-28 22:21:46,814 - mmaction - INFO - Epoch [6][15/17]\tlr: 7.813e-07, eta: 0:03:20, time: 0.576, data_time: 0.274, memory: 7447, top1_acc: 0.4000, top5_acc: 1.0000, loss_cls: 1.0598, loss: 1.0598\n",
      "2024-06-28 22:21:59,408 - mmaction - INFO - Epoch [7][5/17]\tlr: 7.813e-07, eta: 0:03:23, time: 1.917, data_time: 1.541, memory: 7447, top1_acc: 0.4000, top5_acc: 1.0000, loss_cls: 1.0570, loss: 1.0570\n",
      "2024-06-28 22:22:01,203 - mmaction - INFO - Epoch [7][10/17]\tlr: 7.813e-07, eta: 0:03:13, time: 0.359, data_time: 0.065, memory: 7447, top1_acc: 0.2000, top5_acc: 1.0000, loss_cls: 1.1389, loss: 1.1389\n",
      "2024-06-28 22:22:03,438 - mmaction - INFO - Epoch [7][15/17]\tlr: 7.813e-07, eta: 0:03:05, time: 0.447, data_time: 0.175, memory: 7447, top1_acc: 0.4000, top5_acc: 1.0000, loss_cls: 1.0066, loss: 1.0066\n",
      "2024-06-28 22:22:15,556 - mmaction - INFO - Epoch [8][5/17]\tlr: 7.813e-07, eta: 0:03:05, time: 1.863, data_time: 1.532, memory: 7447, top1_acc: 0.1000, top5_acc: 1.0000, loss_cls: 1.1759, loss: 1.1759\n",
      "2024-06-28 22:22:18,997 - mmaction - INFO - Epoch [8][10/17]\tlr: 7.813e-07, eta: 0:02:59, time: 0.688, data_time: 0.373, memory: 7447, top1_acc: 0.4000, top5_acc: 1.0000, loss_cls: 1.0499, loss: 1.0499\n",
      "2024-06-28 22:22:22,904 - mmaction - INFO - Epoch [8][15/17]\tlr: 7.813e-07, eta: 0:02:55, time: 0.781, data_time: 0.471, memory: 7447, top1_acc: 0.2000, top5_acc: 1.0000, loss_cls: 1.1127, loss: 1.1127\n",
      "2024-06-28 22:22:35,422 - mmaction - INFO - Epoch [9][5/17]\tlr: 7.813e-07, eta: 0:02:55, time: 2.048, data_time: 1.672, memory: 7447, top1_acc: 0.2000, top5_acc: 1.0000, loss_cls: 1.1182, loss: 1.1182\n",
      "2024-06-28 22:22:38,563 - mmaction - INFO - Epoch [9][10/17]\tlr: 7.813e-07, eta: 0:02:49, time: 0.628, data_time: 0.329, memory: 7447, top1_acc: 0.3000, top5_acc: 1.0000, loss_cls: 1.0981, loss: 1.0981\n",
      "2024-06-28 22:22:41,119 - mmaction - INFO - Epoch [9][15/17]\tlr: 7.813e-07, eta: 0:02:42, time: 0.511, data_time: 0.234, memory: 7447, top1_acc: 0.3000, top5_acc: 1.0000, loss_cls: 1.0652, loss: 1.0652\n",
      "2024-06-28 22:22:52,956 - mmaction - INFO - Epoch [10][5/17]\tlr: 7.813e-07, eta: 0:02:40, time: 1.938, data_time: 1.615, memory: 7447, top1_acc: 0.3000, top5_acc: 1.0000, loss_cls: 1.0421, loss: 1.0421\n"
     ]
    },
    {
     "name": "stdout",
     "output_type": "stream",
     "text": [
      "Gradient overflow.  Skipping step, loss scaler 0 reducing loss scale to 32768.0\n"
     ]
    },
    {
     "name": "stderr",
     "output_type": "stream",
     "text": [
      "2024-06-28 22:22:55,790 - mmaction - INFO - Epoch [10][10/17]\tlr: 7.813e-07, eta: 0:02:34, time: 0.567, data_time: 0.285, memory: 7447, top1_acc: 0.2000, top5_acc: 1.0000, loss_cls: 1.1178, loss: 1.1178\n",
      "2024-06-28 22:22:57,938 - mmaction - INFO - Epoch [10][15/17]\tlr: 7.813e-07, eta: 0:02:27, time: 0.430, data_time: 0.133, memory: 7447, top1_acc: 0.3000, top5_acc: 1.0000, loss_cls: 1.0982, loss: 1.0982\n",
      "2024-06-28 22:23:00,779 - mmaction - INFO - Saving checkpoint at 10 epochs\n"
     ]
    },
    {
     "name": "stdout",
     "output_type": "stream",
     "text": [
      "[>>>>>>>>>>>>>>>>>>>>>>>>>>>>>>>>>>>>>>>>>>>>>>>>>>] 9/9, 0.5 task/s, elapsed: 18s, ETA:     0s"
     ]
    },
    {
     "name": "stderr",
     "output_type": "stream",
     "text": [
      "2024-06-28 22:23:20,724 - mmaction - INFO - Evaluating top_k_accuracy ...\n",
      "2024-06-28 22:23:20,725 - mmaction - INFO - \n",
      "top1_acc\t0.3333\n",
      "top5_acc\t1.0000\n",
      "2024-06-28 22:23:20,725 - mmaction - INFO - Evaluating mean_class_accuracy ...\n",
      "2024-06-28 22:23:20,727 - mmaction - INFO - \n",
      "mean_acc\t0.4000\n",
      "2024-06-28 22:23:20,728 - mmaction - INFO - Epoch(val) [10][9]\ttop1_acc: 0.3333, top5_acc: 1.0000, mean_class_accuracy: 0.4000\n"
     ]
    },
    {
     "name": "stdout",
     "output_type": "stream",
     "text": [
      "mean_class_accuracy\n",
      "[1 1 1 2 1 1 1 1 1]\n",
      "[2, 0, 2, 2, 1, 1, 0, 2, 2]\n"
     ]
    },
    {
     "name": "stderr",
     "output_type": "stream",
     "text": [
      "2024-06-28 22:23:29,851 - mmaction - INFO - Epoch [11][5/17]\tlr: 7.813e-07, eta: 0:02:24, time: 1.823, data_time: 1.457, memory: 7447, top1_acc: 0.5000, top5_acc: 1.0000, loss_cls: 0.9809, loss: 0.9809\n",
      "2024-06-28 22:23:31,491 - mmaction - INFO - Epoch [11][10/17]\tlr: 7.813e-07, eta: 0:02:18, time: 0.328, data_time: 0.001, memory: 7447, top1_acc: 0.3000, top5_acc: 1.0000, loss_cls: 1.1148, loss: 1.1148\n",
      "2024-06-28 22:23:34,122 - mmaction - INFO - Epoch [11][15/17]\tlr: 7.813e-07, eta: 0:02:12, time: 0.526, data_time: 0.227, memory: 7447, top1_acc: 0.3000, top5_acc: 1.0000, loss_cls: 1.0451, loss: 1.0451\n",
      "2024-06-28 22:23:46,178 - mmaction - INFO - Epoch [12][5/17]\tlr: 7.813e-07, eta: 0:02:08, time: 1.691, data_time: 1.354, memory: 7447, top1_acc: 0.2000, top5_acc: 1.0000, loss_cls: 1.1524, loss: 1.1524\n",
      "2024-06-28 22:23:48,115 - mmaction - INFO - Epoch [12][10/17]\tlr: 7.813e-07, eta: 0:02:02, time: 0.387, data_time: 0.110, memory: 7447, top1_acc: 0.4000, top5_acc: 1.0000, loss_cls: 1.0990, loss: 1.0990\n",
      "2024-06-28 22:23:51,215 - mmaction - INFO - Epoch [12][15/17]\tlr: 7.813e-07, eta: 0:01:57, time: 0.620, data_time: 0.329, memory: 7447, top1_acc: 0.3000, top5_acc: 1.0000, loss_cls: 1.0379, loss: 1.0379\n",
      "2024-06-28 22:24:02,631 - mmaction - INFO - Epoch [13][5/17]\tlr: 7.813e-07, eta: 0:01:52, time: 1.648, data_time: 1.298, memory: 7447, top1_acc: 0.3000, top5_acc: 1.0000, loss_cls: 1.1395, loss: 1.1395\n",
      "2024-06-28 22:24:05,123 - mmaction - INFO - Epoch [13][10/17]\tlr: 7.813e-07, eta: 0:01:47, time: 0.498, data_time: 0.214, memory: 7447, top1_acc: 0.3000, top5_acc: 1.0000, loss_cls: 1.0394, loss: 1.0394\n",
      "2024-06-28 22:24:07,843 - mmaction - INFO - Epoch [13][15/17]\tlr: 7.813e-07, eta: 0:01:42, time: 0.544, data_time: 0.237, memory: 7447, top1_acc: 0.4000, top5_acc: 1.0000, loss_cls: 1.1207, loss: 1.1207\n",
      "2024-06-28 22:24:17,571 - mmaction - INFO - Epoch [14][5/17]\tlr: 7.813e-07, eta: 0:01:37, time: 1.528, data_time: 1.158, memory: 7447, top1_acc: 0.3000, top5_acc: 1.0000, loss_cls: 1.2065, loss: 1.2065\n",
      "2024-06-28 22:24:22,403 - mmaction - INFO - Epoch [14][10/17]\tlr: 7.813e-07, eta: 0:01:33, time: 0.966, data_time: 0.646, memory: 7447, top1_acc: 0.3000, top5_acc: 1.0000, loss_cls: 1.0888, loss: 1.0888\n",
      "2024-06-28 22:24:23,855 - mmaction - INFO - Epoch [14][15/17]\tlr: 7.813e-07, eta: 0:01:27, time: 0.290, data_time: 0.001, memory: 7447, top1_acc: 0.5000, top5_acc: 1.0000, loss_cls: 1.0450, loss: 1.0450\n",
      "2024-06-28 22:24:34,291 - mmaction - INFO - Epoch [15][5/17]\tlr: 7.813e-07, eta: 0:01:22, time: 1.671, data_time: 1.344, memory: 7447, top1_acc: 0.4000, top5_acc: 1.0000, loss_cls: 1.0841, loss: 1.0841\n",
      "2024-06-28 22:24:37,167 - mmaction - INFO - Epoch [15][10/17]\tlr: 7.813e-07, eta: 0:01:17, time: 0.575, data_time: 0.280, memory: 7447, top1_acc: 0.4000, top5_acc: 1.0000, loss_cls: 1.0340, loss: 1.0340\n",
      "2024-06-28 22:24:39,661 - mmaction - INFO - Epoch [15][15/17]\tlr: 7.813e-07, eta: 0:01:13, time: 0.499, data_time: 0.207, memory: 7447, top1_acc: 0.3000, top5_acc: 1.0000, loss_cls: 1.0467, loss: 1.0467\n"
     ]
    },
    {
     "name": "stdout",
     "output_type": "stream",
     "text": [
      "[>>>>>>>>>>>>>>>>>>>>>>>>>>>>>>>>>>>>>>>>>>>>>>>>>>] 9/9, 0.5 task/s, elapsed: 18s, ETA:     0s"
     ]
    },
    {
     "name": "stderr",
     "output_type": "stream",
     "text": [
      "2024-06-28 22:25:00,137 - mmaction - INFO - Evaluating top_k_accuracy ...\n",
      "2024-06-28 22:25:00,137 - mmaction - INFO - \n",
      "top1_acc\t0.3333\n",
      "top5_acc\t1.0000\n",
      "2024-06-28 22:25:00,138 - mmaction - INFO - Evaluating mean_class_accuracy ...\n",
      "2024-06-28 22:25:00,139 - mmaction - INFO - \n",
      "mean_acc\t0.4000\n",
      "2024-06-28 22:25:00,139 - mmaction - INFO - Epoch(val) [15][9]\ttop1_acc: 0.3333, top5_acc: 1.0000, mean_class_accuracy: 0.4000\n"
     ]
    },
    {
     "name": "stdout",
     "output_type": "stream",
     "text": [
      "mean_class_accuracy\n",
      "[1 1 1 2 1 1 1 1 1]\n",
      "[2, 0, 2, 2, 1, 1, 0, 2, 2]\n"
     ]
    },
    {
     "name": "stderr",
     "output_type": "stream",
     "text": [
      "2024-06-28 22:25:08,198 - mmaction - INFO - Epoch [16][5/17]\tlr: 7.813e-07, eta: 0:01:07, time: 1.610, data_time: 1.255, memory: 7447, top1_acc: 0.1000, top5_acc: 1.0000, loss_cls: 1.1229, loss: 1.1229\n",
      "2024-06-28 22:25:13,218 - mmaction - INFO - Epoch [16][10/17]\tlr: 7.813e-07, eta: 0:01:03, time: 1.004, data_time: 0.666, memory: 7447, top1_acc: 0.4000, top5_acc: 1.0000, loss_cls: 1.0127, loss: 1.0127\n",
      "2024-06-28 22:25:15,565 - mmaction - INFO - Epoch [16][15/17]\tlr: 7.813e-07, eta: 0:00:59, time: 0.469, data_time: 0.180, memory: 7447, top1_acc: 0.1000, top5_acc: 1.0000, loss_cls: 1.0610, loss: 1.0610\n",
      "2024-06-28 22:25:27,122 - mmaction - INFO - Epoch [17][5/17]\tlr: 7.813e-07, eta: 0:00:53, time: 1.872, data_time: 1.551, memory: 7447, top1_acc: 0.1000, top5_acc: 1.0000, loss_cls: 1.1580, loss: 1.1580\n",
      "2024-06-28 22:25:29,286 - mmaction - INFO - Epoch [17][10/17]\tlr: 7.813e-07, eta: 0:00:49, time: 0.433, data_time: 0.129, memory: 7447, top1_acc: 0.4000, top5_acc: 1.0000, loss_cls: 1.0020, loss: 1.0020\n",
      "2024-06-28 22:25:31,464 - mmaction - INFO - Epoch [17][15/17]\tlr: 7.813e-07, eta: 0:00:44, time: 0.436, data_time: 0.160, memory: 7447, top1_acc: 0.4000, top5_acc: 1.0000, loss_cls: 0.9707, loss: 0.9707\n",
      "2024-06-28 22:25:42,731 - mmaction - INFO - Epoch [18][5/17]\tlr: 7.813e-07, eta: 0:00:39, time: 1.834, data_time: 1.506, memory: 7447, top1_acc: 0.5000, top5_acc: 1.0000, loss_cls: 0.9557, loss: 0.9557\n",
      "2024-06-28 22:25:45,412 - mmaction - INFO - Epoch [18][10/17]\tlr: 7.813e-07, eta: 0:00:34, time: 0.536, data_time: 0.241, memory: 7447, top1_acc: 0.3000, top5_acc: 1.0000, loss_cls: 1.0369, loss: 1.0369\n",
      "2024-06-28 22:25:48,659 - mmaction - INFO - Epoch [18][15/17]\tlr: 7.813e-07, eta: 0:00:30, time: 0.648, data_time: 0.350, memory: 7447, top1_acc: 0.2000, top5_acc: 1.0000, loss_cls: 1.0987, loss: 1.0987\n",
      "2024-06-28 22:25:59,423 - mmaction - INFO - Epoch [19][5/17]\tlr: 7.813e-07, eta: 0:00:24, time: 1.706, data_time: 1.356, memory: 7447, top1_acc: 0.3000, top5_acc: 1.0000, loss_cls: 1.1129, loss: 1.1129\n",
      "2024-06-28 22:26:01,853 - mmaction - INFO - Epoch [19][10/17]\tlr: 7.813e-07, eta: 0:00:20, time: 0.486, data_time: 0.188, memory: 7447, top1_acc: 0.7000, top5_acc: 1.0000, loss_cls: 0.9236, loss: 0.9236\n",
      "2024-06-28 22:26:04,630 - mmaction - INFO - Epoch [19][15/17]\tlr: 7.813e-07, eta: 0:00:16, time: 0.556, data_time: 0.271, memory: 7447, top1_acc: 0.4000, top5_acc: 1.0000, loss_cls: 1.0468, loss: 1.0468\n",
      "2024-06-28 22:26:17,097 - mmaction - INFO - Epoch [20][5/17]\tlr: 7.813e-07, eta: 0:00:10, time: 1.890, data_time: 1.553, memory: 7447, top1_acc: 0.2000, top5_acc: 1.0000, loss_cls: 1.0903, loss: 1.0903\n",
      "2024-06-28 22:26:21,448 - mmaction - INFO - Epoch [20][10/17]\tlr: 7.813e-07, eta: 0:00:05, time: 0.870, data_time: 0.579, memory: 7447, top1_acc: 0.5000, top5_acc: 1.0000, loss_cls: 1.0364, loss: 1.0364\n",
      "2024-06-28 22:26:22,898 - mmaction - INFO - Epoch [20][15/17]\tlr: 7.813e-07, eta: 0:00:01, time: 0.290, data_time: 0.001, memory: 7447, top1_acc: 0.3000, top5_acc: 1.0000, loss_cls: 1.0699, loss: 1.0699\n",
      "2024-06-28 22:26:25,043 - mmaction - INFO - Saving checkpoint at 20 epochs\n"
     ]
    },
    {
     "name": "stdout",
     "output_type": "stream",
     "text": [
      "[>>>>>>>>>>>>>>>>>>>>>>>>>>>>>>>>>>>>>>>>>>>>>>>>>>] 9/9, 0.5 task/s, elapsed: 18s, ETA:     0s"
     ]
    },
    {
     "name": "stderr",
     "output_type": "stream",
     "text": [
      "2024-06-28 22:26:44,991 - mmaction - INFO - Evaluating top_k_accuracy ...\n",
      "2024-06-28 22:26:44,992 - mmaction - INFO - \n",
      "top1_acc\t0.3333\n",
      "top5_acc\t1.0000\n",
      "2024-06-28 22:26:44,992 - mmaction - INFO - Evaluating mean_class_accuracy ...\n",
      "2024-06-28 22:26:44,993 - mmaction - INFO - \n",
      "mean_acc\t0.4000\n",
      "2024-06-28 22:26:44,994 - mmaction - INFO - Epoch(val) [20][9]\ttop1_acc: 0.3333, top5_acc: 1.0000, mean_class_accuracy: 0.4000\n"
     ]
    },
    {
     "name": "stdout",
     "output_type": "stream",
     "text": [
      "mean_class_accuracy\n",
      "[1 1 1 2 1 1 1 1 1]\n",
      "[2, 0, 2, 2, 1, 1, 0, 2, 2]\n"
     ]
    },
    {
     "name": "stderr",
     "output_type": "stream",
     "text": [
      "2024-06-28 22:26:46,617 - mmaction - INFO - load checkpoint from local path: ./tutorial_exps/epoch_20.pth\n"
     ]
    },
    {
     "name": "stdout",
     "output_type": "stream",
     "text": [
      "Selected optimization level O1:  Insert automatic casts around Pytorch functions and Tensor methods.\n",
      "\n",
      "Defaults for this optimization level are:\n",
      "enabled                : True\n",
      "opt_level              : O1\n",
      "cast_model_type        : None\n",
      "patch_torch_functions  : True\n",
      "keep_batchnorm_fp32    : None\n",
      "master_weights         : None\n",
      "loss_scale             : dynamic\n",
      "Processing user overrides (additional kwargs that are not None)...\n",
      "After processing overrides, optimization options are:\n",
      "enabled                : True\n",
      "opt_level              : O1\n",
      "cast_model_type        : None\n",
      "patch_torch_functions  : True\n",
      "keep_batchnorm_fp32    : None\n",
      "master_weights         : None\n",
      "loss_scale             : dynamic\n"
     ]
    },
    {
     "name": "stderr",
     "output_type": "stream",
     "text": [
      "2024-06-28 22:26:46,987 - mmaction - INFO - Start running, host: 15281@实验室, work_dir: H:\\code\\视频组代码\\Video_Swin_Transformer\\tutorial_exps1\n",
      "2024-06-28 22:26:46,987 - mmaction - INFO - Hooks will be executed in the following order:\n",
      "before_run:\n",
      "(VERY_HIGH   ) StepLrUpdaterHook                  \n",
      "(ABOVE_NORMAL) DistOptimizerHook                  \n",
      "(NORMAL      ) CheckpointHook                     \n",
      "(NORMAL      ) EvalHook                           \n",
      "(VERY_LOW    ) TextLoggerHook                     \n",
      " -------------------- \n",
      "before_train_epoch:\n",
      "(VERY_HIGH   ) StepLrUpdaterHook                  \n",
      "(NORMAL      ) EvalHook                           \n",
      "(LOW         ) IterTimerHook                      \n",
      "(VERY_LOW    ) TextLoggerHook                     \n",
      " -------------------- \n",
      "before_train_iter:\n",
      "(VERY_HIGH   ) StepLrUpdaterHook                  \n",
      "(NORMAL      ) EvalHook                           \n",
      "(LOW         ) IterTimerHook                      \n",
      " -------------------- \n",
      "after_train_iter:\n",
      "(ABOVE_NORMAL) DistOptimizerHook                  \n",
      "(NORMAL      ) CheckpointHook                     \n",
      "(NORMAL      ) EvalHook                           \n",
      "(LOW         ) IterTimerHook                      \n",
      "(VERY_LOW    ) TextLoggerHook                     \n",
      " -------------------- \n",
      "after_train_epoch:\n",
      "(NORMAL      ) CheckpointHook                     \n",
      "(NORMAL      ) EvalHook                           \n",
      "(VERY_LOW    ) TextLoggerHook                     \n",
      " -------------------- \n",
      "before_val_epoch:\n",
      "(LOW         ) IterTimerHook                      \n",
      "(VERY_LOW    ) TextLoggerHook                     \n",
      " -------------------- \n",
      "before_val_iter:\n",
      "(LOW         ) IterTimerHook                      \n",
      " -------------------- \n",
      "after_val_iter:\n",
      "(LOW         ) IterTimerHook                      \n",
      " -------------------- \n",
      "after_val_epoch:\n",
      "(VERY_LOW    ) TextLoggerHook                     \n",
      " -------------------- \n",
      "after_run:\n",
      "(VERY_LOW    ) TextLoggerHook                     \n",
      " -------------------- \n",
      "2024-06-28 22:26:46,988 - mmaction - INFO - workflow: [('train', 1)], max: 20 epochs\n",
      "2024-06-28 22:26:46,993 - mmaction - INFO - Checkpoints will be saved to H:\\code\\视频组代码\\Video_Swin_Transformer\\tutorial_exps1 by HardDiskBackend.\n",
      "2024-06-28 22:26:55,594 - mmaction - INFO - Epoch [1][5/17]\tlr: 7.813e-07, eta: 0:09:35, time: 1.719, data_time: 1.390, memory: 7447, top1_acc: 0.5000, top5_acc: 1.0000, loss_cls: 1.0084, loss: 1.0084\n",
      "2024-06-28 22:26:57,152 - mmaction - INFO - Epoch [1][10/17]\tlr: 7.813e-07, eta: 0:05:35, time: 0.312, data_time: 0.012, memory: 7613, top1_acc: 0.2000, top5_acc: 1.0000, loss_cls: 1.0602, loss: 1.0602\n",
      "2024-06-28 22:27:00,153 - mmaction - INFO - Epoch [1][15/17]\tlr: 7.813e-07, eta: 0:04:44, time: 0.600, data_time: 0.316, memory: 7619, top1_acc: 0.6000, top5_acc: 1.0000, loss_cls: 1.0141, loss: 1.0141\n",
      "2024-06-28 22:27:11,310 - mmaction - INFO - Epoch [2][5/17]\tlr: 7.813e-07, eta: 0:05:09, time: 1.654, data_time: 1.299, memory: 7619, top1_acc: 0.6000, top5_acc: 1.0000, loss_cls: 0.9724, loss: 0.9724\n",
      "2024-06-28 22:27:17,654 - mmaction - INFO - Epoch [2][10/17]\tlr: 7.813e-07, eta: 0:05:21, time: 1.269, data_time: 0.926, memory: 7620, top1_acc: 0.1000, top5_acc: 1.0000, loss_cls: 1.1152, loss: 1.1152\n",
      "2024-06-28 22:27:21,300 - mmaction - INFO - Epoch [2][15/17]\tlr: 7.813e-07, eta: 0:05:02, time: 0.729, data_time: 0.405, memory: 7620, top1_acc: 0.4000, top5_acc: 1.0000, loss_cls: 1.0287, loss: 1.0287\n",
      "2024-06-28 22:27:32,643 - mmaction - INFO - Epoch [3][5/17]\tlr: 7.813e-07, eta: 0:05:13, time: 1.837, data_time: 1.530, memory: 7620, top1_acc: 0.4000, top5_acc: 1.0000, loss_cls: 1.0217, loss: 1.0217\n",
      "2024-06-28 22:27:35,206 - mmaction - INFO - Epoch [3][10/17]\tlr: 7.813e-07, eta: 0:04:50, time: 0.512, data_time: 0.227, memory: 7621, top1_acc: 0.2000, top5_acc: 1.0000, loss_cls: 1.0985, loss: 1.0985\n",
      "2024-06-28 22:27:37,274 - mmaction - INFO - Epoch [3][15/17]\tlr: 7.813e-07, eta: 0:04:28, time: 0.414, data_time: 0.115, memory: 7621, top1_acc: 0.4000, top5_acc: 1.0000, loss_cls: 0.9514, loss: 0.9514\n",
      "2024-06-28 22:27:47,728 - mmaction - INFO - Epoch [4][5/17]\tlr: 7.813e-07, eta: 0:04:31, time: 1.675, data_time: 1.280, memory: 7621, top1_acc: 0.4000, top5_acc: 1.0000, loss_cls: 1.0935, loss: 1.0935\n",
      "2024-06-28 22:27:49,990 - mmaction - INFO - Epoch [4][10/17]\tlr: 7.813e-07, eta: 0:04:15, time: 0.452, data_time: 0.167, memory: 7621, top1_acc: 0.4000, top5_acc: 1.0000, loss_cls: 0.9546, loss: 0.9546\n",
      "2024-06-28 22:27:52,661 - mmaction - INFO - Epoch [4][15/17]\tlr: 7.813e-07, eta: 0:04:02, time: 0.535, data_time: 0.232, memory: 7621, top1_acc: 0.3000, top5_acc: 1.0000, loss_cls: 1.1380, loss: 1.1380\n",
      "2024-06-28 22:28:05,613 - mmaction - INFO - Epoch [5][5/17]\tlr: 7.813e-07, eta: 0:04:09, time: 1.912, data_time: 1.533, memory: 7621, top1_acc: 0.3000, top5_acc: 1.0000, loss_cls: 1.0565, loss: 1.0565\n",
      "2024-06-28 22:28:07,269 - mmaction - INFO - Epoch [5][10/17]\tlr: 7.813e-07, eta: 0:03:54, time: 0.331, data_time: 0.036, memory: 7621, top1_acc: 0.3000, top5_acc: 1.0000, loss_cls: 1.0433, loss: 1.0433\n",
      "2024-06-28 22:28:11,501 - mmaction - INFO - Epoch [5][15/17]\tlr: 7.813e-07, eta: 0:03:49, time: 0.846, data_time: 0.502, memory: 7621, top1_acc: 0.4000, top5_acc: 1.0000, loss_cls: 1.0680, loss: 1.0680\n"
     ]
    },
    {
     "name": "stdout",
     "output_type": "stream",
     "text": [
      "[>>>>>>>>>>>>>>>>>>>>>>>>>>>>>>>>>>>>>>>>>>>>>>>>>>] 9/9, 0.5 task/s, elapsed: 18s, ETA:     0s"
     ]
    },
    {
     "name": "stderr",
     "output_type": "stream",
     "text": [
      "2024-06-28 22:28:31,922 - mmaction - INFO - Evaluating top_k_accuracy ...\n",
      "2024-06-28 22:28:31,923 - mmaction - INFO - \n",
      "top1_acc\t0.6667\n",
      "top5_acc\t1.0000\n",
      "2024-06-28 22:28:31,923 - mmaction - INFO - Evaluating mean_class_accuracy ...\n",
      "2024-06-28 22:28:31,924 - mmaction - INFO - \n",
      "mean_acc\t0.6000\n"
     ]
    },
    {
     "name": "stdout",
     "output_type": "stream",
     "text": [
      "mean_class_accuracy\n",
      "[2 1 1 2 1 1 1 2 2]\n",
      "[2, 0, 2, 2, 1, 1, 0, 2, 2]\n"
     ]
    },
    {
     "name": "stderr",
     "output_type": "stream",
     "text": [
      "2024-06-28 22:28:33,129 - mmaction - INFO - Now best checkpoint is saved as best_top1_acc_epoch_5.pth.\n",
      "2024-06-28 22:28:33,129 - mmaction - INFO - Best top1_acc is 0.6667 at 5 epoch.\n",
      "2024-06-28 22:28:33,130 - mmaction - INFO - Epoch(val) [5][9]\ttop1_acc: 0.6667, top5_acc: 1.0000, mean_class_accuracy: 0.6000\n",
      "2024-06-28 22:28:41,661 - mmaction - INFO - Epoch [6][5/17]\tlr: 7.813e-07, eta: 0:03:49, time: 1.705, data_time: 1.331, memory: 7621, top1_acc: 0.5000, top5_acc: 1.0000, loss_cls: 0.9793, loss: 0.9793\n",
      "2024-06-28 22:28:46,561 - mmaction - INFO - Epoch [6][10/17]\tlr: 7.813e-07, eta: 0:03:45, time: 0.980, data_time: 0.657, memory: 7621, top1_acc: 0.4000, top5_acc: 1.0000, loss_cls: 1.0214, loss: 1.0214\n",
      "2024-06-28 22:28:48,137 - mmaction - INFO - Epoch [6][15/17]\tlr: 7.813e-07, eta: 0:03:33, time: 0.315, data_time: 0.002, memory: 7621, top1_acc: 0.4000, top5_acc: 1.0000, loss_cls: 1.0461, loss: 1.0461\n",
      "2024-06-28 22:29:00,674 - mmaction - INFO - Epoch [7][5/17]\tlr: 7.813e-07, eta: 0:03:36, time: 2.081, data_time: 1.710, memory: 7621, top1_acc: 0.2000, top5_acc: 1.0000, loss_cls: 1.1396, loss: 1.1396\n",
      "2024-06-28 22:29:04,230 - mmaction - INFO - Epoch [7][10/17]\tlr: 7.813e-07, eta: 0:03:29, time: 0.711, data_time: 0.360, memory: 7621, top1_acc: 0.4000, top5_acc: 1.0000, loss_cls: 0.9882, loss: 0.9882\n",
      "2024-06-28 22:29:05,680 - mmaction - INFO - Epoch [7][15/17]\tlr: 7.813e-07, eta: 0:03:18, time: 0.290, data_time: 0.003, memory: 7621, top1_acc: 0.5000, top5_acc: 1.0000, loss_cls: 1.0971, loss: 1.0971\n",
      "2024-06-28 22:29:17,271 - mmaction - INFO - Epoch [8][5/17]\tlr: 7.813e-07, eta: 0:03:18, time: 1.887, data_time: 1.537, memory: 7621, top1_acc: 0.2000, top5_acc: 1.0000, loss_cls: 1.0856, loss: 1.0856\n",
      "2024-06-28 22:29:19,936 - mmaction - INFO - Epoch [8][10/17]\tlr: 7.813e-07, eta: 0:03:10, time: 0.533, data_time: 0.230, memory: 7621, top1_acc: 0.4000, top5_acc: 1.0000, loss_cls: 1.0576, loss: 1.0576\n",
      "2024-06-28 22:29:21,672 - mmaction - INFO - Epoch [8][15/17]\tlr: 7.813e-07, eta: 0:03:01, time: 0.347, data_time: 0.058, memory: 7621, top1_acc: 0.3000, top5_acc: 1.0000, loss_cls: 1.0759, loss: 1.0759\n",
      "2024-06-28 22:29:33,220 - mmaction - INFO - Epoch [9][5/17]\tlr: 7.813e-07, eta: 0:02:59, time: 1.800, data_time: 1.480, memory: 7621, top1_acc: 0.7000, top5_acc: 1.0000, loss_cls: 0.9964, loss: 0.9964\n",
      "2024-06-28 22:29:35,213 - mmaction - INFO - Epoch [9][10/17]\tlr: 7.813e-07, eta: 0:02:51, time: 0.398, data_time: 0.097, memory: 7621, top1_acc: 0.4000, top5_acc: 1.0000, loss_cls: 0.9988, loss: 0.9988\n",
      "2024-06-28 22:29:38,081 - mmaction - INFO - Epoch [9][15/17]\tlr: 7.813e-07, eta: 0:02:45, time: 0.574, data_time: 0.289, memory: 7621, top1_acc: 0.2000, top5_acc: 1.0000, loss_cls: 1.0601, loss: 1.0601\n",
      "2024-06-28 22:29:49,964 - mmaction - INFO - Epoch [10][5/17]\tlr: 7.813e-07, eta: 0:02:42, time: 1.843, data_time: 1.507, memory: 7621, top1_acc: 0.2000, top5_acc: 1.0000, loss_cls: 1.0685, loss: 1.0685\n",
      "2024-06-28 22:29:52,417 - mmaction - INFO - Epoch [10][10/17]\tlr: 7.813e-07, eta: 0:02:36, time: 0.491, data_time: 0.195, memory: 7621, top1_acc: 0.2000, top5_acc: 1.0000, loss_cls: 1.0021, loss: 1.0021\n",
      "2024-06-28 22:29:54,523 - mmaction - INFO - Epoch [10][15/17]\tlr: 7.813e-07, eta: 0:02:29, time: 0.421, data_time: 0.122, memory: 7621, top1_acc: 0.4000, top5_acc: 1.0000, loss_cls: 1.0346, loss: 1.0346\n",
      "2024-06-28 22:29:56,632 - mmaction - INFO - Saving checkpoint at 10 epochs\n"
     ]
    },
    {
     "name": "stdout",
     "output_type": "stream",
     "text": [
      "[>>>>>>>>>>>>>>>>>>>>>>>>>>>>>>>>>>>>>>>>>>>>>>>>>>] 9/9, 0.5 task/s, elapsed: 18s, ETA:     0s"
     ]
    },
    {
     "name": "stderr",
     "output_type": "stream",
     "text": [
      "2024-06-28 22:30:16,512 - mmaction - INFO - Evaluating top_k_accuracy ...\n",
      "2024-06-28 22:30:16,513 - mmaction - INFO - \n",
      "top1_acc\t0.7778\n",
      "top5_acc\t1.0000\n",
      "2024-06-28 22:30:16,513 - mmaction - INFO - Evaluating mean_class_accuracy ...\n",
      "2024-06-28 22:30:16,514 - mmaction - INFO - \n",
      "mean_acc\t0.6667\n",
      "2024-06-28 22:30:16,589 - mmaction - INFO - The previous best checkpoint H:\\code\\视频组代码\\Video_Swin_Transformer\\tutorial_exps1\\best_top1_acc_epoch_5.pth was removed\n"
     ]
    },
    {
     "name": "stdout",
     "output_type": "stream",
     "text": [
      "mean_class_accuracy\n",
      "[2 1 2 2 1 1 1 2 2]\n",
      "[2, 0, 2, 2, 1, 1, 0, 2, 2]\n"
     ]
    },
    {
     "name": "stderr",
     "output_type": "stream",
     "text": [
      "2024-06-28 22:30:17,849 - mmaction - INFO - Now best checkpoint is saved as best_top1_acc_epoch_10.pth.\n",
      "2024-06-28 22:30:17,850 - mmaction - INFO - Best top1_acc is 0.7778 at 10 epoch.\n",
      "2024-06-28 22:30:17,850 - mmaction - INFO - Epoch(val) [10][9]\ttop1_acc: 0.7778, top5_acc: 1.0000, mean_class_accuracy: 0.6667\n",
      "2024-06-28 22:30:26,226 - mmaction - INFO - Epoch [11][5/17]\tlr: 7.813e-07, eta: 0:02:25, time: 1.674, data_time: 1.345, memory: 7621, top1_acc: 0.5000, top5_acc: 1.0000, loss_cls: 1.0310, loss: 1.0310\n",
      "2024-06-28 22:30:28,186 - mmaction - INFO - Epoch [11][10/17]\tlr: 7.813e-07, eta: 0:02:18, time: 0.392, data_time: 0.108, memory: 7621, top1_acc: 0.2000, top5_acc: 1.0000, loss_cls: 1.0953, loss: 1.0953\n",
      "2024-06-28 22:30:31,595 - mmaction - INFO - Epoch [11][15/17]\tlr: 7.813e-07, eta: 0:02:13, time: 0.682, data_time: 0.397, memory: 7621, top1_acc: 0.7000, top5_acc: 1.0000, loss_cls: 0.9506, loss: 0.9506\n",
      "2024-06-28 22:30:41,405 - mmaction - INFO - Epoch [12][5/17]\tlr: 7.813e-07, eta: 0:02:08, time: 1.534, data_time: 1.208, memory: 7621, top1_acc: 0.6000, top5_acc: 1.0000, loss_cls: 0.8873, loss: 0.8873\n",
      "2024-06-28 22:30:45,513 - mmaction - INFO - Epoch [12][10/17]\tlr: 7.813e-07, eta: 0:02:04, time: 0.822, data_time: 0.496, memory: 7621, top1_acc: 0.1000, top5_acc: 1.0000, loss_cls: 1.1159, loss: 1.1159\n",
      "2024-06-28 22:30:50,041 - mmaction - INFO - Epoch [12][15/17]\tlr: 7.813e-07, eta: 0:02:00, time: 0.906, data_time: 0.554, memory: 7621, top1_acc: 0.5000, top5_acc: 1.0000, loss_cls: 1.0172, loss: 1.0172\n",
      "2024-06-28 22:31:01,177 - mmaction - INFO - Epoch [13][5/17]\tlr: 7.813e-07, eta: 0:01:55, time: 1.792, data_time: 1.426, memory: 7621, top1_acc: 0.2000, top5_acc: 1.0000, loss_cls: 1.1159, loss: 1.1159\n",
      "2024-06-28 22:31:03,231 - mmaction - INFO - Epoch [13][10/17]\tlr: 7.813e-07, eta: 0:01:50, time: 0.411, data_time: 0.123, memory: 7621, top1_acc: 0.7000, top5_acc: 1.0000, loss_cls: 0.9264, loss: 0.9264\n",
      "2024-06-28 22:31:05,948 - mmaction - INFO - Epoch [13][15/17]\tlr: 7.813e-07, eta: 0:01:44, time: 0.543, data_time: 0.256, memory: 7621, top1_acc: 0.3000, top5_acc: 1.0000, loss_cls: 1.0567, loss: 1.0567\n",
      "2024-06-28 22:31:18,488 - mmaction - INFO - Epoch [14][5/17]\tlr: 7.813e-07, eta: 0:01:40, time: 1.968, data_time: 1.610, memory: 7621, top1_acc: 0.2000, top5_acc: 1.0000, loss_cls: 1.0692, loss: 1.0692\n",
      "2024-06-28 22:31:21,025 - mmaction - INFO - Epoch [14][10/17]\tlr: 7.813e-07, eta: 0:01:35, time: 0.508, data_time: 0.205, memory: 7621, top1_acc: 0.5000, top5_acc: 1.0000, loss_cls: 0.9495, loss: 0.9495\n",
      "2024-06-28 22:31:23,365 - mmaction - INFO - Epoch [14][15/17]\tlr: 7.813e-07, eta: 0:01:30, time: 0.468, data_time: 0.173, memory: 7621, top1_acc: 0.3000, top5_acc: 1.0000, loss_cls: 1.0627, loss: 1.0627\n",
      "2024-06-28 22:31:34,582 - mmaction - INFO - Epoch [15][5/17]\tlr: 7.813e-07, eta: 0:01:25, time: 1.837, data_time: 1.464, memory: 7621, top1_acc: 0.4000, top5_acc: 1.0000, loss_cls: 1.0210, loss: 1.0210\n",
      "2024-06-28 22:31:36,297 - mmaction - INFO - Epoch [15][10/17]\tlr: 7.813e-07, eta: 0:01:19, time: 0.342, data_time: 0.033, memory: 7621, top1_acc: 0.5000, top5_acc: 1.0000, loss_cls: 0.9751, loss: 0.9751\n",
      "2024-06-28 22:31:40,452 - mmaction - INFO - Epoch [15][15/17]\tlr: 7.813e-07, eta: 0:01:15, time: 0.832, data_time: 0.515, memory: 7621, top1_acc: 0.4000, top5_acc: 1.0000, loss_cls: 1.0130, loss: 1.0130\n"
     ]
    },
    {
     "name": "stdout",
     "output_type": "stream",
     "text": [
      "[>>>>>>>>>>>>>>>>>>>>>>>>>>>>>>>>>>>>>>>>>>>>>>>>>>] 9/9, 0.5 task/s, elapsed: 18s, ETA:     0s"
     ]
    },
    {
     "name": "stderr",
     "output_type": "stream",
     "text": [
      "2024-06-28 22:32:00,878 - mmaction - INFO - Evaluating top_k_accuracy ...\n",
      "2024-06-28 22:32:00,879 - mmaction - INFO - \n",
      "top1_acc\t0.6667\n",
      "top5_acc\t1.0000\n",
      "2024-06-28 22:32:00,880 - mmaction - INFO - Evaluating mean_class_accuracy ...\n",
      "2024-06-28 22:32:00,881 - mmaction - INFO - \n",
      "mean_acc\t0.5000\n",
      "2024-06-28 22:32:00,881 - mmaction - INFO - Epoch(val) [15][9]\ttop1_acc: 0.6667, top5_acc: 1.0000, mean_class_accuracy: 0.5000\n"
     ]
    },
    {
     "name": "stdout",
     "output_type": "stream",
     "text": [
      "mean_class_accuracy\n",
      "[2 1 2 2 1 2 1 2 2]\n",
      "[2, 0, 2, 2, 1, 1, 0, 2, 2]\n"
     ]
    },
    {
     "name": "stderr",
     "output_type": "stream",
     "text": [
      "2024-06-28 22:32:10,319 - mmaction - INFO - Epoch [16][5/17]\tlr: 7.813e-07, eta: 0:01:10, time: 1.886, data_time: 1.490, memory: 7621, top1_acc: 0.6000, top5_acc: 1.0000, loss_cls: 0.9813, loss: 0.9813\n",
      "2024-06-28 22:32:13,878 - mmaction - INFO - Epoch [16][10/17]\tlr: 7.813e-07, eta: 0:01:05, time: 0.712, data_time: 0.366, memory: 7621, top1_acc: 0.6000, top5_acc: 1.0000, loss_cls: 0.9153, loss: 0.9153\n",
      "2024-06-28 22:32:15,483 - mmaction - INFO - Epoch [16][15/17]\tlr: 7.813e-07, eta: 0:01:00, time: 0.321, data_time: 0.040, memory: 7621, top1_acc: 0.2000, top5_acc: 1.0000, loss_cls: 1.0555, loss: 1.0555\n",
      "2024-06-28 22:32:25,983 - mmaction - INFO - Epoch [17][5/17]\tlr: 7.813e-07, eta: 0:00:55, time: 1.659, data_time: 1.334, memory: 7621, top1_acc: 0.4000, top5_acc: 1.0000, loss_cls: 1.0105, loss: 1.0105\n",
      "2024-06-28 22:32:28,471 - mmaction - INFO - Epoch [17][10/17]\tlr: 7.813e-07, eta: 0:00:50, time: 0.498, data_time: 0.195, memory: 7621, top1_acc: 0.8000, top5_acc: 1.0000, loss_cls: 0.9157, loss: 0.9157\n",
      "2024-06-28 22:32:30,162 - mmaction - INFO - Epoch [17][15/17]\tlr: 7.813e-07, eta: 0:00:45, time: 0.338, data_time: 0.060, memory: 7621, top1_acc: 0.6000, top5_acc: 1.0000, loss_cls: 1.0028, loss: 1.0028\n",
      "2024-06-28 22:32:41,467 - mmaction - INFO - Epoch [18][5/17]\tlr: 7.813e-07, eta: 0:00:39, time: 1.824, data_time: 1.473, memory: 7621, top1_acc: 0.4000, top5_acc: 1.0000, loss_cls: 0.9868, loss: 0.9868\n",
      "2024-06-28 22:32:43,600 - mmaction - INFO - Epoch [18][10/17]\tlr: 7.813e-07, eta: 0:00:35, time: 0.426, data_time: 0.119, memory: 7621, top1_acc: 0.7000, top5_acc: 1.0000, loss_cls: 0.9455, loss: 0.9455\n",
      "2024-06-28 22:32:46,557 - mmaction - INFO - Epoch [18][15/17]\tlr: 7.813e-07, eta: 0:00:30, time: 0.592, data_time: 0.284, memory: 7621, top1_acc: 0.3000, top5_acc: 1.0000, loss_cls: 1.0576, loss: 1.0576\n",
      "2024-06-28 22:32:58,347 - mmaction - INFO - Epoch [19][5/17]\tlr: 7.813e-07, eta: 0:00:25, time: 1.903, data_time: 1.555, memory: 7621, top1_acc: 0.6000, top5_acc: 1.0000, loss_cls: 0.8817, loss: 0.8817\n",
      "2024-06-28 22:33:00,596 - mmaction - INFO - Epoch [19][10/17]\tlr: 7.813e-07, eta: 0:00:20, time: 0.450, data_time: 0.140, memory: 7621, top1_acc: 0.9000, top5_acc: 1.0000, loss_cls: 0.8857, loss: 0.8857\n",
      "2024-06-28 22:33:03,455 - mmaction - INFO - Epoch [19][15/17]\tlr: 7.813e-07, eta: 0:00:16, time: 0.572, data_time: 0.263, memory: 7621, top1_acc: 0.3000, top5_acc: 1.0000, loss_cls: 1.0144, loss: 1.0144\n",
      "2024-06-28 22:33:14,929 - mmaction - INFO - Epoch [20][5/17]\tlr: 7.813e-07, eta: 0:00:10, time: 1.742, data_time: 1.395, memory: 7621, top1_acc: 0.4000, top5_acc: 1.0000, loss_cls: 1.0144, loss: 1.0144\n",
      "2024-06-28 22:33:17,976 - mmaction - INFO - Epoch [20][10/17]\tlr: 7.813e-07, eta: 0:00:06, time: 0.610, data_time: 0.315, memory: 7621, top1_acc: 0.5000, top5_acc: 1.0000, loss_cls: 1.0051, loss: 1.0051\n",
      "2024-06-28 22:33:20,509 - mmaction - INFO - Epoch [20][15/17]\tlr: 7.813e-07, eta: 0:00:01, time: 0.507, data_time: 0.206, memory: 7621, top1_acc: 0.5000, top5_acc: 1.0000, loss_cls: 1.0328, loss: 1.0328\n",
      "2024-06-28 22:33:22,724 - mmaction - INFO - Saving checkpoint at 20 epochs\n"
     ]
    },
    {
     "name": "stdout",
     "output_type": "stream",
     "text": [
      "[>>>>>>>>>>>>>>>>>>>>>>>>>>>>>>>>>>>>>>>>>>>>>>>>>>] 9/9, 0.5 task/s, elapsed: 18s, ETA:     0s"
     ]
    },
    {
     "name": "stderr",
     "output_type": "stream",
     "text": [
      "2024-06-28 22:33:42,715 - mmaction - INFO - Evaluating top_k_accuracy ...\n",
      "2024-06-28 22:33:42,716 - mmaction - INFO - \n",
      "top1_acc\t0.6667\n",
      "top5_acc\t1.0000\n",
      "2024-06-28 22:33:42,717 - mmaction - INFO - Evaluating mean_class_accuracy ...\n",
      "2024-06-28 22:33:42,717 - mmaction - INFO - \n",
      "mean_acc\t0.5000\n",
      "2024-06-28 22:33:42,718 - mmaction - INFO - Epoch(val) [20][9]\ttop1_acc: 0.6667, top5_acc: 1.0000, mean_class_accuracy: 0.5000\n"
     ]
    },
    {
     "name": "stdout",
     "output_type": "stream",
     "text": [
      "mean_class_accuracy\n",
      "[2 1 2 2 1 2 1 2 2]\n",
      "[2, 0, 2, 2, 1, 1, 0, 2, 2]\n"
     ]
    },
    {
     "name": "stderr",
     "output_type": "stream",
     "text": [
      "2024-06-28 22:33:44,075 - mmaction - INFO - load checkpoint from local path: ./tutorial_exps/epoch_20.pth\n"
     ]
    },
    {
     "name": "stdout",
     "output_type": "stream",
     "text": [
      "Selected optimization level O1:  Insert automatic casts around Pytorch functions and Tensor methods.\n",
      "\n",
      "Defaults for this optimization level are:\n",
      "enabled                : True\n",
      "opt_level              : O1\n",
      "cast_model_type        : None\n",
      "patch_torch_functions  : True\n",
      "keep_batchnorm_fp32    : None\n",
      "master_weights         : None\n",
      "loss_scale             : dynamic\n",
      "Processing user overrides (additional kwargs that are not None)...\n",
      "After processing overrides, optimization options are:\n",
      "enabled                : True\n",
      "opt_level              : O1\n",
      "cast_model_type        : None\n",
      "patch_torch_functions  : True\n",
      "keep_batchnorm_fp32    : None\n",
      "master_weights         : None\n",
      "loss_scale             : dynamic\n"
     ]
    },
    {
     "name": "stderr",
     "output_type": "stream",
     "text": [
      "2024-06-28 22:33:44,501 - mmaction - INFO - Start running, host: 15281@实验室, work_dir: H:\\code\\视频组代码\\Video_Swin_Transformer\\tutorial_exps1\n",
      "2024-06-28 22:33:44,502 - mmaction - INFO - Hooks will be executed in the following order:\n",
      "before_run:\n",
      "(VERY_HIGH   ) StepLrUpdaterHook                  \n",
      "(ABOVE_NORMAL) DistOptimizerHook                  \n",
      "(NORMAL      ) CheckpointHook                     \n",
      "(NORMAL      ) EvalHook                           \n",
      "(VERY_LOW    ) TextLoggerHook                     \n",
      " -------------------- \n",
      "before_train_epoch:\n",
      "(VERY_HIGH   ) StepLrUpdaterHook                  \n",
      "(NORMAL      ) EvalHook                           \n",
      "(LOW         ) IterTimerHook                      \n",
      "(VERY_LOW    ) TextLoggerHook                     \n",
      " -------------------- \n",
      "before_train_iter:\n",
      "(VERY_HIGH   ) StepLrUpdaterHook                  \n",
      "(NORMAL      ) EvalHook                           \n",
      "(LOW         ) IterTimerHook                      \n",
      " -------------------- \n",
      "after_train_iter:\n",
      "(ABOVE_NORMAL) DistOptimizerHook                  \n",
      "(NORMAL      ) CheckpointHook                     \n",
      "(NORMAL      ) EvalHook                           \n",
      "(LOW         ) IterTimerHook                      \n",
      "(VERY_LOW    ) TextLoggerHook                     \n",
      " -------------------- \n",
      "after_train_epoch:\n",
      "(NORMAL      ) CheckpointHook                     \n",
      "(NORMAL      ) EvalHook                           \n",
      "(VERY_LOW    ) TextLoggerHook                     \n",
      " -------------------- \n",
      "before_val_epoch:\n",
      "(LOW         ) IterTimerHook                      \n",
      "(VERY_LOW    ) TextLoggerHook                     \n",
      " -------------------- \n",
      "before_val_iter:\n",
      "(LOW         ) IterTimerHook                      \n",
      " -------------------- \n",
      "after_val_iter:\n",
      "(LOW         ) IterTimerHook                      \n",
      " -------------------- \n",
      "after_val_epoch:\n",
      "(VERY_LOW    ) TextLoggerHook                     \n",
      " -------------------- \n",
      "after_run:\n",
      "(VERY_LOW    ) TextLoggerHook                     \n",
      " -------------------- \n",
      "2024-06-28 22:33:44,503 - mmaction - INFO - workflow: [('train', 1)], max: 20 epochs\n",
      "2024-06-28 22:33:44,507 - mmaction - INFO - Checkpoints will be saved to H:\\code\\视频组代码\\Video_Swin_Transformer\\tutorial_exps1 by HardDiskBackend.\n",
      "2024-06-28 22:33:53,270 - mmaction - INFO - Epoch [1][5/17]\tlr: 7.813e-07, eta: 0:09:46, time: 1.751, data_time: 1.373, memory: 7621, top1_acc: 0.2000, top5_acc: 1.0000, loss_cls: 1.0995, loss: 1.0995\n",
      "2024-06-28 22:33:54,938 - mmaction - INFO - Epoch [1][10/17]\tlr: 7.813e-07, eta: 0:05:44, time: 0.334, data_time: 0.002, memory: 7621, top1_acc: 0.3000, top5_acc: 1.0000, loss_cls: 1.0062, loss: 1.0062\n",
      "2024-06-28 22:33:57,400 - mmaction - INFO - Epoch [1][15/17]\tlr: 7.813e-07, eta: 0:04:39, time: 0.493, data_time: 0.192, memory: 7621, top1_acc: 0.2000, top5_acc: 1.0000, loss_cls: 1.0586, loss: 1.0586\n",
      "2024-06-28 22:34:08,892 - mmaction - INFO - Epoch [2][5/17]\tlr: 7.813e-07, eta: 0:05:12, time: 1.746, data_time: 1.388, memory: 7621, top1_acc: 0.3000, top5_acc: 1.0000, loss_cls: 1.0663, loss: 1.0663\n",
      "2024-06-28 22:34:11,315 - mmaction - INFO - Epoch [2][10/17]\tlr: 7.813e-07, eta: 0:04:38, time: 0.484, data_time: 0.187, memory: 7621, top1_acc: 0.5000, top5_acc: 1.0000, loss_cls: 0.9830, loss: 0.9830\n",
      "2024-06-28 22:34:13,311 - mmaction - INFO - Epoch [2][15/17]\tlr: 7.813e-07, eta: 0:04:10, time: 0.399, data_time: 0.127, memory: 7621, top1_acc: 0.2000, top5_acc: 1.0000, loss_cls: 1.1030, loss: 1.1030\n"
     ]
    },
    {
     "name": "stdout",
     "output_type": "stream",
     "text": [
      "Gradient overflow.  Skipping step, loss scaler 0 reducing loss scale to 32768.0\n"
     ]
    },
    {
     "name": "stderr",
     "output_type": "stream",
     "text": [
      "2024-06-28 22:34:25,619 - mmaction - INFO - Epoch [3][5/17]\tlr: 7.813e-07, eta: 0:04:24, time: 1.654, data_time: 1.323, memory: 7621, top1_acc: 0.4000, top5_acc: 1.0000, loss_cls: 1.1594, loss: 1.1594\n",
      "2024-06-28 22:34:30,331 - mmaction - INFO - Epoch [3][10/17]\tlr: 7.813e-07, eta: 0:04:22, time: 0.942, data_time: 0.602, memory: 7621, top1_acc: 0.4000, top5_acc: 1.0000, loss_cls: 1.0117, loss: 1.0117\n",
      "2024-06-28 22:34:31,894 - mmaction - INFO - Epoch [3][15/17]\tlr: 7.813e-07, eta: 0:04:01, time: 0.313, data_time: 0.014, memory: 7621, top1_acc: 0.4000, top5_acc: 1.0000, loss_cls: 1.0501, loss: 1.0501\n",
      "2024-06-28 22:34:42,791 - mmaction - INFO - Epoch [4][5/17]\tlr: 7.813e-07, eta: 0:04:09, time: 1.731, data_time: 1.365, memory: 7621, top1_acc: 0.4000, top5_acc: 1.0000, loss_cls: 1.0632, loss: 1.0632\n",
      "2024-06-28 22:34:45,348 - mmaction - INFO - Epoch [4][10/17]\tlr: 7.813e-07, eta: 0:03:56, time: 0.512, data_time: 0.215, memory: 7621, top1_acc: 0.4000, top5_acc: 1.0000, loss_cls: 1.0194, loss: 1.0194\n",
      "2024-06-28 22:34:47,765 - mmaction - INFO - Epoch [4][15/17]\tlr: 7.813e-07, eta: 0:03:45, time: 0.483, data_time: 0.168, memory: 7621, top1_acc: 0.3000, top5_acc: 1.0000, loss_cls: 1.0508, loss: 1.0508\n",
      "2024-06-28 22:34:58,773 - mmaction - INFO - Epoch [5][5/17]\tlr: 7.813e-07, eta: 0:03:50, time: 1.769, data_time: 1.416, memory: 7621, top1_acc: 0.3000, top5_acc: 1.0000, loss_cls: 1.0432, loss: 1.0432\n",
      "2024-06-28 22:35:03,150 - mmaction - INFO - Epoch [5][10/17]\tlr: 7.813e-07, eta: 0:03:46, time: 0.875, data_time: 0.540, memory: 7621, top1_acc: 0.5000, top5_acc: 1.0000, loss_cls: 0.9556, loss: 0.9556\n",
      "2024-06-28 22:35:07,321 - mmaction - INFO - Epoch [5][15/17]\tlr: 7.813e-07, eta: 0:03:41, time: 0.834, data_time: 0.483, memory: 7621, top1_acc: 0.1000, top5_acc: 1.0000, loss_cls: 1.1350, loss: 1.1350\n"
     ]
    },
    {
     "name": "stdout",
     "output_type": "stream",
     "text": [
      "[>>>>>>>>>>>>>>>>>>>>>>>>>>>>>>>>>>>>>>>>>>>>>>>>>>] 9/9, 0.5 task/s, elapsed: 18s, ETA:     0s"
     ]
    },
    {
     "name": "stderr",
     "output_type": "stream",
     "text": [
      "2024-06-28 22:35:27,850 - mmaction - INFO - Evaluating top_k_accuracy ...\n",
      "2024-06-28 22:35:27,851 - mmaction - INFO - \n",
      "top1_acc\t0.5556\n",
      "top5_acc\t1.0000\n",
      "2024-06-28 22:35:27,851 - mmaction - INFO - Evaluating mean_class_accuracy ...\n",
      "2024-06-28 22:35:27,852 - mmaction - INFO - \n",
      "mean_acc\t0.5333\n"
     ]
    },
    {
     "name": "stdout",
     "output_type": "stream",
     "text": [
      "mean_class_accuracy\n",
      "[2 1 1 2 1 1 1 2 1]\n",
      "[2, 0, 2, 2, 1, 1, 0, 2, 2]\n"
     ]
    },
    {
     "name": "stderr",
     "output_type": "stream",
     "text": [
      "2024-06-28 22:35:29,150 - mmaction - INFO - Now best checkpoint is saved as best_top1_acc_epoch_5.pth.\n",
      "2024-06-28 22:35:29,151 - mmaction - INFO - Best top1_acc is 0.5556 at 5 epoch.\n",
      "2024-06-28 22:35:29,151 - mmaction - INFO - Epoch(val) [5][9]\ttop1_acc: 0.5556, top5_acc: 1.0000, mean_class_accuracy: 0.5333\n",
      "2024-06-28 22:35:37,528 - mmaction - INFO - Epoch [6][5/17]\tlr: 7.813e-07, eta: 0:03:42, time: 1.674, data_time: 1.308, memory: 7621, top1_acc: 0.5000, top5_acc: 1.0000, loss_cls: 1.0545, loss: 1.0545\n",
      "2024-06-28 22:35:43,210 - mmaction - INFO - Epoch [6][10/17]\tlr: 7.813e-07, eta: 0:03:40, time: 1.136, data_time: 0.775, memory: 7621, top1_acc: 0.6000, top5_acc: 1.0000, loss_cls: 0.9576, loss: 0.9576\n",
      "2024-06-28 22:35:44,817 - mmaction - INFO - Epoch [6][15/17]\tlr: 7.813e-07, eta: 0:03:29, time: 0.321, data_time: 0.017, memory: 7621, top1_acc: 0.4000, top5_acc: 1.0000, loss_cls: 1.0293, loss: 1.0293\n",
      "2024-06-28 22:35:56,779 - mmaction - INFO - Epoch [7][5/17]\tlr: 7.813e-07, eta: 0:03:31, time: 1.951, data_time: 1.600, memory: 7621, top1_acc: 0.3000, top5_acc: 1.0000, loss_cls: 1.0924, loss: 1.0924\n",
      "2024-06-28 22:35:58,932 - mmaction - INFO - Epoch [7][10/17]\tlr: 7.813e-07, eta: 0:03:21, time: 0.431, data_time: 0.122, memory: 7621, top1_acc: 0.4000, top5_acc: 1.0000, loss_cls: 0.9671, loss: 0.9671\n",
      "2024-06-28 22:36:00,852 - mmaction - INFO - Epoch [7][15/17]\tlr: 7.813e-07, eta: 0:03:12, time: 0.384, data_time: 0.079, memory: 7621, top1_acc: 0.4000, top5_acc: 1.0000, loss_cls: 1.0705, loss: 1.0705\n",
      "2024-06-28 22:36:12,220 - mmaction - INFO - Epoch [8][5/17]\tlr: 7.813e-07, eta: 0:03:12, time: 1.852, data_time: 1.462, memory: 7621, top1_acc: 0.0000, top5_acc: 1.0000, loss_cls: 1.1357, loss: 1.1357\n",
      "2024-06-28 22:36:14,683 - mmaction - INFO - Epoch [8][10/17]\tlr: 7.813e-07, eta: 0:03:04, time: 0.493, data_time: 0.191, memory: 7621, top1_acc: 0.5000, top5_acc: 1.0000, loss_cls: 0.9462, loss: 0.9462\n",
      "2024-06-28 22:36:16,394 - mmaction - INFO - Epoch [8][15/17]\tlr: 7.813e-07, eta: 0:02:56, time: 0.342, data_time: 0.046, memory: 7621, top1_acc: 0.2000, top5_acc: 1.0000, loss_cls: 1.1610, loss: 1.1610\n",
      "2024-06-28 22:36:27,266 - mmaction - INFO - Epoch [9][5/17]\tlr: 7.813e-07, eta: 0:02:54, time: 1.756, data_time: 1.415, memory: 7621, top1_acc: 0.0000, top5_acc: 1.0000, loss_cls: 1.1437, loss: 1.1437\n",
      "2024-06-28 22:36:30,771 - mmaction - INFO - Epoch [9][10/17]\tlr: 7.813e-07, eta: 0:02:48, time: 0.701, data_time: 0.381, memory: 7621, top1_acc: 0.8000, top5_acc: 1.0000, loss_cls: 0.9070, loss: 0.9070\n",
      "2024-06-28 22:36:33,287 - mmaction - INFO - Epoch [9][15/17]\tlr: 7.813e-07, eta: 0:02:41, time: 0.503, data_time: 0.209, memory: 7621, top1_acc: 0.4000, top5_acc: 1.0000, loss_cls: 1.0566, loss: 1.0566\n",
      "2024-06-28 22:36:43,978 - mmaction - INFO - Epoch [10][5/17]\tlr: 7.813e-07, eta: 0:02:38, time: 1.701, data_time: 1.332, memory: 7621, top1_acc: 0.7000, top5_acc: 1.0000, loss_cls: 0.9693, loss: 0.9693\n",
      "2024-06-28 22:36:47,463 - mmaction - INFO - Epoch [10][10/17]\tlr: 7.813e-07, eta: 0:02:33, time: 0.697, data_time: 0.380, memory: 7621, top1_acc: 0.5000, top5_acc: 1.0000, loss_cls: 1.0156, loss: 1.0156\n",
      "2024-06-28 22:36:50,143 - mmaction - INFO - Epoch [10][15/17]\tlr: 7.813e-07, eta: 0:02:27, time: 0.536, data_time: 0.229, memory: 7621, top1_acc: 0.4000, top5_acc: 1.0000, loss_cls: 1.0814, loss: 1.0814\n",
      "2024-06-28 22:36:52,328 - mmaction - INFO - Saving checkpoint at 10 epochs\n"
     ]
    },
    {
     "name": "stdout",
     "output_type": "stream",
     "text": [
      "[>>>>>>>>>>>>>>>>>>>>>>>>>>>>>>>>>>>>>>>>>>>>>>>>>>] 9/9, 0.5 task/s, elapsed: 18s, ETA:     0s"
     ]
    },
    {
     "name": "stderr",
     "output_type": "stream",
     "text": [
      "2024-06-28 22:37:12,789 - mmaction - INFO - Evaluating top_k_accuracy ...\n",
      "2024-06-28 22:37:12,790 - mmaction - INFO - \n",
      "top1_acc\t0.6667\n",
      "top5_acc\t1.0000\n",
      "2024-06-28 22:37:12,790 - mmaction - INFO - Evaluating mean_class_accuracy ...\n",
      "2024-06-28 22:37:12,791 - mmaction - INFO - \n",
      "mean_acc\t0.6000\n",
      "2024-06-28 22:37:12,860 - mmaction - INFO - The previous best checkpoint H:\\code\\视频组代码\\Video_Swin_Transformer\\tutorial_exps1\\best_top1_acc_epoch_5.pth was removed\n"
     ]
    },
    {
     "name": "stdout",
     "output_type": "stream",
     "text": [
      "mean_class_accuracy\n",
      "[2 1 1 2 1 1 1 2 2]\n",
      "[2, 0, 2, 2, 1, 1, 0, 2, 2]\n"
     ]
    },
    {
     "name": "stderr",
     "output_type": "stream",
     "text": [
      "2024-06-28 22:37:14,192 - mmaction - INFO - Now best checkpoint is saved as best_top1_acc_epoch_10.pth.\n",
      "2024-06-28 22:37:14,192 - mmaction - INFO - Best top1_acc is 0.6667 at 10 epoch.\n",
      "2024-06-28 22:37:14,193 - mmaction - INFO - Epoch(val) [10][9]\ttop1_acc: 0.6667, top5_acc: 1.0000, mean_class_accuracy: 0.6000\n",
      "2024-06-28 22:37:26,434 - mmaction - INFO - Epoch [11][5/17]\tlr: 7.813e-07, eta: 0:02:27, time: 2.447, data_time: 2.085, memory: 7621, top1_acc: 0.4000, top5_acc: 1.0000, loss_cls: 1.0153, loss: 1.0153\n",
      "2024-06-28 22:37:28,621 - mmaction - INFO - Epoch [11][10/17]\tlr: 7.813e-07, eta: 0:02:20, time: 0.438, data_time: 0.128, memory: 7621, top1_acc: 0.4000, top5_acc: 1.0000, loss_cls: 1.0175, loss: 1.0175\n",
      "2024-06-28 22:37:30,636 - mmaction - INFO - Epoch [11][15/17]\tlr: 7.813e-07, eta: 0:02:14, time: 0.403, data_time: 0.090, memory: 7621, top1_acc: 0.5000, top5_acc: 1.0000, loss_cls: 1.0047, loss: 1.0047\n",
      "2024-06-28 22:37:42,549 - mmaction - INFO - Epoch [12][5/17]\tlr: 7.813e-07, eta: 0:02:11, time: 1.958, data_time: 1.609, memory: 7621, top1_acc: 0.2000, top5_acc: 1.0000, loss_cls: 1.0278, loss: 1.0278\n",
      "2024-06-28 22:37:47,124 - mmaction - INFO - Epoch [12][10/17]\tlr: 7.813e-07, eta: 0:02:06, time: 0.916, data_time: 0.569, memory: 7621, top1_acc: 0.6000, top5_acc: 1.0000, loss_cls: 0.9553, loss: 0.9553\n",
      "2024-06-28 22:37:50,028 - mmaction - INFO - Epoch [12][15/17]\tlr: 7.813e-07, eta: 0:02:01, time: 0.581, data_time: 0.278, memory: 7621, top1_acc: 0.3000, top5_acc: 1.0000, loss_cls: 1.0476, loss: 1.0476\n",
      "2024-06-28 22:38:02,009 - mmaction - INFO - Epoch [13][5/17]\tlr: 7.813e-07, eta: 0:01:57, time: 1.948, data_time: 1.552, memory: 7621, top1_acc: 0.4000, top5_acc: 1.0000, loss_cls: 1.0658, loss: 1.0658\n",
      "2024-06-28 22:38:05,061 - mmaction - INFO - Epoch [13][10/17]\tlr: 7.813e-07, eta: 0:01:52, time: 0.610, data_time: 0.308, memory: 7621, top1_acc: 0.3000, top5_acc: 1.0000, loss_cls: 1.0740, loss: 1.0740\n",
      "2024-06-28 22:38:07,037 - mmaction - INFO - Epoch [13][15/17]\tlr: 7.813e-07, eta: 0:01:46, time: 0.395, data_time: 0.095, memory: 7621, top1_acc: 0.4000, top5_acc: 1.0000, loss_cls: 1.0286, loss: 1.0286\n",
      "2024-06-28 22:38:18,265 - mmaction - INFO - Epoch [14][5/17]\tlr: 7.813e-07, eta: 0:01:41, time: 1.810, data_time: 1.456, memory: 7621, top1_acc: 0.3000, top5_acc: 1.0000, loss_cls: 1.0556, loss: 1.0556\n",
      "2024-06-28 22:38:19,670 - mmaction - INFO - Epoch [14][10/17]\tlr: 7.813e-07, eta: 0:01:35, time: 0.281, data_time: 0.001, memory: 7621, top1_acc: 0.2000, top5_acc: 1.0000, loss_cls: 1.0637, loss: 1.0637\n",
      "2024-06-28 22:38:23,490 - mmaction - INFO - Epoch [14][15/17]\tlr: 7.813e-07, eta: 0:01:31, time: 0.764, data_time: 0.424, memory: 7621, top1_acc: 0.5000, top5_acc: 1.0000, loss_cls: 1.0515, loss: 1.0515\n",
      "2024-06-28 22:38:35,791 - mmaction - INFO - Epoch [15][5/17]\tlr: 7.813e-07, eta: 0:01:26, time: 1.888, data_time: 1.500, memory: 7621, top1_acc: 0.3000, top5_acc: 1.0000, loss_cls: 1.0474, loss: 1.0474\n",
      "2024-06-28 22:38:37,399 - mmaction - INFO - Epoch [15][10/17]\tlr: 7.813e-07, eta: 0:01:20, time: 0.322, data_time: 0.001, memory: 7621, top1_acc: 0.4000, top5_acc: 1.0000, loss_cls: 0.9928, loss: 0.9928\n",
      "2024-06-28 22:38:39,620 - mmaction - INFO - Epoch [15][15/17]\tlr: 7.813e-07, eta: 0:01:15, time: 0.444, data_time: 0.148, memory: 7621, top1_acc: 0.6000, top5_acc: 1.0000, loss_cls: 0.9682, loss: 0.9682\n"
     ]
    },
    {
     "name": "stdout",
     "output_type": "stream",
     "text": [
      "[>>>>>>>>>>>>>>>>>>>>>>>>>>>>>>>>>>>>>>>>>>>>>>>>>>] 9/9, 0.5 task/s, elapsed: 18s, ETA:     0s"
     ]
    },
    {
     "name": "stderr",
     "output_type": "stream",
     "text": [
      "2024-06-28 22:39:01,617 - mmaction - INFO - Evaluating top_k_accuracy ...\n",
      "2024-06-28 22:39:01,618 - mmaction - INFO - \n",
      "top1_acc\t0.7778\n",
      "top5_acc\t1.0000\n",
      "2024-06-28 22:39:01,618 - mmaction - INFO - Evaluating mean_class_accuracy ...\n",
      "2024-06-28 22:39:01,620 - mmaction - INFO - \n",
      "mean_acc\t0.6667\n",
      "2024-06-28 22:39:01,692 - mmaction - INFO - The previous best checkpoint H:\\code\\视频组代码\\Video_Swin_Transformer\\tutorial_exps1\\best_top1_acc_epoch_10.pth was removed\n"
     ]
    },
    {
     "name": "stdout",
     "output_type": "stream",
     "text": [
      "mean_class_accuracy\n",
      "[2 1 2 2 1 1 1 2 2]\n",
      "[2, 0, 2, 2, 1, 1, 0, 2, 2]\n"
     ]
    },
    {
     "name": "stderr",
     "output_type": "stream",
     "text": [
      "2024-06-28 22:39:03,049 - mmaction - INFO - Now best checkpoint is saved as best_top1_acc_epoch_15.pth.\n",
      "2024-06-28 22:39:03,049 - mmaction - INFO - Best top1_acc is 0.7778 at 15 epoch.\n",
      "2024-06-28 22:39:03,050 - mmaction - INFO - Epoch(val) [15][9]\ttop1_acc: 0.7778, top5_acc: 1.0000, mean_class_accuracy: 0.6667\n",
      "2024-06-28 22:39:11,702 - mmaction - INFO - Epoch [16][5/17]\tlr: 7.813e-07, eta: 0:01:10, time: 1.729, data_time: 1.385, memory: 7621, top1_acc: 0.7000, top5_acc: 1.0000, loss_cls: 0.9163, loss: 0.9163\n",
      "2024-06-28 22:39:13,857 - mmaction - INFO - Epoch [16][10/17]\tlr: 7.813e-07, eta: 0:01:05, time: 0.431, data_time: 0.130, memory: 7621, top1_acc: 0.0000, top5_acc: 1.0000, loss_cls: 1.0789, loss: 1.0789\n",
      "2024-06-28 22:39:18,226 - mmaction - INFO - Epoch [16][15/17]\tlr: 7.813e-07, eta: 0:01:00, time: 0.874, data_time: 0.555, memory: 7621, top1_acc: 0.2000, top5_acc: 1.0000, loss_cls: 1.0698, loss: 1.0698\n",
      "2024-06-28 22:39:31,104 - mmaction - INFO - Epoch [17][5/17]\tlr: 7.813e-07, eta: 0:00:55, time: 2.141, data_time: 1.787, memory: 7621, top1_acc: 0.2000, top5_acc: 1.0000, loss_cls: 1.0844, loss: 1.0844\n",
      "2024-06-28 22:39:32,828 - mmaction - INFO - Epoch [17][10/17]\tlr: 7.813e-07, eta: 0:00:50, time: 0.345, data_time: 0.032, memory: 7621, top1_acc: 0.5000, top5_acc: 1.0000, loss_cls: 1.0291, loss: 1.0291\n",
      "2024-06-28 22:39:35,222 - mmaction - INFO - Epoch [17][15/17]\tlr: 7.813e-07, eta: 0:00:46, time: 0.479, data_time: 0.181, memory: 7621, top1_acc: 0.2000, top5_acc: 1.0000, loss_cls: 1.0887, loss: 1.0887\n",
      "2024-06-28 22:39:47,175 - mmaction - INFO - Epoch [18][5/17]\tlr: 7.813e-07, eta: 0:00:40, time: 1.812, data_time: 1.467, memory: 7621, top1_acc: 0.3000, top5_acc: 1.0000, loss_cls: 1.1022, loss: 1.1022\n",
      "2024-06-28 22:39:49,092 - mmaction - INFO - Epoch [18][10/17]\tlr: 7.813e-07, eta: 0:00:35, time: 0.384, data_time: 0.061, memory: 7621, top1_acc: 0.7000, top5_acc: 1.0000, loss_cls: 0.9725, loss: 0.9725\n",
      "2024-06-28 22:39:51,974 - mmaction - INFO - Epoch [18][15/17]\tlr: 7.813e-07, eta: 0:00:31, time: 0.576, data_time: 0.276, memory: 7621, top1_acc: 0.6000, top5_acc: 1.0000, loss_cls: 0.9107, loss: 0.9107\n",
      "2024-06-28 22:40:03,871 - mmaction - INFO - Epoch [19][5/17]\tlr: 7.813e-07, eta: 0:00:25, time: 1.915, data_time: 1.524, memory: 7621, top1_acc: 0.6000, top5_acc: 1.0000, loss_cls: 0.9545, loss: 0.9545\n",
      "2024-06-28 22:40:06,431 - mmaction - INFO - Epoch [19][10/17]\tlr: 7.813e-07, eta: 0:00:20, time: 0.512, data_time: 0.200, memory: 7621, top1_acc: 0.5000, top5_acc: 1.0000, loss_cls: 0.9811, loss: 0.9811\n",
      "2024-06-28 22:40:09,183 - mmaction - INFO - Epoch [19][15/17]\tlr: 7.813e-07, eta: 0:00:16, time: 0.550, data_time: 0.234, memory: 7621, top1_acc: 0.5000, top5_acc: 1.0000, loss_cls: 0.9924, loss: 0.9924\n",
      "2024-06-28 22:40:21,196 - mmaction - INFO - Epoch [20][5/17]\tlr: 7.813e-07, eta: 0:00:10, time: 1.985, data_time: 1.619, memory: 7621, top1_acc: 0.4000, top5_acc: 1.0000, loss_cls: 0.9660, loss: 0.9660\n",
      "2024-06-28 22:40:24,015 - mmaction - INFO - Epoch [20][10/17]\tlr: 7.813e-07, eta: 0:00:06, time: 0.564, data_time: 0.264, memory: 7621, top1_acc: 0.3000, top5_acc: 1.0000, loss_cls: 0.9785, loss: 0.9785\n",
      "2024-06-28 22:40:26,571 - mmaction - INFO - Epoch [20][15/17]\tlr: 7.813e-07, eta: 0:00:01, time: 0.511, data_time: 0.194, memory: 7621, top1_acc: 0.6000, top5_acc: 1.0000, loss_cls: 0.9727, loss: 0.9727\n",
      "2024-06-28 22:40:28,774 - mmaction - INFO - Saving checkpoint at 20 epochs\n"
     ]
    },
    {
     "name": "stdout",
     "output_type": "stream",
     "text": [
      "[>>>>>>>>>>>>>>>>>>>>>>>>>>>>>>>>>>>>>>>>>>>>>>>>>>] 9/9, 0.5 task/s, elapsed: 18s, ETA:     0s"
     ]
    },
    {
     "name": "stderr",
     "output_type": "stream",
     "text": [
      "2024-06-28 22:40:49,229 - mmaction - INFO - Evaluating top_k_accuracy ...\n",
      "2024-06-28 22:40:49,230 - mmaction - INFO - \n",
      "top1_acc\t0.6667\n",
      "top5_acc\t1.0000\n",
      "2024-06-28 22:40:49,230 - mmaction - INFO - Evaluating mean_class_accuracy ...\n",
      "2024-06-28 22:40:49,231 - mmaction - INFO - \n",
      "mean_acc\t0.5000\n",
      "2024-06-28 22:40:49,232 - mmaction - INFO - Epoch(val) [20][9]\ttop1_acc: 0.6667, top5_acc: 1.0000, mean_class_accuracy: 0.5000\n"
     ]
    },
    {
     "name": "stdout",
     "output_type": "stream",
     "text": [
      "mean_class_accuracy\n",
      "[2 1 2 2 1 2 1 2 2]\n",
      "[2, 0, 2, 2, 1, 1, 0, 2, 2]\n"
     ]
    },
    {
     "name": "stderr",
     "output_type": "stream",
     "text": [
      "2024-06-28 22:40:50,582 - mmaction - INFO - load checkpoint from local path: ./tutorial_exps/epoch_20.pth\n"
     ]
    },
    {
     "name": "stdout",
     "output_type": "stream",
     "text": [
      "Selected optimization level O1:  Insert automatic casts around Pytorch functions and Tensor methods.\n",
      "\n",
      "Defaults for this optimization level are:\n",
      "enabled                : True\n",
      "opt_level              : O1\n",
      "cast_model_type        : None\n",
      "patch_torch_functions  : True\n",
      "keep_batchnorm_fp32    : None\n",
      "master_weights         : None\n",
      "loss_scale             : dynamic\n",
      "Processing user overrides (additional kwargs that are not None)...\n",
      "After processing overrides, optimization options are:\n",
      "enabled                : True\n",
      "opt_level              : O1\n",
      "cast_model_type        : None\n",
      "patch_torch_functions  : True\n",
      "keep_batchnorm_fp32    : None\n",
      "master_weights         : None\n",
      "loss_scale             : dynamic\n"
     ]
    },
    {
     "name": "stderr",
     "output_type": "stream",
     "text": [
      "2024-06-28 22:40:51,034 - mmaction - INFO - Start running, host: 15281@实验室, work_dir: H:\\code\\视频组代码\\Video_Swin_Transformer\\tutorial_exps1\n",
      "2024-06-28 22:40:51,035 - mmaction - INFO - Hooks will be executed in the following order:\n",
      "before_run:\n",
      "(VERY_HIGH   ) StepLrUpdaterHook                  \n",
      "(ABOVE_NORMAL) DistOptimizerHook                  \n",
      "(NORMAL      ) CheckpointHook                     \n",
      "(NORMAL      ) EvalHook                           \n",
      "(VERY_LOW    ) TextLoggerHook                     \n",
      " -------------------- \n",
      "before_train_epoch:\n",
      "(VERY_HIGH   ) StepLrUpdaterHook                  \n",
      "(NORMAL      ) EvalHook                           \n",
      "(LOW         ) IterTimerHook                      \n",
      "(VERY_LOW    ) TextLoggerHook                     \n",
      " -------------------- \n",
      "before_train_iter:\n",
      "(VERY_HIGH   ) StepLrUpdaterHook                  \n",
      "(NORMAL      ) EvalHook                           \n",
      "(LOW         ) IterTimerHook                      \n",
      " -------------------- \n",
      "after_train_iter:\n",
      "(ABOVE_NORMAL) DistOptimizerHook                  \n",
      "(NORMAL      ) CheckpointHook                     \n",
      "(NORMAL      ) EvalHook                           \n",
      "(LOW         ) IterTimerHook                      \n",
      "(VERY_LOW    ) TextLoggerHook                     \n",
      " -------------------- \n",
      "after_train_epoch:\n",
      "(NORMAL      ) CheckpointHook                     \n",
      "(NORMAL      ) EvalHook                           \n",
      "(VERY_LOW    ) TextLoggerHook                     \n",
      " -------------------- \n",
      "before_val_epoch:\n",
      "(LOW         ) IterTimerHook                      \n",
      "(VERY_LOW    ) TextLoggerHook                     \n",
      " -------------------- \n",
      "before_val_iter:\n",
      "(LOW         ) IterTimerHook                      \n",
      " -------------------- \n",
      "after_val_iter:\n",
      "(LOW         ) IterTimerHook                      \n",
      " -------------------- \n",
      "after_val_epoch:\n",
      "(VERY_LOW    ) TextLoggerHook                     \n",
      " -------------------- \n",
      "after_run:\n",
      "(VERY_LOW    ) TextLoggerHook                     \n",
      " -------------------- \n",
      "2024-06-28 22:40:51,036 - mmaction - INFO - workflow: [('train', 1)], max: 20 epochs\n",
      "2024-06-28 22:40:51,041 - mmaction - INFO - Checkpoints will be saved to H:\\code\\视频组代码\\Video_Swin_Transformer\\tutorial_exps1 by HardDiskBackend.\n",
      "2024-06-28 22:41:01,743 - mmaction - INFO - Epoch [1][5/17]\tlr: 7.813e-07, eta: 0:11:56, time: 2.139, data_time: 1.718, memory: 7621, top1_acc: 0.3000, top5_acc: 1.0000, loss_cls: 1.1198, loss: 1.1198\n",
      "2024-06-28 22:41:03,883 - mmaction - INFO - Epoch [1][10/17]\tlr: 7.813e-07, eta: 0:07:03, time: 0.428, data_time: 0.098, memory: 7959, top1_acc: 0.4000, top5_acc: 1.0000, loss_cls: 1.0414, loss: 1.0414\n",
      "2024-06-28 22:41:05,438 - mmaction - INFO - Epoch [1][15/17]\tlr: 7.813e-07, eta: 0:05:11, time: 0.311, data_time: 0.001, memory: 7960, top1_acc: 0.6000, top5_acc: 1.0000, loss_cls: 0.9970, loss: 0.9970\n",
      "2024-06-28 22:41:16,982 - mmaction - INFO - Epoch [2][5/17]\tlr: 7.813e-07, eta: 0:05:42, time: 1.857, data_time: 1.523, memory: 7960, top1_acc: 0.4000, top5_acc: 1.0000, loss_cls: 1.0481, loss: 1.0481\n",
      "2024-06-28 22:41:19,000 - mmaction - INFO - Epoch [2][10/17]\tlr: 7.813e-07, eta: 0:04:57, time: 0.403, data_time: 0.105, memory: 7960, top1_acc: 0.2000, top5_acc: 1.0000, loss_cls: 1.0452, loss: 1.0452\n",
      "2024-06-28 22:41:21,343 - mmaction - INFO - Epoch [2][15/17]\tlr: 7.813e-07, eta: 0:04:29, time: 0.468, data_time: 0.158, memory: 7960, top1_acc: 0.6000, top5_acc: 1.0000, loss_cls: 0.9428, loss: 0.9428\n",
      "2024-06-28 22:41:32,717 - mmaction - INFO - Epoch [3][5/17]\tlr: 7.813e-07, eta: 0:04:47, time: 1.837, data_time: 1.478, memory: 7960, top1_acc: 0.4000, top5_acc: 1.0000, loss_cls: 1.0942, loss: 1.0942\n",
      "2024-06-28 22:41:35,064 - mmaction - INFO - Epoch [3][10/17]\tlr: 7.813e-07, eta: 0:04:26, time: 0.469, data_time: 0.156, memory: 7960, top1_acc: 0.3000, top5_acc: 1.0000, loss_cls: 1.0434, loss: 1.0434\n",
      "2024-06-28 22:41:37,691 - mmaction - INFO - Epoch [3][15/17]\tlr: 7.813e-07, eta: 0:04:10, time: 0.526, data_time: 0.196, memory: 7960, top1_acc: 0.5000, top5_acc: 1.0000, loss_cls: 0.9951, loss: 0.9951\n",
      "2024-06-28 22:41:48,542 - mmaction - INFO - Epoch [4][5/17]\tlr: 7.813e-07, eta: 0:04:16, time: 1.675, data_time: 1.283, memory: 7960, top1_acc: 0.4000, top5_acc: 1.0000, loss_cls: 1.1084, loss: 1.1084\n",
      "2024-06-28 22:41:51,899 - mmaction - INFO - Epoch [4][10/17]\tlr: 7.813e-07, eta: 0:04:06, time: 0.672, data_time: 0.364, memory: 7960, top1_acc: 0.6000, top5_acc: 1.0000, loss_cls: 0.8505, loss: 0.8505\n",
      "2024-06-28 22:41:55,219 - mmaction - INFO - Epoch [4][15/17]\tlr: 7.813e-07, eta: 0:03:57, time: 0.664, data_time: 0.330, memory: 7960, top1_acc: 0.5000, top5_acc: 1.0000, loss_cls: 1.0219, loss: 1.0219\n",
      "2024-06-28 22:42:06,136 - mmaction - INFO - Epoch [5][5/17]\tlr: 7.813e-07, eta: 0:04:01, time: 1.770, data_time: 1.438, memory: 7960, top1_acc: 0.3000, top5_acc: 1.0000, loss_cls: 1.1376, loss: 1.1376\n",
      "2024-06-28 22:42:08,487 - mmaction - INFO - Epoch [5][10/17]\tlr: 7.813e-07, eta: 0:03:49, time: 0.470, data_time: 0.176, memory: 7960, top1_acc: 0.6000, top5_acc: 1.0000, loss_cls: 0.9522, loss: 0.9522\n",
      "2024-06-28 22:42:10,161 - mmaction - INFO - Epoch [5][15/17]\tlr: 7.813e-07, eta: 0:03:37, time: 0.335, data_time: 0.020, memory: 7960, top1_acc: 0.4000, top5_acc: 1.0000, loss_cls: 0.9907, loss: 0.9907\n"
     ]
    },
    {
     "name": "stdout",
     "output_type": "stream",
     "text": [
      "[>>>>>>>>>>>>>>>>>>>>>>>>>>>>>>>>>>>>>>>>>>>>>>>>>>] 9/9, 0.5 task/s, elapsed: 19s, ETA:     0s"
     ]
    },
    {
     "name": "stderr",
     "output_type": "stream",
     "text": [
      "2024-06-28 22:42:31,271 - mmaction - INFO - Evaluating top_k_accuracy ...\n",
      "2024-06-28 22:42:31,272 - mmaction - INFO - \n",
      "top1_acc\t0.6667\n",
      "top5_acc\t1.0000\n",
      "2024-06-28 22:42:31,273 - mmaction - INFO - Evaluating mean_class_accuracy ...\n",
      "2024-06-28 22:42:31,273 - mmaction - INFO - \n",
      "mean_acc\t0.6000\n"
     ]
    },
    {
     "name": "stdout",
     "output_type": "stream",
     "text": [
      "mean_class_accuracy\n",
      "[2 1 1 2 1 1 1 2 2]\n",
      "[2, 0, 2, 2, 1, 1, 0, 2, 2]\n"
     ]
    },
    {
     "name": "stderr",
     "output_type": "stream",
     "text": [
      "2024-06-28 22:42:32,459 - mmaction - INFO - Now best checkpoint is saved as best_top1_acc_epoch_5.pth.\n",
      "2024-06-28 22:42:32,459 - mmaction - INFO - Best top1_acc is 0.6667 at 5 epoch.\n",
      "2024-06-28 22:42:32,460 - mmaction - INFO - Epoch(val) [5][9]\ttop1_acc: 0.6667, top5_acc: 1.0000, mean_class_accuracy: 0.6000\n",
      "2024-06-28 22:42:40,605 - mmaction - INFO - Epoch [6][5/17]\tlr: 7.813e-07, eta: 0:03:37, time: 1.627, data_time: 1.215, memory: 7960, top1_acc: 0.3000, top5_acc: 1.0000, loss_cls: 1.0110, loss: 1.0110\n",
      "2024-06-28 22:42:43,072 - mmaction - INFO - Epoch [6][10/17]\tlr: 7.813e-07, eta: 0:03:28, time: 0.493, data_time: 0.181, memory: 7960, top1_acc: 0.5000, top5_acc: 1.0000, loss_cls: 0.9612, loss: 0.9612\n",
      "2024-06-28 22:42:49,083 - mmaction - INFO - Epoch [6][15/17]\tlr: 7.813e-07, eta: 0:03:28, time: 1.202, data_time: 0.867, memory: 7960, top1_acc: 0.0000, top5_acc: 1.0000, loss_cls: 1.1220, loss: 1.1220\n",
      "2024-06-28 22:43:00,474 - mmaction - INFO - Epoch [7][5/17]\tlr: 7.813e-07, eta: 0:03:28, time: 1.831, data_time: 1.462, memory: 7960, top1_acc: 0.5000, top5_acc: 1.0000, loss_cls: 0.9598, loss: 0.9598\n",
      "2024-06-28 22:43:05,217 - mmaction - INFO - Epoch [7][10/17]\tlr: 7.813e-07, eta: 0:03:24, time: 0.949, data_time: 0.631, memory: 7960, top1_acc: 0.5000, top5_acc: 1.0000, loss_cls: 0.9697, loss: 0.9697\n"
     ]
    },
    {
     "name": "stdout",
     "output_type": "stream",
     "text": [
      "Gradient overflow.  Skipping step, loss scaler 0 reducing loss scale to 32768.0\n"
     ]
    },
    {
     "name": "stderr",
     "output_type": "stream",
     "text": [
      "2024-06-28 22:43:07,397 - mmaction - INFO - Epoch [7][15/17]\tlr: 7.813e-07, eta: 0:03:15, time: 0.436, data_time: 0.137, memory: 7960, top1_acc: 0.3000, top5_acc: 1.0000, loss_cls: 1.0833, loss: 1.0833\n",
      "2024-06-28 22:43:18,700 - mmaction - INFO - Epoch [8][5/17]\tlr: 7.813e-07, eta: 0:03:15, time: 1.842, data_time: 1.458, memory: 7960, top1_acc: 0.3000, top5_acc: 1.0000, loss_cls: 1.0182, loss: 1.0182\n",
      "2024-06-28 22:43:20,285 - mmaction - INFO - Epoch [8][10/17]\tlr: 7.813e-07, eta: 0:03:05, time: 0.317, data_time: 0.001, memory: 7960, top1_acc: 0.3000, top5_acc: 1.0000, loss_cls: 1.0621, loss: 1.0621\n",
      "2024-06-28 22:43:23,363 - mmaction - INFO - Epoch [8][15/17]\tlr: 7.813e-07, eta: 0:02:59, time: 0.615, data_time: 0.305, memory: 7960, top1_acc: 0.4000, top5_acc: 1.0000, loss_cls: 1.0010, loss: 1.0010\n",
      "2024-06-28 22:43:35,016 - mmaction - INFO - Epoch [9][5/17]\tlr: 7.813e-07, eta: 0:02:57, time: 1.859, data_time: 1.511, memory: 7960, top1_acc: 0.4000, top5_acc: 1.0000, loss_cls: 1.0189, loss: 1.0189\n",
      "2024-06-28 22:43:38,716 - mmaction - INFO - Epoch [9][10/17]\tlr: 7.813e-07, eta: 0:02:52, time: 0.740, data_time: 0.394, memory: 7960, top1_acc: 0.3000, top5_acc: 1.0000, loss_cls: 1.0640, loss: 1.0640\n",
      "2024-06-28 22:43:40,196 - mmaction - INFO - Epoch [9][15/17]\tlr: 7.813e-07, eta: 0:02:44, time: 0.296, data_time: 0.001, memory: 7960, top1_acc: 0.6000, top5_acc: 1.0000, loss_cls: 0.9877, loss: 0.9877\n",
      "2024-06-28 22:43:52,441 - mmaction - INFO - Epoch [10][5/17]\tlr: 7.813e-07, eta: 0:02:42, time: 1.972, data_time: 1.604, memory: 7960, top1_acc: 0.3000, top5_acc: 1.0000, loss_cls: 1.0985, loss: 1.0985\n",
      "2024-06-28 22:43:55,137 - mmaction - INFO - Epoch [10][10/17]\tlr: 7.813e-07, eta: 0:02:36, time: 0.539, data_time: 0.212, memory: 7960, top1_acc: 0.4000, top5_acc: 1.0000, loss_cls: 1.0126, loss: 1.0126\n",
      "2024-06-28 22:43:56,848 - mmaction - INFO - Epoch [10][15/17]\tlr: 7.813e-07, eta: 0:02:28, time: 0.342, data_time: 0.001, memory: 7960, top1_acc: 0.3000, top5_acc: 1.0000, loss_cls: 1.0422, loss: 1.0422\n",
      "2024-06-28 22:43:59,044 - mmaction - INFO - Saving checkpoint at 10 epochs\n"
     ]
    },
    {
     "name": "stdout",
     "output_type": "stream",
     "text": [
      "[>>>>>>>>>>>>>>>>>>>>>>>>>>>>>>>>>>>>>>>>>>>>>>>>>>] 9/9, 0.5 task/s, elapsed: 18s, ETA:     0s"
     ]
    },
    {
     "name": "stderr",
     "output_type": "stream",
     "text": [
      "2024-06-28 22:44:19,243 - mmaction - INFO - Evaluating top_k_accuracy ...\n",
      "2024-06-28 22:44:19,244 - mmaction - INFO - \n",
      "top1_acc\t0.7778\n",
      "top5_acc\t1.0000\n",
      "2024-06-28 22:44:19,244 - mmaction - INFO - Evaluating mean_class_accuracy ...\n",
      "2024-06-28 22:44:19,245 - mmaction - INFO - \n",
      "mean_acc\t0.6667\n",
      "2024-06-28 22:44:19,376 - mmaction - INFO - The previous best checkpoint H:\\code\\视频组代码\\Video_Swin_Transformer\\tutorial_exps1\\best_top1_acc_epoch_5.pth was removed\n"
     ]
    },
    {
     "name": "stdout",
     "output_type": "stream",
     "text": [
      "mean_class_accuracy\n",
      "[2 1 2 2 1 1 1 2 2]\n",
      "[2, 0, 2, 2, 1, 1, 0, 2, 2]\n"
     ]
    },
    {
     "name": "stderr",
     "output_type": "stream",
     "text": [
      "2024-06-28 22:44:20,589 - mmaction - INFO - Now best checkpoint is saved as best_top1_acc_epoch_10.pth.\n",
      "2024-06-28 22:44:20,590 - mmaction - INFO - Best top1_acc is 0.7778 at 10 epoch.\n",
      "2024-06-28 22:44:20,590 - mmaction - INFO - Epoch(val) [10][9]\ttop1_acc: 0.7778, top5_acc: 1.0000, mean_class_accuracy: 0.6667\n",
      "2024-06-28 22:44:30,696 - mmaction - INFO - Epoch [11][5/17]\tlr: 7.813e-07, eta: 0:02:26, time: 2.020, data_time: 1.636, memory: 7960, top1_acc: 0.3000, top5_acc: 1.0000, loss_cls: 1.0802, loss: 1.0802\n",
      "2024-06-28 22:44:33,341 - mmaction - INFO - Epoch [11][10/17]\tlr: 7.813e-07, eta: 0:02:20, time: 0.529, data_time: 0.213, memory: 7960, top1_acc: 0.7000, top5_acc: 1.0000, loss_cls: 0.8745, loss: 0.8745\n",
      "2024-06-28 22:44:35,392 - mmaction - INFO - Epoch [11][15/17]\tlr: 7.813e-07, eta: 0:02:14, time: 0.410, data_time: 0.096, memory: 7960, top1_acc: 0.4000, top5_acc: 1.0000, loss_cls: 1.0155, loss: 1.0155\n",
      "2024-06-28 22:44:47,512 - mmaction - INFO - Epoch [12][5/17]\tlr: 7.813e-07, eta: 0:02:11, time: 1.983, data_time: 1.597, memory: 7960, top1_acc: 0.3000, top5_acc: 1.0000, loss_cls: 1.1029, loss: 1.1029\n",
      "2024-06-28 22:44:49,017 - mmaction - INFO - Epoch [12][10/17]\tlr: 7.813e-07, eta: 0:02:04, time: 0.301, data_time: 0.002, memory: 7960, top1_acc: 0.5000, top5_acc: 1.0000, loss_cls: 1.0056, loss: 1.0056\n",
      "2024-06-28 22:44:51,177 - mmaction - INFO - Epoch [12][15/17]\tlr: 7.813e-07, eta: 0:01:58, time: 0.432, data_time: 0.109, memory: 7960, top1_acc: 0.5000, top5_acc: 1.0000, loss_cls: 1.0373, loss: 1.0373\n",
      "2024-06-28 22:45:05,372 - mmaction - INFO - Epoch [13][5/17]\tlr: 7.813e-07, eta: 0:01:55, time: 2.226, data_time: 1.856, memory: 7960, top1_acc: 0.2000, top5_acc: 1.0000, loss_cls: 1.1232, loss: 1.1232\n",
      "2024-06-28 22:45:06,950 - mmaction - INFO - Epoch [13][10/17]\tlr: 7.813e-07, eta: 0:01:49, time: 0.316, data_time: 0.001, memory: 7960, top1_acc: 0.4000, top5_acc: 1.0000, loss_cls: 1.0198, loss: 1.0198\n",
      "2024-06-28 22:45:09,906 - mmaction - INFO - Epoch [13][15/17]\tlr: 7.813e-07, eta: 0:01:44, time: 0.591, data_time: 0.282, memory: 7960, top1_acc: 0.7000, top5_acc: 1.0000, loss_cls: 0.8929, loss: 0.8929\n",
      "2024-06-28 22:45:22,477 - mmaction - INFO - Epoch [14][5/17]\tlr: 7.813e-07, eta: 0:01:40, time: 2.073, data_time: 1.709, memory: 7960, top1_acc: 0.6000, top5_acc: 1.0000, loss_cls: 0.9305, loss: 0.9305\n",
      "2024-06-28 22:45:24,204 - mmaction - INFO - Epoch [14][10/17]\tlr: 7.813e-07, eta: 0:01:35, time: 0.345, data_time: 0.001, memory: 7960, top1_acc: 0.5000, top5_acc: 1.0000, loss_cls: 0.9945, loss: 0.9945\n",
      "2024-06-28 22:45:26,563 - mmaction - INFO - Epoch [14][15/17]\tlr: 7.813e-07, eta: 0:01:29, time: 0.472, data_time: 0.154, memory: 7960, top1_acc: 0.4000, top5_acc: 1.0000, loss_cls: 0.9791, loss: 0.9791\n",
      "2024-06-28 22:45:38,988 - mmaction - INFO - Epoch [15][5/17]\tlr: 7.813e-07, eta: 0:01:25, time: 2.031, data_time: 1.634, memory: 7960, top1_acc: 0.5000, top5_acc: 1.0000, loss_cls: 1.0188, loss: 1.0188\n",
      "2024-06-28 22:45:42,039 - mmaction - INFO - Epoch [15][10/17]\tlr: 7.813e-07, eta: 0:01:20, time: 0.610, data_time: 0.293, memory: 7960, top1_acc: 0.4000, top5_acc: 1.0000, loss_cls: 1.0324, loss: 1.0324\n",
      "2024-06-28 22:45:44,323 - mmaction - INFO - Epoch [15][15/17]\tlr: 7.813e-07, eta: 0:01:15, time: 0.457, data_time: 0.153, memory: 7960, top1_acc: 0.4000, top5_acc: 1.0000, loss_cls: 1.0083, loss: 1.0083\n"
     ]
    },
    {
     "name": "stdout",
     "output_type": "stream",
     "text": [
      "[>>>>>>>>>>>>>>>>>>>>>>>>>>>>>>>>>>>>>>>>>>>>>>>>>>] 9/9, 0.5 task/s, elapsed: 19s, ETA:     0s"
     ]
    },
    {
     "name": "stderr",
     "output_type": "stream",
     "text": [
      "2024-06-28 22:46:05,437 - mmaction - INFO - Evaluating top_k_accuracy ...\n",
      "2024-06-28 22:46:05,438 - mmaction - INFO - \n",
      "top1_acc\t0.6667\n",
      "top5_acc\t1.0000\n",
      "2024-06-28 22:46:05,438 - mmaction - INFO - Evaluating mean_class_accuracy ...\n",
      "2024-06-28 22:46:05,439 - mmaction - INFO - \n",
      "mean_acc\t0.5000\n",
      "2024-06-28 22:46:05,439 - mmaction - INFO - Epoch(val) [15][9]\ttop1_acc: 0.6667, top5_acc: 1.0000, mean_class_accuracy: 0.5000\n"
     ]
    },
    {
     "name": "stdout",
     "output_type": "stream",
     "text": [
      "mean_class_accuracy\n",
      "[2 1 2 2 1 2 1 2 2]\n",
      "[2, 0, 2, 2, 1, 1, 0, 2, 2]\n"
     ]
    },
    {
     "name": "stderr",
     "output_type": "stream",
     "text": [
      "2024-06-28 22:46:15,134 - mmaction - INFO - Epoch [16][5/17]\tlr: 7.813e-07, eta: 0:01:10, time: 1.937, data_time: 1.561, memory: 7960, top1_acc: 0.4000, top5_acc: 1.0000, loss_cls: 1.0372, loss: 1.0372\n",
      "2024-06-28 22:46:16,916 - mmaction - INFO - Epoch [16][10/17]\tlr: 7.813e-07, eta: 0:01:05, time: 0.357, data_time: 0.032, memory: 7960, top1_acc: 0.7000, top5_acc: 1.0000, loss_cls: 0.9749, loss: 0.9749\n",
      "2024-06-28 22:46:19,595 - mmaction - INFO - Epoch [16][15/17]\tlr: 7.813e-07, eta: 0:01:00, time: 0.536, data_time: 0.222, memory: 7960, top1_acc: 0.5000, top5_acc: 1.0000, loss_cls: 1.0381, loss: 1.0381\n",
      "2024-06-28 22:46:30,142 - mmaction - INFO - Epoch [17][5/17]\tlr: 7.813e-07, eta: 0:00:54, time: 1.643, data_time: 1.282, memory: 7960, top1_acc: 0.4000, top5_acc: 1.0000, loss_cls: 1.0995, loss: 1.0995\n",
      "2024-06-28 22:46:32,761 - mmaction - INFO - Epoch [17][10/17]\tlr: 7.813e-07, eta: 0:00:50, time: 0.524, data_time: 0.220, memory: 7960, top1_acc: 0.5000, top5_acc: 1.0000, loss_cls: 0.9914, loss: 0.9914\n",
      "2024-06-28 22:46:34,811 - mmaction - INFO - Epoch [17][15/17]\tlr: 7.813e-07, eta: 0:00:45, time: 0.410, data_time: 0.107, memory: 7960, top1_acc: 0.3000, top5_acc: 1.0000, loss_cls: 0.9605, loss: 0.9605\n",
      "2024-06-28 22:46:46,257 - mmaction - INFO - Epoch [18][5/17]\tlr: 7.813e-07, eta: 0:00:39, time: 1.641, data_time: 1.301, memory: 7960, top1_acc: 0.5000, top5_acc: 1.0000, loss_cls: 1.0563, loss: 1.0563\n",
      "2024-06-28 22:46:50,363 - mmaction - INFO - Epoch [18][10/17]\tlr: 7.813e-07, eta: 0:00:35, time: 0.821, data_time: 0.470, memory: 7960, top1_acc: 0.4000, top5_acc: 1.0000, loss_cls: 1.0557, loss: 1.0557\n",
      "2024-06-28 22:46:53,947 - mmaction - INFO - Epoch [18][15/17]\tlr: 7.813e-07, eta: 0:00:31, time: 0.717, data_time: 0.354, memory: 7960, top1_acc: 0.3000, top5_acc: 1.0000, loss_cls: 1.0433, loss: 1.0433\n",
      "2024-06-28 22:47:05,967 - mmaction - INFO - Epoch [19][5/17]\tlr: 7.813e-07, eta: 0:00:25, time: 1.971, data_time: 1.596, memory: 7960, top1_acc: 0.3000, top5_acc: 1.0000, loss_cls: 1.0367, loss: 1.0367\n",
      "2024-06-28 22:47:09,117 - mmaction - INFO - Epoch [19][10/17]\tlr: 7.813e-07, eta: 0:00:20, time: 0.630, data_time: 0.320, memory: 7960, top1_acc: 0.6000, top5_acc: 1.0000, loss_cls: 0.9353, loss: 0.9353\n",
      "2024-06-28 22:47:10,949 - mmaction - INFO - Epoch [19][15/17]\tlr: 7.813e-07, eta: 0:00:16, time: 0.367, data_time: 0.061, memory: 7960, top1_acc: 0.3000, top5_acc: 1.0000, loss_cls: 1.0778, loss: 1.0778\n",
      "2024-06-28 22:47:22,341 - mmaction - INFO - Epoch [20][5/17]\tlr: 7.813e-07, eta: 0:00:10, time: 1.849, data_time: 1.481, memory: 7960, top1_acc: 0.5000, top5_acc: 1.0000, loss_cls: 1.0029, loss: 1.0029\n",
      "2024-06-28 22:47:24,210 - mmaction - INFO - Epoch [20][10/17]\tlr: 7.813e-07, eta: 0:00:06, time: 0.374, data_time: 0.065, memory: 7960, top1_acc: 0.5000, top5_acc: 1.0000, loss_cls: 1.0300, loss: 1.0300\n",
      "2024-06-28 22:47:27,253 - mmaction - INFO - Epoch [20][15/17]\tlr: 7.813e-07, eta: 0:00:01, time: 0.609, data_time: 0.316, memory: 7960, top1_acc: 0.5000, top5_acc: 1.0000, loss_cls: 0.9476, loss: 0.9476\n",
      "2024-06-28 22:47:29,439 - mmaction - INFO - Saving checkpoint at 20 epochs\n"
     ]
    },
    {
     "name": "stdout",
     "output_type": "stream",
     "text": [
      "[>>>>>>>>>>>>>>>>>>>>>>>>>>>>>>>>>>>>>>>>>>>>>>>>>>] 9/9, 0.5 task/s, elapsed: 18s, ETA:     0s"
     ]
    },
    {
     "name": "stderr",
     "output_type": "stream",
     "text": [
      "2024-06-28 22:47:49,700 - mmaction - INFO - Evaluating top_k_accuracy ...\n",
      "2024-06-28 22:47:49,701 - mmaction - INFO - \n",
      "top1_acc\t0.6667\n",
      "top5_acc\t1.0000\n",
      "2024-06-28 22:47:49,701 - mmaction - INFO - Evaluating mean_class_accuracy ...\n",
      "2024-06-28 22:47:49,702 - mmaction - INFO - \n",
      "mean_acc\t0.5000\n",
      "2024-06-28 22:47:49,702 - mmaction - INFO - Epoch(val) [20][9]\ttop1_acc: 0.6667, top5_acc: 1.0000, mean_class_accuracy: 0.5000\n"
     ]
    },
    {
     "name": "stdout",
     "output_type": "stream",
     "text": [
      "mean_class_accuracy\n",
      "[2 1 2 2 1 2 1 2 2]\n",
      "[2, 0, 2, 2, 1, 1, 0, 2, 2]\n"
     ]
    },
    {
     "name": "stderr",
     "output_type": "stream",
     "text": [
      "2024-06-28 22:47:51,150 - mmaction - INFO - load checkpoint from local path: ./tutorial_exps/epoch_20.pth\n"
     ]
    },
    {
     "name": "stdout",
     "output_type": "stream",
     "text": [
      "Selected optimization level O1:  Insert automatic casts around Pytorch functions and Tensor methods.\n",
      "\n",
      "Defaults for this optimization level are:\n",
      "enabled                : True\n",
      "opt_level              : O1\n",
      "cast_model_type        : None\n",
      "patch_torch_functions  : True\n",
      "keep_batchnorm_fp32    : None\n",
      "master_weights         : None\n",
      "loss_scale             : dynamic\n",
      "Processing user overrides (additional kwargs that are not None)...\n",
      "After processing overrides, optimization options are:\n",
      "enabled                : True\n",
      "opt_level              : O1\n",
      "cast_model_type        : None\n",
      "patch_torch_functions  : True\n",
      "keep_batchnorm_fp32    : None\n",
      "master_weights         : None\n",
      "loss_scale             : dynamic\n"
     ]
    },
    {
     "name": "stderr",
     "output_type": "stream",
     "text": [
      "2024-06-28 22:47:51,699 - mmaction - INFO - Start running, host: 15281@实验室, work_dir: H:\\code\\视频组代码\\Video_Swin_Transformer\\tutorial_exps1\n",
      "2024-06-28 22:47:51,699 - mmaction - INFO - Hooks will be executed in the following order:\n",
      "before_run:\n",
      "(VERY_HIGH   ) StepLrUpdaterHook                  \n",
      "(ABOVE_NORMAL) DistOptimizerHook                  \n",
      "(NORMAL      ) CheckpointHook                     \n",
      "(NORMAL      ) EvalHook                           \n",
      "(VERY_LOW    ) TextLoggerHook                     \n",
      " -------------------- \n",
      "before_train_epoch:\n",
      "(VERY_HIGH   ) StepLrUpdaterHook                  \n",
      "(NORMAL      ) EvalHook                           \n",
      "(LOW         ) IterTimerHook                      \n",
      "(VERY_LOW    ) TextLoggerHook                     \n",
      " -------------------- \n",
      "before_train_iter:\n",
      "(VERY_HIGH   ) StepLrUpdaterHook                  \n",
      "(NORMAL      ) EvalHook                           \n",
      "(LOW         ) IterTimerHook                      \n",
      " -------------------- \n",
      "after_train_iter:\n",
      "(ABOVE_NORMAL) DistOptimizerHook                  \n",
      "(NORMAL      ) CheckpointHook                     \n",
      "(NORMAL      ) EvalHook                           \n",
      "(LOW         ) IterTimerHook                      \n",
      "(VERY_LOW    ) TextLoggerHook                     \n",
      " -------------------- \n",
      "after_train_epoch:\n",
      "(NORMAL      ) CheckpointHook                     \n",
      "(NORMAL      ) EvalHook                           \n",
      "(VERY_LOW    ) TextLoggerHook                     \n",
      " -------------------- \n",
      "before_val_epoch:\n",
      "(LOW         ) IterTimerHook                      \n",
      "(VERY_LOW    ) TextLoggerHook                     \n",
      " -------------------- \n",
      "before_val_iter:\n",
      "(LOW         ) IterTimerHook                      \n",
      " -------------------- \n",
      "after_val_iter:\n",
      "(LOW         ) IterTimerHook                      \n",
      " -------------------- \n",
      "after_val_epoch:\n",
      "(VERY_LOW    ) TextLoggerHook                     \n",
      " -------------------- \n",
      "after_run:\n",
      "(VERY_LOW    ) TextLoggerHook                     \n",
      " -------------------- \n",
      "2024-06-28 22:47:51,700 - mmaction - INFO - workflow: [('train', 1)], max: 20 epochs\n",
      "2024-06-28 22:47:51,703 - mmaction - INFO - Checkpoints will be saved to H:\\code\\视频组代码\\Video_Swin_Transformer\\tutorial_exps1 by HardDiskBackend.\n",
      "2024-06-28 22:48:00,872 - mmaction - INFO - Epoch [1][5/17]\tlr: 7.813e-07, eta: 0:10:13, time: 1.832, data_time: 1.485, memory: 7960, top1_acc: 0.5000, top5_acc: 1.0000, loss_cls: 0.9552, loss: 0.9552\n",
      "2024-06-28 22:48:02,548 - mmaction - INFO - Epoch [1][10/17]\tlr: 7.813e-07, eta: 0:05:57, time: 0.335, data_time: 0.001, memory: 8137, top1_acc: 0.6000, top5_acc: 1.0000, loss_cls: 0.9176, loss: 0.9176\n",
      "2024-06-28 22:48:05,667 - mmaction - INFO - Epoch [1][15/17]\tlr: 7.813e-07, eta: 0:05:02, time: 0.624, data_time: 0.327, memory: 8137, top1_acc: 0.7000, top5_acc: 1.0000, loss_cls: 0.9678, loss: 0.9678\n",
      "2024-06-28 22:48:18,291 - mmaction - INFO - Epoch [2][5/17]\tlr: 7.813e-07, eta: 0:05:49, time: 2.041, data_time: 1.658, memory: 8137, top1_acc: 0.4000, top5_acc: 1.0000, loss_cls: 0.9710, loss: 0.9710\n",
      "2024-06-28 22:48:19,916 - mmaction - INFO - Epoch [2][10/17]\tlr: 7.813e-07, eta: 0:04:58, time: 0.325, data_time: 0.002, memory: 8137, top1_acc: 0.4000, top5_acc: 1.0000, loss_cls: 1.0374, loss: 1.0374\n",
      "2024-06-28 22:48:22,055 - mmaction - INFO - Epoch [2][15/17]\tlr: 7.813e-07, eta: 0:04:28, time: 0.428, data_time: 0.102, memory: 8137, top1_acc: 0.2000, top5_acc: 1.0000, loss_cls: 1.0601, loss: 1.0601\n",
      "2024-06-28 22:48:34,985 - mmaction - INFO - Epoch [3][5/17]\tlr: 7.813e-07, eta: 0:04:45, time: 1.814, data_time: 1.461, memory: 8137, top1_acc: 0.6000, top5_acc: 1.0000, loss_cls: 0.8874, loss: 0.8874\n",
      "2024-06-28 22:48:37,407 - mmaction - INFO - Epoch [3][10/17]\tlr: 7.813e-07, eta: 0:04:25, time: 0.484, data_time: 0.169, memory: 8137, top1_acc: 0.6000, top5_acc: 1.0000, loss_cls: 0.8909, loss: 0.8909\n",
      "2024-06-28 22:48:40,983 - mmaction - INFO - Epoch [3][15/17]\tlr: 7.813e-07, eta: 0:04:15, time: 0.715, data_time: 0.372, memory: 8137, top1_acc: 0.5000, top5_acc: 1.0000, loss_cls: 0.9380, loss: 0.9380\n",
      "2024-06-28 22:48:51,819 - mmaction - INFO - Epoch [4][5/17]\tlr: 7.813e-07, eta: 0:04:21, time: 1.719, data_time: 1.362, memory: 8137, top1_acc: 0.5000, top5_acc: 1.0000, loss_cls: 0.9996, loss: 0.9996\n",
      "2024-06-28 22:48:53,818 - mmaction - INFO - Epoch [4][10/17]\tlr: 7.813e-07, eta: 0:04:05, time: 0.400, data_time: 0.080, memory: 8137, top1_acc: 0.7000, top5_acc: 1.0000, loss_cls: 0.9270, loss: 0.9270\n",
      "2024-06-28 22:48:57,127 - mmaction - INFO - Epoch [4][15/17]\tlr: 7.813e-07, eta: 0:03:56, time: 0.662, data_time: 0.346, memory: 8137, top1_acc: 0.4000, top5_acc: 1.0000, loss_cls: 1.0093, loss: 1.0093\n",
      "2024-06-28 22:49:08,289 - mmaction - INFO - Epoch [5][5/17]\tlr: 7.813e-07, eta: 0:04:00, time: 1.788, data_time: 1.435, memory: 8137, top1_acc: 0.5000, top5_acc: 1.0000, loss_cls: 0.9870, loss: 0.9870\n",
      "2024-06-28 22:49:10,702 - mmaction - INFO - Epoch [5][10/17]\tlr: 7.813e-07, eta: 0:03:49, time: 0.482, data_time: 0.181, memory: 8137, top1_acc: 0.8000, top5_acc: 1.0000, loss_cls: 0.8396, loss: 0.8396\n",
      "2024-06-28 22:49:13,335 - mmaction - INFO - Epoch [5][15/17]\tlr: 7.813e-07, eta: 0:03:39, time: 0.527, data_time: 0.202, memory: 8137, top1_acc: 0.5000, top5_acc: 1.0000, loss_cls: 1.0340, loss: 1.0340\n"
     ]
    },
    {
     "name": "stdout",
     "output_type": "stream",
     "text": [
      "[>>>>>>>>>>>>>>>>>>>>>>>>>>>>>>>>>>>>>>>>>>>>>>>>>>] 9/9, 0.5 task/s, elapsed: 19s, ETA:     0s"
     ]
    },
    {
     "name": "stderr",
     "output_type": "stream",
     "text": [
      "2024-06-28 22:49:35,637 - mmaction - INFO - Evaluating top_k_accuracy ...\n",
      "2024-06-28 22:49:35,637 - mmaction - INFO - \n",
      "top1_acc\t0.7778\n",
      "top5_acc\t1.0000\n",
      "2024-06-28 22:49:35,638 - mmaction - INFO - Evaluating mean_class_accuracy ...\n",
      "2024-06-28 22:49:35,639 - mmaction - INFO - \n",
      "mean_acc\t0.6667\n"
     ]
    },
    {
     "name": "stdout",
     "output_type": "stream",
     "text": [
      "mean_class_accuracy\n",
      "[2 1 2 2 1 1 1 2 2]\n",
      "[2, 0, 2, 2, 1, 1, 0, 2, 2]\n"
     ]
    },
    {
     "name": "stderr",
     "output_type": "stream",
     "text": [
      "2024-06-28 22:49:36,970 - mmaction - INFO - Now best checkpoint is saved as best_top1_acc_epoch_5.pth.\n",
      "2024-06-28 22:49:36,971 - mmaction - INFO - Best top1_acc is 0.7778 at 5 epoch.\n",
      "2024-06-28 22:49:36,971 - mmaction - INFO - Epoch(val) [5][9]\ttop1_acc: 0.7778, top5_acc: 1.0000, mean_class_accuracy: 0.6667\n",
      "2024-06-28 22:49:45,855 - mmaction - INFO - Epoch [6][5/17]\tlr: 7.813e-07, eta: 0:03:41, time: 1.775, data_time: 1.389, memory: 8137, top1_acc: 0.6000, top5_acc: 1.0000, loss_cls: 0.9806, loss: 0.9806\n",
      "2024-06-28 22:49:49,141 - mmaction - INFO - Epoch [6][10/17]\tlr: 7.813e-07, eta: 0:03:34, time: 0.657, data_time: 0.343, memory: 8137, top1_acc: 0.4000, top5_acc: 1.0000, loss_cls: 0.9927, loss: 0.9927\n",
      "2024-06-28 22:49:51,930 - mmaction - INFO - Epoch [6][15/17]\tlr: 7.813e-07, eta: 0:03:26, time: 0.558, data_time: 0.236, memory: 8137, top1_acc: 0.2000, top5_acc: 1.0000, loss_cls: 1.0570, loss: 1.0570\n",
      "2024-06-28 22:50:03,127 - mmaction - INFO - Epoch [7][5/17]\tlr: 7.813e-07, eta: 0:03:26, time: 1.772, data_time: 1.404, memory: 8137, top1_acc: 0.5000, top5_acc: 1.0000, loss_cls: 0.9937, loss: 0.9937\n",
      "2024-06-28 22:50:06,362 - mmaction - INFO - Epoch [7][10/17]\tlr: 7.813e-07, eta: 0:03:19, time: 0.646, data_time: 0.335, memory: 8137, top1_acc: 0.7000, top5_acc: 1.0000, loss_cls: 0.8842, loss: 0.8842\n",
      "2024-06-28 22:50:07,882 - mmaction - INFO - Epoch [7][15/17]\tlr: 7.813e-07, eta: 0:03:09, time: 0.305, data_time: 0.002, memory: 8137, top1_acc: 0.4000, top5_acc: 1.0000, loss_cls: 0.9510, loss: 0.9510\n",
      "2024-06-28 22:50:20,372 - mmaction - INFO - Epoch [8][5/17]\tlr: 7.813e-07, eta: 0:03:11, time: 2.043, data_time: 1.662, memory: 8137, top1_acc: 0.5000, top5_acc: 1.0000, loss_cls: 0.9401, loss: 0.9401\n",
      "2024-06-28 22:50:22,060 - mmaction - INFO - Epoch [8][10/17]\tlr: 7.813e-07, eta: 0:03:02, time: 0.338, data_time: 0.002, memory: 8137, top1_acc: 0.8000, top5_acc: 1.0000, loss_cls: 0.8606, loss: 0.8606\n",
      "2024-06-28 22:50:24,616 - mmaction - INFO - Epoch [8][15/17]\tlr: 7.813e-07, eta: 0:02:55, time: 0.511, data_time: 0.209, memory: 8137, top1_acc: 0.4000, top5_acc: 1.0000, loss_cls: 0.9807, loss: 0.9807\n",
      "2024-06-28 22:50:36,110 - mmaction - INFO - Epoch [9][5/17]\tlr: 7.813e-07, eta: 0:02:53, time: 1.834, data_time: 1.463, memory: 8137, top1_acc: 0.6000, top5_acc: 1.0000, loss_cls: 0.9043, loss: 0.9043\n",
      "2024-06-28 22:50:38,403 - mmaction - INFO - Epoch [9][10/17]\tlr: 7.813e-07, eta: 0:02:46, time: 0.459, data_time: 0.126, memory: 8137, top1_acc: 0.6000, top5_acc: 1.0000, loss_cls: 0.9731, loss: 0.9731\n",
      "2024-06-28 22:50:40,835 - mmaction - INFO - Epoch [9][15/17]\tlr: 7.813e-07, eta: 0:02:39, time: 0.486, data_time: 0.186, memory: 8137, top1_acc: 0.3000, top5_acc: 1.0000, loss_cls: 1.0194, loss: 1.0194\n",
      "2024-06-28 22:50:52,187 - mmaction - INFO - Epoch [10][5/17]\tlr: 7.813e-07, eta: 0:02:37, time: 1.812, data_time: 1.470, memory: 8137, top1_acc: 0.5000, top5_acc: 1.0000, loss_cls: 0.9627, loss: 0.9627\n",
      "2024-06-28 22:50:54,777 - mmaction - INFO - Epoch [10][10/17]\tlr: 7.813e-07, eta: 0:02:31, time: 0.518, data_time: 0.170, memory: 8137, top1_acc: 0.5000, top5_acc: 1.0000, loss_cls: 0.9994, loss: 0.9994\n",
      "2024-06-28 22:50:56,355 - mmaction - INFO - Epoch [10][15/17]\tlr: 7.813e-07, eta: 0:02:24, time: 0.315, data_time: 0.001, memory: 8137, top1_acc: 0.7000, top5_acc: 1.0000, loss_cls: 0.9082, loss: 0.9082\n",
      "2024-06-28 22:51:00,552 - mmaction - INFO - Saving checkpoint at 10 epochs\n"
     ]
    },
    {
     "name": "stdout",
     "output_type": "stream",
     "text": [
      "[>>>>>>>>>>>>>>>>>>>>>>>>>>>>>>>>>>>>>>>>>>>>>>>>>>] 9/9, 0.5 task/s, elapsed: 19s, ETA:     0s"
     ]
    },
    {
     "name": "stderr",
     "output_type": "stream",
     "text": [
      "2024-06-28 22:51:21,321 - mmaction - INFO - Evaluating top_k_accuracy ...\n",
      "2024-06-28 22:51:21,322 - mmaction - INFO - \n",
      "top1_acc\t0.6667\n",
      "top5_acc\t1.0000\n",
      "2024-06-28 22:51:21,322 - mmaction - INFO - Evaluating mean_class_accuracy ...\n",
      "2024-06-28 22:51:21,323 - mmaction - INFO - \n",
      "mean_acc\t0.5000\n",
      "2024-06-28 22:51:21,325 - mmaction - INFO - Epoch(val) [10][9]\ttop1_acc: 0.6667, top5_acc: 1.0000, mean_class_accuracy: 0.5000\n"
     ]
    },
    {
     "name": "stdout",
     "output_type": "stream",
     "text": [
      "mean_class_accuracy\n",
      "[2 1 2 2 1 2 1 2 2]\n",
      "[2, 0, 2, 2, 1, 1, 0, 2, 2]\n"
     ]
    },
    {
     "name": "stderr",
     "output_type": "stream",
     "text": [
      "2024-06-28 22:51:32,159 - mmaction - INFO - Epoch [11][5/17]\tlr: 7.813e-07, eta: 0:02:23, time: 2.165, data_time: 1.819, memory: 8137, top1_acc: 0.2000, top5_acc: 1.0000, loss_cls: 1.0083, loss: 1.0083\n",
      "2024-06-28 22:51:33,773 - mmaction - INFO - Epoch [11][10/17]\tlr: 7.813e-07, eta: 0:02:16, time: 0.323, data_time: 0.001, memory: 8137, top1_acc: 0.7000, top5_acc: 1.0000, loss_cls: 0.8389, loss: 0.8389\n",
      "2024-06-28 22:51:35,390 - mmaction - INFO - Epoch [11][15/17]\tlr: 7.813e-07, eta: 0:02:09, time: 0.323, data_time: 0.005, memory: 8137, top1_acc: 0.4000, top5_acc: 1.0000, loss_cls: 0.9402, loss: 0.9402\n",
      "2024-06-28 22:51:46,587 - mmaction - INFO - Epoch [12][5/17]\tlr: 7.813e-07, eta: 0:02:06, time: 1.800, data_time: 1.395, memory: 8137, top1_acc: 0.7000, top5_acc: 1.0000, loss_cls: 0.8960, loss: 0.8960\n",
      "2024-06-28 22:51:49,500 - mmaction - INFO - Epoch [12][10/17]\tlr: 7.813e-07, eta: 0:02:01, time: 0.583, data_time: 0.294, memory: 8137, top1_acc: 0.7000, top5_acc: 1.0000, loss_cls: 0.8687, loss: 0.8687\n"
     ]
    },
    {
     "name": "stdout",
     "output_type": "stream",
     "text": [
      "Gradient overflow.  Skipping step, loss scaler 0 reducing loss scale to 32768.0\n"
     ]
    },
    {
     "name": "stderr",
     "output_type": "stream",
     "text": [
      "2024-06-28 22:51:51,017 - mmaction - INFO - Epoch [12][15/17]\tlr: 7.813e-07, eta: 0:01:55, time: 0.303, data_time: 0.001, memory: 8137, top1_acc: 0.2000, top5_acc: 1.0000, loss_cls: 1.0109, loss: 1.0109\n",
      "2024-06-28 22:52:01,695 - mmaction - INFO - Epoch [13][5/17]\tlr: 7.813e-07, eta: 0:01:50, time: 1.701, data_time: 1.345, memory: 8137, top1_acc: 0.4000, top5_acc: 1.0000, loss_cls: 1.0497, loss: 1.0497\n",
      "2024-06-28 22:52:04,738 - mmaction - INFO - Epoch [13][10/17]\tlr: 7.813e-07, eta: 0:01:46, time: 0.609, data_time: 0.302, memory: 8137, top1_acc: 0.4000, top5_acc: 1.0000, loss_cls: 1.0503, loss: 1.0503\n",
      "2024-06-28 22:52:07,587 - mmaction - INFO - Epoch [13][15/17]\tlr: 7.813e-07, eta: 0:01:41, time: 0.570, data_time: 0.254, memory: 8137, top1_acc: 0.5000, top5_acc: 1.0000, loss_cls: 0.9469, loss: 0.9469\n",
      "2024-06-28 22:52:19,181 - mmaction - INFO - Epoch [14][5/17]\tlr: 7.813e-07, eta: 0:01:36, time: 1.866, data_time: 1.455, memory: 8137, top1_acc: 0.8000, top5_acc: 1.0000, loss_cls: 0.8519, loss: 0.8519\n",
      "2024-06-28 22:52:22,954 - mmaction - INFO - Epoch [14][10/17]\tlr: 7.813e-07, eta: 0:01:32, time: 0.755, data_time: 0.386, memory: 8137, top1_acc: 0.6000, top5_acc: 1.0000, loss_cls: 0.9196, loss: 0.9196\n",
      "2024-06-28 22:52:24,638 - mmaction - INFO - Epoch [14][15/17]\tlr: 7.813e-07, eta: 0:01:27, time: 0.337, data_time: 0.001, memory: 8137, top1_acc: 0.2000, top5_acc: 1.0000, loss_cls: 0.9771, loss: 0.9771\n",
      "2024-06-28 22:52:35,914 - mmaction - INFO - Epoch [15][5/17]\tlr: 7.813e-07, eta: 0:01:22, time: 1.787, data_time: 1.406, memory: 8137, top1_acc: 0.2000, top5_acc: 1.0000, loss_cls: 1.0476, loss: 1.0476\n",
      "2024-06-28 22:52:39,101 - mmaction - INFO - Epoch [15][10/17]\tlr: 7.813e-07, eta: 0:01:17, time: 0.637, data_time: 0.319, memory: 8137, top1_acc: 0.5000, top5_acc: 1.0000, loss_cls: 1.0103, loss: 1.0103\n",
      "2024-06-28 22:52:40,932 - mmaction - INFO - Epoch [15][15/17]\tlr: 7.813e-07, eta: 0:01:12, time: 0.366, data_time: 0.066, memory: 8137, top1_acc: 0.3000, top5_acc: 1.0000, loss_cls: 0.9452, loss: 0.9452\n"
     ]
    },
    {
     "name": "stdout",
     "output_type": "stream",
     "text": [
      "[>>>>>>>>>>>>>>>>>>>>>>>>>>>>>>>>>>>>>>>>>>>>>>>>>>] 9/9, 0.5 task/s, elapsed: 19s, ETA:     0s"
     ]
    },
    {
     "name": "stderr",
     "output_type": "stream",
     "text": [
      "2024-06-28 22:53:02,089 - mmaction - INFO - Evaluating top_k_accuracy ...\n",
      "2024-06-28 22:53:02,090 - mmaction - INFO - \n",
      "top1_acc\t0.6667\n",
      "top5_acc\t1.0000\n",
      "2024-06-28 22:53:02,090 - mmaction - INFO - Evaluating mean_class_accuracy ...\n",
      "2024-06-28 22:53:02,091 - mmaction - INFO - \n",
      "mean_acc\t0.5000\n",
      "2024-06-28 22:53:02,091 - mmaction - INFO - Epoch(val) [15][9]\ttop1_acc: 0.6667, top5_acc: 1.0000, mean_class_accuracy: 0.5000\n"
     ]
    },
    {
     "name": "stdout",
     "output_type": "stream",
     "text": [
      "mean_class_accuracy\n",
      "[2 1 2 2 1 2 1 2 2]\n",
      "[2, 0, 2, 2, 1, 1, 0, 2, 2]\n"
     ]
    },
    {
     "name": "stderr",
     "output_type": "stream",
     "text": [
      "2024-06-28 22:53:11,855 - mmaction - INFO - Epoch [16][5/17]\tlr: 7.813e-07, eta: 0:01:08, time: 1.951, data_time: 1.583, memory: 8137, top1_acc: 0.5000, top5_acc: 1.0000, loss_cls: 0.9783, loss: 0.9783\n",
      "2024-06-28 22:53:15,633 - mmaction - INFO - Epoch [16][10/17]\tlr: 7.813e-07, eta: 0:01:03, time: 0.755, data_time: 0.396, memory: 8137, top1_acc: 0.8000, top5_acc: 1.0000, loss_cls: 0.7908, loss: 0.7908\n",
      "2024-06-28 22:53:17,153 - mmaction - INFO - Epoch [16][15/17]\tlr: 7.813e-07, eta: 0:00:58, time: 0.304, data_time: 0.001, memory: 8137, top1_acc: 0.4000, top5_acc: 1.0000, loss_cls: 0.9270, loss: 0.9270\n",
      "2024-06-28 22:53:29,258 - mmaction - INFO - Epoch [17][5/17]\tlr: 7.813e-07, eta: 0:00:53, time: 1.957, data_time: 1.589, memory: 8137, top1_acc: 0.6000, top5_acc: 1.0000, loss_cls: 0.9553, loss: 0.9553\n",
      "2024-06-28 22:53:31,413 - mmaction - INFO - Epoch [17][10/17]\tlr: 7.813e-07, eta: 0:00:49, time: 0.431, data_time: 0.110, memory: 8137, top1_acc: 0.7000, top5_acc: 1.0000, loss_cls: 0.8270, loss: 0.8270\n",
      "2024-06-28 22:53:32,982 - mmaction - INFO - Epoch [17][15/17]\tlr: 7.813e-07, eta: 0:00:44, time: 0.314, data_time: 0.001, memory: 8137, top1_acc: 0.6000, top5_acc: 1.0000, loss_cls: 0.9351, loss: 0.9351\n",
      "2024-06-28 22:53:45,755 - mmaction - INFO - Epoch [18][5/17]\tlr: 7.813e-07, eta: 0:00:39, time: 1.928, data_time: 1.562, memory: 8137, top1_acc: 0.6000, top5_acc: 1.0000, loss_cls: 0.9394, loss: 0.9394\n",
      "2024-06-28 22:53:47,651 - mmaction - INFO - Epoch [18][10/17]\tlr: 7.813e-07, eta: 0:00:34, time: 0.379, data_time: 0.028, memory: 8137, top1_acc: 0.4000, top5_acc: 1.0000, loss_cls: 0.9889, loss: 0.9889\n",
      "2024-06-28 22:53:49,451 - mmaction - INFO - Epoch [18][15/17]\tlr: 7.813e-07, eta: 0:00:30, time: 0.359, data_time: 0.038, memory: 8137, top1_acc: 0.7000, top5_acc: 1.0000, loss_cls: 0.9068, loss: 0.9068\n",
      "2024-06-28 22:54:01,032 - mmaction - INFO - Epoch [19][5/17]\tlr: 7.813e-07, eta: 0:00:24, time: 1.885, data_time: 1.551, memory: 8137, top1_acc: 0.5000, top5_acc: 1.0000, loss_cls: 0.9744, loss: 0.9744\n",
      "2024-06-28 22:54:02,573 - mmaction - INFO - Epoch [19][10/17]\tlr: 7.813e-07, eta: 0:00:20, time: 0.308, data_time: 0.001, memory: 8137, top1_acc: 0.9000, top5_acc: 1.0000, loss_cls: 0.8293, loss: 0.8293\n",
      "2024-06-28 22:54:05,171 - mmaction - INFO - Epoch [19][15/17]\tlr: 7.813e-07, eta: 0:00:15, time: 0.520, data_time: 0.202, memory: 8137, top1_acc: 0.3000, top5_acc: 1.0000, loss_cls: 1.1185, loss: 1.1185\n",
      "2024-06-28 22:54:16,848 - mmaction - INFO - Epoch [20][5/17]\tlr: 7.813e-07, eta: 0:00:10, time: 1.829, data_time: 1.472, memory: 8137, top1_acc: 0.7000, top5_acc: 1.0000, loss_cls: 0.8799, loss: 0.8799\n",
      "2024-06-28 22:54:19,063 - mmaction - INFO - Epoch [20][10/17]\tlr: 7.813e-07, eta: 0:00:05, time: 0.444, data_time: 0.124, memory: 8137, top1_acc: 0.6000, top5_acc: 1.0000, loss_cls: 0.9190, loss: 0.9190\n",
      "2024-06-28 22:54:21,565 - mmaction - INFO - Epoch [20][15/17]\tlr: 7.813e-07, eta: 0:00:01, time: 0.500, data_time: 0.166, memory: 8137, top1_acc: 0.7000, top5_acc: 1.0000, loss_cls: 0.9118, loss: 0.9118\n",
      "2024-06-28 22:54:24,402 - mmaction - INFO - Saving checkpoint at 20 epochs\n"
     ]
    },
    {
     "name": "stdout",
     "output_type": "stream",
     "text": [
      "[>>>>>>>>>>>>>>>>>>>>>>>>>>>>>>>>>>>>>>>>>>>>>>>>>>] 9/9, 0.5 task/s, elapsed: 19s, ETA:     0s"
     ]
    },
    {
     "name": "stderr",
     "output_type": "stream",
     "text": [
      "2024-06-28 22:54:45,281 - mmaction - INFO - Evaluating top_k_accuracy ...\n",
      "2024-06-28 22:54:45,282 - mmaction - INFO - \n",
      "top1_acc\t0.7778\n",
      "top5_acc\t1.0000\n",
      "2024-06-28 22:54:45,282 - mmaction - INFO - Evaluating mean_class_accuracy ...\n",
      "2024-06-28 22:54:45,283 - mmaction - INFO - \n",
      "mean_acc\t0.6667\n",
      "2024-06-28 22:54:45,283 - mmaction - INFO - Epoch(val) [20][9]\ttop1_acc: 0.7778, top5_acc: 1.0000, mean_class_accuracy: 0.6667\n"
     ]
    },
    {
     "name": "stdout",
     "output_type": "stream",
     "text": [
      "mean_class_accuracy\n",
      "[2 0 2 2 1 2 1 2 2]\n",
      "[2, 0, 2, 2, 1, 1, 0, 2, 2]\n"
     ]
    },
    {
     "name": "stderr",
     "output_type": "stream",
     "text": [
      "2024-06-28 22:54:46,635 - mmaction - INFO - load checkpoint from local path: ./tutorial_exps/epoch_20.pth\n"
     ]
    },
    {
     "name": "stdout",
     "output_type": "stream",
     "text": [
      "Selected optimization level O1:  Insert automatic casts around Pytorch functions and Tensor methods.\n",
      "\n",
      "Defaults for this optimization level are:\n",
      "enabled                : True\n",
      "opt_level              : O1\n",
      "cast_model_type        : None\n",
      "patch_torch_functions  : True\n",
      "keep_batchnorm_fp32    : None\n",
      "master_weights         : None\n",
      "loss_scale             : dynamic\n",
      "Processing user overrides (additional kwargs that are not None)...\n",
      "After processing overrides, optimization options are:\n",
      "enabled                : True\n",
      "opt_level              : O1\n",
      "cast_model_type        : None\n",
      "patch_torch_functions  : True\n",
      "keep_batchnorm_fp32    : None\n",
      "master_weights         : None\n",
      "loss_scale             : dynamic\n"
     ]
    },
    {
     "name": "stderr",
     "output_type": "stream",
     "text": [
      "2024-06-28 22:54:47,011 - mmaction - INFO - Start running, host: 15281@实验室, work_dir: H:\\code\\视频组代码\\Video_Swin_Transformer\\tutorial_exps1\n",
      "2024-06-28 22:54:47,012 - mmaction - INFO - Hooks will be executed in the following order:\n",
      "before_run:\n",
      "(VERY_HIGH   ) StepLrUpdaterHook                  \n",
      "(ABOVE_NORMAL) DistOptimizerHook                  \n",
      "(NORMAL      ) CheckpointHook                     \n",
      "(NORMAL      ) EvalHook                           \n",
      "(VERY_LOW    ) TextLoggerHook                     \n",
      " -------------------- \n",
      "before_train_epoch:\n",
      "(VERY_HIGH   ) StepLrUpdaterHook                  \n",
      "(NORMAL      ) EvalHook                           \n",
      "(LOW         ) IterTimerHook                      \n",
      "(VERY_LOW    ) TextLoggerHook                     \n",
      " -------------------- \n",
      "before_train_iter:\n",
      "(VERY_HIGH   ) StepLrUpdaterHook                  \n",
      "(NORMAL      ) EvalHook                           \n",
      "(LOW         ) IterTimerHook                      \n",
      " -------------------- \n",
      "after_train_iter:\n",
      "(ABOVE_NORMAL) DistOptimizerHook                  \n",
      "(NORMAL      ) CheckpointHook                     \n",
      "(NORMAL      ) EvalHook                           \n",
      "(LOW         ) IterTimerHook                      \n",
      "(VERY_LOW    ) TextLoggerHook                     \n",
      " -------------------- \n",
      "after_train_epoch:\n",
      "(NORMAL      ) CheckpointHook                     \n",
      "(NORMAL      ) EvalHook                           \n",
      "(VERY_LOW    ) TextLoggerHook                     \n",
      " -------------------- \n",
      "before_val_epoch:\n",
      "(LOW         ) IterTimerHook                      \n",
      "(VERY_LOW    ) TextLoggerHook                     \n",
      " -------------------- \n",
      "before_val_iter:\n",
      "(LOW         ) IterTimerHook                      \n",
      " -------------------- \n",
      "after_val_iter:\n",
      "(LOW         ) IterTimerHook                      \n",
      " -------------------- \n",
      "after_val_epoch:\n",
      "(VERY_LOW    ) TextLoggerHook                     \n",
      " -------------------- \n",
      "after_run:\n",
      "(VERY_LOW    ) TextLoggerHook                     \n",
      " -------------------- \n",
      "2024-06-28 22:54:47,013 - mmaction - INFO - workflow: [('train', 1)], max: 20 epochs\n",
      "2024-06-28 22:54:47,017 - mmaction - INFO - Checkpoints will be saved to H:\\code\\视频组代码\\Video_Swin_Transformer\\tutorial_exps1 by HardDiskBackend.\n",
      "2024-06-28 22:54:55,698 - mmaction - INFO - Epoch [1][5/17]\tlr: 7.813e-07, eta: 0:09:41, time: 1.734, data_time: 1.388, memory: 8137, top1_acc: 0.5000, top5_acc: 1.0000, loss_cls: 0.9579, loss: 0.9579\n",
      "2024-06-28 22:54:57,748 - mmaction - INFO - Epoch [1][10/17]\tlr: 7.813e-07, eta: 0:05:53, time: 0.410, data_time: 0.103, memory: 8319, top1_acc: 0.4000, top5_acc: 1.0000, loss_cls: 0.9836, loss: 0.9836\n",
      "2024-06-28 22:54:59,105 - mmaction - INFO - Epoch [1][15/17]\tlr: 7.813e-07, eta: 0:04:21, time: 0.272, data_time: 0.002, memory: 8319, top1_acc: 0.7000, top5_acc: 1.0000, loss_cls: 0.9493, loss: 0.9493\n"
     ]
    },
    {
     "name": "stdout",
     "output_type": "stream",
     "text": [
      "Gradient overflow.  Skipping step, loss scaler 0 reducing loss scale to 32768.0\n"
     ]
    },
    {
     "name": "stderr",
     "output_type": "stream",
     "text": [
      "2024-06-28 22:55:12,336 - mmaction - INFO - Epoch [2][5/17]\tlr: 7.813e-07, eta: 0:05:17, time: 1.976, data_time: 1.597, memory: 8319, top1_acc: 0.3000, top5_acc: 1.0000, loss_cls: 1.0741, loss: 1.0741\n",
      "2024-06-28 22:55:14,471 - mmaction - INFO - Epoch [2][10/17]\tlr: 7.813e-07, eta: 0:04:39, time: 0.427, data_time: 0.082, memory: 8319, top1_acc: 0.8000, top5_acc: 1.0000, loss_cls: 0.9074, loss: 0.9074\n",
      "2024-06-28 22:55:16,899 - mmaction - INFO - Epoch [2][15/17]\tlr: 7.813e-07, eta: 0:04:15, time: 0.486, data_time: 0.168, memory: 8319, top1_acc: 0.5000, top5_acc: 1.0000, loss_cls: 1.0179, loss: 1.0179\n",
      "2024-06-28 22:55:27,512 - mmaction - INFO - Epoch [3][5/17]\tlr: 7.813e-07, eta: 0:04:28, time: 1.656, data_time: 1.289, memory: 8319, top1_acc: 0.4000, top5_acc: 1.0000, loss_cls: 0.9732, loss: 0.9732\n",
      "2024-06-28 22:55:29,985 - mmaction - INFO - Epoch [3][10/17]\tlr: 7.813e-07, eta: 0:04:10, time: 0.494, data_time: 0.169, memory: 8319, top1_acc: 0.6000, top5_acc: 1.0000, loss_cls: 0.9266, loss: 0.9266\n",
      "2024-06-28 22:55:33,016 - mmaction - INFO - Epoch [3][15/17]\tlr: 7.813e-07, eta: 0:03:59, time: 0.606, data_time: 0.269, memory: 8319, top1_acc: 0.6000, top5_acc: 1.0000, loss_cls: 0.9246, loss: 0.9246\n",
      "2024-06-28 22:55:44,253 - mmaction - INFO - Epoch [4][5/17]\tlr: 7.813e-07, eta: 0:04:09, time: 1.792, data_time: 1.422, memory: 8319, top1_acc: 0.1000, top5_acc: 1.0000, loss_cls: 1.0646, loss: 1.0646\n",
      "2024-06-28 22:55:46,838 - mmaction - INFO - Epoch [4][10/17]\tlr: 7.813e-07, eta: 0:03:57, time: 0.517, data_time: 0.194, memory: 8319, top1_acc: 0.4000, top5_acc: 1.0000, loss_cls: 1.0135, loss: 1.0135\n",
      "2024-06-28 22:55:49,937 - mmaction - INFO - Epoch [4][15/17]\tlr: 7.813e-07, eta: 0:03:48, time: 0.620, data_time: 0.278, memory: 8319, top1_acc: 0.2000, top5_acc: 1.0000, loss_cls: 1.0433, loss: 1.0433\n",
      "2024-06-28 22:56:02,264 - mmaction - INFO - Epoch [5][5/17]\tlr: 7.813e-07, eta: 0:03:58, time: 2.035, data_time: 1.664, memory: 8319, top1_acc: 0.4000, top5_acc: 1.0000, loss_cls: 1.0345, loss: 1.0345\n",
      "2024-06-28 22:56:04,030 - mmaction - INFO - Epoch [5][10/17]\tlr: 7.813e-07, eta: 0:03:44, time: 0.353, data_time: 0.043, memory: 8319, top1_acc: 0.5000, top5_acc: 1.0000, loss_cls: 1.0111, loss: 1.0111\n",
      "2024-06-28 22:56:05,750 - mmaction - INFO - Epoch [5][15/17]\tlr: 7.813e-07, eta: 0:03:32, time: 0.344, data_time: 0.002, memory: 8319, top1_acc: 0.6000, top5_acc: 1.0000, loss_cls: 0.8984, loss: 0.8984\n"
     ]
    },
    {
     "name": "stdout",
     "output_type": "stream",
     "text": [
      "[>>>>>>>>>>>>>>>>>>>>>>>>>>>>>>>>>>>>>>>>>>>>>>>>>>] 9/9, 0.5 task/s, elapsed: 19s, ETA:     0s"
     ]
    },
    {
     "name": "stderr",
     "output_type": "stream",
     "text": [
      "2024-06-28 22:56:27,191 - mmaction - INFO - Evaluating top_k_accuracy ...\n",
      "2024-06-28 22:56:27,192 - mmaction - INFO - \n",
      "top1_acc\t0.7778\n",
      "top5_acc\t1.0000\n",
      "2024-06-28 22:56:27,192 - mmaction - INFO - Evaluating mean_class_accuracy ...\n",
      "2024-06-28 22:56:27,193 - mmaction - INFO - \n",
      "mean_acc\t0.6667\n"
     ]
    },
    {
     "name": "stdout",
     "output_type": "stream",
     "text": [
      "mean_class_accuracy\n",
      "[2 1 2 2 1 1 1 2 2]\n",
      "[2, 0, 2, 2, 1, 1, 0, 2, 2]\n"
     ]
    },
    {
     "name": "stderr",
     "output_type": "stream",
     "text": [
      "2024-06-28 22:56:28,472 - mmaction - INFO - Now best checkpoint is saved as best_top1_acc_epoch_5.pth.\n",
      "2024-06-28 22:56:28,472 - mmaction - INFO - Best top1_acc is 0.7778 at 5 epoch.\n",
      "2024-06-28 22:56:28,473 - mmaction - INFO - Epoch(val) [5][9]\ttop1_acc: 0.7778, top5_acc: 1.0000, mean_class_accuracy: 0.6667\n",
      "2024-06-28 22:56:36,776 - mmaction - INFO - Epoch [6][5/17]\tlr: 7.813e-07, eta: 0:03:33, time: 1.659, data_time: 1.256, memory: 8319, top1_acc: 0.5000, top5_acc: 1.0000, loss_cls: 0.9458, loss: 0.9458\n",
      "2024-06-28 22:56:39,992 - mmaction - INFO - Epoch [6][10/17]\tlr: 7.813e-07, eta: 0:03:26, time: 0.643, data_time: 0.314, memory: 8319, top1_acc: 0.5000, top5_acc: 1.0000, loss_cls: 0.8883, loss: 0.8883\n",
      "2024-06-28 22:56:41,923 - mmaction - INFO - Epoch [6][15/17]\tlr: 7.813e-07, eta: 0:03:16, time: 0.386, data_time: 0.040, memory: 8319, top1_acc: 0.3000, top5_acc: 1.0000, loss_cls: 1.0856, loss: 1.0856\n",
      "2024-06-28 22:56:52,926 - mmaction - INFO - Epoch [7][5/17]\tlr: 7.813e-07, eta: 0:03:17, time: 1.725, data_time: 1.379, memory: 8319, top1_acc: 0.4000, top5_acc: 1.0000, loss_cls: 0.9259, loss: 0.9259\n",
      "2024-06-28 22:56:55,449 - mmaction - INFO - Epoch [7][10/17]\tlr: 7.813e-07, eta: 0:03:09, time: 0.504, data_time: 0.199, memory: 8319, top1_acc: 0.4000, top5_acc: 1.0000, loss_cls: 1.0259, loss: 1.0259\n",
      "2024-06-28 22:56:58,196 - mmaction - INFO - Epoch [7][15/17]\tlr: 7.813e-07, eta: 0:03:02, time: 0.550, data_time: 0.246, memory: 8319, top1_acc: 0.4000, top5_acc: 1.0000, loss_cls: 1.0555, loss: 1.0555\n",
      "2024-06-28 22:57:11,297 - mmaction - INFO - Epoch [8][5/17]\tlr: 7.813e-07, eta: 0:03:06, time: 2.174, data_time: 1.782, memory: 8319, top1_acc: 0.6000, top5_acc: 1.0000, loss_cls: 1.0388, loss: 1.0388\n",
      "2024-06-28 22:57:12,995 - mmaction - INFO - Epoch [8][10/17]\tlr: 7.813e-07, eta: 0:02:57, time: 0.340, data_time: 0.001, memory: 8319, top1_acc: 0.7000, top5_acc: 1.0000, loss_cls: 0.9022, loss: 0.9022\n",
      "2024-06-28 22:57:16,277 - mmaction - INFO - Epoch [8][15/17]\tlr: 7.813e-07, eta: 0:02:51, time: 0.656, data_time: 0.327, memory: 8319, top1_acc: 0.4000, top5_acc: 1.0000, loss_cls: 0.9866, loss: 0.9866\n",
      "2024-06-28 22:57:27,623 - mmaction - INFO - Epoch [9][5/17]\tlr: 7.813e-07, eta: 0:02:50, time: 1.777, data_time: 1.419, memory: 8319, top1_acc: 0.6000, top5_acc: 1.0000, loss_cls: 1.0049, loss: 1.0049\n",
      "2024-06-28 22:57:30,380 - mmaction - INFO - Epoch [9][10/17]\tlr: 7.813e-07, eta: 0:02:44, time: 0.551, data_time: 0.215, memory: 8319, top1_acc: 0.4000, top5_acc: 1.0000, loss_cls: 1.0653, loss: 1.0653\n",
      "2024-06-28 22:57:32,478 - mmaction - INFO - Epoch [9][15/17]\tlr: 7.813e-07, eta: 0:02:37, time: 0.420, data_time: 0.121, memory: 8319, top1_acc: 0.5000, top5_acc: 1.0000, loss_cls: 0.9695, loss: 0.9695\n",
      "2024-06-28 22:57:44,318 - mmaction - INFO - Epoch [10][5/17]\tlr: 7.813e-07, eta: 0:02:35, time: 1.886, data_time: 1.499, memory: 8319, top1_acc: 0.3000, top5_acc: 1.0000, loss_cls: 1.0019, loss: 1.0019\n",
      "2024-06-28 22:57:47,741 - mmaction - INFO - Epoch [10][10/17]\tlr: 7.813e-07, eta: 0:02:30, time: 0.685, data_time: 0.347, memory: 8319, top1_acc: 0.2000, top5_acc: 1.0000, loss_cls: 1.1573, loss: 1.1573\n",
      "2024-06-28 22:57:49,407 - mmaction - INFO - Epoch [10][15/17]\tlr: 7.813e-07, eta: 0:02:23, time: 0.333, data_time: 0.006, memory: 8319, top1_acc: 0.5000, top5_acc: 1.0000, loss_cls: 0.9292, loss: 0.9292\n",
      "2024-06-28 22:57:51,519 - mmaction - INFO - Saving checkpoint at 10 epochs\n"
     ]
    },
    {
     "name": "stdout",
     "output_type": "stream",
     "text": [
      "[>>>>>>>>>>>>>>>>>>>>>>>>>>>>>>>>>>>>>>>>>>>>>>>>>>] 9/9, 0.5 task/s, elapsed: 19s, ETA:     0s"
     ]
    },
    {
     "name": "stderr",
     "output_type": "stream",
     "text": [
      "2024-06-28 22:58:12,363 - mmaction - INFO - Evaluating top_k_accuracy ...\n",
      "2024-06-28 22:58:12,364 - mmaction - INFO - \n",
      "top1_acc\t0.6667\n",
      "top5_acc\t1.0000\n",
      "2024-06-28 22:58:12,364 - mmaction - INFO - Evaluating mean_class_accuracy ...\n",
      "2024-06-28 22:58:12,365 - mmaction - INFO - \n",
      "mean_acc\t0.5000\n",
      "2024-06-28 22:58:12,365 - mmaction - INFO - Epoch(val) [10][9]\ttop1_acc: 0.6667, top5_acc: 1.0000, mean_class_accuracy: 0.5000\n"
     ]
    },
    {
     "name": "stdout",
     "output_type": "stream",
     "text": [
      "mean_class_accuracy\n",
      "[2 1 2 2 1 2 1 2 2]\n",
      "[2, 0, 2, 2, 1, 1, 0, 2, 2]\n"
     ]
    },
    {
     "name": "stderr",
     "output_type": "stream",
     "text": [
      "2024-06-28 22:58:21,472 - mmaction - INFO - Epoch [11][5/17]\tlr: 7.813e-07, eta: 0:02:20, time: 1.820, data_time: 1.419, memory: 8319, top1_acc: 0.7000, top5_acc: 1.0000, loss_cls: 0.9194, loss: 0.9194\n",
      "2024-06-28 22:58:23,640 - mmaction - INFO - Epoch [11][10/17]\tlr: 7.813e-07, eta: 0:02:14, time: 0.434, data_time: 0.108, memory: 8319, top1_acc: 0.5000, top5_acc: 1.0000, loss_cls: 0.9590, loss: 0.9590\n",
      "2024-06-28 22:58:25,497 - mmaction - INFO - Epoch [11][15/17]\tlr: 7.813e-07, eta: 0:02:08, time: 0.371, data_time: 0.043, memory: 8319, top1_acc: 0.3000, top5_acc: 1.0000, loss_cls: 1.0701, loss: 1.0701\n",
      "2024-06-28 22:58:37,346 - mmaction - INFO - Epoch [12][5/17]\tlr: 7.813e-07, eta: 0:02:04, time: 1.743, data_time: 1.365, memory: 8319, top1_acc: 0.5000, top5_acc: 1.0000, loss_cls: 0.9216, loss: 0.9216\n",
      "2024-06-28 22:58:41,229 - mmaction - INFO - Epoch [12][10/17]\tlr: 7.813e-07, eta: 0:02:00, time: 0.777, data_time: 0.407, memory: 8319, top1_acc: 0.7000, top5_acc: 1.0000, loss_cls: 0.9296, loss: 0.9296\n",
      "2024-06-28 22:58:45,744 - mmaction - INFO - Epoch [12][15/17]\tlr: 7.813e-07, eta: 0:01:56, time: 0.903, data_time: 0.552, memory: 8319, top1_acc: 0.8000, top5_acc: 1.0000, loss_cls: 0.8900, loss: 0.8900\n",
      "2024-06-28 22:58:57,405 - mmaction - INFO - Epoch [13][5/17]\tlr: 7.813e-07, eta: 0:01:52, time: 1.887, data_time: 1.538, memory: 8319, top1_acc: 0.3000, top5_acc: 1.0000, loss_cls: 1.0232, loss: 1.0232\n",
      "2024-06-28 22:58:59,830 - mmaction - INFO - Epoch [13][10/17]\tlr: 7.813e-07, eta: 0:01:47, time: 0.485, data_time: 0.183, memory: 8319, top1_acc: 0.6000, top5_acc: 1.0000, loss_cls: 0.9299, loss: 0.9299\n",
      "2024-06-28 22:59:03,315 - mmaction - INFO - Epoch [13][15/17]\tlr: 7.813e-07, eta: 0:01:42, time: 0.697, data_time: 0.365, memory: 8319, top1_acc: 0.9000, top5_acc: 1.0000, loss_cls: 0.8395, loss: 0.8395\n",
      "2024-06-28 22:59:14,891 - mmaction - INFO - Epoch [14][5/17]\tlr: 7.813e-07, eta: 0:01:38, time: 1.875, data_time: 1.517, memory: 8319, top1_acc: 0.5000, top5_acc: 1.0000, loss_cls: 1.0328, loss: 1.0328\n",
      "2024-06-28 22:59:17,512 - mmaction - INFO - Epoch [14][10/17]\tlr: 7.813e-07, eta: 0:01:33, time: 0.524, data_time: 0.187, memory: 8319, top1_acc: 0.7000, top5_acc: 1.0000, loss_cls: 0.9590, loss: 0.9590\n",
      "2024-06-28 22:59:19,052 - mmaction - INFO - Epoch [14][15/17]\tlr: 7.813e-07, eta: 0:01:27, time: 0.308, data_time: 0.001, memory: 8319, top1_acc: 0.5000, top5_acc: 1.0000, loss_cls: 0.9070, loss: 0.9070\n",
      "2024-06-28 22:59:30,195 - mmaction - INFO - Epoch [15][5/17]\tlr: 7.813e-07, eta: 0:01:22, time: 1.636, data_time: 1.281, memory: 8319, top1_acc: 0.6000, top5_acc: 1.0000, loss_cls: 0.9718, loss: 0.9718\n",
      "2024-06-28 22:59:34,412 - mmaction - INFO - Epoch [15][10/17]\tlr: 7.813e-07, eta: 0:01:18, time: 0.843, data_time: 0.504, memory: 8319, top1_acc: 0.8000, top5_acc: 1.0000, loss_cls: 0.8808, loss: 0.8808\n",
      "2024-06-28 22:59:36,006 - mmaction - INFO - Epoch [15][15/17]\tlr: 7.813e-07, eta: 0:01:13, time: 0.319, data_time: 0.001, memory: 8319, top1_acc: 0.6000, top5_acc: 1.0000, loss_cls: 0.9604, loss: 0.9604\n"
     ]
    },
    {
     "name": "stdout",
     "output_type": "stream",
     "text": [
      "[>>>>>>>>>>>>>>>>>>>>>>>>>>>>>>>>>>>>>>>>>>>>>>>>>>] 9/9, 0.5 task/s, elapsed: 19s, ETA:     0s"
     ]
    },
    {
     "name": "stderr",
     "output_type": "stream",
     "text": [
      "2024-06-28 22:59:57,041 - mmaction - INFO - Evaluating top_k_accuracy ...\n",
      "2024-06-28 22:59:57,042 - mmaction - INFO - \n",
      "top1_acc\t0.6667\n",
      "top5_acc\t1.0000\n",
      "2024-06-28 22:59:57,042 - mmaction - INFO - Evaluating mean_class_accuracy ...\n",
      "2024-06-28 22:59:57,043 - mmaction - INFO - \n",
      "mean_acc\t0.5000\n",
      "2024-06-28 22:59:57,044 - mmaction - INFO - Epoch(val) [15][9]\ttop1_acc: 0.6667, top5_acc: 1.0000, mean_class_accuracy: 0.5000\n"
     ]
    },
    {
     "name": "stdout",
     "output_type": "stream",
     "text": [
      "mean_class_accuracy\n",
      "[2 1 2 2 1 2 1 2 2]\n",
      "[2, 0, 2, 2, 1, 1, 0, 2, 2]\n"
     ]
    },
    {
     "name": "stderr",
     "output_type": "stream",
     "text": [
      "2024-06-28 23:00:06,412 - mmaction - INFO - Epoch [16][5/17]\tlr: 7.813e-07, eta: 0:01:08, time: 1.872, data_time: 1.494, memory: 8319, top1_acc: 0.4000, top5_acc: 1.0000, loss_cls: 1.0331, loss: 1.0331\n",
      "2024-06-28 23:00:09,401 - mmaction - INFO - Epoch [16][10/17]\tlr: 7.813e-07, eta: 0:01:03, time: 0.598, data_time: 0.278, memory: 8319, top1_acc: 0.9000, top5_acc: 1.0000, loss_cls: 0.8548, loss: 0.8548\n",
      "2024-06-28 23:00:11,871 - mmaction - INFO - Epoch [16][15/17]\tlr: 7.813e-07, eta: 0:00:59, time: 0.494, data_time: 0.155, memory: 8319, top1_acc: 0.5000, top5_acc: 1.0000, loss_cls: 0.8508, loss: 0.8508\n",
      "2024-06-28 23:00:24,259 - mmaction - INFO - Epoch [17][5/17]\tlr: 7.813e-07, eta: 0:00:53, time: 1.816, data_time: 1.470, memory: 8319, top1_acc: 0.5000, top5_acc: 1.0000, loss_cls: 1.0287, loss: 1.0287\n",
      "2024-06-28 23:00:26,877 - mmaction - INFO - Epoch [17][10/17]\tlr: 7.813e-07, eta: 0:00:49, time: 0.524, data_time: 0.206, memory: 8319, top1_acc: 0.6000, top5_acc: 1.0000, loss_cls: 0.9137, loss: 0.9137\n",
      "2024-06-28 23:00:28,942 - mmaction - INFO - Epoch [17][15/17]\tlr: 7.813e-07, eta: 0:00:44, time: 0.413, data_time: 0.095, memory: 8319, top1_acc: 0.6000, top5_acc: 1.0000, loss_cls: 0.9775, loss: 0.9775\n",
      "2024-06-28 23:00:40,472 - mmaction - INFO - Epoch [18][5/17]\tlr: 7.813e-07, eta: 0:00:39, time: 1.756, data_time: 1.417, memory: 8319, top1_acc: 0.7000, top5_acc: 1.0000, loss_cls: 0.8691, loss: 0.8691\n",
      "2024-06-28 23:00:45,177 - mmaction - INFO - Epoch [18][10/17]\tlr: 7.813e-07, eta: 0:00:34, time: 0.941, data_time: 0.572, memory: 8319, top1_acc: 0.5000, top5_acc: 1.0000, loss_cls: 0.9815, loss: 0.9815\n",
      "2024-06-28 23:00:47,367 - mmaction - INFO - Epoch [18][15/17]\tlr: 7.813e-07, eta: 0:00:30, time: 0.438, data_time: 0.095, memory: 8319, top1_acc: 0.5000, top5_acc: 1.0000, loss_cls: 0.9650, loss: 0.9650\n",
      "2024-06-28 23:00:59,158 - mmaction - INFO - Epoch [19][5/17]\tlr: 7.813e-07, eta: 0:00:24, time: 1.891, data_time: 1.558, memory: 8319, top1_acc: 0.6000, top5_acc: 1.0000, loss_cls: 0.9148, loss: 0.9148\n",
      "2024-06-28 23:01:00,778 - mmaction - INFO - Epoch [19][10/17]\tlr: 7.813e-07, eta: 0:00:20, time: 0.324, data_time: 0.009, memory: 8319, top1_acc: 0.6000, top5_acc: 1.0000, loss_cls: 0.9158, loss: 0.9158\n",
      "2024-06-28 23:01:04,000 - mmaction - INFO - Epoch [19][15/17]\tlr: 7.813e-07, eta: 0:00:16, time: 0.644, data_time: 0.305, memory: 8319, top1_acc: 0.7000, top5_acc: 1.0000, loss_cls: 0.9949, loss: 0.9949\n",
      "2024-06-28 23:01:15,008 - mmaction - INFO - Epoch [20][5/17]\tlr: 7.813e-07, eta: 0:00:10, time: 1.751, data_time: 1.352, memory: 8319, top1_acc: 0.7000, top5_acc: 1.0000, loss_cls: 0.9643, loss: 0.9643\n",
      "2024-06-28 23:01:19,381 - mmaction - INFO - Epoch [20][10/17]\tlr: 7.813e-07, eta: 0:00:05, time: 0.875, data_time: 0.519, memory: 8319, top1_acc: 0.6000, top5_acc: 1.0000, loss_cls: 0.8828, loss: 0.8828\n",
      "2024-06-28 23:01:20,941 - mmaction - INFO - Epoch [20][15/17]\tlr: 7.813e-07, eta: 0:00:01, time: 0.312, data_time: 0.001, memory: 8319, top1_acc: 0.7000, top5_acc: 1.0000, loss_cls: 0.9086, loss: 0.9086\n",
      "2024-06-28 23:01:23,179 - mmaction - INFO - Saving checkpoint at 20 epochs\n"
     ]
    },
    {
     "name": "stdout",
     "output_type": "stream",
     "text": [
      "[>>>>>>>>>>>>>>>>>>>>>>>>>>>>>>>>>>>>>>>>>>>>>>>>>>] 9/9, 0.5 task/s, elapsed: 19s, ETA:     0s"
     ]
    },
    {
     "name": "stderr",
     "output_type": "stream",
     "text": [
      "2024-06-28 23:01:44,194 - mmaction - INFO - Evaluating top_k_accuracy ...\n",
      "2024-06-28 23:01:44,195 - mmaction - INFO - \n",
      "top1_acc\t0.7778\n",
      "top5_acc\t1.0000\n",
      "2024-06-28 23:01:44,195 - mmaction - INFO - Evaluating mean_class_accuracy ...\n",
      "2024-06-28 23:01:44,197 - mmaction - INFO - \n",
      "mean_acc\t0.6667\n",
      "2024-06-28 23:01:44,198 - mmaction - INFO - Epoch(val) [20][9]\ttop1_acc: 0.7778, top5_acc: 1.0000, mean_class_accuracy: 0.6667\n"
     ]
    },
    {
     "name": "stdout",
     "output_type": "stream",
     "text": [
      "mean_class_accuracy\n",
      "[2 0 2 2 1 2 1 2 2]\n",
      "[2, 0, 2, 2, 1, 1, 0, 2, 2]\n"
     ]
    },
    {
     "name": "stderr",
     "output_type": "stream",
     "text": [
      "2024-06-28 23:01:45,743 - mmaction - INFO - load checkpoint from local path: ./tutorial_exps/epoch_20.pth\n"
     ]
    },
    {
     "name": "stdout",
     "output_type": "stream",
     "text": [
      "Selected optimization level O1:  Insert automatic casts around Pytorch functions and Tensor methods.\n",
      "\n",
      "Defaults for this optimization level are:\n",
      "enabled                : True\n",
      "opt_level              : O1\n",
      "cast_model_type        : None\n",
      "patch_torch_functions  : True\n",
      "keep_batchnorm_fp32    : None\n",
      "master_weights         : None\n",
      "loss_scale             : dynamic\n",
      "Processing user overrides (additional kwargs that are not None)...\n",
      "After processing overrides, optimization options are:\n",
      "enabled                : True\n",
      "opt_level              : O1\n",
      "cast_model_type        : None\n",
      "patch_torch_functions  : True\n",
      "keep_batchnorm_fp32    : None\n",
      "master_weights         : None\n",
      "loss_scale             : dynamic\n"
     ]
    },
    {
     "name": "stderr",
     "output_type": "stream",
     "text": [
      "2024-06-28 23:01:46,110 - mmaction - INFO - Start running, host: 15281@实验室, work_dir: H:\\code\\视频组代码\\Video_Swin_Transformer\\tutorial_exps1\n",
      "2024-06-28 23:01:46,111 - mmaction - INFO - Hooks will be executed in the following order:\n",
      "before_run:\n",
      "(VERY_HIGH   ) StepLrUpdaterHook                  \n",
      "(ABOVE_NORMAL) DistOptimizerHook                  \n",
      "(NORMAL      ) CheckpointHook                     \n",
      "(NORMAL      ) EvalHook                           \n",
      "(VERY_LOW    ) TextLoggerHook                     \n",
      " -------------------- \n",
      "before_train_epoch:\n",
      "(VERY_HIGH   ) StepLrUpdaterHook                  \n",
      "(NORMAL      ) EvalHook                           \n",
      "(LOW         ) IterTimerHook                      \n",
      "(VERY_LOW    ) TextLoggerHook                     \n",
      " -------------------- \n",
      "before_train_iter:\n",
      "(VERY_HIGH   ) StepLrUpdaterHook                  \n",
      "(NORMAL      ) EvalHook                           \n",
      "(LOW         ) IterTimerHook                      \n",
      " -------------------- \n",
      "after_train_iter:\n",
      "(ABOVE_NORMAL) DistOptimizerHook                  \n",
      "(NORMAL      ) CheckpointHook                     \n",
      "(NORMAL      ) EvalHook                           \n",
      "(LOW         ) IterTimerHook                      \n",
      "(VERY_LOW    ) TextLoggerHook                     \n",
      " -------------------- \n",
      "after_train_epoch:\n",
      "(NORMAL      ) CheckpointHook                     \n",
      "(NORMAL      ) EvalHook                           \n",
      "(VERY_LOW    ) TextLoggerHook                     \n",
      " -------------------- \n",
      "before_val_epoch:\n",
      "(LOW         ) IterTimerHook                      \n",
      "(VERY_LOW    ) TextLoggerHook                     \n",
      " -------------------- \n",
      "before_val_iter:\n",
      "(LOW         ) IterTimerHook                      \n",
      " -------------------- \n",
      "after_val_iter:\n",
      "(LOW         ) IterTimerHook                      \n",
      " -------------------- \n",
      "after_val_epoch:\n",
      "(VERY_LOW    ) TextLoggerHook                     \n",
      " -------------------- \n",
      "after_run:\n",
      "(VERY_LOW    ) TextLoggerHook                     \n",
      " -------------------- \n",
      "2024-06-28 23:01:46,112 - mmaction - INFO - workflow: [('train', 1)], max: 20 epochs\n",
      "2024-06-28 23:01:46,116 - mmaction - INFO - Checkpoints will be saved to H:\\code\\视频组代码\\Video_Swin_Transformer\\tutorial_exps1 by HardDiskBackend.\n",
      "2024-06-28 23:01:54,202 - mmaction - INFO - Epoch [1][5/17]\tlr: 7.813e-07, eta: 0:09:01, time: 1.616, data_time: 1.253, memory: 8319, top1_acc: 0.6000, top5_acc: 1.0000, loss_cls: 1.0419, loss: 1.0419\n",
      "2024-06-28 23:01:56,764 - mmaction - INFO - Epoch [1][10/17]\tlr: 7.813e-07, eta: 0:05:51, time: 0.512, data_time: 0.203, memory: 8500, top1_acc: 0.4000, top5_acc: 1.0000, loss_cls: 1.0086, loss: 1.0086\n",
      "2024-06-28 23:01:59,631 - mmaction - INFO - Epoch [1][15/17]\tlr: 7.813e-07, eta: 0:04:52, time: 0.573, data_time: 0.233, memory: 8500, top1_acc: 0.6000, top5_acc: 1.0000, loss_cls: 0.8598, loss: 0.8598\n",
      "2024-06-28 23:02:11,695 - mmaction - INFO - Epoch [2][5/17]\tlr: 7.813e-07, eta: 0:05:30, time: 1.870, data_time: 1.477, memory: 8500, top1_acc: 0.4000, top5_acc: 1.0000, loss_cls: 0.9894, loss: 0.9894\n",
      "2024-06-28 23:02:13,435 - mmaction - INFO - Epoch [2][10/17]\tlr: 7.813e-07, eta: 0:04:45, time: 0.348, data_time: 0.005, memory: 8500, top1_acc: 0.7000, top5_acc: 1.0000, loss_cls: 0.8842, loss: 0.8842\n",
      "2024-06-28 23:02:15,147 - mmaction - INFO - Epoch [2][15/17]\tlr: 7.813e-07, eta: 0:04:13, time: 0.342, data_time: 0.001, memory: 8500, top1_acc: 0.5000, top5_acc: 1.0000, loss_cls: 1.0191, loss: 1.0191\n",
      "2024-06-28 23:02:27,965 - mmaction - INFO - Epoch [3][5/17]\tlr: 7.813e-07, eta: 0:04:36, time: 1.910, data_time: 1.514, memory: 8500, top1_acc: 0.4000, top5_acc: 1.0000, loss_cls: 0.9998, loss: 0.9998\n",
      "2024-06-28 23:02:30,659 - mmaction - INFO - Epoch [3][10/17]\tlr: 7.813e-07, eta: 0:04:19, time: 0.538, data_time: 0.196, memory: 8500, top1_acc: 0.6000, top5_acc: 1.0000, loss_cls: 0.9135, loss: 0.9135\n",
      "2024-06-28 23:02:32,694 - mmaction - INFO - Epoch [3][15/17]\tlr: 7.813e-07, eta: 0:04:01, time: 0.407, data_time: 0.075, memory: 8500, top1_acc: 0.5000, top5_acc: 1.0000, loss_cls: 0.9674, loss: 0.9674\n",
      "2024-06-28 23:02:44,463 - mmaction - INFO - Epoch [4][5/17]\tlr: 7.813e-07, eta: 0:04:12, time: 1.836, data_time: 1.430, memory: 8500, top1_acc: 0.4000, top5_acc: 1.0000, loss_cls: 0.9939, loss: 0.9939\n",
      "2024-06-28 23:02:48,147 - mmaction - INFO - Epoch [4][10/17]\tlr: 7.813e-07, eta: 0:04:04, time: 0.737, data_time: 0.369, memory: 8500, top1_acc: 0.5000, top5_acc: 1.0000, loss_cls: 0.9168, loss: 0.9168\n",
      "2024-06-28 23:02:49,744 - mmaction - INFO - Epoch [4][15/17]\tlr: 7.813e-07, eta: 0:03:48, time: 0.319, data_time: 0.001, memory: 8500, top1_acc: 0.5000, top5_acc: 1.0000, loss_cls: 0.9075, loss: 0.9075\n",
      "2024-06-28 23:03:00,806 - mmaction - INFO - Epoch [5][5/17]\tlr: 7.813e-07, eta: 0:03:53, time: 1.778, data_time: 1.391, memory: 8500, top1_acc: 0.4000, top5_acc: 1.0000, loss_cls: 1.0559, loss: 1.0559\n",
      "2024-06-28 23:03:02,886 - mmaction - INFO - Epoch [5][10/17]\tlr: 7.813e-07, eta: 0:03:41, time: 0.416, data_time: 0.088, memory: 8500, top1_acc: 0.5000, top5_acc: 1.0000, loss_cls: 0.9347, loss: 0.9347\n",
      "2024-06-28 23:03:07,815 - mmaction - INFO - Epoch [5][15/17]\tlr: 7.813e-07, eta: 0:03:39, time: 0.986, data_time: 0.624, memory: 8500, top1_acc: 0.4000, top5_acc: 1.0000, loss_cls: 0.9913, loss: 0.9913\n"
     ]
    },
    {
     "name": "stdout",
     "output_type": "stream",
     "text": [
      "[>>>>>>>>>>>>>>>>>>>>>>>>>>>>>>>>>>>>>>>>>>>>>>>>>>] 9/9, 0.5 task/s, elapsed: 19s, ETA:     0s"
     ]
    },
    {
     "name": "stderr",
     "output_type": "stream",
     "text": [
      "2024-06-28 23:03:29,672 - mmaction - INFO - Evaluating top_k_accuracy ...\n",
      "2024-06-28 23:03:29,672 - mmaction - INFO - \n",
      "top1_acc\t0.7778\n",
      "top5_acc\t1.0000\n",
      "2024-06-28 23:03:29,673 - mmaction - INFO - Evaluating mean_class_accuracy ...\n",
      "2024-06-28 23:03:29,674 - mmaction - INFO - \n",
      "mean_acc\t0.6667\n"
     ]
    },
    {
     "name": "stdout",
     "output_type": "stream",
     "text": [
      "mean_class_accuracy\n",
      "[2 1 2 2 1 1 1 2 2]\n",
      "[2, 0, 2, 2, 1, 1, 0, 2, 2]\n"
     ]
    },
    {
     "name": "stderr",
     "output_type": "stream",
     "text": [
      "2024-06-28 23:03:30,978 - mmaction - INFO - Now best checkpoint is saved as best_top1_acc_epoch_5.pth.\n",
      "2024-06-28 23:03:30,979 - mmaction - INFO - Best top1_acc is 0.7778 at 5 epoch.\n",
      "2024-06-28 23:03:30,979 - mmaction - INFO - Epoch(val) [5][9]\ttop1_acc: 0.7778, top5_acc: 1.0000, mean_class_accuracy: 0.6667\n",
      "2024-06-28 23:03:42,540 - mmaction - INFO - Epoch [6][5/17]\tlr: 7.813e-07, eta: 0:03:49, time: 2.311, data_time: 1.893, memory: 8500, top1_acc: 0.4000, top5_acc: 1.0000, loss_cls: 1.0084, loss: 1.0084\n",
      "2024-06-28 23:03:45,370 - mmaction - INFO - Epoch [6][10/17]\tlr: 7.813e-07, eta: 0:03:40, time: 0.566, data_time: 0.245, memory: 8500, top1_acc: 0.4000, top5_acc: 1.0000, loss_cls: 0.9593, loss: 0.9593\n",
      "2024-06-28 23:03:47,044 - mmaction - INFO - Epoch [6][15/17]\tlr: 7.813e-07, eta: 0:03:28, time: 0.335, data_time: 0.001, memory: 8500, top1_acc: 0.5000, top5_acc: 1.0000, loss_cls: 1.0216, loss: 1.0216\n",
      "2024-06-28 23:03:57,744 - mmaction - INFO - Epoch [7][5/17]\tlr: 7.813e-07, eta: 0:03:27, time: 1.680, data_time: 1.295, memory: 8500, top1_acc: 0.5000, top5_acc: 1.0000, loss_cls: 0.9305, loss: 0.9305\n",
      "2024-06-28 23:04:00,981 - mmaction - INFO - Epoch [7][10/17]\tlr: 7.813e-07, eta: 0:03:20, time: 0.647, data_time: 0.325, memory: 8500, top1_acc: 0.6000, top5_acc: 1.0000, loss_cls: 0.9279, loss: 0.9279\n",
      "2024-06-28 23:04:03,374 - mmaction - INFO - Epoch [7][15/17]\tlr: 7.813e-07, eta: 0:03:12, time: 0.479, data_time: 0.176, memory: 8500, top1_acc: 0.7000, top5_acc: 1.0000, loss_cls: 0.9040, loss: 0.9040\n",
      "2024-06-28 23:04:14,865 - mmaction - INFO - Epoch [8][5/17]\tlr: 7.813e-07, eta: 0:03:11, time: 1.746, data_time: 1.372, memory: 8500, top1_acc: 0.5000, top5_acc: 1.0000, loss_cls: 0.9023, loss: 0.9023\n",
      "2024-06-28 23:04:17,237 - mmaction - INFO - Epoch [8][10/17]\tlr: 7.813e-07, eta: 0:03:03, time: 0.474, data_time: 0.149, memory: 8500, top1_acc: 0.7000, top5_acc: 1.0000, loss_cls: 0.9275, loss: 0.9275\n",
      "2024-06-28 23:04:19,891 - mmaction - INFO - Epoch [8][15/17]\tlr: 7.813e-07, eta: 0:02:56, time: 0.531, data_time: 0.230, memory: 8500, top1_acc: 0.5000, top5_acc: 1.0000, loss_cls: 1.0242, loss: 1.0242\n",
      "2024-06-28 23:04:31,164 - mmaction - INFO - Epoch [9][5/17]\tlr: 7.813e-07, eta: 0:02:54, time: 1.784, data_time: 1.391, memory: 8500, top1_acc: 0.4000, top5_acc: 1.0000, loss_cls: 0.9118, loss: 0.9118\n",
      "2024-06-28 23:04:33,266 - mmaction - INFO - Epoch [9][10/17]\tlr: 7.813e-07, eta: 0:02:47, time: 0.421, data_time: 0.090, memory: 8500, top1_acc: 0.8000, top5_acc: 1.0000, loss_cls: 0.9830, loss: 0.9830\n",
      "2024-06-28 23:04:35,943 - mmaction - INFO - Epoch [9][15/17]\tlr: 7.813e-07, eta: 0:02:40, time: 0.535, data_time: 0.217, memory: 8500, top1_acc: 0.5000, top5_acc: 1.0000, loss_cls: 0.9491, loss: 0.9491\n",
      "2024-06-28 23:04:46,821 - mmaction - INFO - Epoch [10][5/17]\tlr: 7.813e-07, eta: 0:02:37, time: 1.700, data_time: 1.301, memory: 8500, top1_acc: 0.4000, top5_acc: 1.0000, loss_cls: 1.0181, loss: 1.0181\n",
      "2024-06-28 23:04:49,779 - mmaction - INFO - Epoch [10][10/17]\tlr: 7.813e-07, eta: 0:02:31, time: 0.591, data_time: 0.277, memory: 8500, top1_acc: 0.5000, top5_acc: 1.0000, loss_cls: 0.9365, loss: 0.9365\n",
      "2024-06-28 23:04:51,477 - mmaction - INFO - Epoch [10][15/17]\tlr: 7.813e-07, eta: 0:02:25, time: 0.340, data_time: 0.002, memory: 8500, top1_acc: 0.6000, top5_acc: 1.0000, loss_cls: 0.9581, loss: 0.9581\n",
      "2024-06-28 23:04:53,853 - mmaction - INFO - Saving checkpoint at 10 epochs\n"
     ]
    },
    {
     "name": "stdout",
     "output_type": "stream",
     "text": [
      "[>>>>>>>>>>>>>>>>>>>>>>>>>>>>>>>>>>>>>>>>>>>>>>>>>>] 9/9, 0.5 task/s, elapsed: 19s, ETA:     0s"
     ]
    },
    {
     "name": "stderr",
     "output_type": "stream",
     "text": [
      "2024-06-28 23:05:14,750 - mmaction - INFO - Evaluating top_k_accuracy ...\n",
      "2024-06-28 23:05:14,751 - mmaction - INFO - \n",
      "top1_acc\t0.6667\n",
      "top5_acc\t1.0000\n",
      "2024-06-28 23:05:14,751 - mmaction - INFO - Evaluating mean_class_accuracy ...\n",
      "2024-06-28 23:05:14,752 - mmaction - INFO - \n",
      "mean_acc\t0.5000\n",
      "2024-06-28 23:05:14,753 - mmaction - INFO - Epoch(val) [10][9]\ttop1_acc: 0.6667, top5_acc: 1.0000, mean_class_accuracy: 0.5000\n"
     ]
    },
    {
     "name": "stdout",
     "output_type": "stream",
     "text": [
      "mean_class_accuracy\n",
      "[2 1 2 2 1 2 1 2 2]\n",
      "[2, 0, 2, 2, 1, 1, 0, 2, 2]\n"
     ]
    },
    {
     "name": "stderr",
     "output_type": "stream",
     "text": [
      "2024-06-28 23:05:23,907 - mmaction - INFO - Epoch [11][5/17]\tlr: 7.813e-07, eta: 0:02:22, time: 1.830, data_time: 1.442, memory: 8500, top1_acc: 0.1000, top5_acc: 1.0000, loss_cls: 1.0625, loss: 1.0625\n",
      "2024-06-28 23:05:26,492 - mmaction - INFO - Epoch [11][10/17]\tlr: 7.813e-07, eta: 0:02:16, time: 0.517, data_time: 0.197, memory: 8500, top1_acc: 0.7000, top5_acc: 1.0000, loss_cls: 0.8606, loss: 0.8606\n",
      "2024-06-28 23:05:28,288 - mmaction - INFO - Epoch [11][15/17]\tlr: 7.813e-07, eta: 0:02:10, time: 0.359, data_time: 0.049, memory: 8500, top1_acc: 0.6000, top5_acc: 1.0000, loss_cls: 0.8991, loss: 0.8991\n",
      "2024-06-28 23:05:39,622 - mmaction - INFO - Epoch [12][5/17]\tlr: 7.813e-07, eta: 0:02:06, time: 1.799, data_time: 1.417, memory: 8500, top1_acc: 0.6000, top5_acc: 1.0000, loss_cls: 0.9330, loss: 0.9330\n",
      "2024-06-28 23:05:41,179 - mmaction - INFO - Epoch [12][10/17]\tlr: 7.813e-07, eta: 0:02:00, time: 0.311, data_time: 0.002, memory: 8500, top1_acc: 0.7000, top5_acc: 1.0000, loss_cls: 0.9301, loss: 0.9301\n",
      "2024-06-28 23:05:42,882 - mmaction - INFO - Epoch [12][15/17]\tlr: 7.813e-07, eta: 0:01:54, time: 0.341, data_time: 0.001, memory: 8500, top1_acc: 0.5000, top5_acc: 1.0000, loss_cls: 0.9794, loss: 0.9794\n",
      "2024-06-28 23:05:55,547 - mmaction - INFO - Epoch [13][5/17]\tlr: 7.813e-07, eta: 0:01:50, time: 1.886, data_time: 1.476, memory: 8500, top1_acc: 0.2000, top5_acc: 1.0000, loss_cls: 1.0486, loss: 1.0486\n",
      "2024-06-28 23:05:57,869 - mmaction - INFO - Epoch [13][10/17]\tlr: 7.813e-07, eta: 0:01:45, time: 0.465, data_time: 0.150, memory: 8500, top1_acc: 0.5000, top5_acc: 1.0000, loss_cls: 0.9543, loss: 0.9543\n",
      "2024-06-28 23:06:00,662 - mmaction - INFO - Epoch [13][15/17]\tlr: 7.813e-07, eta: 0:01:40, time: 0.559, data_time: 0.229, memory: 8500, top1_acc: 0.5000, top5_acc: 1.0000, loss_cls: 0.9919, loss: 0.9919\n",
      "2024-06-28 23:06:11,990 - mmaction - INFO - Epoch [14][5/17]\tlr: 7.813e-07, eta: 0:01:36, time: 1.791, data_time: 1.403, memory: 8500, top1_acc: 0.5000, top5_acc: 1.0000, loss_cls: 0.9901, loss: 0.9901\n",
      "2024-06-28 23:06:13,757 - mmaction - INFO - Epoch [14][10/17]\tlr: 7.813e-07, eta: 0:01:30, time: 0.353, data_time: 0.029, memory: 8500, top1_acc: 0.7000, top5_acc: 1.0000, loss_cls: 0.8634, loss: 0.8634\n",
      "2024-06-28 23:06:16,660 - mmaction - INFO - Epoch [14][15/17]\tlr: 7.813e-07, eta: 0:01:26, time: 0.581, data_time: 0.250, memory: 8500, top1_acc: 0.6000, top5_acc: 1.0000, loss_cls: 0.9078, loss: 0.9078\n",
      "2024-06-28 23:06:29,759 - mmaction - INFO - Epoch [15][5/17]\tlr: 7.813e-07, eta: 0:01:22, time: 2.117, data_time: 1.712, memory: 8500, top1_acc: 0.5000, top5_acc: 1.0000, loss_cls: 0.9109, loss: 0.9109\n",
      "2024-06-28 23:06:32,227 - mmaction - INFO - Epoch [15][10/17]\tlr: 7.813e-07, eta: 0:01:17, time: 0.493, data_time: 0.135, memory: 8500, top1_acc: 0.5000, top5_acc: 1.0000, loss_cls: 0.9571, loss: 0.9571\n",
      "2024-06-28 23:06:33,880 - mmaction - INFO - Epoch [15][15/17]\tlr: 7.813e-07, eta: 0:01:12, time: 0.331, data_time: 0.002, memory: 8500, top1_acc: 0.6000, top5_acc: 1.0000, loss_cls: 0.9024, loss: 0.9024\n"
     ]
    },
    {
     "name": "stdout",
     "output_type": "stream",
     "text": [
      "[>>>>>>>>>>>>>>>>>>>>>>>>>>>>>>>>>>>>>>>>>>>>>>>>>>] 9/9, 0.5 task/s, elapsed: 19s, ETA:     0s"
     ]
    },
    {
     "name": "stderr",
     "output_type": "stream",
     "text": [
      "2024-06-28 23:06:55,578 - mmaction - INFO - Evaluating top_k_accuracy ...\n",
      "2024-06-28 23:06:55,579 - mmaction - INFO - \n",
      "top1_acc\t0.6667\n",
      "top5_acc\t1.0000\n",
      "2024-06-28 23:06:55,580 - mmaction - INFO - Evaluating mean_class_accuracy ...\n",
      "2024-06-28 23:06:55,580 - mmaction - INFO - \n",
      "mean_acc\t0.5000\n",
      "2024-06-28 23:06:55,581 - mmaction - INFO - Epoch(val) [15][9]\ttop1_acc: 0.6667, top5_acc: 1.0000, mean_class_accuracy: 0.5000\n"
     ]
    },
    {
     "name": "stdout",
     "output_type": "stream",
     "text": [
      "mean_class_accuracy\n",
      "[2 1 2 2 1 2 1 2 2]\n",
      "[2, 0, 2, 2, 1, 1, 0, 2, 2]\n"
     ]
    },
    {
     "name": "stderr",
     "output_type": "stream",
     "text": [
      "2024-06-28 23:07:06,829 - mmaction - INFO - Epoch [16][5/17]\tlr: 7.813e-07, eta: 0:01:08, time: 2.248, data_time: 1.825, memory: 8500, top1_acc: 0.9000, top5_acc: 1.0000, loss_cls: 0.9441, loss: 0.9441\n",
      "2024-06-28 23:07:08,665 - mmaction - INFO - Epoch [16][10/17]\tlr: 7.813e-07, eta: 0:01:03, time: 0.367, data_time: 0.037, memory: 8500, top1_acc: 0.5000, top5_acc: 1.0000, loss_cls: 0.9785, loss: 0.9785\n",
      "2024-06-28 23:07:11,199 - mmaction - INFO - Epoch [16][15/17]\tlr: 7.813e-07, eta: 0:00:58, time: 0.507, data_time: 0.154, memory: 8500, top1_acc: 0.4000, top5_acc: 1.0000, loss_cls: 0.9545, loss: 0.9545\n",
      "2024-06-28 23:07:22,506 - mmaction - INFO - Epoch [17][5/17]\tlr: 7.813e-07, eta: 0:00:53, time: 1.794, data_time: 1.417, memory: 8500, top1_acc: 0.7000, top5_acc: 1.0000, loss_cls: 0.9095, loss: 0.9095\n",
      "2024-06-28 23:07:25,125 - mmaction - INFO - Epoch [17][10/17]\tlr: 7.813e-07, eta: 0:00:48, time: 0.524, data_time: 0.188, memory: 8500, top1_acc: 0.5000, top5_acc: 1.0000, loss_cls: 0.9286, loss: 0.9286\n",
      "2024-06-28 23:07:26,838 - mmaction - INFO - Epoch [17][15/17]\tlr: 7.813e-07, eta: 0:00:44, time: 0.343, data_time: 0.031, memory: 8500, top1_acc: 0.6000, top5_acc: 1.0000, loss_cls: 0.9542, loss: 0.9542\n",
      "2024-06-28 23:07:40,497 - mmaction - INFO - Epoch [18][5/17]\tlr: 7.813e-07, eta: 0:00:39, time: 2.021, data_time: 1.641, memory: 8500, top1_acc: 0.7000, top5_acc: 1.0000, loss_cls: 0.9438, loss: 0.9438\n",
      "2024-06-28 23:07:42,622 - mmaction - INFO - Epoch [18][10/17]\tlr: 7.813e-07, eta: 0:00:34, time: 0.425, data_time: 0.074, memory: 8500, top1_acc: 0.4000, top5_acc: 1.0000, loss_cls: 1.0319, loss: 1.0319\n",
      "2024-06-28 23:07:44,966 - mmaction - INFO - Epoch [18][15/17]\tlr: 7.813e-07, eta: 0:00:30, time: 0.468, data_time: 0.133, memory: 8500, top1_acc: 0.7000, top5_acc: 1.0000, loss_cls: 0.9291, loss: 0.9291\n",
      "2024-06-28 23:07:57,332 - mmaction - INFO - Epoch [19][5/17]\tlr: 7.813e-07, eta: 0:00:24, time: 1.926, data_time: 1.546, memory: 8500, top1_acc: 0.5000, top5_acc: 1.0000, loss_cls: 1.0136, loss: 1.0136\n",
      "2024-06-28 23:08:00,454 - mmaction - INFO - Epoch [19][10/17]\tlr: 7.813e-07, eta: 0:00:20, time: 0.624, data_time: 0.285, memory: 8500, top1_acc: 0.9000, top5_acc: 1.0000, loss_cls: 0.8591, loss: 0.8591\n",
      "2024-06-28 23:08:02,123 - mmaction - INFO - Epoch [19][15/17]\tlr: 7.813e-07, eta: 0:00:15, time: 0.334, data_time: 0.002, memory: 8500, top1_acc: 0.6000, top5_acc: 1.0000, loss_cls: 0.8640, loss: 0.8640\n",
      "2024-06-28 23:08:13,393 - mmaction - INFO - Epoch [20][5/17]\tlr: 7.813e-07, eta: 0:00:10, time: 1.768, data_time: 1.379, memory: 8500, top1_acc: 0.8000, top5_acc: 1.0000, loss_cls: 0.8904, loss: 0.8904\n",
      "2024-06-28 23:08:15,150 - mmaction - INFO - Epoch [20][10/17]\tlr: 7.813e-07, eta: 0:00:05, time: 0.352, data_time: 0.028, memory: 8500, top1_acc: 0.7000, top5_acc: 1.0000, loss_cls: 0.8350, loss: 0.8350\n",
      "2024-06-28 23:08:19,446 - mmaction - INFO - Epoch [20][15/17]\tlr: 7.813e-07, eta: 0:00:01, time: 0.859, data_time: 0.529, memory: 8500, top1_acc: 0.7000, top5_acc: 1.0000, loss_cls: 0.8250, loss: 0.8250\n",
      "2024-06-28 23:08:22,093 - mmaction - INFO - Saving checkpoint at 20 epochs\n"
     ]
    },
    {
     "name": "stdout",
     "output_type": "stream",
     "text": [
      "[>>>>>>>>>>>>>>>>>>>>>>>>>>>>>>>>>>>>>>>>>>>>>>>>>>] 9/9, 0.5 task/s, elapsed: 19s, ETA:     0s"
     ]
    },
    {
     "name": "stderr",
     "output_type": "stream",
     "text": [
      "2024-06-28 23:08:43,469 - mmaction - INFO - Evaluating top_k_accuracy ...\n",
      "2024-06-28 23:08:43,470 - mmaction - INFO - \n",
      "top1_acc\t0.7778\n",
      "top5_acc\t1.0000\n",
      "2024-06-28 23:08:43,470 - mmaction - INFO - Evaluating mean_class_accuracy ...\n",
      "2024-06-28 23:08:43,471 - mmaction - INFO - \n",
      "mean_acc\t0.6667\n",
      "2024-06-28 23:08:43,472 - mmaction - INFO - Epoch(val) [20][9]\ttop1_acc: 0.7778, top5_acc: 1.0000, mean_class_accuracy: 0.6667\n"
     ]
    },
    {
     "name": "stdout",
     "output_type": "stream",
     "text": [
      "mean_class_accuracy\n",
      "[2 0 2 2 1 2 1 2 2]\n",
      "[2, 0, 2, 2, 1, 1, 0, 2, 2]\n"
     ]
    },
    {
     "name": "stderr",
     "output_type": "stream",
     "text": [
      "2024-06-28 23:08:44,976 - mmaction - INFO - load checkpoint from local path: ./tutorial_exps/epoch_20.pth\n"
     ]
    },
    {
     "name": "stdout",
     "output_type": "stream",
     "text": [
      "Selected optimization level O1:  Insert automatic casts around Pytorch functions and Tensor methods.\n",
      "\n",
      "Defaults for this optimization level are:\n",
      "enabled                : True\n",
      "opt_level              : O1\n",
      "cast_model_type        : None\n",
      "patch_torch_functions  : True\n",
      "keep_batchnorm_fp32    : None\n",
      "master_weights         : None\n",
      "loss_scale             : dynamic\n",
      "Processing user overrides (additional kwargs that are not None)...\n",
      "After processing overrides, optimization options are:\n",
      "enabled                : True\n",
      "opt_level              : O1\n",
      "cast_model_type        : None\n",
      "patch_torch_functions  : True\n",
      "keep_batchnorm_fp32    : None\n",
      "master_weights         : None\n",
      "loss_scale             : dynamic\n"
     ]
    },
    {
     "name": "stderr",
     "output_type": "stream",
     "text": [
      "2024-06-28 23:08:45,446 - mmaction - INFO - Start running, host: 15281@实验室, work_dir: H:\\code\\视频组代码\\Video_Swin_Transformer\\tutorial_exps1\n",
      "2024-06-28 23:08:45,447 - mmaction - INFO - Hooks will be executed in the following order:\n",
      "before_run:\n",
      "(VERY_HIGH   ) StepLrUpdaterHook                  \n",
      "(ABOVE_NORMAL) DistOptimizerHook                  \n",
      "(NORMAL      ) CheckpointHook                     \n",
      "(NORMAL      ) EvalHook                           \n",
      "(VERY_LOW    ) TextLoggerHook                     \n",
      " -------------------- \n",
      "before_train_epoch:\n",
      "(VERY_HIGH   ) StepLrUpdaterHook                  \n",
      "(NORMAL      ) EvalHook                           \n",
      "(LOW         ) IterTimerHook                      \n",
      "(VERY_LOW    ) TextLoggerHook                     \n",
      " -------------------- \n",
      "before_train_iter:\n",
      "(VERY_HIGH   ) StepLrUpdaterHook                  \n",
      "(NORMAL      ) EvalHook                           \n",
      "(LOW         ) IterTimerHook                      \n",
      " -------------------- \n",
      "after_train_iter:\n",
      "(ABOVE_NORMAL) DistOptimizerHook                  \n",
      "(NORMAL      ) CheckpointHook                     \n",
      "(NORMAL      ) EvalHook                           \n",
      "(LOW         ) IterTimerHook                      \n",
      "(VERY_LOW    ) TextLoggerHook                     \n",
      " -------------------- \n",
      "after_train_epoch:\n",
      "(NORMAL      ) CheckpointHook                     \n",
      "(NORMAL      ) EvalHook                           \n",
      "(VERY_LOW    ) TextLoggerHook                     \n",
      " -------------------- \n",
      "before_val_epoch:\n",
      "(LOW         ) IterTimerHook                      \n",
      "(VERY_LOW    ) TextLoggerHook                     \n",
      " -------------------- \n",
      "before_val_iter:\n",
      "(LOW         ) IterTimerHook                      \n",
      " -------------------- \n",
      "after_val_iter:\n",
      "(LOW         ) IterTimerHook                      \n",
      " -------------------- \n",
      "after_val_epoch:\n",
      "(VERY_LOW    ) TextLoggerHook                     \n",
      " -------------------- \n",
      "after_run:\n",
      "(VERY_LOW    ) TextLoggerHook                     \n",
      " -------------------- \n",
      "2024-06-28 23:08:45,447 - mmaction - INFO - workflow: [('train', 1)], max: 20 epochs\n",
      "2024-06-28 23:08:45,452 - mmaction - INFO - Checkpoints will be saved to H:\\code\\视频组代码\\Video_Swin_Transformer\\tutorial_exps1 by HardDiskBackend.\n",
      "2024-06-28 23:08:54,387 - mmaction - INFO - Epoch [1][5/17]\tlr: 7.813e-07, eta: 0:09:58, time: 1.786, data_time: 1.421, memory: 8500, top1_acc: 0.4000, top5_acc: 1.0000, loss_cls: 0.9687, loss: 0.9687\n",
      "2024-06-28 23:08:56,562 - mmaction - INFO - Epoch [1][10/17]\tlr: 7.813e-07, eta: 0:06:06, time: 0.435, data_time: 0.089, memory: 8666, top1_acc: 0.7000, top5_acc: 1.0000, loss_cls: 0.9027, loss: 0.9027\n",
      "2024-06-28 23:08:58,698 - mmaction - INFO - Epoch [1][15/17]\tlr: 7.813e-07, eta: 0:04:46, time: 0.427, data_time: 0.073, memory: 8666, top1_acc: 0.3000, top5_acc: 1.0000, loss_cls: 1.0767, loss: 1.0767\n",
      "2024-06-28 23:09:11,195 - mmaction - INFO - Epoch [2][5/17]\tlr: 7.813e-07, eta: 0:05:19, time: 1.772, data_time: 1.408, memory: 8673, top1_acc: 0.2000, top5_acc: 1.0000, loss_cls: 1.0318, loss: 1.0318\n",
      "2024-06-28 23:09:13,035 - mmaction - INFO - Epoch [2][10/17]\tlr: 7.813e-07, eta: 0:04:37, time: 0.368, data_time: 0.007, memory: 8673, top1_acc: 0.6000, top5_acc: 1.0000, loss_cls: 0.9465, loss: 0.9465\n",
      "2024-06-28 23:09:16,845 - mmaction - INFO - Epoch [2][15/17]\tlr: 7.813e-07, eta: 0:04:27, time: 0.762, data_time: 0.405, memory: 8673, top1_acc: 0.4000, top5_acc: 1.0000, loss_cls: 0.9758, loss: 0.9758\n",
      "2024-06-28 23:09:28,068 - mmaction - INFO - Epoch [3][5/17]\tlr: 7.813e-07, eta: 0:04:41, time: 1.756, data_time: 1.346, memory: 8673, top1_acc: 0.3000, top5_acc: 1.0000, loss_cls: 1.0473, loss: 1.0473\n",
      "2024-06-28 23:09:30,942 - mmaction - INFO - Epoch [3][10/17]\tlr: 7.813e-07, eta: 0:04:25, time: 0.575, data_time: 0.239, memory: 8673, top1_acc: 0.5000, top5_acc: 1.0000, loss_cls: 1.0123, loss: 1.0123\n",
      "2024-06-28 23:09:33,775 - mmaction - INFO - Epoch [3][15/17]\tlr: 7.813e-07, eta: 0:04:10, time: 0.567, data_time: 0.225, memory: 8673, top1_acc: 0.6000, top5_acc: 1.0000, loss_cls: 0.9513, loss: 0.9513\n",
      "2024-06-28 23:09:44,954 - mmaction - INFO - Epoch [4][5/17]\tlr: 7.813e-07, eta: 0:04:19, time: 1.775, data_time: 1.381, memory: 8673, top1_acc: 0.7000, top5_acc: 1.0000, loss_cls: 0.9539, loss: 0.9539\n",
      "2024-06-28 23:09:47,483 - mmaction - INFO - Epoch [4][10/17]\tlr: 7.813e-07, eta: 0:04:05, time: 0.506, data_time: 0.175, memory: 8673, top1_acc: 0.4000, top5_acc: 1.0000, loss_cls: 0.9774, loss: 0.9774\n",
      "2024-06-28 23:09:49,739 - mmaction - INFO - Epoch [4][15/17]\tlr: 7.813e-07, eta: 0:03:52, time: 0.451, data_time: 0.121, memory: 8673, top1_acc: 0.4000, top5_acc: 1.0000, loss_cls: 0.9950, loss: 0.9950\n",
      "2024-06-28 23:10:02,529 - mmaction - INFO - Epoch [5][5/17]\tlr: 7.813e-07, eta: 0:04:03, time: 2.123, data_time: 1.733, memory: 8673, top1_acc: 0.5000, top5_acc: 1.0000, loss_cls: 0.9206, loss: 0.9206\n",
      "2024-06-28 23:10:04,572 - mmaction - INFO - Epoch [5][10/17]\tlr: 7.813e-07, eta: 0:03:50, time: 0.409, data_time: 0.059, memory: 8673, top1_acc: 0.5000, top5_acc: 1.0000, loss_cls: 0.9827, loss: 0.9827\n",
      "2024-06-28 23:10:08,394 - mmaction - INFO - Epoch [5][15/17]\tlr: 7.813e-07, eta: 0:03:44, time: 0.764, data_time: 0.375, memory: 8673, top1_acc: 0.3000, top5_acc: 1.0000, loss_cls: 1.0818, loss: 1.0818\n"
     ]
    },
    {
     "name": "stdout",
     "output_type": "stream",
     "text": [
      "[>>>>>>>>>>>>>>>>>>>>>>>>>>>>>>>>>>>>>>>>>>>>>>>>>>] 9/9, 0.5 task/s, elapsed: 20s, ETA:     0s"
     ]
    },
    {
     "name": "stderr",
     "output_type": "stream",
     "text": [
      "2024-06-28 23:10:30,820 - mmaction - INFO - Evaluating top_k_accuracy ...\n",
      "2024-06-28 23:10:30,821 - mmaction - INFO - \n",
      "top1_acc\t0.7778\n",
      "top5_acc\t1.0000\n",
      "2024-06-28 23:10:30,821 - mmaction - INFO - Evaluating mean_class_accuracy ...\n",
      "2024-06-28 23:10:30,822 - mmaction - INFO - \n",
      "mean_acc\t0.6667\n"
     ]
    },
    {
     "name": "stdout",
     "output_type": "stream",
     "text": [
      "mean_class_accuracy\n",
      "[2 1 2 2 1 1 1 2 2]\n",
      "[2, 0, 2, 2, 1, 1, 0, 2, 2]\n"
     ]
    },
    {
     "name": "stderr",
     "output_type": "stream",
     "text": [
      "2024-06-28 23:10:32,106 - mmaction - INFO - Now best checkpoint is saved as best_top1_acc_epoch_5.pth.\n",
      "2024-06-28 23:10:32,106 - mmaction - INFO - Best top1_acc is 0.7778 at 5 epoch.\n",
      "2024-06-28 23:10:32,107 - mmaction - INFO - Epoch(val) [5][9]\ttop1_acc: 0.7778, top5_acc: 1.0000, mean_class_accuracy: 0.6667\n",
      "2024-06-28 23:10:41,001 - mmaction - INFO - Epoch [6][5/17]\tlr: 7.813e-07, eta: 0:03:45, time: 1.777, data_time: 1.427, memory: 8673, top1_acc: 0.3000, top5_acc: 1.0000, loss_cls: 1.0338, loss: 1.0338\n",
      "2024-06-28 23:10:45,100 - mmaction - INFO - Epoch [6][10/17]\tlr: 7.813e-07, eta: 0:03:40, time: 0.820, data_time: 0.456, memory: 8673, top1_acc: 0.5000, top5_acc: 1.0000, loss_cls: 0.9886, loss: 0.9886\n"
     ]
    },
    {
     "name": "stdout",
     "output_type": "stream",
     "text": [
      "Gradient overflow.  Skipping step, loss scaler 0 reducing loss scale to 32768.0\n"
     ]
    },
    {
     "name": "stderr",
     "output_type": "stream",
     "text": [
      "2024-06-28 23:10:48,726 - mmaction - INFO - Epoch [6][15/17]\tlr: 7.813e-07, eta: 0:03:33, time: 0.725, data_time: 0.389, memory: 8673, top1_acc: 0.8000, top5_acc: 1.0000, loss_cls: 0.7995, loss: 0.7995\n",
      "2024-06-28 23:10:58,904 - mmaction - INFO - Epoch [7][5/17]\tlr: 7.813e-07, eta: 0:03:31, time: 1.593, data_time: 1.230, memory: 8673, top1_acc: 0.2000, top5_acc: 1.0000, loss_cls: 1.0697, loss: 1.0697\n",
      "2024-06-28 23:11:02,869 - mmaction - INFO - Epoch [7][10/17]\tlr: 7.813e-07, eta: 0:03:25, time: 0.793, data_time: 0.409, memory: 8673, top1_acc: 0.6000, top5_acc: 1.0000, loss_cls: 0.8738, loss: 0.8738\n",
      "2024-06-28 23:11:04,453 - mmaction - INFO - Epoch [7][15/17]\tlr: 7.813e-07, eta: 0:03:15, time: 0.317, data_time: 0.001, memory: 8673, top1_acc: 0.4000, top5_acc: 1.0000, loss_cls: 0.9798, loss: 0.9798\n",
      "2024-06-28 23:11:15,145 - mmaction - INFO - Epoch [8][5/17]\tlr: 7.813e-07, eta: 0:03:13, time: 1.690, data_time: 1.276, memory: 8673, top1_acc: 0.3000, top5_acc: 1.0000, loss_cls: 1.0190, loss: 1.0190\n",
      "2024-06-28 23:11:16,887 - mmaction - INFO - Epoch [8][10/17]\tlr: 7.813e-07, eta: 0:03:04, time: 0.348, data_time: 0.001, memory: 8673, top1_acc: 0.5000, top5_acc: 1.0000, loss_cls: 0.9349, loss: 0.9349\n",
      "2024-06-28 23:11:21,136 - mmaction - INFO - Epoch [8][15/17]\tlr: 7.813e-07, eta: 0:02:59, time: 0.850, data_time: 0.514, memory: 8673, top1_acc: 0.5000, top5_acc: 1.0000, loss_cls: 0.9985, loss: 0.9985\n",
      "2024-06-28 23:11:33,549 - mmaction - INFO - Epoch [9][5/17]\tlr: 7.813e-07, eta: 0:02:59, time: 2.009, data_time: 1.632, memory: 8673, top1_acc: 0.4000, top5_acc: 1.0000, loss_cls: 1.0375, loss: 1.0375\n",
      "2024-06-28 23:11:35,275 - mmaction - INFO - Epoch [9][10/17]\tlr: 7.813e-07, eta: 0:02:51, time: 0.345, data_time: 0.001, memory: 8673, top1_acc: 0.6000, top5_acc: 1.0000, loss_cls: 0.9607, loss: 0.9607\n",
      "2024-06-28 23:11:37,634 - mmaction - INFO - Epoch [9][15/17]\tlr: 7.813e-07, eta: 0:02:44, time: 0.472, data_time: 0.148, memory: 8673, top1_acc: 1.0000, top5_acc: 1.0000, loss_cls: 0.8288, loss: 0.8288\n",
      "2024-06-28 23:11:49,569 - mmaction - INFO - Epoch [10][5/17]\tlr: 7.813e-07, eta: 0:02:42, time: 1.934, data_time: 1.566, memory: 8673, top1_acc: 0.5000, top5_acc: 1.0000, loss_cls: 1.0113, loss: 1.0113\n",
      "2024-06-28 23:11:52,712 - mmaction - INFO - Epoch [10][10/17]\tlr: 7.813e-07, eta: 0:02:36, time: 0.629, data_time: 0.294, memory: 8673, top1_acc: 0.6000, top5_acc: 1.0000, loss_cls: 1.0164, loss: 1.0164\n",
      "2024-06-28 23:11:55,487 - mmaction - INFO - Epoch [10][15/17]\tlr: 7.813e-07, eta: 0:02:30, time: 0.555, data_time: 0.214, memory: 8673, top1_acc: 0.6000, top5_acc: 1.0000, loss_cls: 0.9292, loss: 0.9292\n",
      "2024-06-28 23:11:57,915 - mmaction - INFO - Saving checkpoint at 10 epochs\n"
     ]
    },
    {
     "name": "stdout",
     "output_type": "stream",
     "text": [
      "[>>>>>>>>>>>>>>>>>>>>>>>>>>>>>>>>>>>>>>>>>>>>>>>>>>] 9/9, 0.5 task/s, elapsed: 20s, ETA:     0s"
     ]
    },
    {
     "name": "stderr",
     "output_type": "stream",
     "text": [
      "2024-06-28 23:12:19,728 - mmaction - INFO - Evaluating top_k_accuracy ...\n",
      "2024-06-28 23:12:19,729 - mmaction - INFO - \n",
      "top1_acc\t0.6667\n",
      "top5_acc\t1.0000\n",
      "2024-06-28 23:12:19,729 - mmaction - INFO - Evaluating mean_class_accuracy ...\n",
      "2024-06-28 23:12:19,730 - mmaction - INFO - \n",
      "mean_acc\t0.5000\n",
      "2024-06-28 23:12:19,731 - mmaction - INFO - Epoch(val) [10][9]\ttop1_acc: 0.6667, top5_acc: 1.0000, mean_class_accuracy: 0.5000\n"
     ]
    },
    {
     "name": "stdout",
     "output_type": "stream",
     "text": [
      "mean_class_accuracy\n",
      "[2 1 2 2 1 2 1 2 2]\n",
      "[2, 0, 2, 2, 1, 1, 0, 2, 2]\n"
     ]
    },
    {
     "name": "stderr",
     "output_type": "stream",
     "text": [
      "2024-06-28 23:12:29,513 - mmaction - INFO - Epoch [11][5/17]\tlr: 7.813e-07, eta: 0:02:27, time: 1.955, data_time: 1.586, memory: 8673, top1_acc: 0.5000, top5_acc: 1.0000, loss_cls: 0.9221, loss: 0.9221\n",
      "2024-06-28 23:12:32,277 - mmaction - INFO - Epoch [11][10/17]\tlr: 7.813e-07, eta: 0:02:21, time: 0.553, data_time: 0.178, memory: 8673, top1_acc: 0.7000, top5_acc: 1.0000, loss_cls: 0.8703, loss: 0.8703\n",
      "2024-06-28 23:12:34,893 - mmaction - INFO - Epoch [11][15/17]\tlr: 7.813e-07, eta: 0:02:15, time: 0.523, data_time: 0.173, memory: 8673, top1_acc: 0.6000, top5_acc: 1.0000, loss_cls: 0.9245, loss: 0.9245\n",
      "2024-06-28 23:12:46,024 - mmaction - INFO - Epoch [12][5/17]\tlr: 7.813e-07, eta: 0:02:10, time: 1.620, data_time: 1.272, memory: 8673, top1_acc: 0.7000, top5_acc: 1.0000, loss_cls: 0.9431, loss: 0.9431\n",
      "2024-06-28 23:12:50,144 - mmaction - INFO - Epoch [12][10/17]\tlr: 7.813e-07, eta: 0:02:06, time: 0.825, data_time: 0.480, memory: 8673, top1_acc: 0.5000, top5_acc: 1.0000, loss_cls: 0.9800, loss: 0.9800\n",
      "2024-06-28 23:12:53,338 - mmaction - INFO - Epoch [12][15/17]\tlr: 7.813e-07, eta: 0:02:01, time: 0.639, data_time: 0.311, memory: 8673, top1_acc: 0.5000, top5_acc: 1.0000, loss_cls: 0.9193, loss: 0.9193\n",
      "2024-06-28 23:13:05,223 - mmaction - INFO - Epoch [13][5/17]\tlr: 7.813e-07, eta: 0:01:56, time: 1.876, data_time: 1.461, memory: 8673, top1_acc: 0.5000, top5_acc: 1.0000, loss_cls: 0.9953, loss: 0.9953\n",
      "2024-06-28 23:13:06,881 - mmaction - INFO - Epoch [13][10/17]\tlr: 7.813e-07, eta: 0:01:50, time: 0.332, data_time: 0.015, memory: 8673, top1_acc: 0.4000, top5_acc: 1.0000, loss_cls: 0.9230, loss: 0.9230\n",
      "2024-06-28 23:13:09,748 - mmaction - INFO - Epoch [13][15/17]\tlr: 7.813e-07, eta: 0:01:45, time: 0.574, data_time: 0.204, memory: 8673, top1_acc: 0.4000, top5_acc: 1.0000, loss_cls: 1.0815, loss: 1.0815\n",
      "2024-06-28 23:13:20,090 - mmaction - INFO - Epoch [14][5/17]\tlr: 7.813e-07, eta: 0:01:40, time: 1.589, data_time: 1.164, memory: 8673, top1_acc: 0.4000, top5_acc: 1.0000, loss_cls: 0.9896, loss: 0.9896\n",
      "2024-06-28 23:13:22,999 - mmaction - INFO - Epoch [14][10/17]\tlr: 7.813e-07, eta: 0:01:35, time: 0.582, data_time: 0.251, memory: 8673, top1_acc: 0.6000, top5_acc: 1.0000, loss_cls: 0.9558, loss: 0.9558\n",
      "2024-06-28 23:13:27,489 - mmaction - INFO - Epoch [14][15/17]\tlr: 7.813e-07, eta: 0:01:30, time: 0.898, data_time: 0.536, memory: 8673, top1_acc: 0.5000, top5_acc: 1.0000, loss_cls: 0.9785, loss: 0.9785\n",
      "2024-06-28 23:13:39,868 - mmaction - INFO - Epoch [15][5/17]\tlr: 7.813e-07, eta: 0:01:26, time: 1.991, data_time: 1.565, memory: 8673, top1_acc: 0.8000, top5_acc: 1.0000, loss_cls: 0.8886, loss: 0.8886\n",
      "2024-06-28 23:13:41,868 - mmaction - INFO - Epoch [15][10/17]\tlr: 7.813e-07, eta: 0:01:21, time: 0.400, data_time: 0.045, memory: 8673, top1_acc: 0.5000, top5_acc: 1.0000, loss_cls: 0.9650, loss: 0.9650\n",
      "2024-06-28 23:13:44,043 - mmaction - INFO - Epoch [15][15/17]\tlr: 7.813e-07, eta: 0:01:15, time: 0.435, data_time: 0.116, memory: 8673, top1_acc: 0.4000, top5_acc: 1.0000, loss_cls: 0.9457, loss: 0.9457\n"
     ]
    },
    {
     "name": "stdout",
     "output_type": "stream",
     "text": [
      "[>>>>>>>>>>>>>>>>>>>>>>>>>>>>>>>>>>>>>>>>>>>>>>>>>>] 9/9, 0.4 task/s, elapsed: 20s, ETA:     0s"
     ]
    },
    {
     "name": "stderr",
     "output_type": "stream",
     "text": [
      "2024-06-28 23:14:07,152 - mmaction - INFO - Evaluating top_k_accuracy ...\n",
      "2024-06-28 23:14:07,153 - mmaction - INFO - \n",
      "top1_acc\t0.6667\n",
      "top5_acc\t1.0000\n",
      "2024-06-28 23:14:07,154 - mmaction - INFO - Evaluating mean_class_accuracy ...\n",
      "2024-06-28 23:14:07,155 - mmaction - INFO - \n",
      "mean_acc\t0.5000\n",
      "2024-06-28 23:14:07,155 - mmaction - INFO - Epoch(val) [15][9]\ttop1_acc: 0.6667, top5_acc: 1.0000, mean_class_accuracy: 0.5000\n"
     ]
    },
    {
     "name": "stdout",
     "output_type": "stream",
     "text": [
      "mean_class_accuracy\n",
      "[2 1 2 2 1 2 1 2 2]\n",
      "[2, 0, 2, 2, 1, 1, 0, 2, 2]\n"
     ]
    },
    {
     "name": "stderr",
     "output_type": "stream",
     "text": [
      "2024-06-28 23:14:16,799 - mmaction - INFO - Epoch [16][5/17]\tlr: 7.813e-07, eta: 0:01:10, time: 1.927, data_time: 1.520, memory: 8673, top1_acc: 0.7000, top5_acc: 1.0000, loss_cls: 0.8826, loss: 0.8826\n",
      "2024-06-28 23:14:19,192 - mmaction - INFO - Epoch [16][10/17]\tlr: 7.813e-07, eta: 0:01:05, time: 0.479, data_time: 0.119, memory: 8673, top1_acc: 0.4000, top5_acc: 1.0000, loss_cls: 0.9702, loss: 0.9702\n",
      "2024-06-28 23:14:21,104 - mmaction - INFO - Epoch [16][15/17]\tlr: 7.813e-07, eta: 0:01:00, time: 0.382, data_time: 0.054, memory: 8673, top1_acc: 0.5000, top5_acc: 1.0000, loss_cls: 0.9730, loss: 0.9730\n",
      "2024-06-28 23:14:33,158 - mmaction - INFO - Epoch [17][5/17]\tlr: 7.813e-07, eta: 0:00:55, time: 1.949, data_time: 1.597, memory: 8673, top1_acc: 0.7000, top5_acc: 1.0000, loss_cls: 0.9358, loss: 0.9358\n",
      "2024-06-28 23:14:35,484 - mmaction - INFO - Epoch [17][10/17]\tlr: 7.813e-07, eta: 0:00:50, time: 0.465, data_time: 0.133, memory: 8673, top1_acc: 0.6000, top5_acc: 1.0000, loss_cls: 0.8937, loss: 0.8937\n",
      "2024-06-28 23:14:37,494 - mmaction - INFO - Epoch [17][15/17]\tlr: 7.813e-07, eta: 0:00:45, time: 0.402, data_time: 0.063, memory: 8673, top1_acc: 0.4000, top5_acc: 1.0000, loss_cls: 0.9900, loss: 0.9900\n",
      "2024-06-28 23:14:48,695 - mmaction - INFO - Epoch [18][5/17]\tlr: 7.813e-07, eta: 0:00:40, time: 1.750, data_time: 1.381, memory: 8673, top1_acc: 0.4000, top5_acc: 1.0000, loss_cls: 0.9567, loss: 0.9567\n",
      "2024-06-28 23:14:51,401 - mmaction - INFO - Epoch [18][10/17]\tlr: 7.813e-07, eta: 0:00:35, time: 0.541, data_time: 0.211, memory: 8673, top1_acc: 0.7000, top5_acc: 1.0000, loss_cls: 0.8762, loss: 0.8762\n",
      "2024-06-28 23:14:53,850 - mmaction - INFO - Epoch [18][15/17]\tlr: 7.813e-07, eta: 0:00:31, time: 0.490, data_time: 0.135, memory: 8673, top1_acc: 0.7000, top5_acc: 1.0000, loss_cls: 0.8977, loss: 0.8977\n",
      "2024-06-28 23:15:05,614 - mmaction - INFO - Epoch [19][5/17]\tlr: 7.813e-07, eta: 0:00:25, time: 1.877, data_time: 1.487, memory: 8673, top1_acc: 0.7000, top5_acc: 1.0000, loss_cls: 0.8608, loss: 0.8608\n",
      "2024-06-28 23:15:09,502 - mmaction - INFO - Epoch [19][10/17]\tlr: 7.813e-07, eta: 0:00:20, time: 0.778, data_time: 0.429, memory: 8673, top1_acc: 0.3000, top5_acc: 1.0000, loss_cls: 1.0413, loss: 1.0413\n",
      "2024-06-28 23:15:11,343 - mmaction - INFO - Epoch [19][15/17]\tlr: 7.813e-07, eta: 0:00:16, time: 0.368, data_time: 0.001, memory: 8673, top1_acc: 0.4000, top5_acc: 1.0000, loss_cls: 0.9724, loss: 0.9724\n",
      "2024-06-28 23:15:23,703 - mmaction - INFO - Epoch [20][5/17]\tlr: 7.813e-07, eta: 0:00:10, time: 2.014, data_time: 1.604, memory: 8673, top1_acc: 0.6000, top5_acc: 1.0000, loss_cls: 0.9593, loss: 0.9593\n",
      "2024-06-28 23:15:27,382 - mmaction - INFO - Epoch [20][10/17]\tlr: 7.813e-07, eta: 0:00:06, time: 0.736, data_time: 0.365, memory: 8673, top1_acc: 0.4000, top5_acc: 1.0000, loss_cls: 1.0014, loss: 1.0014\n",
      "2024-06-28 23:15:29,098 - mmaction - INFO - Epoch [20][15/17]\tlr: 7.813e-07, eta: 0:00:01, time: 0.343, data_time: 0.001, memory: 8673, top1_acc: 0.4000, top5_acc: 1.0000, loss_cls: 0.9946, loss: 0.9946\n",
      "2024-06-28 23:15:31,498 - mmaction - INFO - Saving checkpoint at 20 epochs\n"
     ]
    },
    {
     "name": "stdout",
     "output_type": "stream",
     "text": [
      "[>>>>>>>>>>>>>>>>>>>>>>>>>>>>>>>>>>>>>>>>>>>>>>>>>>] 9/9, 0.5 task/s, elapsed: 19s, ETA:     0s"
     ]
    },
    {
     "name": "stderr",
     "output_type": "stream",
     "text": [
      "2024-06-28 23:15:53,006 - mmaction - INFO - Evaluating top_k_accuracy ...\n",
      "2024-06-28 23:15:53,006 - mmaction - INFO - \n",
      "top1_acc\t0.7778\n",
      "top5_acc\t1.0000\n",
      "2024-06-28 23:15:53,007 - mmaction - INFO - Evaluating mean_class_accuracy ...\n",
      "2024-06-28 23:15:53,008 - mmaction - INFO - \n",
      "mean_acc\t0.6667\n",
      "2024-06-28 23:15:53,009 - mmaction - INFO - Epoch(val) [20][9]\ttop1_acc: 0.7778, top5_acc: 1.0000, mean_class_accuracy: 0.6667\n"
     ]
    },
    {
     "name": "stdout",
     "output_type": "stream",
     "text": [
      "mean_class_accuracy\n",
      "[2 0 2 2 1 2 1 2 2]\n",
      "[2, 0, 2, 2, 1, 1, 0, 2, 2]\n"
     ]
    },
    {
     "name": "stderr",
     "output_type": "stream",
     "text": [
      "2024-06-28 23:15:54,612 - mmaction - INFO - load checkpoint from local path: ./tutorial_exps/epoch_20.pth\n"
     ]
    },
    {
     "name": "stdout",
     "output_type": "stream",
     "text": [
      "Selected optimization level O1:  Insert automatic casts around Pytorch functions and Tensor methods.\n",
      "\n",
      "Defaults for this optimization level are:\n",
      "enabled                : True\n",
      "opt_level              : O1\n",
      "cast_model_type        : None\n",
      "patch_torch_functions  : True\n",
      "keep_batchnorm_fp32    : None\n",
      "master_weights         : None\n",
      "loss_scale             : dynamic\n",
      "Processing user overrides (additional kwargs that are not None)...\n",
      "After processing overrides, optimization options are:\n",
      "enabled                : True\n",
      "opt_level              : O1\n",
      "cast_model_type        : None\n",
      "patch_torch_functions  : True\n",
      "keep_batchnorm_fp32    : None\n",
      "master_weights         : None\n",
      "loss_scale             : dynamic\n"
     ]
    },
    {
     "name": "stderr",
     "output_type": "stream",
     "text": [
      "2024-06-28 23:15:55,021 - mmaction - INFO - Start running, host: 15281@实验室, work_dir: H:\\code\\视频组代码\\Video_Swin_Transformer\\tutorial_exps1\n",
      "2024-06-28 23:15:55,022 - mmaction - INFO - Hooks will be executed in the following order:\n",
      "before_run:\n",
      "(VERY_HIGH   ) StepLrUpdaterHook                  \n",
      "(ABOVE_NORMAL) DistOptimizerHook                  \n",
      "(NORMAL      ) CheckpointHook                     \n",
      "(NORMAL      ) EvalHook                           \n",
      "(VERY_LOW    ) TextLoggerHook                     \n",
      " -------------------- \n",
      "before_train_epoch:\n",
      "(VERY_HIGH   ) StepLrUpdaterHook                  \n",
      "(NORMAL      ) EvalHook                           \n",
      "(LOW         ) IterTimerHook                      \n",
      "(VERY_LOW    ) TextLoggerHook                     \n",
      " -------------------- \n",
      "before_train_iter:\n",
      "(VERY_HIGH   ) StepLrUpdaterHook                  \n",
      "(NORMAL      ) EvalHook                           \n",
      "(LOW         ) IterTimerHook                      \n",
      " -------------------- \n",
      "after_train_iter:\n",
      "(ABOVE_NORMAL) DistOptimizerHook                  \n",
      "(NORMAL      ) CheckpointHook                     \n",
      "(NORMAL      ) EvalHook                           \n",
      "(LOW         ) IterTimerHook                      \n",
      "(VERY_LOW    ) TextLoggerHook                     \n",
      " -------------------- \n",
      "after_train_epoch:\n",
      "(NORMAL      ) CheckpointHook                     \n",
      "(NORMAL      ) EvalHook                           \n",
      "(VERY_LOW    ) TextLoggerHook                     \n",
      " -------------------- \n",
      "before_val_epoch:\n",
      "(LOW         ) IterTimerHook                      \n",
      "(VERY_LOW    ) TextLoggerHook                     \n",
      " -------------------- \n",
      "before_val_iter:\n",
      "(LOW         ) IterTimerHook                      \n",
      " -------------------- \n",
      "after_val_iter:\n",
      "(LOW         ) IterTimerHook                      \n",
      " -------------------- \n",
      "after_val_epoch:\n",
      "(VERY_LOW    ) TextLoggerHook                     \n",
      " -------------------- \n",
      "after_run:\n",
      "(VERY_LOW    ) TextLoggerHook                     \n",
      " -------------------- \n",
      "2024-06-28 23:15:55,023 - mmaction - INFO - workflow: [('train', 1)], max: 20 epochs\n",
      "2024-06-28 23:15:55,029 - mmaction - INFO - Checkpoints will be saved to H:\\code\\视频组代码\\Video_Swin_Transformer\\tutorial_exps1 by HardDiskBackend.\n",
      "2024-06-28 23:16:03,588 - mmaction - INFO - Epoch [1][5/17]\tlr: 7.813e-07, eta: 0:09:32, time: 1.710, data_time: 1.306, memory: 8673, top1_acc: 0.5000, top5_acc: 1.0000, loss_cls: 0.8226, loss: 0.8226\n"
     ]
    },
    {
     "name": "stdout",
     "output_type": "stream",
     "text": [
      "Gradient overflow.  Skipping step, loss scaler 0 reducing loss scale to 32768.0\n"
     ]
    },
    {
     "name": "stderr",
     "output_type": "stream",
     "text": [
      "2024-06-28 23:16:07,222 - mmaction - INFO - Epoch [1][10/17]\tlr: 7.813e-07, eta: 0:06:42, time: 0.727, data_time: 0.390, memory: 8673, top1_acc: 0.5000, top5_acc: 1.0000, loss_cls: 0.8434, loss: 0.8434\n",
      "2024-06-28 23:16:10,282 - mmaction - INFO - Epoch [1][15/17]\tlr: 7.813e-07, eta: 0:05:30, time: 0.612, data_time: 0.257, memory: 8673, top1_acc: 0.5000, top5_acc: 1.0000, loss_cls: 0.8457, loss: 0.8457\n",
      "2024-06-28 23:16:22,421 - mmaction - INFO - Epoch [2][5/17]\tlr: 7.813e-07, eta: 0:05:59, time: 1.930, data_time: 1.537, memory: 8844, top1_acc: 0.5000, top5_acc: 1.0000, loss_cls: 0.9292, loss: 0.9292\n",
      "2024-06-28 23:16:25,280 - mmaction - INFO - Epoch [2][10/17]\tlr: 7.813e-07, eta: 0:05:21, time: 0.572, data_time: 0.180, memory: 8844, top1_acc: 0.4000, top5_acc: 1.0000, loss_cls: 0.9268, loss: 0.9268\n",
      "2024-06-28 23:16:27,031 - mmaction - INFO - Epoch [2][15/17]\tlr: 7.813e-07, eta: 0:04:43, time: 0.350, data_time: 0.001, memory: 8844, top1_acc: 0.6000, top5_acc: 1.0000, loss_cls: 0.9924, loss: 0.9924\n",
      "2024-06-28 23:16:39,632 - mmaction - INFO - Epoch [3][5/17]\tlr: 7.813e-07, eta: 0:05:01, time: 1.899, data_time: 1.469, memory: 8844, top1_acc: 0.4000, top5_acc: 1.0000, loss_cls: 0.9718, loss: 0.9718\n",
      "2024-06-28 23:16:42,074 - mmaction - INFO - Epoch [3][10/17]\tlr: 7.813e-07, eta: 0:04:38, time: 0.489, data_time: 0.148, memory: 8844, top1_acc: 0.6000, top5_acc: 1.0000, loss_cls: 0.8220, loss: 0.8220\n",
      "2024-06-28 23:16:43,869 - mmaction - INFO - Epoch [3][15/17]\tlr: 7.813e-07, eta: 0:04:16, time: 0.359, data_time: 0.008, memory: 8844, top1_acc: 0.5000, top5_acc: 1.0000, loss_cls: 0.9736, loss: 0.9736\n",
      "2024-06-28 23:16:55,743 - mmaction - INFO - Epoch [4][5/17]\tlr: 7.813e-07, eta: 0:04:28, time: 1.925, data_time: 1.558, memory: 8844, top1_acc: 0.4000, top5_acc: 1.0000, loss_cls: 0.9979, loss: 0.9979\n",
      "2024-06-28 23:16:57,807 - mmaction - INFO - Epoch [4][10/17]\tlr: 7.813e-07, eta: 0:04:11, time: 0.413, data_time: 0.081, memory: 8844, top1_acc: 0.8000, top5_acc: 1.0000, loss_cls: 0.8194, loss: 0.8194\n",
      "2024-06-28 23:17:00,281 - mmaction - INFO - Epoch [4][15/17]\tlr: 7.813e-07, eta: 0:03:58, time: 0.495, data_time: 0.136, memory: 8844, top1_acc: 0.5000, top5_acc: 1.0000, loss_cls: 0.9104, loss: 0.9104\n",
      "2024-06-28 23:17:12,686 - mmaction - INFO - Epoch [5][5/17]\tlr: 7.813e-07, eta: 0:04:06, time: 2.025, data_time: 1.639, memory: 8844, top1_acc: 0.5000, top5_acc: 1.0000, loss_cls: 0.9978, loss: 0.9978\n",
      "2024-06-28 23:17:14,957 - mmaction - INFO - Epoch [5][10/17]\tlr: 7.813e-07, eta: 0:03:54, time: 0.454, data_time: 0.124, memory: 8844, top1_acc: 0.6000, top5_acc: 1.0000, loss_cls: 0.8602, loss: 0.8602\n",
      "2024-06-28 23:17:17,319 - mmaction - INFO - Epoch [5][15/17]\tlr: 7.813e-07, eta: 0:03:43, time: 0.472, data_time: 0.141, memory: 8844, top1_acc: 0.4000, top5_acc: 1.0000, loss_cls: 0.9962, loss: 0.9962\n"
     ]
    },
    {
     "name": "stdout",
     "output_type": "stream",
     "text": [
      "[>>>>>>>>>>>>>>>>>>>>>>>>>>>>>>>>>>>>>>>>>>>>>>>>>>] 9/9, 0.5 task/s, elapsed: 19s, ETA:     0s"
     ]
    },
    {
     "name": "stderr",
     "output_type": "stream",
     "text": [
      "2024-06-28 23:17:39,172 - mmaction - INFO - Evaluating top_k_accuracy ...\n",
      "2024-06-28 23:17:39,173 - mmaction - INFO - \n",
      "top1_acc\t0.7778\n",
      "top5_acc\t1.0000\n",
      "2024-06-28 23:17:39,173 - mmaction - INFO - Evaluating mean_class_accuracy ...\n",
      "2024-06-28 23:17:39,174 - mmaction - INFO - \n",
      "mean_acc\t0.6667\n"
     ]
    },
    {
     "name": "stdout",
     "output_type": "stream",
     "text": [
      "mean_class_accuracy\n",
      "[2 1 2 2 1 1 1 2 2]\n",
      "[2, 0, 2, 2, 1, 1, 0, 2, 2]\n"
     ]
    },
    {
     "name": "stderr",
     "output_type": "stream",
     "text": [
      "2024-06-28 23:17:40,373 - mmaction - INFO - Now best checkpoint is saved as best_top1_acc_epoch_5.pth.\n",
      "2024-06-28 23:17:40,373 - mmaction - INFO - Best top1_acc is 0.7778 at 5 epoch.\n",
      "2024-06-28 23:17:40,374 - mmaction - INFO - Epoch(val) [5][9]\ttop1_acc: 0.7778, top5_acc: 1.0000, mean_class_accuracy: 0.6667\n",
      "2024-06-28 23:17:49,875 - mmaction - INFO - Epoch [6][5/17]\tlr: 7.813e-07, eta: 0:03:46, time: 1.899, data_time: 1.506, memory: 8844, top1_acc: 0.4000, top5_acc: 1.0000, loss_cls: 0.9765, loss: 0.9765\n",
      "2024-06-28 23:17:51,757 - mmaction - INFO - Epoch [6][10/17]\tlr: 7.813e-07, eta: 0:03:35, time: 0.377, data_time: 0.016, memory: 8844, top1_acc: 0.7000, top5_acc: 1.0000, loss_cls: 0.8641, loss: 0.8641\n",
      "2024-06-28 23:17:55,089 - mmaction - INFO - Epoch [6][15/17]\tlr: 7.813e-07, eta: 0:03:28, time: 0.667, data_time: 0.305, memory: 8844, top1_acc: 0.6000, top5_acc: 1.0000, loss_cls: 0.8416, loss: 0.8416\n",
      "2024-06-28 23:18:07,142 - mmaction - INFO - Epoch [7][5/17]\tlr: 7.813e-07, eta: 0:03:29, time: 1.868, data_time: 1.466, memory: 8844, top1_acc: 0.6000, top5_acc: 1.0000, loss_cls: 0.8435, loss: 0.8435\n",
      "2024-06-28 23:18:09,038 - mmaction - INFO - Epoch [7][10/17]\tlr: 7.813e-07, eta: 0:03:19, time: 0.379, data_time: 0.002, memory: 8844, top1_acc: 0.7000, top5_acc: 1.0000, loss_cls: 0.9017, loss: 0.9017\n",
      "2024-06-28 23:18:12,564 - mmaction - INFO - Epoch [7][15/17]\tlr: 7.813e-07, eta: 0:03:13, time: 0.705, data_time: 0.352, memory: 8844, top1_acc: 0.4000, top5_acc: 1.0000, loss_cls: 0.8992, loss: 0.8992\n",
      "2024-06-28 23:18:23,315 - mmaction - INFO - Epoch [8][5/17]\tlr: 7.813e-07, eta: 0:03:11, time: 1.645, data_time: 1.233, memory: 8844, top1_acc: 0.5000, top5_acc: 1.0000, loss_cls: 0.9966, loss: 0.9966\n",
      "2024-06-28 23:18:26,692 - mmaction - INFO - Epoch [8][10/17]\tlr: 7.813e-07, eta: 0:03:05, time: 0.675, data_time: 0.308, memory: 8844, top1_acc: 0.7000, top5_acc: 1.0000, loss_cls: 0.8269, loss: 0.8269\n",
      "2024-06-28 23:18:28,453 - mmaction - INFO - Epoch [8][15/17]\tlr: 7.813e-07, eta: 0:02:56, time: 0.352, data_time: 0.001, memory: 8844, top1_acc: 0.6000, top5_acc: 1.0000, loss_cls: 0.9167, loss: 0.9167\n",
      "2024-06-28 23:18:40,798 - mmaction - INFO - Epoch [9][5/17]\tlr: 7.813e-07, eta: 0:02:55, time: 1.937, data_time: 1.576, memory: 8844, top1_acc: 0.8000, top5_acc: 1.0000, loss_cls: 0.8750, loss: 0.8750\n",
      "2024-06-28 23:18:42,584 - mmaction - INFO - Epoch [9][10/17]\tlr: 7.813e-07, eta: 0:02:48, time: 0.357, data_time: 0.001, memory: 8844, top1_acc: 0.7000, top5_acc: 1.0000, loss_cls: 0.8780, loss: 0.8780\n",
      "2024-06-28 23:18:45,809 - mmaction - INFO - Epoch [9][15/17]\tlr: 7.813e-07, eta: 0:02:42, time: 0.645, data_time: 0.324, memory: 8844, top1_acc: 0.4000, top5_acc: 1.0000, loss_cls: 0.9927, loss: 0.9927\n",
      "2024-06-28 23:18:57,348 - mmaction - INFO - Epoch [10][5/17]\tlr: 7.813e-07, eta: 0:02:39, time: 1.836, data_time: 1.458, memory: 8844, top1_acc: 0.3000, top5_acc: 1.0000, loss_cls: 0.9912, loss: 0.9912\n",
      "2024-06-28 23:19:01,548 - mmaction - INFO - Epoch [10][10/17]\tlr: 7.813e-07, eta: 0:02:35, time: 0.840, data_time: 0.457, memory: 8844, top1_acc: 0.7000, top5_acc: 1.0000, loss_cls: 0.7987, loss: 0.7987\n",
      "2024-06-28 23:19:04,339 - mmaction - INFO - Epoch [10][15/17]\tlr: 7.813e-07, eta: 0:02:29, time: 0.558, data_time: 0.193, memory: 8844, top1_acc: 0.5000, top5_acc: 1.0000, loss_cls: 0.9269, loss: 0.9269\n",
      "2024-06-28 23:19:06,871 - mmaction - INFO - Saving checkpoint at 10 epochs\n"
     ]
    },
    {
     "name": "stdout",
     "output_type": "stream",
     "text": [
      "[>>>>>>>>>>>>>>>>>>>>>>>>>>>>>>>>>>>>>>>>>>>>>>>>>>] 9/9, 0.5 task/s, elapsed: 20s, ETA:     0s"
     ]
    },
    {
     "name": "stderr",
     "output_type": "stream",
     "text": [
      "2024-06-28 23:19:29,065 - mmaction - INFO - Evaluating top_k_accuracy ...\n",
      "2024-06-28 23:19:29,065 - mmaction - INFO - \n",
      "top1_acc\t0.8889\n",
      "top5_acc\t1.0000\n",
      "2024-06-28 23:19:29,066 - mmaction - INFO - Evaluating mean_class_accuracy ...\n",
      "2024-06-28 23:19:29,067 - mmaction - INFO - \n",
      "mean_acc\t0.8333\n",
      "2024-06-28 23:19:29,145 - mmaction - INFO - The previous best checkpoint H:\\code\\视频组代码\\Video_Swin_Transformer\\tutorial_exps1\\best_top1_acc_epoch_5.pth was removed\n"
     ]
    },
    {
     "name": "stdout",
     "output_type": "stream",
     "text": [
      "mean_class_accuracy\n",
      "[2 0 2 2 1 1 1 2 2]\n",
      "[2, 0, 2, 2, 1, 1, 0, 2, 2]\n"
     ]
    },
    {
     "name": "stderr",
     "output_type": "stream",
     "text": [
      "2024-06-28 23:19:30,635 - mmaction - INFO - Now best checkpoint is saved as best_top1_acc_epoch_10.pth.\n",
      "2024-06-28 23:19:30,636 - mmaction - INFO - Best top1_acc is 0.8889 at 10 epoch.\n",
      "2024-06-28 23:19:30,637 - mmaction - INFO - Epoch(val) [10][9]\ttop1_acc: 0.8889, top5_acc: 1.0000, mean_class_accuracy: 0.8333\n",
      "2024-06-28 23:19:39,699 - mmaction - INFO - Epoch [11][5/17]\tlr: 7.813e-07, eta: 0:02:26, time: 1.811, data_time: 1.433, memory: 8844, top1_acc: 0.9000, top5_acc: 1.0000, loss_cls: 0.7703, loss: 0.7703\n",
      "2024-06-28 23:19:41,594 - mmaction - INFO - Epoch [11][10/17]\tlr: 7.813e-07, eta: 0:02:19, time: 0.379, data_time: 0.056, memory: 8844, top1_acc: 0.6000, top5_acc: 1.0000, loss_cls: 0.8003, loss: 0.8003\n",
      "2024-06-28 23:19:43,729 - mmaction - INFO - Epoch [11][15/17]\tlr: 7.813e-07, eta: 0:02:13, time: 0.427, data_time: 0.085, memory: 8844, top1_acc: 0.4000, top5_acc: 1.0000, loss_cls: 0.8975, loss: 0.8975\n",
      "2024-06-28 23:19:56,866 - mmaction - INFO - Epoch [12][5/17]\tlr: 7.813e-07, eta: 0:02:10, time: 2.173, data_time: 1.781, memory: 8844, top1_acc: 0.6000, top5_acc: 1.0000, loss_cls: 0.8967, loss: 0.8967\n",
      "2024-06-28 23:19:59,729 - mmaction - INFO - Epoch [12][10/17]\tlr: 7.813e-07, eta: 0:02:05, time: 0.573, data_time: 0.229, memory: 8844, top1_acc: 0.4000, top5_acc: 1.0000, loss_cls: 0.9241, loss: 0.9241\n",
      "2024-06-28 23:20:01,587 - mmaction - INFO - Epoch [12][15/17]\tlr: 7.813e-07, eta: 0:01:59, time: 0.372, data_time: 0.001, memory: 8844, top1_acc: 0.5000, top5_acc: 1.0000, loss_cls: 0.9276, loss: 0.9276\n",
      "2024-06-28 23:20:12,697 - mmaction - INFO - Epoch [13][5/17]\tlr: 7.813e-07, eta: 0:01:54, time: 1.756, data_time: 1.324, memory: 8844, top1_acc: 0.7000, top5_acc: 1.0000, loss_cls: 0.8536, loss: 0.8536\n",
      "2024-06-28 23:20:15,071 - mmaction - INFO - Epoch [13][10/17]\tlr: 7.813e-07, eta: 0:01:49, time: 0.475, data_time: 0.131, memory: 8844, top1_acc: 0.8000, top5_acc: 1.0000, loss_cls: 0.6897, loss: 0.6897\n",
      "2024-06-28 23:20:17,719 - mmaction - INFO - Epoch [13][15/17]\tlr: 7.813e-07, eta: 0:01:44, time: 0.530, data_time: 0.170, memory: 8844, top1_acc: 0.5000, top5_acc: 1.0000, loss_cls: 0.9423, loss: 0.9423\n",
      "2024-06-28 23:20:29,086 - mmaction - INFO - Epoch [14][5/17]\tlr: 7.813e-07, eta: 0:01:39, time: 1.787, data_time: 1.370, memory: 8844, top1_acc: 0.6000, top5_acc: 1.0000, loss_cls: 0.8975, loss: 0.8975\n",
      "2024-06-28 23:20:31,278 - mmaction - INFO - Epoch [14][10/17]\tlr: 7.813e-07, eta: 0:01:34, time: 0.438, data_time: 0.088, memory: 8844, top1_acc: 0.7000, top5_acc: 1.0000, loss_cls: 0.8898, loss: 0.8898\n",
      "2024-06-28 23:20:33,863 - mmaction - INFO - Epoch [14][15/17]\tlr: 7.813e-07, eta: 0:01:29, time: 0.517, data_time: 0.157, memory: 8844, top1_acc: 0.5000, top5_acc: 1.0000, loss_cls: 0.9454, loss: 0.9454\n",
      "2024-06-28 23:20:45,592 - mmaction - INFO - Epoch [15][5/17]\tlr: 7.813e-07, eta: 0:01:24, time: 1.878, data_time: 1.500, memory: 8844, top1_acc: 0.6000, top5_acc: 1.0000, loss_cls: 0.8609, loss: 0.8609\n",
      "2024-06-28 23:20:48,350 - mmaction - INFO - Epoch [15][10/17]\tlr: 7.813e-07, eta: 0:01:19, time: 0.552, data_time: 0.197, memory: 8844, top1_acc: 0.5000, top5_acc: 1.0000, loss_cls: 0.9940, loss: 0.9940\n",
      "2024-06-28 23:20:50,299 - mmaction - INFO - Epoch [15][15/17]\tlr: 7.813e-07, eta: 0:01:14, time: 0.390, data_time: 0.045, memory: 8844, top1_acc: 0.4000, top5_acc: 1.0000, loss_cls: 0.9227, loss: 0.9227\n"
     ]
    },
    {
     "name": "stdout",
     "output_type": "stream",
     "text": [
      "[>>>>>>>>>>>>>>>>>>>>>>>>>>>>>>>>>>>>>>>>>>>>>>>>>>] 9/9, 0.5 task/s, elapsed: 20s, ETA:     0s"
     ]
    },
    {
     "name": "stderr",
     "output_type": "stream",
     "text": [
      "2024-06-28 23:21:12,852 - mmaction - INFO - Evaluating top_k_accuracy ...\n",
      "2024-06-28 23:21:12,853 - mmaction - INFO - \n",
      "top1_acc\t0.8889\n",
      "top5_acc\t1.0000\n",
      "2024-06-28 23:21:12,853 - mmaction - INFO - Evaluating mean_class_accuracy ...\n",
      "2024-06-28 23:21:12,855 - mmaction - INFO - \n",
      "mean_acc\t0.8333\n",
      "2024-06-28 23:21:12,855 - mmaction - INFO - Epoch(val) [15][9]\ttop1_acc: 0.8889, top5_acc: 1.0000, mean_class_accuracy: 0.8333\n"
     ]
    },
    {
     "name": "stdout",
     "output_type": "stream",
     "text": [
      "mean_class_accuracy\n",
      "[2 0 2 2 1 1 1 2 2]\n",
      "[2, 0, 2, 2, 1, 1, 0, 2, 2]\n"
     ]
    },
    {
     "name": "stderr",
     "output_type": "stream",
     "text": [
      "2024-06-28 23:21:22,285 - mmaction - INFO - Epoch [16][5/17]\tlr: 7.813e-07, eta: 0:01:09, time: 1.885, data_time: 1.486, memory: 8844, top1_acc: 0.4000, top5_acc: 1.0000, loss_cls: 0.9693, loss: 0.9693\n",
      "2024-06-28 23:21:24,237 - mmaction - INFO - Epoch [16][10/17]\tlr: 7.813e-07, eta: 0:01:04, time: 0.390, data_time: 0.002, memory: 8844, top1_acc: 0.8000, top5_acc: 1.0000, loss_cls: 0.8010, loss: 0.8010\n",
      "2024-06-28 23:21:27,535 - mmaction - INFO - Epoch [16][15/17]\tlr: 7.813e-07, eta: 0:00:59, time: 0.660, data_time: 0.302, memory: 8844, top1_acc: 1.0000, top5_acc: 1.0000, loss_cls: 0.8332, loss: 0.8332\n",
      "2024-06-28 23:21:39,808 - mmaction - INFO - Epoch [17][5/17]\tlr: 7.813e-07, eta: 0:00:54, time: 1.958, data_time: 1.608, memory: 8844, top1_acc: 0.5000, top5_acc: 1.0000, loss_cls: 0.8496, loss: 0.8496\n",
      "2024-06-28 23:21:42,434 - mmaction - INFO - Epoch [17][10/17]\tlr: 7.813e-07, eta: 0:00:50, time: 0.525, data_time: 0.180, memory: 8844, top1_acc: 0.7000, top5_acc: 1.0000, loss_cls: 0.9362, loss: 0.9362\n",
      "2024-06-28 23:21:44,350 - mmaction - INFO - Epoch [17][15/17]\tlr: 7.813e-07, eta: 0:00:45, time: 0.383, data_time: 0.029, memory: 8844, top1_acc: 0.9000, top5_acc: 1.0000, loss_cls: 0.6791, loss: 0.6791\n",
      "2024-06-28 23:21:55,478 - mmaction - INFO - Epoch [18][5/17]\tlr: 7.813e-07, eta: 0:00:39, time: 1.760, data_time: 1.373, memory: 8844, top1_acc: 0.6000, top5_acc: 1.0000, loss_cls: 0.9219, loss: 0.9219\n",
      "2024-06-28 23:21:58,589 - mmaction - INFO - Epoch [18][10/17]\tlr: 7.813e-07, eta: 0:00:35, time: 0.622, data_time: 0.254, memory: 8844, top1_acc: 0.6000, top5_acc: 1.0000, loss_cls: 0.8960, loss: 0.8960\n",
      "2024-06-28 23:22:00,333 - mmaction - INFO - Epoch [18][15/17]\tlr: 7.813e-07, eta: 0:00:30, time: 0.349, data_time: 0.002, memory: 8844, top1_acc: 0.7000, top5_acc: 1.0000, loss_cls: 0.8409, loss: 0.8409\n",
      "2024-06-28 23:22:13,746 - mmaction - INFO - Epoch [19][5/17]\tlr: 7.813e-07, eta: 0:00:25, time: 2.135, data_time: 1.715, memory: 8844, top1_acc: 0.6000, top5_acc: 1.0000, loss_cls: 0.9877, loss: 0.9877\n",
      "2024-06-28 23:22:15,566 - mmaction - INFO - Epoch [19][10/17]\tlr: 7.813e-07, eta: 0:00:20, time: 0.364, data_time: 0.002, memory: 8844, top1_acc: 0.9000, top5_acc: 1.0000, loss_cls: 0.7751, loss: 0.7751\n",
      "2024-06-28 23:22:17,254 - mmaction - INFO - Epoch [19][15/17]\tlr: 7.813e-07, eta: 0:00:16, time: 0.338, data_time: 0.002, memory: 8844, top1_acc: 0.9000, top5_acc: 1.0000, loss_cls: 0.7137, loss: 0.7137\n",
      "2024-06-28 23:22:28,271 - mmaction - INFO - Epoch [20][5/17]\tlr: 7.813e-07, eta: 0:00:10, time: 1.758, data_time: 1.360, memory: 8844, top1_acc: 0.8000, top5_acc: 1.0000, loss_cls: 0.8220, loss: 0.8220\n",
      "2024-06-28 23:22:30,417 - mmaction - INFO - Epoch [20][10/17]\tlr: 7.813e-07, eta: 0:00:05, time: 0.429, data_time: 0.093, memory: 8844, top1_acc: 0.9000, top5_acc: 1.0000, loss_cls: 0.7695, loss: 0.7695\n",
      "2024-06-28 23:22:34,095 - mmaction - INFO - Epoch [20][15/17]\tlr: 7.813e-07, eta: 0:00:01, time: 0.736, data_time: 0.371, memory: 8844, top1_acc: 0.5000, top5_acc: 1.0000, loss_cls: 0.9306, loss: 0.9306\n",
      "2024-06-28 23:22:36,548 - mmaction - INFO - Saving checkpoint at 20 epochs\n"
     ]
    },
    {
     "name": "stdout",
     "output_type": "stream",
     "text": [
      "[>>>>>>>>>>>>>>>>>>>>>>>>>>>>>>>>>>>>>>>>>>>>>>>>>>] 9/9, 0.5 task/s, elapsed: 20s, ETA:     0s"
     ]
    },
    {
     "name": "stderr",
     "output_type": "stream",
     "text": [
      "2024-06-28 23:22:58,242 - mmaction - INFO - Evaluating top_k_accuracy ...\n",
      "2024-06-28 23:22:58,243 - mmaction - INFO - \n",
      "top1_acc\t0.7778\n",
      "top5_acc\t1.0000\n",
      "2024-06-28 23:22:58,243 - mmaction - INFO - Evaluating mean_class_accuracy ...\n",
      "2024-06-28 23:22:58,244 - mmaction - INFO - \n",
      "mean_acc\t0.6667\n",
      "2024-06-28 23:22:58,245 - mmaction - INFO - Epoch(val) [20][9]\ttop1_acc: 0.7778, top5_acc: 1.0000, mean_class_accuracy: 0.6667\n"
     ]
    },
    {
     "name": "stdout",
     "output_type": "stream",
     "text": [
      "mean_class_accuracy\n",
      "[2 0 2 2 1 0 1 2 2]\n",
      "[2, 0, 2, 2, 1, 1, 0, 2, 2]\n"
     ]
    },
    {
     "name": "stderr",
     "output_type": "stream",
     "text": [
      "2024-06-28 23:22:59,740 - mmaction - INFO - load checkpoint from local path: ./tutorial_exps/epoch_20.pth\n"
     ]
    },
    {
     "name": "stdout",
     "output_type": "stream",
     "text": [
      "Selected optimization level O1:  Insert automatic casts around Pytorch functions and Tensor methods.\n",
      "\n",
      "Defaults for this optimization level are:\n",
      "enabled                : True\n",
      "opt_level              : O1\n",
      "cast_model_type        : None\n",
      "patch_torch_functions  : True\n",
      "keep_batchnorm_fp32    : None\n",
      "master_weights         : None\n",
      "loss_scale             : dynamic\n",
      "Processing user overrides (additional kwargs that are not None)...\n",
      "After processing overrides, optimization options are:\n",
      "enabled                : True\n",
      "opt_level              : O1\n",
      "cast_model_type        : None\n",
      "patch_torch_functions  : True\n",
      "keep_batchnorm_fp32    : None\n",
      "master_weights         : None\n",
      "loss_scale             : dynamic\n"
     ]
    },
    {
     "name": "stderr",
     "output_type": "stream",
     "text": [
      "2024-06-28 23:23:00,102 - mmaction - INFO - Start running, host: 15281@实验室, work_dir: H:\\code\\视频组代码\\Video_Swin_Transformer\\tutorial_exps1\n",
      "2024-06-28 23:23:00,102 - mmaction - INFO - Hooks will be executed in the following order:\n",
      "before_run:\n",
      "(VERY_HIGH   ) StepLrUpdaterHook                  \n",
      "(ABOVE_NORMAL) DistOptimizerHook                  \n",
      "(NORMAL      ) CheckpointHook                     \n",
      "(NORMAL      ) EvalHook                           \n",
      "(VERY_LOW    ) TextLoggerHook                     \n",
      " -------------------- \n",
      "before_train_epoch:\n",
      "(VERY_HIGH   ) StepLrUpdaterHook                  \n",
      "(NORMAL      ) EvalHook                           \n",
      "(LOW         ) IterTimerHook                      \n",
      "(VERY_LOW    ) TextLoggerHook                     \n",
      " -------------------- \n",
      "before_train_iter:\n",
      "(VERY_HIGH   ) StepLrUpdaterHook                  \n",
      "(NORMAL      ) EvalHook                           \n",
      "(LOW         ) IterTimerHook                      \n",
      " -------------------- \n",
      "after_train_iter:\n",
      "(ABOVE_NORMAL) DistOptimizerHook                  \n",
      "(NORMAL      ) CheckpointHook                     \n",
      "(NORMAL      ) EvalHook                           \n",
      "(LOW         ) IterTimerHook                      \n",
      "(VERY_LOW    ) TextLoggerHook                     \n",
      " -------------------- \n",
      "after_train_epoch:\n",
      "(NORMAL      ) CheckpointHook                     \n",
      "(NORMAL      ) EvalHook                           \n",
      "(VERY_LOW    ) TextLoggerHook                     \n",
      " -------------------- \n",
      "before_val_epoch:\n",
      "(LOW         ) IterTimerHook                      \n",
      "(VERY_LOW    ) TextLoggerHook                     \n",
      " -------------------- \n",
      "before_val_iter:\n",
      "(LOW         ) IterTimerHook                      \n",
      " -------------------- \n",
      "after_val_iter:\n",
      "(LOW         ) IterTimerHook                      \n",
      " -------------------- \n",
      "after_val_epoch:\n",
      "(VERY_LOW    ) TextLoggerHook                     \n",
      " -------------------- \n",
      "after_run:\n",
      "(VERY_LOW    ) TextLoggerHook                     \n",
      " -------------------- \n",
      "2024-06-28 23:23:00,103 - mmaction - INFO - workflow: [('train', 1)], max: 20 epochs\n",
      "2024-06-28 23:23:00,107 - mmaction - INFO - Checkpoints will be saved to H:\\code\\视频组代码\\Video_Swin_Transformer\\tutorial_exps1 by HardDiskBackend.\n",
      "2024-06-28 23:23:09,493 - mmaction - INFO - Epoch [1][5/17]\tlr: 7.813e-07, eta: 0:10:28, time: 1.876, data_time: 1.493, memory: 8844, top1_acc: 0.6000, top5_acc: 1.0000, loss_cls: 0.9021, loss: 0.9021\n",
      "2024-06-28 23:23:11,812 - mmaction - INFO - Epoch [1][10/17]\tlr: 7.813e-07, eta: 0:06:26, time: 0.464, data_time: 0.108, memory: 9014, top1_acc: 0.7000, top5_acc: 1.0000, loss_cls: 0.8746, loss: 0.8746\n",
      "2024-06-28 23:23:13,388 - mmaction - INFO - Epoch [1][15/17]\tlr: 7.813e-07, eta: 0:04:47, time: 0.315, data_time: 0.001, memory: 9018, top1_acc: 0.5000, top5_acc: 1.0000, loss_cls: 0.9160, loss: 0.9160\n",
      "2024-06-28 23:23:24,758 - mmaction - INFO - Epoch [2][5/17]\tlr: 7.813e-07, eta: 0:05:21, time: 1.796, data_time: 1.409, memory: 9022, top1_acc: 0.4000, top5_acc: 1.0000, loss_cls: 1.0267, loss: 1.0267\n",
      "2024-06-28 23:23:27,010 - mmaction - INFO - Epoch [2][10/17]\tlr: 7.813e-07, eta: 0:04:44, time: 0.450, data_time: 0.115, memory: 9022, top1_acc: 0.6000, top5_acc: 1.0000, loss_cls: 0.8909, loss: 0.8909\n",
      "2024-06-28 23:23:30,593 - mmaction - INFO - Epoch [2][15/17]\tlr: 7.813e-07, eta: 0:04:30, time: 0.717, data_time: 0.351, memory: 9022, top1_acc: 0.4000, top5_acc: 1.0000, loss_cls: 0.9438, loss: 0.9438\n",
      "2024-06-28 23:23:42,626 - mmaction - INFO - Epoch [3][5/17]\tlr: 7.813e-07, eta: 0:04:51, time: 1.939, data_time: 1.541, memory: 9022, top1_acc: 0.7000, top5_acc: 1.0000, loss_cls: 0.8757, loss: 0.8757\n",
      "2024-06-28 23:23:44,348 - mmaction - INFO - Epoch [3][10/17]\tlr: 7.813e-07, eta: 0:04:25, time: 0.345, data_time: 0.002, memory: 9022, top1_acc: 0.9000, top5_acc: 1.0000, loss_cls: 0.8069, loss: 0.8069\n",
      "2024-06-28 23:23:47,869 - mmaction - INFO - Epoch [3][15/17]\tlr: 7.813e-07, eta: 0:04:15, time: 0.704, data_time: 0.326, memory: 9022, top1_acc: 0.7000, top5_acc: 1.0000, loss_cls: 0.8564, loss: 0.8564\n",
      "2024-06-28 23:23:59,909 - mmaction - INFO - Epoch [4][5/17]\tlr: 7.813e-07, eta: 0:04:27, time: 1.942, data_time: 1.496, memory: 9022, top1_acc: 0.7000, top5_acc: 1.0000, loss_cls: 0.8733, loss: 0.8733\n",
      "2024-06-28 23:24:01,722 - mmaction - INFO - Epoch [4][10/17]\tlr: 7.813e-07, eta: 0:04:09, time: 0.363, data_time: 0.002, memory: 9022, top1_acc: 0.5000, top5_acc: 1.0000, loss_cls: 0.8065, loss: 0.8065\n",
      "2024-06-28 23:24:03,610 - mmaction - INFO - Epoch [4][15/17]\tlr: 7.813e-07, eta: 0:03:54, time: 0.378, data_time: 0.001, memory: 9022, top1_acc: 0.6000, top5_acc: 1.0000, loss_cls: 0.8892, loss: 0.8892\n",
      "2024-06-28 23:24:15,723 - mmaction - INFO - Epoch [5][5/17]\tlr: 7.813e-07, eta: 0:04:02, time: 1.956, data_time: 1.517, memory: 9022, top1_acc: 0.4000, top5_acc: 1.0000, loss_cls: 0.9249, loss: 0.9249\n",
      "2024-06-28 23:24:17,884 - mmaction - INFO - Epoch [5][10/17]\tlr: 7.813e-07, eta: 0:03:49, time: 0.432, data_time: 0.088, memory: 9022, top1_acc: 0.6000, top5_acc: 1.0000, loss_cls: 0.9210, loss: 0.9210\n",
      "2024-06-28 23:24:20,647 - mmaction - INFO - Epoch [5][15/17]\tlr: 7.813e-07, eta: 0:03:40, time: 0.553, data_time: 0.185, memory: 9022, top1_acc: 0.6000, top5_acc: 1.0000, loss_cls: 0.8169, loss: 0.8169\n"
     ]
    },
    {
     "name": "stdout",
     "output_type": "stream",
     "text": [
      "[>>>>>>>>>>>>>>>>>>>>>>>>>>>>>>>>>>>>>>>>>>>>>>>>>>] 9/9, 0.5 task/s, elapsed: 20s, ETA:     0s"
     ]
    },
    {
     "name": "stderr",
     "output_type": "stream",
     "text": [
      "2024-06-28 23:24:43,060 - mmaction - INFO - Evaluating top_k_accuracy ...\n",
      "2024-06-28 23:24:43,061 - mmaction - INFO - \n",
      "top1_acc\t0.7778\n",
      "top5_acc\t1.0000\n",
      "2024-06-28 23:24:43,061 - mmaction - INFO - Evaluating mean_class_accuracy ...\n",
      "2024-06-28 23:24:43,063 - mmaction - INFO - \n",
      "mean_acc\t0.6667\n"
     ]
    },
    {
     "name": "stdout",
     "output_type": "stream",
     "text": [
      "mean_class_accuracy\n",
      "[2 1 2 2 1 1 1 2 2]\n",
      "[2, 0, 2, 2, 1, 1, 0, 2, 2]\n"
     ]
    },
    {
     "name": "stderr",
     "output_type": "stream",
     "text": [
      "2024-06-28 23:24:44,201 - mmaction - INFO - Now best checkpoint is saved as best_top1_acc_epoch_5.pth.\n",
      "2024-06-28 23:24:44,201 - mmaction - INFO - Best top1_acc is 0.7778 at 5 epoch.\n",
      "2024-06-28 23:24:44,202 - mmaction - INFO - Epoch(val) [5][9]\ttop1_acc: 0.7778, top5_acc: 1.0000, mean_class_accuracy: 0.6667\n",
      "2024-06-28 23:24:54,018 - mmaction - INFO - Epoch [6][5/17]\tlr: 7.813e-07, eta: 0:03:44, time: 1.962, data_time: 1.523, memory: 9022, top1_acc: 0.4000, top5_acc: 1.0000, loss_cls: 0.9640, loss: 0.9640\n",
      "2024-06-28 23:24:56,478 - mmaction - INFO - Epoch [6][10/17]\tlr: 7.813e-07, eta: 0:03:35, time: 0.492, data_time: 0.084, memory: 9022, top1_acc: 0.3000, top5_acc: 1.0000, loss_cls: 1.0404, loss: 1.0404\n",
      "2024-06-28 23:25:00,012 - mmaction - INFO - Epoch [6][15/17]\tlr: 7.813e-07, eta: 0:03:28, time: 0.707, data_time: 0.329, memory: 9022, top1_acc: 0.4000, top5_acc: 1.0000, loss_cls: 1.0083, loss: 1.0083\n",
      "2024-06-28 23:25:12,038 - mmaction - INFO - Epoch [7][5/17]\tlr: 7.813e-07, eta: 0:03:28, time: 1.806, data_time: 1.383, memory: 9022, top1_acc: 0.4000, top5_acc: 1.0000, loss_cls: 0.9826, loss: 0.9826\n",
      "2024-06-28 23:25:14,335 - mmaction - INFO - Epoch [7][10/17]\tlr: 7.813e-07, eta: 0:03:20, time: 0.459, data_time: 0.111, memory: 9022, top1_acc: 0.8000, top5_acc: 1.0000, loss_cls: 0.8957, loss: 0.8957\n",
      "2024-06-28 23:25:16,006 - mmaction - INFO - Epoch [7][15/17]\tlr: 7.813e-07, eta: 0:03:10, time: 0.335, data_time: 0.002, memory: 9022, top1_acc: 0.7000, top5_acc: 1.0000, loss_cls: 0.8481, loss: 0.8481\n"
     ]
    },
    {
     "name": "stdout",
     "output_type": "stream",
     "text": [
      "Gradient overflow.  Skipping step, loss scaler 0 reducing loss scale to 32768.0\n"
     ]
    },
    {
     "name": "stderr",
     "output_type": "stream",
     "text": [
      "2024-06-28 23:25:28,828 - mmaction - INFO - Epoch [8][5/17]\tlr: 7.813e-07, eta: 0:03:09, time: 1.813, data_time: 1.426, memory: 9022, top1_acc: 0.9000, top5_acc: 1.0000, loss_cls: 0.8475, loss: 0.8475\n",
      "2024-06-28 23:25:32,231 - mmaction - INFO - Epoch [8][10/17]\tlr: 7.813e-07, eta: 0:03:03, time: 0.681, data_time: 0.298, memory: 9022, top1_acc: 0.5000, top5_acc: 1.0000, loss_cls: 0.9108, loss: 0.9108\n",
      "2024-06-28 23:25:33,872 - mmaction - INFO - Epoch [8][15/17]\tlr: 7.813e-07, eta: 0:02:55, time: 0.328, data_time: 0.001, memory: 9022, top1_acc: 0.5000, top5_acc: 1.0000, loss_cls: 0.8247, loss: 0.8247\n",
      "2024-06-28 23:25:45,308 - mmaction - INFO - Epoch [9][5/17]\tlr: 7.813e-07, eta: 0:02:53, time: 1.833, data_time: 1.431, memory: 9022, top1_acc: 0.5000, top5_acc: 1.0000, loss_cls: 0.9295, loss: 0.9295\n",
      "2024-06-28 23:25:47,106 - mmaction - INFO - Epoch [9][10/17]\tlr: 7.813e-07, eta: 0:02:46, time: 0.360, data_time: 0.002, memory: 9022, top1_acc: 0.7000, top5_acc: 1.0000, loss_cls: 0.8813, loss: 0.8813\n",
      "2024-06-28 23:25:49,590 - mmaction - INFO - Epoch [9][15/17]\tlr: 7.813e-07, eta: 0:02:39, time: 0.497, data_time: 0.138, memory: 9022, top1_acc: 0.6000, top5_acc: 1.0000, loss_cls: 0.9547, loss: 0.9547\n",
      "2024-06-28 23:26:03,604 - mmaction - INFO - Epoch [10][5/17]\tlr: 7.813e-07, eta: 0:02:37, time: 1.839, data_time: 1.439, memory: 9022, top1_acc: 0.7000, top5_acc: 1.0000, loss_cls: 0.8489, loss: 0.8489\n",
      "2024-06-28 23:26:05,414 - mmaction - INFO - Epoch [10][10/17]\tlr: 7.813e-07, eta: 0:02:30, time: 0.362, data_time: 0.002, memory: 9022, top1_acc: 0.6000, top5_acc: 1.0000, loss_cls: 0.8766, loss: 0.8766\n",
      "2024-06-28 23:26:08,064 - mmaction - INFO - Epoch [10][15/17]\tlr: 7.813e-07, eta: 0:02:24, time: 0.530, data_time: 0.175, memory: 9022, top1_acc: 0.6000, top5_acc: 1.0000, loss_cls: 0.9121, loss: 0.9121\n",
      "2024-06-28 23:26:10,675 - mmaction - INFO - Saving checkpoint at 10 epochs\n"
     ]
    },
    {
     "name": "stdout",
     "output_type": "stream",
     "text": [
      "[>>>>>>>>>>>>>>>>>>>>>>>>>>>>>>>>>>>>>>>>>>>>>>>>>>] 9/9, 0.5 task/s, elapsed: 20s, ETA:     0s"
     ]
    },
    {
     "name": "stderr",
     "output_type": "stream",
     "text": [
      "2024-06-28 23:26:32,790 - mmaction - INFO - Evaluating top_k_accuracy ...\n",
      "2024-06-28 23:26:32,791 - mmaction - INFO - \n",
      "top1_acc\t0.8889\n",
      "top5_acc\t1.0000\n",
      "2024-06-28 23:26:32,791 - mmaction - INFO - Evaluating mean_class_accuracy ...\n",
      "2024-06-28 23:26:32,792 - mmaction - INFO - \n",
      "mean_acc\t0.8333\n",
      "2024-06-28 23:26:32,875 - mmaction - INFO - The previous best checkpoint H:\\code\\视频组代码\\Video_Swin_Transformer\\tutorial_exps1\\best_top1_acc_epoch_5.pth was removed\n"
     ]
    },
    {
     "name": "stdout",
     "output_type": "stream",
     "text": [
      "mean_class_accuracy\n",
      "[2 0 2 2 1 1 1 2 2]\n",
      "[2, 0, 2, 2, 1, 1, 0, 2, 2]\n"
     ]
    },
    {
     "name": "stderr",
     "output_type": "stream",
     "text": [
      "2024-06-28 23:26:34,634 - mmaction - INFO - Now best checkpoint is saved as best_top1_acc_epoch_10.pth.\n",
      "2024-06-28 23:26:34,634 - mmaction - INFO - Best top1_acc is 0.8889 at 10 epoch.\n",
      "2024-06-28 23:26:34,635 - mmaction - INFO - Epoch(val) [10][9]\ttop1_acc: 0.8889, top5_acc: 1.0000, mean_class_accuracy: 0.8333\n",
      "2024-06-28 23:26:43,302 - mmaction - INFO - Epoch [11][5/17]\tlr: 7.813e-07, eta: 0:02:21, time: 1.732, data_time: 1.386, memory: 9022, top1_acc: 0.8000, top5_acc: 1.0000, loss_cls: 0.7461, loss: 0.7461\n",
      "2024-06-28 23:26:47,873 - mmaction - INFO - Epoch [11][10/17]\tlr: 7.813e-07, eta: 0:02:17, time: 0.914, data_time: 0.543, memory: 9022, top1_acc: 0.8000, top5_acc: 1.0000, loss_cls: 0.7904, loss: 0.7904\n",
      "2024-06-28 23:26:51,112 - mmaction - INFO - Epoch [11][15/17]\tlr: 7.813e-07, eta: 0:02:12, time: 0.648, data_time: 0.277, memory: 9022, top1_acc: 0.7000, top5_acc: 1.0000, loss_cls: 0.9021, loss: 0.9021\n",
      "2024-06-28 23:27:02,086 - mmaction - INFO - Epoch [12][5/17]\tlr: 7.813e-07, eta: 0:02:08, time: 1.703, data_time: 1.307, memory: 9022, top1_acc: 0.5000, top5_acc: 1.0000, loss_cls: 0.9036, loss: 0.9036\n",
      "2024-06-28 23:27:05,946 - mmaction - INFO - Epoch [12][10/17]\tlr: 7.813e-07, eta: 0:02:03, time: 0.772, data_time: 0.394, memory: 9022, top1_acc: 0.6000, top5_acc: 1.0000, loss_cls: 0.8644, loss: 0.8644\n",
      "2024-06-28 23:27:09,171 - mmaction - INFO - Epoch [12][15/17]\tlr: 7.813e-07, eta: 0:01:58, time: 0.645, data_time: 0.315, memory: 9022, top1_acc: 0.7000, top5_acc: 1.0000, loss_cls: 0.8533, loss: 0.8533\n",
      "2024-06-28 23:27:20,054 - mmaction - INFO - Epoch [13][5/17]\tlr: 7.813e-07, eta: 0:01:53, time: 1.700, data_time: 1.278, memory: 9022, top1_acc: 0.7000, top5_acc: 1.0000, loss_cls: 0.8219, loss: 0.8219\n",
      "2024-06-28 23:27:23,041 - mmaction - INFO - Epoch [13][10/17]\tlr: 7.813e-07, eta: 0:01:48, time: 0.597, data_time: 0.232, memory: 9022, top1_acc: 0.7000, top5_acc: 1.0000, loss_cls: 0.8514, loss: 0.8514\n",
      "2024-06-28 23:27:25,952 - mmaction - INFO - Epoch [13][15/17]\tlr: 7.813e-07, eta: 0:01:43, time: 0.582, data_time: 0.231, memory: 9022, top1_acc: 0.3000, top5_acc: 1.0000, loss_cls: 1.0047, loss: 1.0047\n",
      "2024-06-28 23:27:38,043 - mmaction - INFO - Epoch [14][5/17]\tlr: 7.813e-07, eta: 0:01:39, time: 1.912, data_time: 1.546, memory: 9022, top1_acc: 0.5000, top5_acc: 1.0000, loss_cls: 0.9617, loss: 0.9617\n",
      "2024-06-28 23:27:41,203 - mmaction - INFO - Epoch [14][10/17]\tlr: 7.813e-07, eta: 0:01:34, time: 0.632, data_time: 0.290, memory: 9022, top1_acc: 0.8000, top5_acc: 1.0000, loss_cls: 0.8633, loss: 0.8633\n",
      "2024-06-28 23:27:42,860 - mmaction - INFO - Epoch [14][15/17]\tlr: 7.813e-07, eta: 0:01:29, time: 0.331, data_time: 0.001, memory: 9022, top1_acc: 0.5000, top5_acc: 1.0000, loss_cls: 0.9641, loss: 0.9641\n",
      "2024-06-28 23:27:55,152 - mmaction - INFO - Epoch [15][5/17]\tlr: 7.813e-07, eta: 0:01:24, time: 1.994, data_time: 1.544, memory: 9022, top1_acc: 0.5000, top5_acc: 1.0000, loss_cls: 0.8545, loss: 0.8545\n",
      "2024-06-28 23:27:57,030 - mmaction - INFO - Epoch [15][10/17]\tlr: 7.813e-07, eta: 0:01:19, time: 0.375, data_time: 0.002, memory: 9022, top1_acc: 0.6000, top5_acc: 1.0000, loss_cls: 0.9000, loss: 0.9000\n",
      "2024-06-28 23:27:59,421 - mmaction - INFO - Epoch [15][15/17]\tlr: 7.813e-07, eta: 0:01:14, time: 0.478, data_time: 0.117, memory: 9022, top1_acc: 0.9000, top5_acc: 1.0000, loss_cls: 0.7840, loss: 0.7840\n"
     ]
    },
    {
     "name": "stdout",
     "output_type": "stream",
     "text": [
      "[>>>>>>>>>>>>>>>>>>>>>>>>>>>>>>>>>>>>>>>>>>>>>>>>>>] 9/9, 0.4 task/s, elapsed: 20s, ETA:     0s"
     ]
    },
    {
     "name": "stderr",
     "output_type": "stream",
     "text": [
      "2024-06-28 23:28:22,634 - mmaction - INFO - Evaluating top_k_accuracy ...\n",
      "2024-06-28 23:28:22,635 - mmaction - INFO - \n",
      "top1_acc\t0.8889\n",
      "top5_acc\t1.0000\n",
      "2024-06-28 23:28:22,635 - mmaction - INFO - Evaluating mean_class_accuracy ...\n",
      "2024-06-28 23:28:22,636 - mmaction - INFO - \n",
      "mean_acc\t0.8333\n",
      "2024-06-28 23:28:22,637 - mmaction - INFO - Epoch(val) [15][9]\ttop1_acc: 0.8889, top5_acc: 1.0000, mean_class_accuracy: 0.8333\n"
     ]
    },
    {
     "name": "stdout",
     "output_type": "stream",
     "text": [
      "mean_class_accuracy\n",
      "[2 0 2 2 1 1 1 2 2]\n",
      "[2, 0, 2, 2, 1, 1, 0, 2, 2]\n"
     ]
    },
    {
     "name": "stderr",
     "output_type": "stream",
     "text": [
      "2024-06-28 23:28:32,313 - mmaction - INFO - Epoch [16][5/17]\tlr: 7.813e-07, eta: 0:01:09, time: 1.934, data_time: 1.526, memory: 9022, top1_acc: 0.7000, top5_acc: 1.0000, loss_cls: 0.9083, loss: 0.9083\n",
      "2024-06-28 23:28:34,184 - mmaction - INFO - Epoch [16][10/17]\tlr: 7.813e-07, eta: 0:01:04, time: 0.374, data_time: 0.001, memory: 9022, top1_acc: 0.5000, top5_acc: 1.0000, loss_cls: 0.8472, loss: 0.8472\n",
      "2024-06-28 23:28:36,376 - mmaction - INFO - Epoch [16][15/17]\tlr: 7.813e-07, eta: 0:00:59, time: 0.438, data_time: 0.096, memory: 9022, top1_acc: 0.7000, top5_acc: 1.0000, loss_cls: 0.8458, loss: 0.8458\n",
      "2024-06-28 23:28:49,206 - mmaction - INFO - Epoch [17][5/17]\tlr: 7.813e-07, eta: 0:00:54, time: 2.102, data_time: 1.711, memory: 9022, top1_acc: 0.8000, top5_acc: 1.0000, loss_cls: 0.8815, loss: 0.8815\n",
      "2024-06-28 23:28:52,027 - mmaction - INFO - Epoch [17][10/17]\tlr: 7.813e-07, eta: 0:00:50, time: 0.564, data_time: 0.210, memory: 9022, top1_acc: 0.6000, top5_acc: 1.0000, loss_cls: 0.9243, loss: 0.9243\n",
      "2024-06-28 23:28:53,680 - mmaction - INFO - Epoch [17][15/17]\tlr: 7.813e-07, eta: 0:00:45, time: 0.330, data_time: 0.001, memory: 9022, top1_acc: 0.8000, top5_acc: 1.0000, loss_cls: 0.7951, loss: 0.7951\n",
      "2024-06-28 23:29:05,766 - mmaction - INFO - Epoch [18][5/17]\tlr: 7.813e-07, eta: 0:00:39, time: 1.952, data_time: 1.585, memory: 9022, top1_acc: 0.7000, top5_acc: 1.0000, loss_cls: 0.8529, loss: 0.8529\n",
      "2024-06-28 23:29:08,549 - mmaction - INFO - Epoch [18][10/17]\tlr: 7.813e-07, eta: 0:00:35, time: 0.557, data_time: 0.191, memory: 9022, top1_acc: 0.7000, top5_acc: 1.0000, loss_cls: 0.8312, loss: 0.8312\n",
      "2024-06-28 23:29:10,374 - mmaction - INFO - Epoch [18][15/17]\tlr: 7.813e-07, eta: 0:00:30, time: 0.365, data_time: 0.001, memory: 9022, top1_acc: 0.8000, top5_acc: 1.0000, loss_cls: 0.7377, loss: 0.7377\n",
      "2024-06-28 23:29:21,883 - mmaction - INFO - Epoch [19][5/17]\tlr: 7.813e-07, eta: 0:00:25, time: 1.856, data_time: 1.464, memory: 9022, top1_acc: 0.6000, top5_acc: 1.0000, loss_cls: 0.8735, loss: 0.8735\n",
      "2024-06-28 23:29:24,474 - mmaction - INFO - Epoch [19][10/17]\tlr: 7.813e-07, eta: 0:00:20, time: 0.518, data_time: 0.149, memory: 9022, top1_acc: 0.7000, top5_acc: 1.0000, loss_cls: 0.8395, loss: 0.8395\n",
      "2024-06-28 23:29:26,213 - mmaction - INFO - Epoch [19][15/17]\tlr: 7.813e-07, eta: 0:00:16, time: 0.348, data_time: 0.001, memory: 9022, top1_acc: 0.5000, top5_acc: 1.0000, loss_cls: 0.8787, loss: 0.8787\n",
      "2024-06-28 23:29:37,578 - mmaction - INFO - Epoch [20][5/17]\tlr: 7.813e-07, eta: 0:00:10, time: 1.820, data_time: 1.444, memory: 9022, top1_acc: 0.7000, top5_acc: 1.0000, loss_cls: 0.8994, loss: 0.8994\n",
      "2024-06-28 23:29:39,154 - mmaction - INFO - Epoch [20][10/17]\tlr: 7.813e-07, eta: 0:00:05, time: 0.316, data_time: 0.002, memory: 9022, top1_acc: 0.6000, top5_acc: 1.0000, loss_cls: 0.8526, loss: 0.8526\n",
      "2024-06-28 23:29:40,896 - mmaction - INFO - Epoch [20][15/17]\tlr: 7.813e-07, eta: 0:00:01, time: 0.348, data_time: 0.025, memory: 9022, top1_acc: 0.6000, top5_acc: 1.0000, loss_cls: 0.8099, loss: 0.8099\n",
      "2024-06-28 23:29:43,881 - mmaction - INFO - Saving checkpoint at 20 epochs\n"
     ]
    },
    {
     "name": "stdout",
     "output_type": "stream",
     "text": [
      "[>>>>>>>>>>>>>>>>>>>>>>>>>>>>>>>>>>>>>>>>>>>>>>>>>>] 9/9, 0.4 task/s, elapsed: 20s, ETA:     0s"
     ]
    },
    {
     "name": "stderr",
     "output_type": "stream",
     "text": [
      "2024-06-28 23:30:06,110 - mmaction - INFO - Evaluating top_k_accuracy ...\n",
      "2024-06-28 23:30:06,111 - mmaction - INFO - \n",
      "top1_acc\t0.7778\n",
      "top5_acc\t1.0000\n",
      "2024-06-28 23:30:06,111 - mmaction - INFO - Evaluating mean_class_accuracy ...\n",
      "2024-06-28 23:30:06,112 - mmaction - INFO - \n",
      "mean_acc\t0.6667\n",
      "2024-06-28 23:30:06,113 - mmaction - INFO - Epoch(val) [20][9]\ttop1_acc: 0.7778, top5_acc: 1.0000, mean_class_accuracy: 0.6667\n"
     ]
    },
    {
     "name": "stdout",
     "output_type": "stream",
     "text": [
      "mean_class_accuracy\n",
      "[2 0 2 2 1 0 1 2 2]\n",
      "[2, 0, 2, 2, 1, 1, 0, 2, 2]\n"
     ]
    },
    {
     "name": "stderr",
     "output_type": "stream",
     "text": [
      "2024-06-28 23:30:07,614 - mmaction - INFO - load checkpoint from local path: ./tutorial_exps/epoch_20.pth\n"
     ]
    },
    {
     "name": "stdout",
     "output_type": "stream",
     "text": [
      "Selected optimization level O1:  Insert automatic casts around Pytorch functions and Tensor methods.\n",
      "\n",
      "Defaults for this optimization level are:\n",
      "enabled                : True\n",
      "opt_level              : O1\n",
      "cast_model_type        : None\n",
      "patch_torch_functions  : True\n",
      "keep_batchnorm_fp32    : None\n",
      "master_weights         : None\n",
      "loss_scale             : dynamic\n",
      "Processing user overrides (additional kwargs that are not None)...\n",
      "After processing overrides, optimization options are:\n",
      "enabled                : True\n",
      "opt_level              : O1\n",
      "cast_model_type        : None\n",
      "patch_torch_functions  : True\n",
      "keep_batchnorm_fp32    : None\n",
      "master_weights         : None\n",
      "loss_scale             : dynamic\n"
     ]
    },
    {
     "name": "stderr",
     "output_type": "stream",
     "text": [
      "2024-06-28 23:30:08,047 - mmaction - INFO - Start running, host: 15281@实验室, work_dir: H:\\code\\视频组代码\\Video_Swin_Transformer\\tutorial_exps1\n",
      "2024-06-28 23:30:08,047 - mmaction - INFO - Hooks will be executed in the following order:\n",
      "before_run:\n",
      "(VERY_HIGH   ) StepLrUpdaterHook                  \n",
      "(ABOVE_NORMAL) DistOptimizerHook                  \n",
      "(NORMAL      ) CheckpointHook                     \n",
      "(NORMAL      ) EvalHook                           \n",
      "(VERY_LOW    ) TextLoggerHook                     \n",
      " -------------------- \n",
      "before_train_epoch:\n",
      "(VERY_HIGH   ) StepLrUpdaterHook                  \n",
      "(NORMAL      ) EvalHook                           \n",
      "(LOW         ) IterTimerHook                      \n",
      "(VERY_LOW    ) TextLoggerHook                     \n",
      " -------------------- \n",
      "before_train_iter:\n",
      "(VERY_HIGH   ) StepLrUpdaterHook                  \n",
      "(NORMAL      ) EvalHook                           \n",
      "(LOW         ) IterTimerHook                      \n",
      " -------------------- \n",
      "after_train_iter:\n",
      "(ABOVE_NORMAL) DistOptimizerHook                  \n",
      "(NORMAL      ) CheckpointHook                     \n",
      "(NORMAL      ) EvalHook                           \n",
      "(LOW         ) IterTimerHook                      \n",
      "(VERY_LOW    ) TextLoggerHook                     \n",
      " -------------------- \n",
      "after_train_epoch:\n",
      "(NORMAL      ) CheckpointHook                     \n",
      "(NORMAL      ) EvalHook                           \n",
      "(VERY_LOW    ) TextLoggerHook                     \n",
      " -------------------- \n",
      "before_val_epoch:\n",
      "(LOW         ) IterTimerHook                      \n",
      "(VERY_LOW    ) TextLoggerHook                     \n",
      " -------------------- \n",
      "before_val_iter:\n",
      "(LOW         ) IterTimerHook                      \n",
      " -------------------- \n",
      "after_val_iter:\n",
      "(LOW         ) IterTimerHook                      \n",
      " -------------------- \n",
      "after_val_epoch:\n",
      "(VERY_LOW    ) TextLoggerHook                     \n",
      " -------------------- \n",
      "after_run:\n",
      "(VERY_LOW    ) TextLoggerHook                     \n",
      " -------------------- \n",
      "2024-06-28 23:30:08,048 - mmaction - INFO - workflow: [('train', 1)], max: 20 epochs\n",
      "2024-06-28 23:30:08,053 - mmaction - INFO - Checkpoints will be saved to H:\\code\\视频组代码\\Video_Swin_Transformer\\tutorial_exps1 by HardDiskBackend.\n",
      "2024-06-28 23:30:17,838 - mmaction - INFO - Epoch [1][5/17]\tlr: 7.813e-07, eta: 0:10:55, time: 1.956, data_time: 1.566, memory: 9022, top1_acc: 0.5000, top5_acc: 1.0000, loss_cls: 0.9230, loss: 0.9230\n",
      "2024-06-28 23:30:19,678 - mmaction - INFO - Epoch [1][10/17]\tlr: 7.813e-07, eta: 0:06:23, time: 0.368, data_time: 0.001, memory: 9196, top1_acc: 0.7000, top5_acc: 1.0000, loss_cls: 0.8309, loss: 0.8309\n",
      "2024-06-28 23:30:22,306 - mmaction - INFO - Epoch [1][15/17]\tlr: 7.813e-07, eta: 0:05:08, time: 0.526, data_time: 0.187, memory: 9196, top1_acc: 0.5000, top5_acc: 1.0000, loss_cls: 0.7796, loss: 0.7796\n",
      "2024-06-28 23:30:33,174 - mmaction - INFO - Epoch [2][5/17]\tlr: 7.813e-07, eta: 0:05:26, time: 1.668, data_time: 1.263, memory: 9196, top1_acc: 0.6000, top5_acc: 1.0000, loss_cls: 0.8754, loss: 0.8754\n",
      "2024-06-28 23:30:37,942 - mmaction - INFO - Epoch [2][10/17]\tlr: 7.813e-07, eta: 0:05:17, time: 0.953, data_time: 0.561, memory: 9196, top1_acc: 0.4000, top5_acc: 1.0000, loss_cls: 0.9868, loss: 0.9868\n",
      "2024-06-28 23:30:39,747 - mmaction - INFO - Epoch [2][15/17]\tlr: 7.813e-07, eta: 0:04:40, time: 0.360, data_time: 0.001, memory: 9196, top1_acc: 0.7000, top5_acc: 1.0000, loss_cls: 0.8140, loss: 0.8140\n",
      "2024-06-28 23:30:53,162 - mmaction - INFO - Epoch [3][5/17]\tlr: 7.813e-07, eta: 0:05:10, time: 2.210, data_time: 1.784, memory: 9196, top1_acc: 0.4000, top5_acc: 1.0000, loss_cls: 1.0295, loss: 1.0295\n",
      "2024-06-28 23:30:54,991 - mmaction - INFO - Epoch [3][10/17]\tlr: 7.813e-07, eta: 0:04:42, time: 0.366, data_time: 0.002, memory: 9197, top1_acc: 0.8000, top5_acc: 1.0000, loss_cls: 0.7824, loss: 0.7824\n",
      "2024-06-28 23:30:56,930 - mmaction - INFO - Epoch [3][15/17]\tlr: 7.813e-07, eta: 0:04:21, time: 0.388, data_time: 0.001, memory: 9197, top1_acc: 0.5000, top5_acc: 1.0000, loss_cls: 0.8315, loss: 0.8315\n",
      "2024-06-28 23:31:08,720 - mmaction - INFO - Epoch [4][5/17]\tlr: 7.813e-07, eta: 0:04:25, time: 1.677, data_time: 1.243, memory: 9197, top1_acc: 0.6000, top5_acc: 1.0000, loss_cls: 0.8646, loss: 0.8646\n",
      "2024-06-28 23:31:11,452 - mmaction - INFO - Epoch [4][10/17]\tlr: 7.813e-07, eta: 0:04:11, time: 0.546, data_time: 0.189, memory: 9197, top1_acc: 0.9000, top5_acc: 1.0000, loss_cls: 0.7936, loss: 0.7936\n",
      "2024-06-28 23:31:16,334 - mmaction - INFO - Epoch [4][15/17]\tlr: 7.813e-07, eta: 0:04:08, time: 0.977, data_time: 0.573, memory: 9197, top1_acc: 0.4000, top5_acc: 1.0000, loss_cls: 0.9862, loss: 0.9862\n",
      "2024-06-28 23:31:27,192 - mmaction - INFO - Epoch [5][5/17]\tlr: 7.813e-07, eta: 0:04:10, time: 1.686, data_time: 1.262, memory: 9197, top1_acc: 0.5000, top5_acc: 1.0000, loss_cls: 0.8773, loss: 0.8773\n",
      "2024-06-28 23:31:31,566 - mmaction - INFO - Epoch [5][10/17]\tlr: 7.813e-07, eta: 0:04:04, time: 0.874, data_time: 0.511, memory: 9197, top1_acc: 0.6000, top5_acc: 1.0000, loss_cls: 0.9043, loss: 0.9043\n",
      "2024-06-28 23:31:33,318 - mmaction - INFO - Epoch [5][15/17]\tlr: 7.813e-07, eta: 0:03:50, time: 0.351, data_time: 0.001, memory: 9197, top1_acc: 0.2000, top5_acc: 1.0000, loss_cls: 1.0283, loss: 1.0283\n"
     ]
    },
    {
     "name": "stdout",
     "output_type": "stream",
     "text": [
      "[>>>>>>>>>>>>>>>>>>>>>>>>>>>>>>>>>>>>>>>>>>>>>>>>>>] 9/9, 0.4 task/s, elapsed: 21s, ETA:     0s"
     ]
    },
    {
     "name": "stderr",
     "output_type": "stream",
     "text": [
      "2024-06-28 23:31:56,552 - mmaction - INFO - Evaluating top_k_accuracy ...\n",
      "2024-06-28 23:31:56,553 - mmaction - INFO - \n",
      "top1_acc\t0.7778\n",
      "top5_acc\t1.0000\n",
      "2024-06-28 23:31:56,553 - mmaction - INFO - Evaluating mean_class_accuracy ...\n",
      "2024-06-28 23:31:56,554 - mmaction - INFO - \n",
      "mean_acc\t0.6667\n"
     ]
    },
    {
     "name": "stdout",
     "output_type": "stream",
     "text": [
      "mean_class_accuracy\n",
      "[2 1 2 2 1 1 1 2 2]\n",
      "[2, 0, 2, 2, 1, 1, 0, 2, 2]\n"
     ]
    },
    {
     "name": "stderr",
     "output_type": "stream",
     "text": [
      "2024-06-28 23:31:57,981 - mmaction - INFO - Now best checkpoint is saved as best_top1_acc_epoch_5.pth.\n",
      "2024-06-28 23:31:57,981 - mmaction - INFO - Best top1_acc is 0.7778 at 5 epoch.\n",
      "2024-06-28 23:31:57,981 - mmaction - INFO - Epoch(val) [5][9]\ttop1_acc: 0.7778, top5_acc: 1.0000, mean_class_accuracy: 0.6667\n",
      "2024-06-28 23:32:07,405 - mmaction - INFO - Epoch [6][5/17]\tlr: 7.813e-07, eta: 0:03:53, time: 1.883, data_time: 1.472, memory: 9197, top1_acc: 0.6000, top5_acc: 1.0000, loss_cls: 0.9324, loss: 0.9324\n",
      "2024-06-28 23:32:10,341 - mmaction - INFO - Epoch [6][10/17]\tlr: 7.813e-07, eta: 0:03:44, time: 0.587, data_time: 0.210, memory: 9197, top1_acc: 0.7000, top5_acc: 1.0000, loss_cls: 0.8210, loss: 0.8210\n",
      "2024-06-28 23:32:13,165 - mmaction - INFO - Epoch [6][15/17]\tlr: 7.813e-07, eta: 0:03:35, time: 0.565, data_time: 0.191, memory: 9197, top1_acc: 0.6000, top5_acc: 1.0000, loss_cls: 0.8963, loss: 0.8963\n"
     ]
    },
    {
     "name": "stdout",
     "output_type": "stream",
     "text": [
      "Gradient overflow.  Skipping step, loss scaler 0 reducing loss scale to 32768.0\n"
     ]
    },
    {
     "name": "stderr",
     "output_type": "stream",
     "text": [
      "2024-06-28 23:32:25,812 - mmaction - INFO - Epoch [7][5/17]\tlr: 7.813e-07, eta: 0:03:37, time: 2.006, data_time: 1.628, memory: 9197, top1_acc: 0.4000, top5_acc: 1.0000, loss_cls: 0.9432, loss: 0.9432\n",
      "2024-06-28 23:32:28,254 - mmaction - INFO - Epoch [7][10/17]\tlr: 7.813e-07, eta: 0:03:27, time: 0.488, data_time: 0.108, memory: 9197, top1_acc: 0.8000, top5_acc: 1.0000, loss_cls: 0.7250, loss: 0.7250\n",
      "2024-06-28 23:32:30,020 - mmaction - INFO - Epoch [7][15/17]\tlr: 7.813e-07, eta: 0:03:18, time: 0.353, data_time: 0.002, memory: 9197, top1_acc: 0.6000, top5_acc: 1.0000, loss_cls: 0.9067, loss: 0.9067\n",
      "2024-06-28 23:32:41,894 - mmaction - INFO - Epoch [8][5/17]\tlr: 7.813e-07, eta: 0:03:17, time: 1.892, data_time: 1.474, memory: 9197, top1_acc: 0.4000, top5_acc: 1.0000, loss_cls: 0.8953, loss: 0.8953\n",
      "2024-06-28 23:32:44,689 - mmaction - INFO - Epoch [8][10/17]\tlr: 7.813e-07, eta: 0:03:10, time: 0.559, data_time: 0.182, memory: 9197, top1_acc: 0.6000, top5_acc: 1.0000, loss_cls: 0.8913, loss: 0.8913\n",
      "2024-06-28 23:32:47,203 - mmaction - INFO - Epoch [8][15/17]\tlr: 7.813e-07, eta: 0:03:02, time: 0.503, data_time: 0.159, memory: 9197, top1_acc: 0.6000, top5_acc: 1.0000, loss_cls: 0.8251, loss: 0.8251\n",
      "2024-06-28 23:32:59,254 - mmaction - INFO - Epoch [9][5/17]\tlr: 7.813e-07, eta: 0:03:01, time: 1.918, data_time: 1.512, memory: 9197, top1_acc: 0.8000, top5_acc: 1.0000, loss_cls: 0.8837, loss: 0.8837\n",
      "2024-06-28 23:33:01,361 - mmaction - INFO - Epoch [9][10/17]\tlr: 7.813e-07, eta: 0:02:53, time: 0.421, data_time: 0.046, memory: 9197, top1_acc: 0.6000, top5_acc: 1.0000, loss_cls: 0.9138, loss: 0.9138\n",
      "2024-06-28 23:33:04,662 - mmaction - INFO - Epoch [9][15/17]\tlr: 7.813e-07, eta: 0:02:47, time: 0.660, data_time: 0.313, memory: 9197, top1_acc: 0.4000, top5_acc: 1.0000, loss_cls: 0.9443, loss: 0.9443\n",
      "2024-06-28 23:33:16,549 - mmaction - INFO - Epoch [10][5/17]\tlr: 7.813e-07, eta: 0:02:44, time: 1.857, data_time: 1.474, memory: 9197, top1_acc: 0.8000, top5_acc: 1.0000, loss_cls: 0.8032, loss: 0.8032\n",
      "2024-06-28 23:33:20,534 - mmaction - INFO - Epoch [10][10/17]\tlr: 7.813e-07, eta: 0:02:39, time: 0.797, data_time: 0.370, memory: 9197, top1_acc: 0.6000, top5_acc: 1.0000, loss_cls: 0.8918, loss: 0.8918\n",
      "2024-06-28 23:33:23,115 - mmaction - INFO - Epoch [10][15/17]\tlr: 7.813e-07, eta: 0:02:33, time: 0.516, data_time: 0.161, memory: 9197, top1_acc: 0.5000, top5_acc: 1.0000, loss_cls: 0.9146, loss: 0.9146\n",
      "2024-06-28 23:33:25,570 - mmaction - INFO - Saving checkpoint at 10 epochs\n"
     ]
    },
    {
     "name": "stdout",
     "output_type": "stream",
     "text": [
      "[>>>>>>>>>>>>>>>>>>>>>>>>>>>>>>>>>>>>>>>>>>>>>>>>>>] 9/9, 0.4 task/s, elapsed: 20s, ETA:     0s"
     ]
    },
    {
     "name": "stderr",
     "output_type": "stream",
     "text": [
      "2024-06-28 23:33:47,853 - mmaction - INFO - Evaluating top_k_accuracy ...\n",
      "2024-06-28 23:33:47,854 - mmaction - INFO - \n",
      "top1_acc\t0.8889\n",
      "top5_acc\t1.0000\n",
      "2024-06-28 23:33:47,854 - mmaction - INFO - Evaluating mean_class_accuracy ...\n",
      "2024-06-28 23:33:47,855 - mmaction - INFO - \n",
      "mean_acc\t0.8333\n",
      "2024-06-28 23:33:47,971 - mmaction - INFO - The previous best checkpoint H:\\code\\视频组代码\\Video_Swin_Transformer\\tutorial_exps1\\best_top1_acc_epoch_5.pth was removed\n"
     ]
    },
    {
     "name": "stdout",
     "output_type": "stream",
     "text": [
      "mean_class_accuracy\n",
      "[2 0 2 2 1 1 1 2 2]\n",
      "[2, 0, 2, 2, 1, 1, 0, 2, 2]\n"
     ]
    },
    {
     "name": "stderr",
     "output_type": "stream",
     "text": [
      "2024-06-28 23:33:49,459 - mmaction - INFO - Now best checkpoint is saved as best_top1_acc_epoch_10.pth.\n",
      "2024-06-28 23:33:49,460 - mmaction - INFO - Best top1_acc is 0.8889 at 10 epoch.\n",
      "2024-06-28 23:33:49,460 - mmaction - INFO - Epoch(val) [10][9]\ttop1_acc: 0.8889, top5_acc: 1.0000, mean_class_accuracy: 0.8333\n",
      "2024-06-28 23:33:57,971 - mmaction - INFO - Epoch [11][5/17]\tlr: 7.813e-07, eta: 0:02:29, time: 1.701, data_time: 1.325, memory: 9197, top1_acc: 0.7000, top5_acc: 1.0000, loss_cls: 0.8880, loss: 0.8880\n",
      "2024-06-28 23:34:01,394 - mmaction - INFO - Epoch [11][10/17]\tlr: 7.813e-07, eta: 0:02:23, time: 0.685, data_time: 0.336, memory: 9197, top1_acc: 0.7000, top5_acc: 1.0000, loss_cls: 0.8771, loss: 0.8771\n",
      "2024-06-28 23:34:04,427 - mmaction - INFO - Epoch [11][15/17]\tlr: 7.813e-07, eta: 0:02:17, time: 0.607, data_time: 0.206, memory: 9197, top1_acc: 0.6000, top5_acc: 1.0000, loss_cls: 0.8935, loss: 0.8935\n",
      "2024-06-28 23:34:16,257 - mmaction - INFO - Epoch [12][5/17]\tlr: 7.813e-07, eta: 0:02:13, time: 1.859, data_time: 1.443, memory: 9197, top1_acc: 1.0000, top5_acc: 1.0000, loss_cls: 0.8025, loss: 0.8025\n",
      "2024-06-28 23:34:18,328 - mmaction - INFO - Epoch [12][10/17]\tlr: 7.813e-07, eta: 0:02:07, time: 0.414, data_time: 0.060, memory: 9197, top1_acc: 0.8000, top5_acc: 1.0000, loss_cls: 0.7997, loss: 0.7997\n",
      "2024-06-28 23:34:21,254 - mmaction - INFO - Epoch [12][15/17]\tlr: 7.813e-07, eta: 0:02:02, time: 0.585, data_time: 0.206, memory: 9197, top1_acc: 0.8000, top5_acc: 1.0000, loss_cls: 0.7934, loss: 0.7934\n",
      "2024-06-28 23:34:33,291 - mmaction - INFO - Epoch [13][5/17]\tlr: 7.813e-07, eta: 0:01:58, time: 1.921, data_time: 1.530, memory: 9197, top1_acc: 0.5000, top5_acc: 1.0000, loss_cls: 0.8959, loss: 0.8959\n",
      "2024-06-28 23:34:34,977 - mmaction - INFO - Epoch [13][10/17]\tlr: 7.813e-07, eta: 0:01:51, time: 0.337, data_time: 0.001, memory: 9197, top1_acc: 0.9000, top5_acc: 1.0000, loss_cls: 0.7655, loss: 0.7655\n",
      "2024-06-28 23:34:37,004 - mmaction - INFO - Epoch [13][15/17]\tlr: 7.813e-07, eta: 0:01:46, time: 0.405, data_time: 0.052, memory: 9197, top1_acc: 0.7000, top5_acc: 1.0000, loss_cls: 0.9184, loss: 0.9184\n",
      "2024-06-28 23:34:47,976 - mmaction - INFO - Epoch [14][5/17]\tlr: 7.813e-07, eta: 0:01:41, time: 1.733, data_time: 1.309, memory: 9197, top1_acc: 0.6000, top5_acc: 1.0000, loss_cls: 0.9658, loss: 0.9658\n",
      "2024-06-28 23:34:49,866 - mmaction - INFO - Epoch [14][10/17]\tlr: 7.813e-07, eta: 0:01:35, time: 0.378, data_time: 0.023, memory: 9197, top1_acc: 0.7000, top5_acc: 1.0000, loss_cls: 0.8152, loss: 0.8152\n",
      "2024-06-28 23:34:53,051 - mmaction - INFO - Epoch [14][15/17]\tlr: 7.813e-07, eta: 0:01:30, time: 0.637, data_time: 0.274, memory: 9197, top1_acc: 0.7000, top5_acc: 1.0000, loss_cls: 0.8354, loss: 0.8354\n",
      "2024-06-28 23:35:05,258 - mmaction - INFO - Epoch [15][5/17]\tlr: 7.813e-07, eta: 0:01:26, time: 1.967, data_time: 1.560, memory: 9197, top1_acc: 0.8000, top5_acc: 1.0000, loss_cls: 0.8531, loss: 0.8531\n",
      "2024-06-28 23:35:08,672 - mmaction - INFO - Epoch [15][10/17]\tlr: 7.813e-07, eta: 0:01:21, time: 0.683, data_time: 0.299, memory: 9197, top1_acc: 0.6000, top5_acc: 1.0000, loss_cls: 0.8226, loss: 0.8226\n",
      "2024-06-28 23:35:10,344 - mmaction - INFO - Epoch [15][15/17]\tlr: 7.813e-07, eta: 0:01:15, time: 0.334, data_time: 0.001, memory: 9197, top1_acc: 0.7000, top5_acc: 1.0000, loss_cls: 0.8294, loss: 0.8294\n"
     ]
    },
    {
     "name": "stdout",
     "output_type": "stream",
     "text": [
      "[>>>>>>>>>>>>>>>>>>>>>>>>>>>>>>>>>>>>>>>>>>>>>>>>>>] 9/9, 0.5 task/s, elapsed: 20s, ETA:     0s"
     ]
    },
    {
     "name": "stderr",
     "output_type": "stream",
     "text": [
      "2024-06-28 23:35:33,162 - mmaction - INFO - Evaluating top_k_accuracy ...\n",
      "2024-06-28 23:35:33,163 - mmaction - INFO - \n",
      "top1_acc\t0.8889\n",
      "top5_acc\t1.0000\n",
      "2024-06-28 23:35:33,163 - mmaction - INFO - Evaluating mean_class_accuracy ...\n",
      "2024-06-28 23:35:33,164 - mmaction - INFO - \n",
      "mean_acc\t0.8333\n",
      "2024-06-28 23:35:33,165 - mmaction - INFO - Epoch(val) [15][9]\ttop1_acc: 0.8889, top5_acc: 1.0000, mean_class_accuracy: 0.8333\n"
     ]
    },
    {
     "name": "stdout",
     "output_type": "stream",
     "text": [
      "mean_class_accuracy\n",
      "[2 0 2 2 1 1 1 2 2]\n",
      "[2, 0, 2, 2, 1, 1, 0, 2, 2]\n"
     ]
    },
    {
     "name": "stderr",
     "output_type": "stream",
     "text": [
      "2024-06-28 23:35:43,039 - mmaction - INFO - Epoch [16][5/17]\tlr: 7.813e-07, eta: 0:01:10, time: 1.974, data_time: 1.540, memory: 9197, top1_acc: 0.6000, top5_acc: 1.0000, loss_cls: 0.9303, loss: 0.9303\n",
      "2024-06-28 23:35:45,551 - mmaction - INFO - Epoch [16][10/17]\tlr: 7.813e-07, eta: 0:01:05, time: 0.502, data_time: 0.133, memory: 9197, top1_acc: 0.9000, top5_acc: 1.0000, loss_cls: 0.7800, loss: 0.7800\n",
      "2024-06-28 23:35:48,323 - mmaction - INFO - Epoch [16][15/17]\tlr: 7.813e-07, eta: 0:01:01, time: 0.554, data_time: 0.201, memory: 9197, top1_acc: 0.8000, top5_acc: 1.0000, loss_cls: 0.7420, loss: 0.7420\n",
      "2024-06-28 23:36:00,589 - mmaction - INFO - Epoch [17][5/17]\tlr: 7.813e-07, eta: 0:00:55, time: 1.961, data_time: 1.570, memory: 9197, top1_acc: 0.5000, top5_acc: 1.0000, loss_cls: 0.9076, loss: 0.9076\n",
      "2024-06-28 23:36:02,672 - mmaction - INFO - Epoch [17][10/17]\tlr: 7.813e-07, eta: 0:00:50, time: 0.416, data_time: 0.002, memory: 9197, top1_acc: 0.4000, top5_acc: 1.0000, loss_cls: 0.9350, loss: 0.9350\n",
      "2024-06-28 23:36:06,127 - mmaction - INFO - Epoch [17][15/17]\tlr: 7.813e-07, eta: 0:00:46, time: 0.691, data_time: 0.316, memory: 9197, top1_acc: 0.7000, top5_acc: 1.0000, loss_cls: 0.8884, loss: 0.8884\n",
      "2024-06-28 23:36:17,653 - mmaction - INFO - Epoch [18][5/17]\tlr: 7.813e-07, eta: 0:00:40, time: 1.819, data_time: 1.435, memory: 9197, top1_acc: 0.6000, top5_acc: 1.0000, loss_cls: 0.8631, loss: 0.8631\n",
      "2024-06-28 23:36:19,507 - mmaction - INFO - Epoch [18][10/17]\tlr: 7.813e-07, eta: 0:00:35, time: 0.371, data_time: 0.001, memory: 9197, top1_acc: 0.8000, top5_acc: 1.0000, loss_cls: 0.7113, loss: 0.7113\n",
      "2024-06-28 23:36:23,266 - mmaction - INFO - Epoch [18][15/17]\tlr: 7.813e-07, eta: 0:00:31, time: 0.752, data_time: 0.355, memory: 9197, top1_acc: 0.6000, top5_acc: 1.0000, loss_cls: 0.9213, loss: 0.9213\n",
      "2024-06-28 23:36:34,636 - mmaction - INFO - Epoch [19][5/17]\tlr: 7.813e-07, eta: 0:00:25, time: 1.813, data_time: 1.466, memory: 9197, top1_acc: 0.6000, top5_acc: 1.0000, loss_cls: 0.8756, loss: 0.8756\n",
      "2024-06-28 23:36:37,027 - mmaction - INFO - Epoch [19][10/17]\tlr: 7.813e-07, eta: 0:00:21, time: 0.478, data_time: 0.124, memory: 9197, top1_acc: 0.5000, top5_acc: 1.0000, loss_cls: 0.8973, loss: 0.8973\n",
      "2024-06-28 23:36:39,279 - mmaction - INFO - Epoch [19][15/17]\tlr: 7.813e-07, eta: 0:00:16, time: 0.451, data_time: 0.066, memory: 9197, top1_acc: 0.6000, top5_acc: 1.0000, loss_cls: 0.8796, loss: 0.8796\n",
      "2024-06-28 23:36:53,337 - mmaction - INFO - Epoch [20][5/17]\tlr: 7.813e-07, eta: 0:00:10, time: 1.855, data_time: 1.450, memory: 9197, top1_acc: 0.6000, top5_acc: 1.0000, loss_cls: 0.9300, loss: 0.9300\n",
      "2024-06-28 23:36:56,218 - mmaction - INFO - Epoch [20][10/17]\tlr: 7.813e-07, eta: 0:00:06, time: 0.577, data_time: 0.219, memory: 9197, top1_acc: 0.6000, top5_acc: 1.0000, loss_cls: 0.8583, loss: 0.8583\n",
      "2024-06-28 23:36:59,234 - mmaction - INFO - Epoch [20][15/17]\tlr: 7.813e-07, eta: 0:00:01, time: 0.603, data_time: 0.209, memory: 9197, top1_acc: 0.5000, top5_acc: 1.0000, loss_cls: 0.9497, loss: 0.9497\n",
      "2024-06-28 23:37:01,657 - mmaction - INFO - Saving checkpoint at 20 epochs\n"
     ]
    },
    {
     "name": "stdout",
     "output_type": "stream",
     "text": [
      "[>>>>>>>>>>>>>>>>>>>>>>>>>>>>>>>>>>>>>>>>>>>>>>>>>>] 9/9, 0.4 task/s, elapsed: 20s, ETA:     0s"
     ]
    },
    {
     "name": "stderr",
     "output_type": "stream",
     "text": [
      "2024-06-28 23:37:24,310 - mmaction - INFO - Evaluating top_k_accuracy ...\n",
      "2024-06-28 23:37:24,311 - mmaction - INFO - \n",
      "top1_acc\t0.7778\n",
      "top5_acc\t1.0000\n",
      "2024-06-28 23:37:24,311 - mmaction - INFO - Evaluating mean_class_accuracy ...\n",
      "2024-06-28 23:37:24,311 - mmaction - INFO - \n",
      "mean_acc\t0.6667\n",
      "2024-06-28 23:37:24,312 - mmaction - INFO - Epoch(val) [20][9]\ttop1_acc: 0.7778, top5_acc: 1.0000, mean_class_accuracy: 0.6667\n"
     ]
    },
    {
     "name": "stdout",
     "output_type": "stream",
     "text": [
      "mean_class_accuracy\n",
      "[2 0 2 2 1 0 1 2 2]\n",
      "[2, 0, 2, 2, 1, 1, 0, 2, 2]\n"
     ]
    },
    {
     "name": "stderr",
     "output_type": "stream",
     "text": [
      "2024-06-28 23:37:25,863 - mmaction - INFO - load checkpoint from local path: ./tutorial_exps/epoch_20.pth\n"
     ]
    },
    {
     "name": "stdout",
     "output_type": "stream",
     "text": [
      "Selected optimization level O1:  Insert automatic casts around Pytorch functions and Tensor methods.\n",
      "\n",
      "Defaults for this optimization level are:\n",
      "enabled                : True\n",
      "opt_level              : O1\n",
      "cast_model_type        : None\n",
      "patch_torch_functions  : True\n",
      "keep_batchnorm_fp32    : None\n",
      "master_weights         : None\n",
      "loss_scale             : dynamic\n",
      "Processing user overrides (additional kwargs that are not None)...\n",
      "After processing overrides, optimization options are:\n",
      "enabled                : True\n",
      "opt_level              : O1\n",
      "cast_model_type        : None\n",
      "patch_torch_functions  : True\n",
      "keep_batchnorm_fp32    : None\n",
      "master_weights         : None\n",
      "loss_scale             : dynamic\n"
     ]
    },
    {
     "name": "stderr",
     "output_type": "stream",
     "text": [
      "2024-06-28 23:37:26,274 - mmaction - INFO - Start running, host: 15281@实验室, work_dir: H:\\code\\视频组代码\\Video_Swin_Transformer\\tutorial_exps1\n",
      "2024-06-28 23:37:26,274 - mmaction - INFO - Hooks will be executed in the following order:\n",
      "before_run:\n",
      "(VERY_HIGH   ) StepLrUpdaterHook                  \n",
      "(ABOVE_NORMAL) DistOptimizerHook                  \n",
      "(NORMAL      ) CheckpointHook                     \n",
      "(NORMAL      ) EvalHook                           \n",
      "(VERY_LOW    ) TextLoggerHook                     \n",
      " -------------------- \n",
      "before_train_epoch:\n",
      "(VERY_HIGH   ) StepLrUpdaterHook                  \n",
      "(NORMAL      ) EvalHook                           \n",
      "(LOW         ) IterTimerHook                      \n",
      "(VERY_LOW    ) TextLoggerHook                     \n",
      " -------------------- \n",
      "before_train_iter:\n",
      "(VERY_HIGH   ) StepLrUpdaterHook                  \n",
      "(NORMAL      ) EvalHook                           \n",
      "(LOW         ) IterTimerHook                      \n",
      " -------------------- \n",
      "after_train_iter:\n",
      "(ABOVE_NORMAL) DistOptimizerHook                  \n",
      "(NORMAL      ) CheckpointHook                     \n",
      "(NORMAL      ) EvalHook                           \n",
      "(LOW         ) IterTimerHook                      \n",
      "(VERY_LOW    ) TextLoggerHook                     \n",
      " -------------------- \n",
      "after_train_epoch:\n",
      "(NORMAL      ) CheckpointHook                     \n",
      "(NORMAL      ) EvalHook                           \n",
      "(VERY_LOW    ) TextLoggerHook                     \n",
      " -------------------- \n",
      "before_val_epoch:\n",
      "(LOW         ) IterTimerHook                      \n",
      "(VERY_LOW    ) TextLoggerHook                     \n",
      " -------------------- \n",
      "before_val_iter:\n",
      "(LOW         ) IterTimerHook                      \n",
      " -------------------- \n",
      "after_val_iter:\n",
      "(LOW         ) IterTimerHook                      \n",
      " -------------------- \n",
      "after_val_epoch:\n",
      "(VERY_LOW    ) TextLoggerHook                     \n",
      " -------------------- \n",
      "after_run:\n",
      "(VERY_LOW    ) TextLoggerHook                     \n",
      " -------------------- \n",
      "2024-06-28 23:37:26,274 - mmaction - INFO - workflow: [('train', 1)], max: 20 epochs\n",
      "2024-06-28 23:37:26,280 - mmaction - INFO - Checkpoints will be saved to H:\\code\\视频组代码\\Video_Swin_Transformer\\tutorial_exps1 by HardDiskBackend.\n",
      "2024-06-28 23:37:35,416 - mmaction - INFO - Epoch [1][5/17]\tlr: 7.813e-07, eta: 0:10:11, time: 1.826, data_time: 1.413, memory: 9197, top1_acc: 0.6000, top5_acc: 1.0000, loss_cls: 0.9892, loss: 0.9892\n",
      "2024-06-28 23:37:37,194 - mmaction - INFO - Epoch [1][10/17]\tlr: 7.813e-07, eta: 0:05:59, time: 0.356, data_time: 0.001, memory: 9370, top1_acc: 0.5000, top5_acc: 1.0000, loss_cls: 0.9570, loss: 0.9570\n",
      "2024-06-28 23:37:41,847 - mmaction - INFO - Epoch [1][15/17]\tlr: 7.813e-07, eta: 0:05:37, time: 0.930, data_time: 0.566, memory: 9371, top1_acc: 0.9000, top5_acc: 1.0000, loss_cls: 0.7746, loss: 0.7746\n"
     ]
    },
    {
     "name": "stdout",
     "output_type": "stream",
     "text": [
      "Gradient overflow.  Skipping step, loss scaler 0 reducing loss scale to 32768.0\n"
     ]
    },
    {
     "name": "stderr",
     "output_type": "stream",
     "text": [
      "2024-06-28 23:37:53,438 - mmaction - INFO - Epoch [2][5/17]\tlr: 7.813e-07, eta: 0:05:56, time: 1.820, data_time: 1.385, memory: 9371, top1_acc: 0.6000, top5_acc: 1.0000, loss_cls: 0.7808, loss: 0.7808\n",
      "2024-06-28 23:37:55,953 - mmaction - INFO - Epoch [2][10/17]\tlr: 7.813e-07, eta: 0:05:15, time: 0.503, data_time: 0.143, memory: 9371, top1_acc: 0.6000, top5_acc: 1.0000, loss_cls: 0.8993, loss: 0.8993\n",
      "2024-06-28 23:37:58,573 - mmaction - INFO - Epoch [2][15/17]\tlr: 7.813e-07, eta: 0:04:46, time: 0.524, data_time: 0.147, memory: 9371, top1_acc: 0.5000, top5_acc: 1.0000, loss_cls: 0.7837, loss: 0.7837\n",
      "2024-06-28 23:38:10,550 - mmaction - INFO - Epoch [3][5/17]\tlr: 7.813e-07, eta: 0:05:03, time: 1.906, data_time: 1.522, memory: 9372, top1_acc: 0.8000, top5_acc: 1.0000, loss_cls: 0.7200, loss: 0.7200\n",
      "2024-06-28 23:38:12,522 - mmaction - INFO - Epoch [3][10/17]\tlr: 7.813e-07, eta: 0:04:37, time: 0.394, data_time: 0.002, memory: 9372, top1_acc: 0.8000, top5_acc: 1.0000, loss_cls: 0.7913, loss: 0.7913\n",
      "2024-06-28 23:38:14,959 - mmaction - INFO - Epoch [3][15/17]\tlr: 7.813e-07, eta: 0:04:19, time: 0.487, data_time: 0.118, memory: 9372, top1_acc: 0.6000, top5_acc: 1.0000, loss_cls: 0.7880, loss: 0.7880\n",
      "2024-06-28 23:38:27,923 - mmaction - INFO - Epoch [4][5/17]\tlr: 7.813e-07, eta: 0:04:31, time: 1.965, data_time: 1.544, memory: 9375, top1_acc: 1.0000, top5_acc: 1.0000, loss_cls: 0.6956, loss: 0.6956\n",
      "2024-06-28 23:38:30,383 - mmaction - INFO - Epoch [4][10/17]\tlr: 7.813e-07, eta: 0:04:16, time: 0.492, data_time: 0.124, memory: 9375, top1_acc: 0.7000, top5_acc: 1.0000, loss_cls: 0.7492, loss: 0.7492\n",
      "2024-06-28 23:38:34,025 - mmaction - INFO - Epoch [4][15/17]\tlr: 7.813e-07, eta: 0:04:07, time: 0.728, data_time: 0.328, memory: 9375, top1_acc: 0.5000, top5_acc: 1.0000, loss_cls: 1.0065, loss: 1.0065\n",
      "2024-06-28 23:38:45,761 - mmaction - INFO - Epoch [5][5/17]\tlr: 7.813e-07, eta: 0:04:12, time: 1.888, data_time: 1.447, memory: 9375, top1_acc: 0.7000, top5_acc: 1.0000, loss_cls: 0.8068, loss: 0.8068\n",
      "2024-06-28 23:38:47,726 - mmaction - INFO - Epoch [5][10/17]\tlr: 7.813e-07, eta: 0:03:58, time: 0.393, data_time: 0.018, memory: 9375, top1_acc: 0.7000, top5_acc: 1.0000, loss_cls: 0.8928, loss: 0.8928\n",
      "2024-06-28 23:38:50,511 - mmaction - INFO - Epoch [5][15/17]\tlr: 7.813e-07, eta: 0:03:48, time: 0.557, data_time: 0.197, memory: 9375, top1_acc: 0.6000, top5_acc: 1.0000, loss_cls: 0.8844, loss: 0.8844\n"
     ]
    },
    {
     "name": "stdout",
     "output_type": "stream",
     "text": [
      "[>>>>>>>>>>>>>>>>>>>>>>>>>>>>>>>>>>>>>>>>>>>>>>>>>>] 9/9, 0.4 task/s, elapsed: 20s, ETA:     0s"
     ]
    },
    {
     "name": "stderr",
     "output_type": "stream",
     "text": [
      "2024-06-28 23:39:13,688 - mmaction - INFO - Evaluating top_k_accuracy ...\n",
      "2024-06-28 23:39:13,688 - mmaction - INFO - \n",
      "top1_acc\t0.8889\n",
      "top5_acc\t1.0000\n",
      "2024-06-28 23:39:13,689 - mmaction - INFO - Evaluating mean_class_accuracy ...\n",
      "2024-06-28 23:39:13,690 - mmaction - INFO - \n",
      "mean_acc\t0.8333\n"
     ]
    },
    {
     "name": "stdout",
     "output_type": "stream",
     "text": [
      "mean_class_accuracy\n",
      "[2 0 2 2 1 1 1 2 2]\n",
      "[2, 0, 2, 2, 1, 1, 0, 2, 2]\n"
     ]
    },
    {
     "name": "stderr",
     "output_type": "stream",
     "text": [
      "2024-06-28 23:39:14,945 - mmaction - INFO - Now best checkpoint is saved as best_top1_acc_epoch_5.pth.\n",
      "2024-06-28 23:39:14,945 - mmaction - INFO - Best top1_acc is 0.8889 at 5 epoch.\n",
      "2024-06-28 23:39:14,946 - mmaction - INFO - Epoch(val) [5][9]\ttop1_acc: 0.8889, top5_acc: 1.0000, mean_class_accuracy: 0.8333\n",
      "2024-06-28 23:39:25,981 - mmaction - INFO - Epoch [6][5/17]\tlr: 7.813e-07, eta: 0:03:55, time: 2.206, data_time: 1.778, memory: 9375, top1_acc: 0.5000, top5_acc: 1.0000, loss_cls: 0.9059, loss: 0.9059\n",
      "2024-06-28 23:39:28,208 - mmaction - INFO - Epoch [6][10/17]\tlr: 7.813e-07, eta: 0:03:44, time: 0.445, data_time: 0.097, memory: 9375, top1_acc: 0.7000, top5_acc: 1.0000, loss_cls: 0.8012, loss: 0.8012\n",
      "2024-06-28 23:39:30,193 - mmaction - INFO - Epoch [6][15/17]\tlr: 7.813e-07, eta: 0:03:33, time: 0.397, data_time: 0.024, memory: 9375, top1_acc: 0.7000, top5_acc: 1.0000, loss_cls: 0.7989, loss: 0.7989\n",
      "2024-06-28 23:39:42,497 - mmaction - INFO - Epoch [7][5/17]\tlr: 7.813e-07, eta: 0:03:34, time: 1.927, data_time: 1.530, memory: 9375, top1_acc: 0.3000, top5_acc: 1.0000, loss_cls: 1.0824, loss: 1.0824\n",
      "2024-06-28 23:39:44,448 - mmaction - INFO - Epoch [7][10/17]\tlr: 7.813e-07, eta: 0:03:24, time: 0.390, data_time: 0.001, memory: 9375, top1_acc: 0.9000, top5_acc: 1.0000, loss_cls: 0.7466, loss: 0.7466\n",
      "2024-06-28 23:39:46,253 - mmaction - INFO - Epoch [7][15/17]\tlr: 7.813e-07, eta: 0:03:15, time: 0.361, data_time: 0.022, memory: 9375, top1_acc: 0.9000, top5_acc: 1.0000, loss_cls: 0.7294, loss: 0.7294\n",
      "2024-06-28 23:39:58,945 - mmaction - INFO - Epoch [8][5/17]\tlr: 7.813e-07, eta: 0:03:14, time: 1.869, data_time: 1.415, memory: 9375, top1_acc: 0.8000, top5_acc: 1.0000, loss_cls: 0.8255, loss: 0.8255\n",
      "2024-06-28 23:40:00,989 - mmaction - INFO - Epoch [8][10/17]\tlr: 7.813e-07, eta: 0:03:06, time: 0.409, data_time: 0.002, memory: 9375, top1_acc: 0.6000, top5_acc: 1.0000, loss_cls: 0.8301, loss: 0.8301\n",
      "2024-06-28 23:40:03,094 - mmaction - INFO - Epoch [8][15/17]\tlr: 7.813e-07, eta: 0:02:58, time: 0.421, data_time: 0.069, memory: 9375, top1_acc: 0.6000, top5_acc: 1.0000, loss_cls: 0.8696, loss: 0.8696\n",
      "2024-06-28 23:40:14,156 - mmaction - INFO - Epoch [9][5/17]\tlr: 7.813e-07, eta: 0:02:55, time: 1.705, data_time: 1.281, memory: 9375, top1_acc: 0.6000, top5_acc: 1.0000, loss_cls: 0.8947, loss: 0.8947\n",
      "2024-06-28 23:40:16,977 - mmaction - INFO - Epoch [9][10/17]\tlr: 7.813e-07, eta: 0:02:49, time: 0.564, data_time: 0.195, memory: 9375, top1_acc: 0.7000, top5_acc: 1.0000, loss_cls: 0.8199, loss: 0.8199\n",
      "2024-06-28 23:40:19,986 - mmaction - INFO - Epoch [9][15/17]\tlr: 7.813e-07, eta: 0:02:43, time: 0.602, data_time: 0.228, memory: 9375, top1_acc: 0.7000, top5_acc: 1.0000, loss_cls: 0.7528, loss: 0.7528\n",
      "2024-06-28 23:40:32,445 - mmaction - INFO - Epoch [10][5/17]\tlr: 7.813e-07, eta: 0:02:41, time: 1.930, data_time: 1.547, memory: 9375, top1_acc: 0.8000, top5_acc: 1.0000, loss_cls: 0.8423, loss: 0.8423\n",
      "2024-06-28 23:40:34,311 - mmaction - INFO - Epoch [10][10/17]\tlr: 7.813e-07, eta: 0:02:34, time: 0.373, data_time: 0.001, memory: 9375, top1_acc: 0.8000, top5_acc: 1.0000, loss_cls: 0.7453, loss: 0.7453\n",
      "2024-06-28 23:40:38,040 - mmaction - INFO - Epoch [10][15/17]\tlr: 7.813e-07, eta: 0:02:29, time: 0.745, data_time: 0.358, memory: 9375, top1_acc: 0.5000, top5_acc: 1.0000, loss_cls: 0.9142, loss: 0.9142\n",
      "2024-06-28 23:40:40,451 - mmaction - INFO - Saving checkpoint at 10 epochs\n"
     ]
    },
    {
     "name": "stdout",
     "output_type": "stream",
     "text": [
      "[>>>>>>>>>>>>>>>>>>>>>>>>>>>>>>>>>>>>>>>>>>>>>>>>>>] 9/9, 0.4 task/s, elapsed: 21s, ETA:     0s"
     ]
    },
    {
     "name": "stderr",
     "output_type": "stream",
     "text": [
      "2024-06-28 23:41:02,962 - mmaction - INFO - Evaluating top_k_accuracy ...\n",
      "2024-06-28 23:41:02,963 - mmaction - INFO - \n",
      "top1_acc\t0.7778\n",
      "top5_acc\t1.0000\n",
      "2024-06-28 23:41:02,963 - mmaction - INFO - Evaluating mean_class_accuracy ...\n",
      "2024-06-28 23:41:02,965 - mmaction - INFO - \n",
      "mean_acc\t0.6667\n",
      "2024-06-28 23:41:02,965 - mmaction - INFO - Epoch(val) [10][9]\ttop1_acc: 0.7778, top5_acc: 1.0000, mean_class_accuracy: 0.6667\n"
     ]
    },
    {
     "name": "stdout",
     "output_type": "stream",
     "text": [
      "mean_class_accuracy\n",
      "[2 0 2 2 1 0 1 2 2]\n",
      "[2, 0, 2, 2, 1, 1, 0, 2, 2]\n"
     ]
    },
    {
     "name": "stderr",
     "output_type": "stream",
     "text": [
      "2024-06-28 23:41:12,362 - mmaction - INFO - Epoch [11][5/17]\tlr: 7.813e-07, eta: 0:02:26, time: 1.878, data_time: 1.478, memory: 9375, top1_acc: 0.6000, top5_acc: 1.0000, loss_cls: 0.8450, loss: 0.8450\n",
      "2024-06-28 23:41:14,215 - mmaction - INFO - Epoch [11][10/17]\tlr: 7.813e-07, eta: 0:02:19, time: 0.371, data_time: 0.001, memory: 9375, top1_acc: 0.9000, top5_acc: 1.0000, loss_cls: 0.6687, loss: 0.6687\n",
      "2024-06-28 23:41:16,228 - mmaction - INFO - Epoch [11][15/17]\tlr: 7.813e-07, eta: 0:02:13, time: 0.403, data_time: 0.005, memory: 9375, top1_acc: 0.7000, top5_acc: 1.0000, loss_cls: 0.8318, loss: 0.8318\n",
      "2024-06-28 23:41:28,155 - mmaction - INFO - Epoch [12][5/17]\tlr: 7.813e-07, eta: 0:02:09, time: 1.849, data_time: 1.450, memory: 9375, top1_acc: 0.5000, top5_acc: 1.0000, loss_cls: 0.8591, loss: 0.8591\n",
      "2024-06-28 23:41:30,640 - mmaction - INFO - Epoch [12][10/17]\tlr: 7.813e-07, eta: 0:02:03, time: 0.497, data_time: 0.174, memory: 9375, top1_acc: 0.8000, top5_acc: 1.0000, loss_cls: 0.7975, loss: 0.7975\n",
      "2024-06-28 23:41:33,708 - mmaction - INFO - Epoch [12][15/17]\tlr: 7.813e-07, eta: 0:01:58, time: 0.614, data_time: 0.272, memory: 9375, top1_acc: 0.5000, top5_acc: 1.0000, loss_cls: 0.9610, loss: 0.9610\n",
      "2024-06-28 23:41:46,213 - mmaction - INFO - Epoch [13][5/17]\tlr: 7.813e-07, eta: 0:01:55, time: 2.026, data_time: 1.582, memory: 9375, top1_acc: 0.8000, top5_acc: 1.0000, loss_cls: 0.8485, loss: 0.8485\n",
      "2024-06-28 23:41:48,511 - mmaction - INFO - Epoch [13][10/17]\tlr: 7.813e-07, eta: 0:01:49, time: 0.460, data_time: 0.092, memory: 9375, top1_acc: 0.7000, top5_acc: 1.0000, loss_cls: 0.7835, loss: 0.7835\n",
      "2024-06-28 23:41:51,038 - mmaction - INFO - Epoch [13][15/17]\tlr: 7.813e-07, eta: 0:01:44, time: 0.505, data_time: 0.132, memory: 9375, top1_acc: 0.6000, top5_acc: 1.0000, loss_cls: 0.8468, loss: 0.8468\n",
      "2024-06-28 23:42:02,122 - mmaction - INFO - Epoch [14][5/17]\tlr: 7.813e-07, eta: 0:01:39, time: 1.717, data_time: 1.306, memory: 9375, top1_acc: 0.8000, top5_acc: 1.0000, loss_cls: 0.7996, loss: 0.7996\n",
      "2024-06-28 23:42:04,856 - mmaction - INFO - Epoch [14][10/17]\tlr: 7.813e-07, eta: 0:01:34, time: 0.547, data_time: 0.186, memory: 9375, top1_acc: 0.9000, top5_acc: 1.0000, loss_cls: 0.6859, loss: 0.6859\n",
      "2024-06-28 23:42:07,272 - mmaction - INFO - Epoch [14][15/17]\tlr: 7.813e-07, eta: 0:01:29, time: 0.483, data_time: 0.084, memory: 9375, top1_acc: 0.8000, top5_acc: 1.0000, loss_cls: 0.8439, loss: 0.8439\n",
      "2024-06-28 23:42:19,527 - mmaction - INFO - Epoch [15][5/17]\tlr: 7.813e-07, eta: 0:01:24, time: 1.952, data_time: 1.520, memory: 9375, top1_acc: 0.8000, top5_acc: 1.0000, loss_cls: 0.7133, loss: 0.7133\n",
      "2024-06-28 23:42:23,894 - mmaction - INFO - Epoch [15][10/17]\tlr: 7.813e-07, eta: 0:01:20, time: 0.873, data_time: 0.497, memory: 9375, top1_acc: 0.9000, top5_acc: 1.0000, loss_cls: 0.7741, loss: 0.7741\n",
      "2024-06-28 23:42:25,595 - mmaction - INFO - Epoch [15][15/17]\tlr: 7.813e-07, eta: 0:01:15, time: 0.341, data_time: 0.001, memory: 9375, top1_acc: 0.8000, top5_acc: 1.0000, loss_cls: 0.8037, loss: 0.8037\n"
     ]
    },
    {
     "name": "stdout",
     "output_type": "stream",
     "text": [
      "[>>>>>>>>>>>>>>>>>>>>>>>>>>>>>>>>>>>>>>>>>>>>>>>>>>] 9/9, 0.4 task/s, elapsed: 20s, ETA:     0s"
     ]
    },
    {
     "name": "stderr",
     "output_type": "stream",
     "text": [
      "2024-06-28 23:42:48,264 - mmaction - INFO - Evaluating top_k_accuracy ...\n",
      "2024-06-28 23:42:48,264 - mmaction - INFO - \n",
      "top1_acc\t0.7778\n",
      "top5_acc\t1.0000\n",
      "2024-06-28 23:42:48,265 - mmaction - INFO - Evaluating mean_class_accuracy ...\n",
      "2024-06-28 23:42:48,266 - mmaction - INFO - \n",
      "mean_acc\t0.6667\n",
      "2024-06-28 23:42:48,266 - mmaction - INFO - Epoch(val) [15][9]\ttop1_acc: 0.7778, top5_acc: 1.0000, mean_class_accuracy: 0.6667\n"
     ]
    },
    {
     "name": "stdout",
     "output_type": "stream",
     "text": [
      "mean_class_accuracy\n",
      "[2 0 2 2 1 0 1 2 2]\n",
      "[2, 0, 2, 2, 1, 1, 0, 2, 2]\n"
     ]
    },
    {
     "name": "stderr",
     "output_type": "stream",
     "text": [
      "2024-06-28 23:42:57,367 - mmaction - INFO - Epoch [16][5/17]\tlr: 7.813e-07, eta: 0:01:09, time: 1.819, data_time: 1.368, memory: 9375, top1_acc: 0.8000, top5_acc: 1.0000, loss_cls: 0.8022, loss: 0.8022\n",
      "2024-06-28 23:43:00,303 - mmaction - INFO - Epoch [16][10/17]\tlr: 7.813e-07, eta: 0:01:05, time: 0.587, data_time: 0.202, memory: 9375, top1_acc: 0.7000, top5_acc: 1.0000, loss_cls: 0.7366, loss: 0.7366\n",
      "2024-06-28 23:43:02,168 - mmaction - INFO - Epoch [16][15/17]\tlr: 7.813e-07, eta: 0:01:00, time: 0.373, data_time: 0.002, memory: 9375, top1_acc: 0.6000, top5_acc: 1.0000, loss_cls: 0.7526, loss: 0.7526\n",
      "2024-06-28 23:43:13,571 - mmaction - INFO - Epoch [17][5/17]\tlr: 7.813e-07, eta: 0:00:54, time: 1.720, data_time: 1.284, memory: 9375, top1_acc: 0.8000, top5_acc: 1.0000, loss_cls: 0.7415, loss: 0.7415\n",
      "2024-06-28 23:43:16,172 - mmaction - INFO - Epoch [17][10/17]\tlr: 7.813e-07, eta: 0:00:50, time: 0.520, data_time: 0.140, memory: 9375, top1_acc: 0.6000, top5_acc: 1.0000, loss_cls: 0.8066, loss: 0.8066\n",
      "2024-06-28 23:43:20,252 - mmaction - INFO - Epoch [17][15/17]\tlr: 7.813e-07, eta: 0:00:45, time: 0.816, data_time: 0.471, memory: 9375, top1_acc: 0.7000, top5_acc: 1.0000, loss_cls: 0.8603, loss: 0.8603\n",
      "2024-06-28 23:43:33,737 - mmaction - INFO - Epoch [18][5/17]\tlr: 7.813e-07, eta: 0:00:40, time: 2.192, data_time: 1.775, memory: 9375, top1_acc: 0.6000, top5_acc: 1.0000, loss_cls: 0.7709, loss: 0.7709\n",
      "2024-06-28 23:43:35,493 - mmaction - INFO - Epoch [18][10/17]\tlr: 7.813e-07, eta: 0:00:35, time: 0.351, data_time: 0.002, memory: 9375, top1_acc: 0.6000, top5_acc: 1.0000, loss_cls: 0.7563, loss: 0.7563\n",
      "2024-06-28 23:43:37,270 - mmaction - INFO - Epoch [18][15/17]\tlr: 7.813e-07, eta: 0:00:31, time: 0.355, data_time: 0.001, memory: 9375, top1_acc: 0.7000, top5_acc: 1.0000, loss_cls: 0.8661, loss: 0.8661\n",
      "2024-06-28 23:43:48,799 - mmaction - INFO - Epoch [19][5/17]\tlr: 7.813e-07, eta: 0:00:25, time: 1.825, data_time: 1.439, memory: 9375, top1_acc: 0.7000, top5_acc: 1.0000, loss_cls: 0.7389, loss: 0.7389\n",
      "2024-06-28 23:43:50,830 - mmaction - INFO - Epoch [19][10/17]\tlr: 7.813e-07, eta: 0:00:20, time: 0.406, data_time: 0.001, memory: 9375, top1_acc: 0.7000, top5_acc: 1.0000, loss_cls: 0.8153, loss: 0.8153\n",
      "2024-06-28 23:43:53,521 - mmaction - INFO - Epoch [19][15/17]\tlr: 7.813e-07, eta: 0:00:16, time: 0.538, data_time: 0.145, memory: 9375, top1_acc: 0.7000, top5_acc: 1.0000, loss_cls: 0.8544, loss: 0.8544\n",
      "2024-06-28 23:44:06,069 - mmaction - INFO - Epoch [20][5/17]\tlr: 7.813e-07, eta: 0:00:10, time: 1.999, data_time: 1.586, memory: 9375, top1_acc: 0.8000, top5_acc: 1.0000, loss_cls: 0.8392, loss: 0.8392\n",
      "2024-06-28 23:44:07,923 - mmaction - INFO - Epoch [20][10/17]\tlr: 7.813e-07, eta: 0:00:06, time: 0.371, data_time: 0.001, memory: 9375, top1_acc: 0.6000, top5_acc: 1.0000, loss_cls: 0.7748, loss: 0.7748\n",
      "2024-06-28 23:44:10,671 - mmaction - INFO - Epoch [20][15/17]\tlr: 7.813e-07, eta: 0:00:01, time: 0.549, data_time: 0.157, memory: 9375, top1_acc: 0.7000, top5_acc: 1.0000, loss_cls: 0.9088, loss: 0.9088\n",
      "2024-06-28 23:44:13,190 - mmaction - INFO - Saving checkpoint at 20 epochs\n"
     ]
    },
    {
     "name": "stdout",
     "output_type": "stream",
     "text": [
      "[>>>>>>>>>>>>>>>>>>>>>>>>>>>>>>>>>>>>>>>>>>>>>>>>>>] 9/9, 0.4 task/s, elapsed: 21s, ETA:     0s"
     ]
    },
    {
     "name": "stderr",
     "output_type": "stream",
     "text": [
      "2024-06-28 23:44:36,056 - mmaction - INFO - Evaluating top_k_accuracy ...\n",
      "2024-06-28 23:44:36,057 - mmaction - INFO - \n",
      "top1_acc\t0.8889\n",
      "top5_acc\t1.0000\n",
      "2024-06-28 23:44:36,057 - mmaction - INFO - Evaluating mean_class_accuracy ...\n",
      "2024-06-28 23:44:36,058 - mmaction - INFO - \n",
      "mean_acc\t0.8333\n",
      "2024-06-28 23:44:36,058 - mmaction - INFO - Epoch(val) [20][9]\ttop1_acc: 0.8889, top5_acc: 1.0000, mean_class_accuracy: 0.8333\n"
     ]
    },
    {
     "name": "stdout",
     "output_type": "stream",
     "text": [
      "mean_class_accuracy\n",
      "[2 0 2 2 1 0 0 2 2]\n",
      "[2, 0, 2, 2, 1, 1, 0, 2, 2]\n"
     ]
    }
   ],
   "source": [
    "import os.path as osp\n",
    "\n",
    "from mmaction.datasets import build_dataset\n",
    "from mmaction.models import build_model\n",
    "from mmaction.apis import train_model,train_model_1\n",
    "\n",
    "import mmcv\n",
    "import mmcv\n",
    "import os\n",
    "import glob\n",
    "\n",
    "# 构建动作识别模型\n",
    "# 创建工作目录并训练模型\n",
    "model = build_model(cfg.model, train_cfg=cfg.get('train_cfg'), test_cfg=cfg.get('test_cfg'))\n",
    "mmcv.mkdir_or_exist(osp.abspath(cfg.work_dir))\n",
    "#datasets = [build_dataset(cfg.data.train)]\n",
    "# 构建数据集\n",
    "lr = 8.5#8.5\n",
    "path = \"./save2/\"\n",
    "#train_model(model, datasets, cfg, distributed=False, validate= True)\n",
    "for i in range(0,20):\n",
    "    clean()\n",
    "    cleancsv(path)\n",
    "    lr = lr+1#1\n",
    "    data4 = select(data,data2,lr)\n",
    "    data4.to_csv('./video_data/train2.txt', index=False, header=False, sep=' ')\n",
    "    datasets = [build_dataset(cfg.data.train)]\n",
    "    #model = build_model(cfg.model, train_cfg=cfg.get('train_cfg'), test_cfg=cfg.get('test_cfg'))\n",
    "    cfg.lr_config = dict(policy='step', step=[40, 80])\n",
    "    train_model(model, datasets, cfg, distributed=False, validate= True)\n",
    "    #del model\n",
    "    #torch.cuda.empty_cache()\n",
    "    #del runner\n",
    "    cfg.load_from = './tutorial_exps/epoch_20.pth'"
   ]
  },
  {
   "cell_type": "code",
   "execution_count": 8,
   "id": "c49ef645",
   "metadata": {
    "scrolled": true
   },
   "outputs": [
    {
     "name": "stdout",
     "output_type": "stream",
     "text": [
      "[>>>>>>>>>>>>>>>>>>>>>>>>>>>>>>>>>>>>>>>>>>>>>>>>>>] 8/8, 0.3 task/s, elapsed: 24s, ETA:     0s\n",
      "Evaluating top_k_accuracy ...\n",
      "\n",
      "top1_acc\t0.8750\n",
      "top5_acc\t1.0000\n",
      "\n",
      "Evaluating mean_class_accuracy ...\n",
      "mean_class_accuracy\n",
      "[1 1 1 1 2 0 2 2]\n",
      "[1, 0, 1, 1, 2, 0, 2, 2]\n",
      "\n",
      "mean_acc\t0.8333\n",
      "top1_acc: 0.8750\n",
      "top5_acc: 1.0000\n",
      "mean_class_accuracy: 0.8333\n"
     ]
    }
   ],
   "source": [
    "from mmaction.apis import single_gpu_test\n",
    "from mmaction.datasets import build_dataloader\n",
    "from mmcv.parallel import MMDataParallel\n",
    "cfg.data.val.type = 'VideoDataset'\n",
    "# 构建测试数据集\n",
    "dataset = build_dataset(cfg.data.val, dict(test_mode=True))\n",
    "data_loader = build_dataloader(\n",
    "        dataset,\n",
    "        videos_per_gpu=1,\n",
    "        workers_per_gpu=cfg.data.workers_per_gpu,\n",
    "        dist=False,\n",
    "        shuffle=False)\n",
    "model = MMDataParallel(model, device_ids=[1])\n",
    "outputs = single_gpu_test(model, data_loader)\n",
    "\n",
    "# 在测试集上评价训练完成的识别模型\n",
    "eval_config = cfg.evaluation\n",
    "eval_config.pop('interval')#interval=5\n",
    "eval_res = dataset.evaluate(outputs, **eval_config)\n",
    "for name, val in eval_res.items():\n",
    "    print(f'{name}: {val:.04f}')"
   ]
  },
  {
   "cell_type": "code",
   "execution_count": 7,
   "id": "81184565",
   "metadata": {},
   "outputs": [
    {
     "name": "stdout",
     "output_type": "stream",
     "text": [
      "              precision    recall  f1-score   support\n",
      "\n",
      "           0       0.71      1.00      0.83         5\n",
      "           1       0.80      0.86      0.83        14\n",
      "           2       0.93      0.76      0.84        17\n",
      "\n",
      "    accuracy                           0.83        36\n",
      "   macro avg       0.81      0.87      0.83        36\n",
      "weighted avg       0.85      0.83      0.83        36\n",
      "\n"
     ]
    }
   ],
   "source": [
    "#打分矩阵\n",
    "from sklearn.metrics import classification_report\n",
    "import numpy as np\n",
    "a = [1, 0, 2, 1, 2, 0, 2, 2, 1, 2, 2, 2, 0, 2, 2, 1, 1, 2, 2, 1, 1, 1, 1, 2, 2, 0, 2, 0, 2, 1, 1, 1, 1, 1, 2, 2]\n",
    "b = [0, 0, 2, 1, 2, 0, 2, 2, 1, 2, 2, 2, 0, 2, 1, 1, 1, 2, 1, 1, 2, 1, 1, 2, 2, 0, 0, 0, 2, 1, 1, 1, 1, 1, 2, 1]\n",
    "print(classification_report(a,b))"
   ]
  },
  {
   "cell_type": "code",
   "execution_count": 22,
   "id": "6a7d55fe",
   "metadata": {},
   "outputs": [],
   "source": [
    "torch.save(model, 'Swin-SPL-noiseB1.pth')"
   ]
  },
  {
   "cell_type": "code",
   "execution_count": 7,
   "id": "94a4fa6a",
   "metadata": {},
   "outputs": [],
   "source": [
    "# 打开两个文件进行读取\n",
    "with open('./video_data/cu2/train.txt', 'r') as file1, open('./video_data/cu/train2.txt', 'r') as file2:\n",
    "    # 读取文件内容\n",
    "    content1 = file1.read()\n",
    "    content2 = file2.read()\n",
    "\n",
    "# 将两个文件的内容拼接\n",
    "combined_content = content1 + content2\n",
    "\n",
    "# 将拼接后的内容写入到新的文件中\n",
    "with open('./video_data/train_all.txt', 'w') as outfile:\n",
    "    outfile.write(combined_content)"
   ]
  },
  {
   "cell_type": "code",
   "execution_count": 14,
   "id": "5148df1f",
   "metadata": {},
   "outputs": [],
   "source": [
    "cfg.ann_file_val = './video_data/train_all.txt'\n",
    "cfg.ann_file_test = './video_data/train_all.txt'\n",
    "cfg.data.test.ann_file = 'train_all.txt'\n",
    "cfg.data.test.data_prefix = './video_data/val_video/'\n",
    "cfg.data.val.ann_file = './video_data/train_all.txt'\n",
    "cfg.data.val.data_prefix = './video_data/val_video/'"
   ]
  },
  {
   "cell_type": "code",
   "execution_count": 15,
   "id": "0259904c",
   "metadata": {},
   "outputs": [
    {
     "name": "stdout",
     "output_type": "stream",
     "text": [
      "[>>>>>>>>>>>>>>>>>>>>>>>>>>>>>>>>>>>>>>>>>>>>>>>>>>] 177/177, 0.6 task/s, elapsed: 319s, ETA:     0s\n",
      "Evaluating top_k_accuracy ...\n",
      "\n",
      "top1_acc\t0.7910\n",
      "top5_acc\t1.0000\n",
      "\n",
      "Evaluating mean_class_accuracy ...\n",
      "mean_class_accuracy\n",
      "[2 2 2 1 1 2 0 2 1 2 2 1 2 1 1 2 2 1 0 1 2 2 1 2 2 2 0 1 0 0 1 2 0 2 2 2 2\n",
      " 2 1 2 2 2 1 0 1 1 0 0 0 2 2 2 2 2 2 2 2 1 0 0 0 2 1 1 2 1 2 2 2 2 0 1 1 2\n",
      " 2 0 2 0 2 0 1 2 2 2 1 2 2 2 2 2 0 2 2 2 0 2 1 2 2 0 0 2 0 0 1 2 1 2 0 0 1\n",
      " 2 0 1 1 0 2 1 2 2 2 2 0 2 1 2 2 0 2 2 2 1 2 2 2 0 1 2 2 2 0 2 0 2 0 0 0 1\n",
      " 0 0 2 2 1 2 0 2 2 0 2 0 2 0 1 1 0 0 1 0 2 0 0 2 2 2 0 2 2]\n",
      "[2, 2, 1, 1, 1, 2, 0, 2, 1, 2, 0, 1, 1, 1, 1, 2, 2, 1, 0, 1, 1, 1, 1, 2, 2, 2, 0, 1, 0, 0, 1, 2, 0, 2, 2, 2, 0, 2, 1, 0, 2, 1, 1, 0, 1, 0, 0, 1, 0, 2, 2, 1, 2, 2, 0, 2, 1, 1, 0, 0, 0, 2, 1, 1, 2, 1, 1, 2, 2, 1, 0, 1, 1, 2, 2, 0, 0, 0, 1, 0, 1, 2, 2, 1, 1, 2, 1, 1, 1, 2, 0, 2, 2, 2, 0, 2, 1, 2, 2, 1, 0, 2, 0, 0, 1, 0, 1, 2, 0, 0, 1, 2, 0, 1, 1, 1, 2, 1, 2, 1, 1, 2, 0, 2, 0, 2, 1, 0, 2, 2, 2, 1, 2, 2, 0, 0, 1, 2, 0, 2, 0, 1, 0, 1, 0, 0, 0, 1, 0, 0, 1, 2, 1, 2, 0, 2, 1, 0, 2, 0, 2, 0, 1, 2, 0, 0, 1, 0, 1, 0, 0, 2, 2, 2, 0, 2, 1]\n",
      "\n",
      "mean_acc\t0.7908\n",
      "top1_acc: 0.7910\n",
      "top5_acc: 1.0000\n",
      "mean_class_accuracy: 0.7908\n"
     ]
    }
   ],
   "source": [
    "from mmaction.apis import single_gpu_test\n",
    "from mmaction.datasets import build_dataloader\n",
    "from mmcv.parallel import MMDataParallel\n",
    "cfg.data.val.type = 'VideoDataset'\n",
    "# 构建测试数据集\n",
    "#model = torch.load('Swin-SPL-noiseB.pth')\n",
    "path = \"./save2/\"\n",
    "cleancsv(path)\n",
    "dataset = build_dataset(cfg.data.val, dict(test_mode=True))\n",
    "data_loader = build_dataloader(\n",
    "        dataset,\n",
    "        videos_per_gpu=1,\n",
    "        workers_per_gpu=cfg.data.workers_per_gpu,\n",
    "        dist=False,\n",
    "        shuffle=False)\n",
    "model = MMDataParallel(model, device_ids=[1])\n",
    "outputs = single_gpu_test(model, data_loader)\n",
    "\n",
    "# 在测试集上评价训练完成的识别模型\n",
    "eval_config = cfg.evaluation\n",
    "#eval_config.pop('interval')#interval=5\n",
    "eval_res = dataset.evaluate(outputs, **eval_config)\n",
    "for name, val in eval_res.items():\n",
    "    print(f'{name}: {val:.04f}')"
   ]
  },
  {
   "cell_type": "code",
   "execution_count": 10,
   "id": "e60b80d2",
   "metadata": {},
   "outputs": [
    {
     "name": "stdout",
     "output_type": "stream",
     "text": [
      "Copied 13_40_50.csv to ./save2/alltrain-n/\n",
      "Copied 13_40_52.csv to ./save2/alltrain-n/\n",
      "Copied 13_40_54.csv to ./save2/alltrain-n/\n",
      "Copied 13_40_56.csv to ./save2/alltrain-n/\n",
      "Copied 13_40_58.csv to ./save2/alltrain-n/\n",
      "Copied 13_40_59.csv to ./save2/alltrain-n/\n",
      "Copied 13_41_1.csv to ./save2/alltrain-n/\n",
      "Copied 13_41_10.csv to ./save2/alltrain-n/\n",
      "Copied 13_41_11.csv to ./save2/alltrain-n/\n",
      "Copied 13_41_13.csv to ./save2/alltrain-n/\n",
      "Copied 13_41_15.csv to ./save2/alltrain-n/\n",
      "Copied 13_41_16.csv to ./save2/alltrain-n/\n",
      "Copied 13_41_18.csv to ./save2/alltrain-n/\n",
      "Copied 13_41_20.csv to ./save2/alltrain-n/\n",
      "Copied 13_41_22.csv to ./save2/alltrain-n/\n",
      "Copied 13_41_23.csv to ./save2/alltrain-n/\n",
      "Copied 13_41_25.csv to ./save2/alltrain-n/\n",
      "Copied 13_41_27.csv to ./save2/alltrain-n/\n",
      "Copied 13_41_28.csv to ./save2/alltrain-n/\n",
      "Copied 13_41_3.csv to ./save2/alltrain-n/\n",
      "Copied 13_41_30.csv to ./save2/alltrain-n/\n",
      "Copied 13_41_32.csv to ./save2/alltrain-n/\n",
      "Copied 13_41_33.csv to ./save2/alltrain-n/\n",
      "Copied 13_41_35.csv to ./save2/alltrain-n/\n",
      "Copied 13_41_37.csv to ./save2/alltrain-n/\n",
      "Copied 13_41_39.csv to ./save2/alltrain-n/\n",
      "Copied 13_41_40.csv to ./save2/alltrain-n/\n",
      "Copied 13_41_42.csv to ./save2/alltrain-n/\n",
      "Copied 13_41_44.csv to ./save2/alltrain-n/\n",
      "Copied 13_41_45.csv to ./save2/alltrain-n/\n",
      "Copied 13_41_47.csv to ./save2/alltrain-n/\n",
      "Copied 13_41_49.csv to ./save2/alltrain-n/\n",
      "Copied 13_41_5.csv to ./save2/alltrain-n/\n",
      "Copied 13_41_51.csv to ./save2/alltrain-n/\n",
      "Copied 13_41_52.csv to ./save2/alltrain-n/\n",
      "Copied 13_41_54.csv to ./save2/alltrain-n/\n",
      "Copied 13_41_56.csv to ./save2/alltrain-n/\n",
      "Copied 13_41_57.csv to ./save2/alltrain-n/\n",
      "Copied 13_41_59.csv to ./save2/alltrain-n/\n",
      "Copied 13_41_6.csv to ./save2/alltrain-n/\n",
      "Copied 13_41_8.csv to ./save2/alltrain-n/\n",
      "Copied 13_42_1.csv to ./save2/alltrain-n/\n",
      "Copied 13_42_10.csv to ./save2/alltrain-n/\n",
      "Copied 13_42_11.csv to ./save2/alltrain-n/\n",
      "Copied 13_42_13.csv to ./save2/alltrain-n/\n",
      "Copied 13_42_15.csv to ./save2/alltrain-n/\n",
      "Copied 13_42_17.csv to ./save2/alltrain-n/\n",
      "Copied 13_42_19.csv to ./save2/alltrain-n/\n",
      "Copied 13_42_20.csv to ./save2/alltrain-n/\n",
      "Copied 13_42_22.csv to ./save2/alltrain-n/\n",
      "Copied 13_42_24.csv to ./save2/alltrain-n/\n",
      "Copied 13_42_25.csv to ./save2/alltrain-n/\n",
      "Copied 13_42_27.csv to ./save2/alltrain-n/\n",
      "Copied 13_42_29.csv to ./save2/alltrain-n/\n",
      "Copied 13_42_3.csv to ./save2/alltrain-n/\n",
      "Copied 13_42_31.csv to ./save2/alltrain-n/\n",
      "Copied 13_42_32.csv to ./save2/alltrain-n/\n",
      "Copied 13_42_34.csv to ./save2/alltrain-n/\n",
      "Copied 13_42_36.csv to ./save2/alltrain-n/\n",
      "Copied 13_42_38.csv to ./save2/alltrain-n/\n",
      "Copied 13_42_40.csv to ./save2/alltrain-n/\n",
      "Copied 13_42_42.csv to ./save2/alltrain-n/\n",
      "Copied 13_42_43.csv to ./save2/alltrain-n/\n",
      "Copied 13_42_45.csv to ./save2/alltrain-n/\n",
      "Copied 13_42_47.csv to ./save2/alltrain-n/\n",
      "Copied 13_42_49.csv to ./save2/alltrain-n/\n",
      "Copied 13_42_5.csv to ./save2/alltrain-n/\n",
      "Copied 13_42_51.csv to ./save2/alltrain-n/\n",
      "Copied 13_42_52.csv to ./save2/alltrain-n/\n",
      "Copied 13_42_54.csv to ./save2/alltrain-n/\n",
      "Copied 13_42_56.csv to ./save2/alltrain-n/\n",
      "Copied 13_42_58.csv to ./save2/alltrain-n/\n",
      "Copied 13_42_59.csv to ./save2/alltrain-n/\n",
      "Copied 13_42_6.csv to ./save2/alltrain-n/\n",
      "Copied 13_42_8.csv to ./save2/alltrain-n/\n",
      "Copied 13_43_1.csv to ./save2/alltrain-n/\n",
      "Copied 13_43_10.csv to ./save2/alltrain-n/\n",
      "Copied 13_43_12.csv to ./save2/alltrain-n/\n",
      "Copied 13_43_14.csv to ./save2/alltrain-n/\n",
      "Copied 13_43_15.csv to ./save2/alltrain-n/\n",
      "Copied 13_43_17.csv to ./save2/alltrain-n/\n",
      "Copied 13_43_19.csv to ./save2/alltrain-n/\n",
      "Copied 13_43_21.csv to ./save2/alltrain-n/\n",
      "Copied 13_43_22.csv to ./save2/alltrain-n/\n",
      "Copied 13_43_24.csv to ./save2/alltrain-n/\n",
      "Copied 13_43_26.csv to ./save2/alltrain-n/\n",
      "Copied 13_43_28.csv to ./save2/alltrain-n/\n",
      "Copied 13_43_29.csv to ./save2/alltrain-n/\n",
      "Copied 13_43_3.csv to ./save2/alltrain-n/\n",
      "Copied 13_43_31.csv to ./save2/alltrain-n/\n",
      "Copied 13_43_33.csv to ./save2/alltrain-n/\n",
      "Copied 13_43_35.csv to ./save2/alltrain-n/\n",
      "Copied 13_43_37.csv to ./save2/alltrain-n/\n",
      "Copied 13_43_38.csv to ./save2/alltrain-n/\n",
      "Copied 13_43_40.csv to ./save2/alltrain-n/\n",
      "Copied 13_43_42.csv to ./save2/alltrain-n/\n",
      "Copied 13_43_43.csv to ./save2/alltrain-n/\n",
      "Copied 13_43_45.csv to ./save2/alltrain-n/\n",
      "Copied 13_43_47.csv to ./save2/alltrain-n/\n",
      "Copied 13_43_49.csv to ./save2/alltrain-n/\n",
      "Copied 13_43_5.csv to ./save2/alltrain-n/\n",
      "Copied 13_43_51.csv to ./save2/alltrain-n/\n",
      "Copied 13_43_52.csv to ./save2/alltrain-n/\n",
      "Copied 13_43_54.csv to ./save2/alltrain-n/\n",
      "Copied 13_43_56.csv to ./save2/alltrain-n/\n",
      "Copied 13_43_58.csv to ./save2/alltrain-n/\n",
      "Copied 13_43_59.csv to ./save2/alltrain-n/\n",
      "Copied 13_43_6.csv to ./save2/alltrain-n/\n",
      "Copied 13_43_8.csv to ./save2/alltrain-n/\n",
      "Copied 13_44_1.csv to ./save2/alltrain-n/\n",
      "Copied 13_44_10.csv to ./save2/alltrain-n/\n",
      "Copied 13_44_12.csv to ./save2/alltrain-n/\n",
      "Copied 13_44_13.csv to ./save2/alltrain-n/\n",
      "Copied 13_44_15.csv to ./save2/alltrain-n/\n",
      "Copied 13_44_17.csv to ./save2/alltrain-n/\n",
      "Copied 13_44_19.csv to ./save2/alltrain-n/\n",
      "Copied 13_44_20.csv to ./save2/alltrain-n/\n",
      "Copied 13_44_22.csv to ./save2/alltrain-n/\n",
      "Copied 13_44_24.csv to ./save2/alltrain-n/\n",
      "Copied 13_44_26.csv to ./save2/alltrain-n/\n",
      "Copied 13_44_28.csv to ./save2/alltrain-n/\n",
      "Copied 13_44_29.csv to ./save2/alltrain-n/\n",
      "Copied 13_44_3.csv to ./save2/alltrain-n/\n",
      "Copied 13_44_31.csv to ./save2/alltrain-n/\n",
      "Copied 13_44_33.csv to ./save2/alltrain-n/\n",
      "Copied 13_44_35.csv to ./save2/alltrain-n/\n",
      "Copied 13_44_36.csv to ./save2/alltrain-n/\n",
      "Copied 13_44_38.csv to ./save2/alltrain-n/\n",
      "Copied 13_44_40.csv to ./save2/alltrain-n/\n",
      "Copied 13_44_41.csv to ./save2/alltrain-n/\n",
      "Copied 13_44_43.csv to ./save2/alltrain-n/\n",
      "Copied 13_44_45.csv to ./save2/alltrain-n/\n",
      "Copied 13_44_47.csv to ./save2/alltrain-n/\n",
      "Copied 13_44_48.csv to ./save2/alltrain-n/\n",
      "Copied 13_44_5.csv to ./save2/alltrain-n/\n",
      "Copied 13_44_50.csv to ./save2/alltrain-n/\n",
      "Copied 13_44_52.csv to ./save2/alltrain-n/\n",
      "Copied 13_44_54.csv to ./save2/alltrain-n/\n",
      "Copied 13_44_55.csv to ./save2/alltrain-n/\n",
      "Copied 13_44_57.csv to ./save2/alltrain-n/\n",
      "Copied 13_44_59.csv to ./save2/alltrain-n/\n",
      "Copied 13_44_6.csv to ./save2/alltrain-n/\n",
      "Copied 13_44_8.csv to ./save2/alltrain-n/\n",
      "Copied 13_45_1.csv to ./save2/alltrain-n/\n",
      "Copied 13_45_11.csv to ./save2/alltrain-n/\n",
      "Copied 13_45_13.csv to ./save2/alltrain-n/\n",
      "Copied 13_45_15.csv to ./save2/alltrain-n/\n",
      "Copied 13_45_17.csv to ./save2/alltrain-n/\n",
      "Copied 13_45_18.csv to ./save2/alltrain-n/\n",
      "Copied 13_45_20.csv to ./save2/alltrain-n/\n",
      "Copied 13_45_22.csv to ./save2/alltrain-n/\n",
      "Copied 13_45_23.csv to ./save2/alltrain-n/\n",
      "Copied 13_45_25.csv to ./save2/alltrain-n/\n",
      "Copied 13_45_27.csv to ./save2/alltrain-n/\n",
      "Copied 13_45_29.csv to ./save2/alltrain-n/\n",
      "Copied 13_45_3.csv to ./save2/alltrain-n/\n",
      "Copied 13_45_30.csv to ./save2/alltrain-n/\n",
      "Copied 13_45_32.csv to ./save2/alltrain-n/\n",
      "Copied 13_45_34.csv to ./save2/alltrain-n/\n",
      "Copied 13_45_35.csv to ./save2/alltrain-n/\n",
      "Copied 13_45_37.csv to ./save2/alltrain-n/\n",
      "Copied 13_45_39.csv to ./save2/alltrain-n/\n",
      "Copied 13_45_4.csv to ./save2/alltrain-n/\n",
      "Copied 13_45_41.csv to ./save2/alltrain-n/\n",
      "Copied 13_45_42.csv to ./save2/alltrain-n/\n",
      "Copied 13_45_44.csv to ./save2/alltrain-n/\n",
      "Copied 13_45_46.csv to ./save2/alltrain-n/\n",
      "Copied 13_45_48.csv to ./save2/alltrain-n/\n",
      "Copied 13_45_49.csv to ./save2/alltrain-n/\n",
      "Copied 13_45_51.csv to ./save2/alltrain-n/\n",
      "Copied 13_45_53.csv to ./save2/alltrain-n/\n",
      "Copied 13_45_54.csv to ./save2/alltrain-n/\n",
      "Copied 13_45_56.csv to ./save2/alltrain-n/\n",
      "Copied 13_45_58.csv to ./save2/alltrain-n/\n",
      "Copied 13_45_6.csv to ./save2/alltrain-n/\n",
      "Copied 13_45_8.csv to ./save2/alltrain-n/\n",
      "Copied 13_45_9.csv to ./save2/alltrain-n/\n"
     ]
    }
   ],
   "source": [
    "import os\n",
    "import shutil\n",
    "\n",
    "# 指定源目录和目标目录\n",
    "source_dir = './save2/'\n",
    "target_dir = './save2/alltrain-n/'\n",
    "cleancsv(target_dir)\n",
    "# 遍历源目录\n",
    "for filename in os.listdir(source_dir):\n",
    "    # 检查文件扩展名是否为.csv\n",
    "    if filename.endswith('.csv'):\n",
    "        # 构建完整的文件路径\n",
    "        src_path = os.path.join(source_dir, filename)\n",
    "        dst_path = os.path.join(target_dir, filename)\n",
    "\n",
    "        # 复制文件\n",
    "        shutil.copy(src_path, dst_path)\n",
    "        print(f'Copied {filename} to {target_dir}')"
   ]
  },
  {
   "cell_type": "code",
   "execution_count": 11,
   "id": "2338dfd8",
   "metadata": {},
   "outputs": [],
   "source": [
    "# 打开两个文件进行读取\n",
    "with open('./video_data/cu2/val_file.txt', 'r') as file1, open('./video_data/cu/val_file2.txt', 'r') as file2:\n",
    "    # 读取文件内容\n",
    "    content1 = file1.read()\n",
    "    content2 = file2.read()\n",
    "\n",
    "# 将两个文件的内容拼接\n",
    "combined_content = content1 + content2\n",
    "\n",
    "# 将拼接后的内容写入到新的文件中\n",
    "with open('./video_data/val_all.txt', 'w') as outfile:\n",
    "    outfile.write(combined_content)"
   ]
  },
  {
   "cell_type": "code",
   "execution_count": 16,
   "id": "e66eca5c",
   "metadata": {},
   "outputs": [],
   "source": [
    "cfg.ann_file_val = './video_data/val_all.txt'\n",
    "cfg.ann_file_test = './video_data/val_all.txt'\n",
    "cfg.data.test.ann_file = 'train_all.txt'\n",
    "cfg.data.test.data_prefix = './video_data/val_video/'\n",
    "cfg.data.val.ann_file = './video_data/val_all.txt'\n",
    "cfg.data.val.data_prefix = './video_data/val_video/'"
   ]
  },
  {
   "cell_type": "code",
   "execution_count": 17,
   "id": "e0fec0d2",
   "metadata": {
    "scrolled": true
   },
   "outputs": [
    {
     "name": "stdout",
     "output_type": "stream",
     "text": [
      "[>>>>>>>>>>>>>>>>>>>>>>>>>>>>>>>>>>>>>>>>>>>>>>>>>>] 45/45, 0.6 task/s, elapsed: 82s, ETA:     0s\n",
      "Evaluating top_k_accuracy ...\n",
      "\n",
      "top1_acc\t0.7333\n",
      "top5_acc\t1.0000\n",
      "\n",
      "Evaluating mean_class_accuracy ...\n",
      "mean_class_accuracy\n",
      "[0 0 1 1 1 2 1 0 2 2 2 0 2 0 1 1 1 2 2 2 2 2 0 1 2 0 2 2 1 2 2 2 0 0 2 1 2\n",
      " 0 2 2 1 0 0 2 2]\n",
      "[0, 0, 1, 1, 1, 2, 1, 1, 1, 2, 2, 0, 2, 0, 1, 2, 1, 1, 2, 1, 2, 1, 1, 1, 1, 0, 1, 2, 1, 2, 1, 1, 0, 0, 2, 1, 2, 0, 2, 2, 1, 1, 0, 2, 2]\n",
      "\n",
      "mean_acc\t0.8032\n",
      "top1_acc: 0.7333\n",
      "top5_acc: 1.0000\n",
      "mean_class_accuracy: 0.8032\n"
     ]
    }
   ],
   "source": [
    "from mmaction.apis import single_gpu_test\n",
    "from mmaction.datasets import build_dataloader\n",
    "from mmcv.parallel import MMDataParallel\n",
    "cfg.data.val.type = 'VideoDataset'\n",
    "# 构建测试数据集\n",
    "#model = torch.load('Swin-SPL-noiseB.pth')\n",
    "path = \"./save2/\"\n",
    "cleancsv(path)\n",
    "dataset = build_dataset(cfg.data.val, dict(test_mode=True))\n",
    "data_loader = build_dataloader(\n",
    "        dataset,\n",
    "        videos_per_gpu=1,\n",
    "        workers_per_gpu=cfg.data.workers_per_gpu,\n",
    "        dist=False,\n",
    "        shuffle=False)\n",
    "model = MMDataParallel(model, device_ids=[1])\n",
    "outputs = single_gpu_test(model, data_loader)\n",
    "\n",
    "# 在测试集上评价训练完成的识别模型\n",
    "eval_config = cfg.evaluation\n",
    "#eval_config.pop('interval')#interval=5\n",
    "eval_res = dataset.evaluate(outputs, **eval_config)\n",
    "for name, val in eval_res.items():\n",
    "    print(f'{name}: {val:.04f}')"
   ]
  },
  {
   "cell_type": "code",
   "execution_count": 13,
   "id": "35c6c957",
   "metadata": {
    "scrolled": true
   },
   "outputs": [
    {
     "name": "stdout",
     "output_type": "stream",
     "text": [
      "Copied 13_46_11.csv to ./save2/allval-n/\n",
      "Copied 13_46_13.csv to ./save2/allval-n/\n",
      "Copied 13_46_14.csv to ./save2/allval-n/\n",
      "Copied 13_46_16.csv to ./save2/allval-n/\n",
      "Copied 13_46_18.csv to ./save2/allval-n/\n",
      "Copied 13_46_19.csv to ./save2/allval-n/\n",
      "Copied 13_46_21.csv to ./save2/allval-n/\n",
      "Copied 13_46_23.csv to ./save2/allval-n/\n",
      "Copied 13_46_25.csv to ./save2/allval-n/\n",
      "Copied 13_46_26.csv to ./save2/allval-n/\n",
      "Copied 13_46_28.csv to ./save2/allval-n/\n",
      "Copied 13_46_30.csv to ./save2/allval-n/\n",
      "Copied 13_46_31.csv to ./save2/allval-n/\n",
      "Copied 13_46_33.csv to ./save2/allval-n/\n",
      "Copied 13_46_35.csv to ./save2/allval-n/\n",
      "Copied 13_46_37.csv to ./save2/allval-n/\n",
      "Copied 13_46_38.csv to ./save2/allval-n/\n",
      "Copied 13_46_4.csv to ./save2/allval-n/\n",
      "Copied 13_46_40.csv to ./save2/allval-n/\n",
      "Copied 13_46_42.csv to ./save2/allval-n/\n",
      "Copied 13_46_44.csv to ./save2/allval-n/\n",
      "Copied 13_46_45.csv to ./save2/allval-n/\n",
      "Copied 13_46_47.csv to ./save2/allval-n/\n",
      "Copied 13_46_49.csv to ./save2/allval-n/\n",
      "Copied 13_46_50.csv to ./save2/allval-n/\n",
      "Copied 13_46_52.csv to ./save2/allval-n/\n",
      "Copied 13_46_54.csv to ./save2/allval-n/\n",
      "Copied 13_46_55.csv to ./save2/allval-n/\n",
      "Copied 13_46_57.csv to ./save2/allval-n/\n",
      "Copied 13_46_59.csv to ./save2/allval-n/\n",
      "Copied 13_46_6.csv to ./save2/allval-n/\n",
      "Copied 13_46_7.csv to ./save2/allval-n/\n",
      "Copied 13_46_9.csv to ./save2/allval-n/\n",
      "Copied 13_47_1.csv to ./save2/allval-n/\n",
      "Copied 13_47_11.csv to ./save2/allval-n/\n",
      "Copied 13_47_13.csv to ./save2/allval-n/\n",
      "Copied 13_47_14.csv to ./save2/allval-n/\n",
      "Copied 13_47_16.csv to ./save2/allval-n/\n",
      "Copied 13_47_18.csv to ./save2/allval-n/\n",
      "Copied 13_47_19.csv to ./save2/allval-n/\n",
      "Copied 13_47_2.csv to ./save2/allval-n/\n",
      "Copied 13_47_4.csv to ./save2/allval-n/\n",
      "Copied 13_47_6.csv to ./save2/allval-n/\n",
      "Copied 13_47_7.csv to ./save2/allval-n/\n",
      "Copied 13_47_9.csv to ./save2/allval-n/\n"
     ]
    }
   ],
   "source": [
    "import os\n",
    "import shutil\n",
    "\n",
    "# 指定源目录和目标目录\n",
    "source_dir = './save2/'\n",
    "target_dir = './save2/allval-n/'\n",
    "cleancsv(target_dir)\n",
    "# 遍历源目录\n",
    "for filename in os.listdir(source_dir):\n",
    "    # 检查文件扩展名是否为.csv\n",
    "    if filename.endswith('.csv'):\n",
    "        # 构建完整的文件路径\n",
    "        src_path = os.path.join(source_dir, filename)\n",
    "        dst_path = os.path.join(target_dir, filename)\n",
    "\n",
    "        # 复制文件\n",
    "        shutil.copy(src_path, dst_path)\n",
    "        print(f'Copied {filename} to {target_dir}')"
   ]
  },
  {
   "cell_type": "code",
   "execution_count": null,
   "id": "93698d77",
   "metadata": {},
   "outputs": [],
   "source": [
    "torch.save(model,'total_model.pth')"
   ]
  }
 ],
 "metadata": {
  "kernelspec": {
   "display_name": "Python 3",
   "language": "python",
   "name": "python3"
  },
  "language_info": {
   "codemirror_mode": {
    "name": "ipython",
    "version": 3
   },
   "file_extension": ".py",
   "mimetype": "text/x-python",
   "name": "python",
   "nbconvert_exporter": "python",
   "pygments_lexer": "ipython3",
   "version": "3.8.8"
  }
 },
 "nbformat": 4,
 "nbformat_minor": 5
}
